{
 "cells": [
  {
   "cell_type": "markdown",
   "id": "1ead0e37",
   "metadata": {},
   "source": [
    "## Batch: H\n",
    "## Group name: H1\n",
    "## Group member name: Hebbar Sumukh"
   ]
  },
  {
   "cell_type": "code",
   "execution_count": 4,
   "id": "dbc66e8b",
   "metadata": {},
   "outputs": [],
   "source": [
    "import os\n",
    "os.chdir('C:/Users/nipanda/Documents/Capstone Project1_Marketing Data/Capstone Project1_Marketing Data/Marketing_Campaign_P1')"
   ]
  },
  {
   "cell_type": "markdown",
   "id": "fd01ef96",
   "metadata": {},
   "source": [
    "# 1.Analysis of percentage turnout of marketing campaign"
   ]
  },
  {
   "cell_type": "code",
   "execution_count": 5,
   "id": "4377f875",
   "metadata": {},
   "outputs": [],
   "source": [
    "import pandas as pd\n",
    "import numpy as np"
   ]
  },
  {
   "cell_type": "code",
   "execution_count": 6,
   "id": "22a50e9f",
   "metadata": {},
   "outputs": [
    {
     "data": {
      "text/html": [
       "<div>\n",
       "<style scoped>\n",
       "    .dataframe tbody tr th:only-of-type {\n",
       "        vertical-align: middle;\n",
       "    }\n",
       "\n",
       "    .dataframe tbody tr th {\n",
       "        vertical-align: top;\n",
       "    }\n",
       "\n",
       "    .dataframe thead th {\n",
       "        text-align: right;\n",
       "    }\n",
       "</style>\n",
       "<table border=\"1\" class=\"dataframe\">\n",
       "  <thead>\n",
       "    <tr style=\"text-align: right;\">\n",
       "      <th></th>\n",
       "      <th>Customer_id</th>\n",
       "      <th>y</th>\n",
       "    </tr>\n",
       "  </thead>\n",
       "  <tbody>\n",
       "    <tr>\n",
       "      <th>0</th>\n",
       "      <td>1</td>\n",
       "      <td>no</td>\n",
       "    </tr>\n",
       "    <tr>\n",
       "      <th>1</th>\n",
       "      <td>2</td>\n",
       "      <td>no</td>\n",
       "    </tr>\n",
       "    <tr>\n",
       "      <th>2</th>\n",
       "      <td>3</td>\n",
       "      <td>no</td>\n",
       "    </tr>\n",
       "    <tr>\n",
       "      <th>3</th>\n",
       "      <td>4</td>\n",
       "      <td>no</td>\n",
       "    </tr>\n",
       "    <tr>\n",
       "      <th>4</th>\n",
       "      <td>5</td>\n",
       "      <td>no</td>\n",
       "    </tr>\n",
       "  </tbody>\n",
       "</table>\n",
       "</div>"
      ],
      "text/plain": [
       "   Customer_id   y\n",
       "0            1  no\n",
       "1            2  no\n",
       "2            3  no\n",
       "3            4  no\n",
       "4            5  no"
      ]
     },
     "execution_count": 6,
     "metadata": {},
     "output_type": "execute_result"
    }
   ],
   "source": [
    "turnout=pd.read_csv('Customer_Response_data_p1.csv')\n",
    "turnout.head()"
   ]
  },
  {
   "cell_type": "code",
   "execution_count": 7,
   "id": "5b152b00",
   "metadata": {},
   "outputs": [
    {
     "name": "stdout",
     "output_type": "stream",
     "text": [
      "Total number with no response: 32876\n",
      "Total number with yes response: 4208\n"
     ]
    }
   ],
   "source": [
    "no,yes=turnout['y'].value_counts()\n",
    "print('Total number with no response:',no)\n",
    "print('Total number with yes response:',yes)\n"
   ]
  },
  {
   "cell_type": "code",
   "execution_count": 8,
   "id": "dede0b10",
   "metadata": {},
   "outputs": [
    {
     "name": "stdout",
     "output_type": "stream",
     "text": [
      "Total Customers: 37084\n"
     ]
    }
   ],
   "source": [
    "total=turnout['y'].count()\n",
    "print('Total Customers:',total)"
   ]
  },
  {
   "cell_type": "code",
   "execution_count": 9,
   "id": "efe81267",
   "metadata": {},
   "outputs": [
    {
     "name": "stdout",
     "output_type": "stream",
     "text": [
      "Percentage Turnout(the percentage of people optiong for term deposit): 11.34721173551936\n"
     ]
    }
   ],
   "source": [
    "pt=(yes*100)/total\n",
    "print('Percentage Turnout(the percentage of people optiong for term deposit):',pt)"
   ]
  },
  {
   "cell_type": "code",
   "execution_count": null,
   "id": "52a9ce45",
   "metadata": {},
   "outputs": [],
   "source": []
  },
  {
   "cell_type": "markdown",
   "id": "1337f210",
   "metadata": {},
   "source": [
    "# 2.\tRight mode to contact the customers (telephone or mobile)"
   ]
  },
  {
   "cell_type": "code",
   "execution_count": 1,
   "id": "7e73cd09",
   "metadata": {},
   "outputs": [],
   "source": [
    "import pandas as pd\n",
    "import numpy as np"
   ]
  },
  {
   "cell_type": "code",
   "execution_count": 6,
   "id": "bbd78798",
   "metadata": {},
   "outputs": [],
   "source": [
    "city=pd.read_csv(\"City_Master.csv\")\n",
    "customerDetails=pd.read_csv(\"Customer_and_bank details_p1.csv\")\n",
    "customerPostalCode=pd.read_csv(\"Customer_Postal_Code_details.csv\")\n",
    "customerResponseData=pd.read_csv(\"Customer_Response_data_p1.csv\")\n",
    "customerCampaignDetails=pd.read_csv(\"Customer_campaign_details_p1.csv\")\n",
    "customerSocialEconomicData=pd.read_csv(\"Customer_social_economic_data_p1.csv\")\n",
    "regionCode=pd.read_csv(\"Region_code_master.csv\")\n",
    "stateCode=pd.read_csv(\"State_Master.csv\")"
   ]
  },
  {
   "cell_type": "code",
   "execution_count": 7,
   "id": "86a620c0",
   "metadata": {},
   "outputs": [],
   "source": [
    "customerCampaignDetails=customerCampaignDetails.rename(columns={'Customer_id':'C_id'})\n",
    "customerDetails=pd.concat([customerDetails,customerCampaignDetails],axis=1)\n",
    "customerDetails=pd.concat([customerDetails,customerPostalCode],axis=1)\n",
    "del(customerDetails['customer_id'])\n",
    "del(customerDetails['C_id'])\n",
    "df1=pd.DataFrame(customerDetails['Region_Code'])\n",
    "df2=[regionCode.loc[i][:] for i in [0,1,2,3,4]]\n",
    "df2=pd.DataFrame(df2)\n",
    "customerDetails=pd.merge(customerDetails,customerSocialEconomicData,how=\"left\",on='Customer_id')\n",
    "df1['Region']=df1['Region_Code'].replace(['1','2','3','4','5','Na'],['Central','East','South','West','North','Not_Specified'])\n",
    "del[df1['Region_Code']]\n",
    "df1['Customer_id']=customerDetails['Customer_id']\n",
    "customerDetails=pd.merge(customerDetails,df1,how='inner',on='Customer_id')\n",
    " \n"
   ]
  },
  {
   "cell_type": "code",
   "execution_count": null,
   "id": "84f57b77",
   "metadata": {},
   "outputs": [],
   "source": []
  },
  {
   "cell_type": "code",
   "execution_count": 15,
   "id": "0f6b7fd8",
   "metadata": {},
   "outputs": [
    {
     "name": "stdout",
     "output_type": "stream",
     "text": [
      "<class 'pandas.core.frame.DataFrame'>\n",
      "Int64Index: 37084 entries, 0 to 37083\n",
      "Data columns (total 27 columns):\n",
      " #   Column          Non-Null Count  Dtype  \n",
      "---  ------          --------------  -----  \n",
      " 0   Customer_id     37084 non-null  int64  \n",
      " 1   age             37084 non-null  int64  \n",
      " 2   job             37084 non-null  object \n",
      " 3   marital         37084 non-null  object \n",
      " 4   education       37084 non-null  object \n",
      " 5   default         37084 non-null  object \n",
      " 6   housing         37084 non-null  object \n",
      " 7   loan            37084 non-null  object \n",
      " 8   Region_Code     37084 non-null  object \n",
      " 9   State_Code      37084 non-null  object \n",
      " 10  City_Code       37084 non-null  object \n",
      " 11  contact         37084 non-null  object \n",
      " 12  month           37084 non-null  object \n",
      " 13  day_of_week     37084 non-null  object \n",
      " 14  duration        37084 non-null  int64  \n",
      " 15  campaign        37084 non-null  int64  \n",
      " 16  pdays           37084 non-null  int64  \n",
      " 17  previous        37084 non-null  int64  \n",
      " 18  poutcome        37084 non-null  object \n",
      " 19  Postal Code     37084 non-null  int64  \n",
      " 20  emp.var.rate    37084 non-null  float64\n",
      " 21  cons.price.idx  37084 non-null  float64\n",
      " 22  cons.conf.idx   37084 non-null  float64\n",
      " 23  euribor3m       37084 non-null  float64\n",
      " 24  nr.employed     37084 non-null  float64\n",
      " 25  Region          37084 non-null  object \n",
      " 26  y               37084 non-null  object \n",
      "dtypes: float64(5), int64(7), object(15)\n",
      "memory usage: 7.9+ MB\n"
     ]
    }
   ],
   "source": [
    "bank.info()"
   ]
  },
  {
   "cell_type": "code",
   "execution_count": 14,
   "id": "20901299",
   "metadata": {},
   "outputs": [
    {
     "data": {
      "text/plain": [
       "array(['telephone', 'cellular'], dtype=object)"
      ]
     },
     "execution_count": 14,
     "metadata": {},
     "output_type": "execute_result"
    }
   ],
   "source": [
    "bank = pd.merge(customerDetails,customerResponseData,how = 'outer')\n",
    "bank['contact'].unique()"
   ]
  },
  {
   "cell_type": "code",
   "execution_count": 6,
   "id": "b9472846",
   "metadata": {},
   "outputs": [
    {
     "data": {
      "text/html": [
       "<div>\n",
       "<style scoped>\n",
       "    .dataframe tbody tr th:only-of-type {\n",
       "        vertical-align: middle;\n",
       "    }\n",
       "\n",
       "    .dataframe tbody tr th {\n",
       "        vertical-align: top;\n",
       "    }\n",
       "\n",
       "    .dataframe thead th {\n",
       "        text-align: right;\n",
       "    }\n",
       "</style>\n",
       "<table border=\"1\" class=\"dataframe\">\n",
       "  <thead>\n",
       "    <tr style=\"text-align: right;\">\n",
       "      <th></th>\n",
       "      <th>Customer_id</th>\n",
       "      <th>age</th>\n",
       "      <th>job</th>\n",
       "      <th>marital</th>\n",
       "      <th>education</th>\n",
       "      <th>default</th>\n",
       "      <th>housing</th>\n",
       "      <th>loan</th>\n",
       "      <th>Region_Code</th>\n",
       "      <th>State_Code</th>\n",
       "      <th>...</th>\n",
       "      <th>previous</th>\n",
       "      <th>poutcome</th>\n",
       "      <th>Postal Code</th>\n",
       "      <th>emp.var.rate</th>\n",
       "      <th>cons.price.idx</th>\n",
       "      <th>cons.conf.idx</th>\n",
       "      <th>euribor3m</th>\n",
       "      <th>nr.employed</th>\n",
       "      <th>Region</th>\n",
       "      <th>y</th>\n",
       "    </tr>\n",
       "  </thead>\n",
       "  <tbody>\n",
       "    <tr>\n",
       "      <th>0</th>\n",
       "      <td>1</td>\n",
       "      <td>56</td>\n",
       "      <td>services</td>\n",
       "      <td>married</td>\n",
       "      <td>high.school</td>\n",
       "      <td>no</td>\n",
       "      <td>no</td>\n",
       "      <td>yes</td>\n",
       "      <td>3</td>\n",
       "      <td>S1</td>\n",
       "      <td>...</td>\n",
       "      <td>0</td>\n",
       "      <td>nonexistent</td>\n",
       "      <td>42420</td>\n",
       "      <td>1.1</td>\n",
       "      <td>93.994</td>\n",
       "      <td>-36.4</td>\n",
       "      <td>4.857</td>\n",
       "      <td>5191.0</td>\n",
       "      <td>South</td>\n",
       "      <td>no</td>\n",
       "    </tr>\n",
       "    <tr>\n",
       "      <th>1</th>\n",
       "      <td>2</td>\n",
       "      <td>45</td>\n",
       "      <td>services</td>\n",
       "      <td>married</td>\n",
       "      <td>basic.9y</td>\n",
       "      <td>unknown</td>\n",
       "      <td>no</td>\n",
       "      <td>no</td>\n",
       "      <td>3</td>\n",
       "      <td>S1</td>\n",
       "      <td>...</td>\n",
       "      <td>0</td>\n",
       "      <td>nonexistent</td>\n",
       "      <td>42420</td>\n",
       "      <td>1.1</td>\n",
       "      <td>93.994</td>\n",
       "      <td>-36.4</td>\n",
       "      <td>4.857</td>\n",
       "      <td>5191.0</td>\n",
       "      <td>South</td>\n",
       "      <td>no</td>\n",
       "    </tr>\n",
       "    <tr>\n",
       "      <th>2</th>\n",
       "      <td>3</td>\n",
       "      <td>59</td>\n",
       "      <td>admin.</td>\n",
       "      <td>married</td>\n",
       "      <td>professional.course</td>\n",
       "      <td>no</td>\n",
       "      <td>no</td>\n",
       "      <td>no</td>\n",
       "      <td>4</td>\n",
       "      <td>S2</td>\n",
       "      <td>...</td>\n",
       "      <td>0</td>\n",
       "      <td>nonexistent</td>\n",
       "      <td>90036</td>\n",
       "      <td>1.1</td>\n",
       "      <td>93.994</td>\n",
       "      <td>-36.4</td>\n",
       "      <td>4.857</td>\n",
       "      <td>5191.0</td>\n",
       "      <td>West</td>\n",
       "      <td>no</td>\n",
       "    </tr>\n",
       "    <tr>\n",
       "      <th>3</th>\n",
       "      <td>4</td>\n",
       "      <td>41</td>\n",
       "      <td>blue-collar</td>\n",
       "      <td>married</td>\n",
       "      <td>unknown</td>\n",
       "      <td>unknown</td>\n",
       "      <td>no</td>\n",
       "      <td>no</td>\n",
       "      <td>3</td>\n",
       "      <td>S3</td>\n",
       "      <td>...</td>\n",
       "      <td>0</td>\n",
       "      <td>nonexistent</td>\n",
       "      <td>33311</td>\n",
       "      <td>1.1</td>\n",
       "      <td>93.994</td>\n",
       "      <td>-36.4</td>\n",
       "      <td>4.857</td>\n",
       "      <td>5191.0</td>\n",
       "      <td>South</td>\n",
       "      <td>no</td>\n",
       "    </tr>\n",
       "    <tr>\n",
       "      <th>4</th>\n",
       "      <td>5</td>\n",
       "      <td>24</td>\n",
       "      <td>technician</td>\n",
       "      <td>single</td>\n",
       "      <td>professional.course</td>\n",
       "      <td>no</td>\n",
       "      <td>yes</td>\n",
       "      <td>no</td>\n",
       "      <td>3</td>\n",
       "      <td>S3</td>\n",
       "      <td>...</td>\n",
       "      <td>0</td>\n",
       "      <td>nonexistent</td>\n",
       "      <td>33311</td>\n",
       "      <td>1.1</td>\n",
       "      <td>93.994</td>\n",
       "      <td>-36.4</td>\n",
       "      <td>4.857</td>\n",
       "      <td>5191.0</td>\n",
       "      <td>South</td>\n",
       "      <td>no</td>\n",
       "    </tr>\n",
       "    <tr>\n",
       "      <th>...</th>\n",
       "      <td>...</td>\n",
       "      <td>...</td>\n",
       "      <td>...</td>\n",
       "      <td>...</td>\n",
       "      <td>...</td>\n",
       "      <td>...</td>\n",
       "      <td>...</td>\n",
       "      <td>...</td>\n",
       "      <td>...</td>\n",
       "      <td>...</td>\n",
       "      <td>...</td>\n",
       "      <td>...</td>\n",
       "      <td>...</td>\n",
       "      <td>...</td>\n",
       "      <td>...</td>\n",
       "      <td>...</td>\n",
       "      <td>...</td>\n",
       "      <td>...</td>\n",
       "      <td>...</td>\n",
       "      <td>...</td>\n",
       "      <td>...</td>\n",
       "    </tr>\n",
       "    <tr>\n",
       "      <th>37079</th>\n",
       "      <td>37080</td>\n",
       "      <td>73</td>\n",
       "      <td>retired</td>\n",
       "      <td>married</td>\n",
       "      <td>professional.course</td>\n",
       "      <td>no</td>\n",
       "      <td>yes</td>\n",
       "      <td>no</td>\n",
       "      <td>2</td>\n",
       "      <td>S16</td>\n",
       "      <td>...</td>\n",
       "      <td>0</td>\n",
       "      <td>nonexistent</td>\n",
       "      <td>10009</td>\n",
       "      <td>-1.1</td>\n",
       "      <td>94.767</td>\n",
       "      <td>-50.8</td>\n",
       "      <td>1.028</td>\n",
       "      <td>4963.6</td>\n",
       "      <td>East</td>\n",
       "      <td>yes</td>\n",
       "    </tr>\n",
       "    <tr>\n",
       "      <th>37080</th>\n",
       "      <td>37081</td>\n",
       "      <td>46</td>\n",
       "      <td>blue-collar</td>\n",
       "      <td>married</td>\n",
       "      <td>professional.course</td>\n",
       "      <td>no</td>\n",
       "      <td>no</td>\n",
       "      <td>no</td>\n",
       "      <td>2</td>\n",
       "      <td>S16</td>\n",
       "      <td>...</td>\n",
       "      <td>0</td>\n",
       "      <td>nonexistent</td>\n",
       "      <td>10011</td>\n",
       "      <td>-1.1</td>\n",
       "      <td>94.767</td>\n",
       "      <td>-50.8</td>\n",
       "      <td>1.028</td>\n",
       "      <td>4963.6</td>\n",
       "      <td>East</td>\n",
       "      <td>no</td>\n",
       "    </tr>\n",
       "    <tr>\n",
       "      <th>37081</th>\n",
       "      <td>37082</td>\n",
       "      <td>56</td>\n",
       "      <td>retired</td>\n",
       "      <td>married</td>\n",
       "      <td>university.degree</td>\n",
       "      <td>no</td>\n",
       "      <td>yes</td>\n",
       "      <td>no</td>\n",
       "      <td>2</td>\n",
       "      <td>S16</td>\n",
       "      <td>...</td>\n",
       "      <td>0</td>\n",
       "      <td>nonexistent</td>\n",
       "      <td>10009</td>\n",
       "      <td>-1.1</td>\n",
       "      <td>94.767</td>\n",
       "      <td>-50.8</td>\n",
       "      <td>1.028</td>\n",
       "      <td>4963.6</td>\n",
       "      <td>East</td>\n",
       "      <td>no</td>\n",
       "    </tr>\n",
       "    <tr>\n",
       "      <th>37082</th>\n",
       "      <td>37083</td>\n",
       "      <td>44</td>\n",
       "      <td>technician</td>\n",
       "      <td>married</td>\n",
       "      <td>professional.course</td>\n",
       "      <td>no</td>\n",
       "      <td>no</td>\n",
       "      <td>no</td>\n",
       "      <td>4</td>\n",
       "      <td>S17</td>\n",
       "      <td>...</td>\n",
       "      <td>0</td>\n",
       "      <td>nonexistent</td>\n",
       "      <td>85254</td>\n",
       "      <td>-1.1</td>\n",
       "      <td>94.767</td>\n",
       "      <td>-50.8</td>\n",
       "      <td>1.028</td>\n",
       "      <td>4963.6</td>\n",
       "      <td>West</td>\n",
       "      <td>yes</td>\n",
       "    </tr>\n",
       "    <tr>\n",
       "      <th>37083</th>\n",
       "      <td>37084</td>\n",
       "      <td>74</td>\n",
       "      <td>retired</td>\n",
       "      <td>married</td>\n",
       "      <td>professional.course</td>\n",
       "      <td>no</td>\n",
       "      <td>yes</td>\n",
       "      <td>no</td>\n",
       "      <td>1</td>\n",
       "      <td>S6</td>\n",
       "      <td>...</td>\n",
       "      <td>1</td>\n",
       "      <td>failure</td>\n",
       "      <td>79109</td>\n",
       "      <td>-1.1</td>\n",
       "      <td>94.767</td>\n",
       "      <td>-50.8</td>\n",
       "      <td>1.028</td>\n",
       "      <td>4963.6</td>\n",
       "      <td>Central</td>\n",
       "      <td>no</td>\n",
       "    </tr>\n",
       "  </tbody>\n",
       "</table>\n",
       "<p>37084 rows × 27 columns</p>\n",
       "</div>"
      ],
      "text/plain": [
       "       Customer_id  age          job  marital            education  default  \\\n",
       "0                1   56     services  married          high.school       no   \n",
       "1                2   45     services  married             basic.9y  unknown   \n",
       "2                3   59       admin.  married  professional.course       no   \n",
       "3                4   41  blue-collar  married              unknown  unknown   \n",
       "4                5   24   technician   single  professional.course       no   \n",
       "...            ...  ...          ...      ...                  ...      ...   \n",
       "37079        37080   73      retired  married  professional.course       no   \n",
       "37080        37081   46  blue-collar  married  professional.course       no   \n",
       "37081        37082   56      retired  married    university.degree       no   \n",
       "37082        37083   44   technician  married  professional.course       no   \n",
       "37083        37084   74      retired  married  professional.course       no   \n",
       "\n",
       "      housing loan Region_Code State_Code  ... previous     poutcome  \\\n",
       "0          no  yes           3         S1  ...        0  nonexistent   \n",
       "1          no   no           3         S1  ...        0  nonexistent   \n",
       "2          no   no           4         S2  ...        0  nonexistent   \n",
       "3          no   no           3         S3  ...        0  nonexistent   \n",
       "4         yes   no           3         S3  ...        0  nonexistent   \n",
       "...       ...  ...         ...        ...  ...      ...          ...   \n",
       "37079     yes   no           2        S16  ...        0  nonexistent   \n",
       "37080      no   no           2        S16  ...        0  nonexistent   \n",
       "37081     yes   no           2        S16  ...        0  nonexistent   \n",
       "37082      no   no           4        S17  ...        0  nonexistent   \n",
       "37083     yes   no           1         S6  ...        1      failure   \n",
       "\n",
       "      Postal Code emp.var.rate  cons.price.idx  cons.conf.idx  euribor3m  \\\n",
       "0           42420          1.1          93.994          -36.4      4.857   \n",
       "1           42420          1.1          93.994          -36.4      4.857   \n",
       "2           90036          1.1          93.994          -36.4      4.857   \n",
       "3           33311          1.1          93.994          -36.4      4.857   \n",
       "4           33311          1.1          93.994          -36.4      4.857   \n",
       "...           ...          ...             ...            ...        ...   \n",
       "37079       10009         -1.1          94.767          -50.8      1.028   \n",
       "37080       10011         -1.1          94.767          -50.8      1.028   \n",
       "37081       10009         -1.1          94.767          -50.8      1.028   \n",
       "37082       85254         -1.1          94.767          -50.8      1.028   \n",
       "37083       79109         -1.1          94.767          -50.8      1.028   \n",
       "\n",
       "       nr.employed   Region    y  \n",
       "0           5191.0    South   no  \n",
       "1           5191.0    South   no  \n",
       "2           5191.0     West   no  \n",
       "3           5191.0    South   no  \n",
       "4           5191.0    South   no  \n",
       "...            ...      ...  ...  \n",
       "37079       4963.6     East  yes  \n",
       "37080       4963.6     East   no  \n",
       "37081       4963.6     East   no  \n",
       "37082       4963.6     West  yes  \n",
       "37083       4963.6  Central   no  \n",
       "\n",
       "[37084 rows x 27 columns]"
      ]
     },
     "execution_count": 6,
     "metadata": {},
     "output_type": "execute_result"
    }
   ],
   "source": []
  },
  {
   "cell_type": "code",
   "execution_count": 7,
   "id": "fe438dd0",
   "metadata": {},
   "outputs": [
    {
     "data": {
      "text/plain": [
       "cellular     63.428972\n",
       "telephone    36.571028\n",
       "Name: contact, dtype: float64"
      ]
     },
     "execution_count": 7,
     "metadata": {},
     "output_type": "execute_result"
    }
   ],
   "source": [
    "bank['contact'].value_counts()/len(bank['contact'])*100"
   ]
  },
  {
   "cell_type": "markdown",
   "id": "89ccabf0",
   "metadata": {},
   "source": [
    "Note: 63.42 % of the clients were approached through cellular contact and 36.57% of the clients were approached through telephonic communication"
   ]
  },
  {
   "cell_type": "code",
   "execution_count": 8,
   "id": "be172e9a",
   "metadata": {},
   "outputs": [
    {
     "name": "stdout",
     "output_type": "stream",
     "text": [
      "cellular     82.984791\n",
      "telephone    17.015209\n",
      "Name: contact, dtype: float64\n"
     ]
    }
   ],
   "source": [
    "print(bank[bank['y']=='yes']['contact'].value_counts()/len(bank[bank['y']=='yes']['contact'])*100)"
   ]
  },
  {
   "cell_type": "markdown",
   "id": "7feb3320",
   "metadata": {},
   "source": [
    "Of all the people who have subscribed 82.9% clients were approached through cellular contact and only 17.01% people who were approached through telephone have subscribed. Thus making Celullar Mode of contact the more efficient one"
   ]
  },
  {
   "cell_type": "markdown",
   "id": "fcef9904",
   "metadata": {},
   "source": [
    "# 3: Analysis on attempts made to turn a person into successful depositor"
   ]
  },
  {
   "cell_type": "code",
   "execution_count": 1,
   "id": "35217369",
   "metadata": {},
   "outputs": [],
   "source": [
    "import pandas as pd\n",
    "from pandas import Series,DataFrame\n",
    "import numpy as np"
   ]
  },
  {
   "cell_type": "code",
   "execution_count": 2,
   "id": "5c075e58",
   "metadata": {},
   "outputs": [
    {
     "data": {
      "text/html": [
       "<div>\n",
       "<style scoped>\n",
       "    .dataframe tbody tr th:only-of-type {\n",
       "        vertical-align: middle;\n",
       "    }\n",
       "\n",
       "    .dataframe tbody tr th {\n",
       "        vertical-align: top;\n",
       "    }\n",
       "\n",
       "    .dataframe thead th {\n",
       "        text-align: right;\n",
       "    }\n",
       "</style>\n",
       "<table border=\"1\" class=\"dataframe\">\n",
       "  <thead>\n",
       "    <tr style=\"text-align: right;\">\n",
       "      <th></th>\n",
       "      <th>Customer_id</th>\n",
       "      <th>contact</th>\n",
       "      <th>month</th>\n",
       "      <th>day_of_week</th>\n",
       "      <th>duration</th>\n",
       "      <th>campaign</th>\n",
       "      <th>pdays</th>\n",
       "      <th>previous</th>\n",
       "      <th>poutcome</th>\n",
       "    </tr>\n",
       "  </thead>\n",
       "  <tbody>\n",
       "    <tr>\n",
       "      <th>0</th>\n",
       "      <td>1</td>\n",
       "      <td>telephone</td>\n",
       "      <td>may</td>\n",
       "      <td>mon</td>\n",
       "      <td>307</td>\n",
       "      <td>1</td>\n",
       "      <td>999</td>\n",
       "      <td>0</td>\n",
       "      <td>nonexistent</td>\n",
       "    </tr>\n",
       "    <tr>\n",
       "      <th>1</th>\n",
       "      <td>2</td>\n",
       "      <td>telephone</td>\n",
       "      <td>may</td>\n",
       "      <td>mon</td>\n",
       "      <td>198</td>\n",
       "      <td>1</td>\n",
       "      <td>999</td>\n",
       "      <td>0</td>\n",
       "      <td>nonexistent</td>\n",
       "    </tr>\n",
       "    <tr>\n",
       "      <th>2</th>\n",
       "      <td>3</td>\n",
       "      <td>telephone</td>\n",
       "      <td>may</td>\n",
       "      <td>mon</td>\n",
       "      <td>139</td>\n",
       "      <td>1</td>\n",
       "      <td>999</td>\n",
       "      <td>0</td>\n",
       "      <td>nonexistent</td>\n",
       "    </tr>\n",
       "    <tr>\n",
       "      <th>3</th>\n",
       "      <td>4</td>\n",
       "      <td>telephone</td>\n",
       "      <td>may</td>\n",
       "      <td>mon</td>\n",
       "      <td>217</td>\n",
       "      <td>1</td>\n",
       "      <td>999</td>\n",
       "      <td>0</td>\n",
       "      <td>nonexistent</td>\n",
       "    </tr>\n",
       "    <tr>\n",
       "      <th>4</th>\n",
       "      <td>5</td>\n",
       "      <td>telephone</td>\n",
       "      <td>may</td>\n",
       "      <td>mon</td>\n",
       "      <td>380</td>\n",
       "      <td>1</td>\n",
       "      <td>999</td>\n",
       "      <td>0</td>\n",
       "      <td>nonexistent</td>\n",
       "    </tr>\n",
       "  </tbody>\n",
       "</table>\n",
       "</div>"
      ],
      "text/plain": [
       "   Customer_id    contact month day_of_week  duration  campaign  pdays  \\\n",
       "0            1  telephone   may         mon       307         1    999   \n",
       "1            2  telephone   may         mon       198         1    999   \n",
       "2            3  telephone   may         mon       139         1    999   \n",
       "3            4  telephone   may         mon       217         1    999   \n",
       "4            5  telephone   may         mon       380         1    999   \n",
       "\n",
       "   previous     poutcome  \n",
       "0         0  nonexistent  \n",
       "1         0  nonexistent  \n",
       "2         0  nonexistent  \n",
       "3         0  nonexistent  \n",
       "4         0  nonexistent  "
      ]
     },
     "execution_count": 2,
     "metadata": {},
     "output_type": "execute_result"
    }
   ],
   "source": [
    "campaign_details=pd.read_csv('Customer_campaign_details_p1.csv')\n",
    "campaign_details.head()"
   ]
  },
  {
   "cell_type": "code",
   "execution_count": 3,
   "id": "7553b9bb",
   "metadata": {},
   "outputs": [
    {
     "data": {
      "text/html": [
       "<div>\n",
       "<style scoped>\n",
       "    .dataframe tbody tr th:only-of-type {\n",
       "        vertical-align: middle;\n",
       "    }\n",
       "\n",
       "    .dataframe tbody tr th {\n",
       "        vertical-align: top;\n",
       "    }\n",
       "\n",
       "    .dataframe thead th {\n",
       "        text-align: right;\n",
       "    }\n",
       "</style>\n",
       "<table border=\"1\" class=\"dataframe\">\n",
       "  <thead>\n",
       "    <tr style=\"text-align: right;\">\n",
       "      <th></th>\n",
       "      <th>Customer_id</th>\n",
       "      <th>y</th>\n",
       "    </tr>\n",
       "  </thead>\n",
       "  <tbody>\n",
       "    <tr>\n",
       "      <th>0</th>\n",
       "      <td>1</td>\n",
       "      <td>no</td>\n",
       "    </tr>\n",
       "    <tr>\n",
       "      <th>1</th>\n",
       "      <td>2</td>\n",
       "      <td>no</td>\n",
       "    </tr>\n",
       "    <tr>\n",
       "      <th>2</th>\n",
       "      <td>3</td>\n",
       "      <td>no</td>\n",
       "    </tr>\n",
       "    <tr>\n",
       "      <th>3</th>\n",
       "      <td>4</td>\n",
       "      <td>no</td>\n",
       "    </tr>\n",
       "    <tr>\n",
       "      <th>4</th>\n",
       "      <td>5</td>\n",
       "      <td>no</td>\n",
       "    </tr>\n",
       "  </tbody>\n",
       "</table>\n",
       "</div>"
      ],
      "text/plain": [
       "   Customer_id   y\n",
       "0            1  no\n",
       "1            2  no\n",
       "2            3  no\n",
       "3            4  no\n",
       "4            5  no"
      ]
     },
     "execution_count": 3,
     "metadata": {},
     "output_type": "execute_result"
    }
   ],
   "source": [
    "response=pd.read_csv('Customer_Response_data_p1.csv')\n",
    "response.head()"
   ]
  },
  {
   "cell_type": "code",
   "execution_count": 4,
   "id": "d17361fd",
   "metadata": {
    "scrolled": true
   },
   "outputs": [
    {
     "data": {
      "text/html": [
       "<div>\n",
       "<style scoped>\n",
       "    .dataframe tbody tr th:only-of-type {\n",
       "        vertical-align: middle;\n",
       "    }\n",
       "\n",
       "    .dataframe tbody tr th {\n",
       "        vertical-align: top;\n",
       "    }\n",
       "\n",
       "    .dataframe thead th {\n",
       "        text-align: right;\n",
       "    }\n",
       "</style>\n",
       "<table border=\"1\" class=\"dataframe\">\n",
       "  <thead>\n",
       "    <tr style=\"text-align: right;\">\n",
       "      <th></th>\n",
       "      <th>Customer_id</th>\n",
       "      <th>contact</th>\n",
       "      <th>month</th>\n",
       "      <th>day_of_week</th>\n",
       "      <th>duration</th>\n",
       "      <th>campaign</th>\n",
       "      <th>pdays</th>\n",
       "      <th>previous</th>\n",
       "      <th>poutcome</th>\n",
       "      <th>y</th>\n",
       "    </tr>\n",
       "  </thead>\n",
       "  <tbody>\n",
       "    <tr>\n",
       "      <th>0</th>\n",
       "      <td>1</td>\n",
       "      <td>telephone</td>\n",
       "      <td>may</td>\n",
       "      <td>mon</td>\n",
       "      <td>307</td>\n",
       "      <td>1</td>\n",
       "      <td>999</td>\n",
       "      <td>0</td>\n",
       "      <td>nonexistent</td>\n",
       "      <td>no</td>\n",
       "    </tr>\n",
       "    <tr>\n",
       "      <th>1</th>\n",
       "      <td>2</td>\n",
       "      <td>telephone</td>\n",
       "      <td>may</td>\n",
       "      <td>mon</td>\n",
       "      <td>198</td>\n",
       "      <td>1</td>\n",
       "      <td>999</td>\n",
       "      <td>0</td>\n",
       "      <td>nonexistent</td>\n",
       "      <td>no</td>\n",
       "    </tr>\n",
       "    <tr>\n",
       "      <th>2</th>\n",
       "      <td>3</td>\n",
       "      <td>telephone</td>\n",
       "      <td>may</td>\n",
       "      <td>mon</td>\n",
       "      <td>139</td>\n",
       "      <td>1</td>\n",
       "      <td>999</td>\n",
       "      <td>0</td>\n",
       "      <td>nonexistent</td>\n",
       "      <td>no</td>\n",
       "    </tr>\n",
       "    <tr>\n",
       "      <th>3</th>\n",
       "      <td>4</td>\n",
       "      <td>telephone</td>\n",
       "      <td>may</td>\n",
       "      <td>mon</td>\n",
       "      <td>217</td>\n",
       "      <td>1</td>\n",
       "      <td>999</td>\n",
       "      <td>0</td>\n",
       "      <td>nonexistent</td>\n",
       "      <td>no</td>\n",
       "    </tr>\n",
       "    <tr>\n",
       "      <th>4</th>\n",
       "      <td>5</td>\n",
       "      <td>telephone</td>\n",
       "      <td>may</td>\n",
       "      <td>mon</td>\n",
       "      <td>380</td>\n",
       "      <td>1</td>\n",
       "      <td>999</td>\n",
       "      <td>0</td>\n",
       "      <td>nonexistent</td>\n",
       "      <td>no</td>\n",
       "    </tr>\n",
       "    <tr>\n",
       "      <th>5</th>\n",
       "      <td>6</td>\n",
       "      <td>telephone</td>\n",
       "      <td>may</td>\n",
       "      <td>mon</td>\n",
       "      <td>50</td>\n",
       "      <td>1</td>\n",
       "      <td>999</td>\n",
       "      <td>0</td>\n",
       "      <td>nonexistent</td>\n",
       "      <td>no</td>\n",
       "    </tr>\n",
       "    <tr>\n",
       "      <th>6</th>\n",
       "      <td>7</td>\n",
       "      <td>telephone</td>\n",
       "      <td>may</td>\n",
       "      <td>mon</td>\n",
       "      <td>55</td>\n",
       "      <td>1</td>\n",
       "      <td>999</td>\n",
       "      <td>0</td>\n",
       "      <td>nonexistent</td>\n",
       "      <td>no</td>\n",
       "    </tr>\n",
       "    <tr>\n",
       "      <th>7</th>\n",
       "      <td>8</td>\n",
       "      <td>telephone</td>\n",
       "      <td>may</td>\n",
       "      <td>mon</td>\n",
       "      <td>222</td>\n",
       "      <td>1</td>\n",
       "      <td>999</td>\n",
       "      <td>0</td>\n",
       "      <td>nonexistent</td>\n",
       "      <td>no</td>\n",
       "    </tr>\n",
       "    <tr>\n",
       "      <th>8</th>\n",
       "      <td>9</td>\n",
       "      <td>telephone</td>\n",
       "      <td>may</td>\n",
       "      <td>mon</td>\n",
       "      <td>137</td>\n",
       "      <td>1</td>\n",
       "      <td>999</td>\n",
       "      <td>0</td>\n",
       "      <td>nonexistent</td>\n",
       "      <td>no</td>\n",
       "    </tr>\n",
       "    <tr>\n",
       "      <th>9</th>\n",
       "      <td>10</td>\n",
       "      <td>telephone</td>\n",
       "      <td>may</td>\n",
       "      <td>mon</td>\n",
       "      <td>293</td>\n",
       "      <td>1</td>\n",
       "      <td>999</td>\n",
       "      <td>0</td>\n",
       "      <td>nonexistent</td>\n",
       "      <td>no</td>\n",
       "    </tr>\n",
       "  </tbody>\n",
       "</table>\n",
       "</div>"
      ],
      "text/plain": [
       "   Customer_id    contact month day_of_week  duration  campaign  pdays  \\\n",
       "0            1  telephone   may         mon       307         1    999   \n",
       "1            2  telephone   may         mon       198         1    999   \n",
       "2            3  telephone   may         mon       139         1    999   \n",
       "3            4  telephone   may         mon       217         1    999   \n",
       "4            5  telephone   may         mon       380         1    999   \n",
       "5            6  telephone   may         mon        50         1    999   \n",
       "6            7  telephone   may         mon        55         1    999   \n",
       "7            8  telephone   may         mon       222         1    999   \n",
       "8            9  telephone   may         mon       137         1    999   \n",
       "9           10  telephone   may         mon       293         1    999   \n",
       "\n",
       "   previous     poutcome   y  \n",
       "0         0  nonexistent  no  \n",
       "1         0  nonexistent  no  \n",
       "2         0  nonexistent  no  \n",
       "3         0  nonexistent  no  \n",
       "4         0  nonexistent  no  \n",
       "5         0  nonexistent  no  \n",
       "6         0  nonexistent  no  \n",
       "7         0  nonexistent  no  \n",
       "8         0  nonexistent  no  \n",
       "9         0  nonexistent  no  "
      ]
     },
     "execution_count": 4,
     "metadata": {},
     "output_type": "execute_result"
    }
   ],
   "source": [
    "response_merged=pd.merge(campaign_details,response,on='Customer_id',how='inner')\n",
    "response_merged.head(10)"
   ]
  },
  {
   "cell_type": "markdown",
   "id": "68044ad3",
   "metadata": {},
   "source": [
    "### Analysis on the attempts"
   ]
  },
  {
   "cell_type": "code",
   "execution_count": 11,
   "id": "782cd00a",
   "metadata": {},
   "outputs": [
    {
     "name": "stdout",
     "output_type": "stream",
     "text": [
      "Maximum attempts: 23\n",
      "Minimum attempts: 1\n",
      "Average of attempts: 2\n"
     ]
    }
   ],
   "source": [
    "max_attempts=response_merged.query(\"y=='yes'\")['campaign'].max()\n",
    "min_attempts=response_merged.query(\"y=='yes'\")['campaign'].min()\n",
    "avg=response_merged.query(\"y=='yes'\")['campaign'].mean()\n",
    "print('Maximum attempts:',max_attempts)\n",
    "print('Minimum attempts:',min_attempts)\n",
    "print('Average of attempts:',int(avg))"
   ]
  },
  {
   "cell_type": "markdown",
   "id": "d58fd3f4",
   "metadata": {},
   "source": [
    "# 4.Personal data analysis on marital status, existing loans, education, profession etc. and its impact on the campaign’s success."
   ]
  },
  {
   "cell_type": "code",
   "execution_count": 1,
   "id": "f4b74cbe",
   "metadata": {},
   "outputs": [],
   "source": [
    "import numpy as np\n",
    "import pandas as pd\n",
    "from pandas import DataFrame"
   ]
  },
  {
   "cell_type": "markdown",
   "id": "df89a94c",
   "metadata": {},
   "source": [
    "#### Displaying the Tables"
   ]
  },
  {
   "cell_type": "code",
   "execution_count": 2,
   "id": "0fc44c98",
   "metadata": {},
   "outputs": [
    {
     "data": {
      "text/html": [
       "<div>\n",
       "<style scoped>\n",
       "    .dataframe tbody tr th:only-of-type {\n",
       "        vertical-align: middle;\n",
       "    }\n",
       "\n",
       "    .dataframe tbody tr th {\n",
       "        vertical-align: top;\n",
       "    }\n",
       "\n",
       "    .dataframe thead th {\n",
       "        text-align: right;\n",
       "    }\n",
       "</style>\n",
       "<table border=\"1\" class=\"dataframe\">\n",
       "  <thead>\n",
       "    <tr style=\"text-align: right;\">\n",
       "      <th></th>\n",
       "      <th>Customer_id</th>\n",
       "      <th>contact</th>\n",
       "      <th>month</th>\n",
       "      <th>day_of_week</th>\n",
       "      <th>duration</th>\n",
       "      <th>campaign</th>\n",
       "      <th>pdays</th>\n",
       "      <th>previous</th>\n",
       "      <th>poutcome</th>\n",
       "    </tr>\n",
       "  </thead>\n",
       "  <tbody>\n",
       "    <tr>\n",
       "      <th>0</th>\n",
       "      <td>1</td>\n",
       "      <td>telephone</td>\n",
       "      <td>may</td>\n",
       "      <td>mon</td>\n",
       "      <td>307</td>\n",
       "      <td>1</td>\n",
       "      <td>999</td>\n",
       "      <td>0</td>\n",
       "      <td>nonexistent</td>\n",
       "    </tr>\n",
       "    <tr>\n",
       "      <th>1</th>\n",
       "      <td>2</td>\n",
       "      <td>telephone</td>\n",
       "      <td>may</td>\n",
       "      <td>mon</td>\n",
       "      <td>198</td>\n",
       "      <td>1</td>\n",
       "      <td>999</td>\n",
       "      <td>0</td>\n",
       "      <td>nonexistent</td>\n",
       "    </tr>\n",
       "    <tr>\n",
       "      <th>2</th>\n",
       "      <td>3</td>\n",
       "      <td>telephone</td>\n",
       "      <td>may</td>\n",
       "      <td>mon</td>\n",
       "      <td>139</td>\n",
       "      <td>1</td>\n",
       "      <td>999</td>\n",
       "      <td>0</td>\n",
       "      <td>nonexistent</td>\n",
       "    </tr>\n",
       "    <tr>\n",
       "      <th>3</th>\n",
       "      <td>4</td>\n",
       "      <td>telephone</td>\n",
       "      <td>may</td>\n",
       "      <td>mon</td>\n",
       "      <td>217</td>\n",
       "      <td>1</td>\n",
       "      <td>999</td>\n",
       "      <td>0</td>\n",
       "      <td>nonexistent</td>\n",
       "    </tr>\n",
       "    <tr>\n",
       "      <th>4</th>\n",
       "      <td>5</td>\n",
       "      <td>telephone</td>\n",
       "      <td>may</td>\n",
       "      <td>mon</td>\n",
       "      <td>380</td>\n",
       "      <td>1</td>\n",
       "      <td>999</td>\n",
       "      <td>0</td>\n",
       "      <td>nonexistent</td>\n",
       "    </tr>\n",
       "  </tbody>\n",
       "</table>\n",
       "</div>"
      ],
      "text/plain": [
       "   Customer_id    contact month day_of_week  duration  campaign  pdays  \\\n",
       "0            1  telephone   may         mon       307         1    999   \n",
       "1            2  telephone   may         mon       198         1    999   \n",
       "2            3  telephone   may         mon       139         1    999   \n",
       "3            4  telephone   may         mon       217         1    999   \n",
       "4            5  telephone   may         mon       380         1    999   \n",
       "\n",
       "   previous     poutcome  \n",
       "0         0  nonexistent  \n",
       "1         0  nonexistent  \n",
       "2         0  nonexistent  \n",
       "3         0  nonexistent  \n",
       "4         0  nonexistent  "
      ]
     },
     "execution_count": 2,
     "metadata": {},
     "output_type": "execute_result"
    }
   ],
   "source": [
    "df0=pd.read_csv('Customer_campaign_details_p1.csv')\n",
    "df0\n",
    "df0.head()"
   ]
  },
  {
   "cell_type": "code",
   "execution_count": 3,
   "id": "10136af9",
   "metadata": {},
   "outputs": [
    {
     "data": {
      "text/html": [
       "<div>\n",
       "<style scoped>\n",
       "    .dataframe tbody tr th:only-of-type {\n",
       "        vertical-align: middle;\n",
       "    }\n",
       "\n",
       "    .dataframe tbody tr th {\n",
       "        vertical-align: top;\n",
       "    }\n",
       "\n",
       "    .dataframe thead th {\n",
       "        text-align: right;\n",
       "    }\n",
       "</style>\n",
       "<table border=\"1\" class=\"dataframe\">\n",
       "  <thead>\n",
       "    <tr style=\"text-align: right;\">\n",
       "      <th></th>\n",
       "      <th>Customer_id</th>\n",
       "      <th>age</th>\n",
       "      <th>job</th>\n",
       "      <th>marital</th>\n",
       "      <th>education</th>\n",
       "      <th>default</th>\n",
       "      <th>housing</th>\n",
       "      <th>loan</th>\n",
       "      <th>Region_Code</th>\n",
       "      <th>State_Code</th>\n",
       "      <th>City_Code</th>\n",
       "    </tr>\n",
       "  </thead>\n",
       "  <tbody>\n",
       "    <tr>\n",
       "      <th>0</th>\n",
       "      <td>1</td>\n",
       "      <td>56</td>\n",
       "      <td>services</td>\n",
       "      <td>married</td>\n",
       "      <td>high.school</td>\n",
       "      <td>no</td>\n",
       "      <td>no</td>\n",
       "      <td>yes</td>\n",
       "      <td>3</td>\n",
       "      <td>S1</td>\n",
       "      <td>C1</td>\n",
       "    </tr>\n",
       "    <tr>\n",
       "      <th>1</th>\n",
       "      <td>2</td>\n",
       "      <td>45</td>\n",
       "      <td>services</td>\n",
       "      <td>married</td>\n",
       "      <td>basic.9y</td>\n",
       "      <td>unknown</td>\n",
       "      <td>no</td>\n",
       "      <td>no</td>\n",
       "      <td>3</td>\n",
       "      <td>S1</td>\n",
       "      <td>C1</td>\n",
       "    </tr>\n",
       "    <tr>\n",
       "      <th>2</th>\n",
       "      <td>3</td>\n",
       "      <td>59</td>\n",
       "      <td>admin.</td>\n",
       "      <td>married</td>\n",
       "      <td>professional.course</td>\n",
       "      <td>no</td>\n",
       "      <td>no</td>\n",
       "      <td>no</td>\n",
       "      <td>4</td>\n",
       "      <td>S2</td>\n",
       "      <td>C2</td>\n",
       "    </tr>\n",
       "    <tr>\n",
       "      <th>3</th>\n",
       "      <td>4</td>\n",
       "      <td>41</td>\n",
       "      <td>blue-collar</td>\n",
       "      <td>married</td>\n",
       "      <td>unknown</td>\n",
       "      <td>unknown</td>\n",
       "      <td>no</td>\n",
       "      <td>no</td>\n",
       "      <td>3</td>\n",
       "      <td>S3</td>\n",
       "      <td>C3</td>\n",
       "    </tr>\n",
       "    <tr>\n",
       "      <th>4</th>\n",
       "      <td>5</td>\n",
       "      <td>24</td>\n",
       "      <td>technician</td>\n",
       "      <td>single</td>\n",
       "      <td>professional.course</td>\n",
       "      <td>no</td>\n",
       "      <td>yes</td>\n",
       "      <td>no</td>\n",
       "      <td>3</td>\n",
       "      <td>S3</td>\n",
       "      <td>C3</td>\n",
       "    </tr>\n",
       "  </tbody>\n",
       "</table>\n",
       "</div>"
      ],
      "text/plain": [
       "   Customer_id  age          job  marital            education  default  \\\n",
       "0            1   56     services  married          high.school       no   \n",
       "1            2   45     services  married             basic.9y  unknown   \n",
       "2            3   59       admin.  married  professional.course       no   \n",
       "3            4   41  blue-collar  married              unknown  unknown   \n",
       "4            5   24   technician   single  professional.course       no   \n",
       "\n",
       "  housing loan Region_Code State_Code City_Code  \n",
       "0      no  yes           3         S1        C1  \n",
       "1      no   no           3         S1        C1  \n",
       "2      no   no           4         S2        C2  \n",
       "3      no   no           3         S3        C3  \n",
       "4     yes   no           3         S3        C3  "
      ]
     },
     "execution_count": 3,
     "metadata": {},
     "output_type": "execute_result"
    }
   ],
   "source": [
    "df1 = pd.read_csv('Customer_and_bank details_p1.csv')\n",
    "df1\n",
    "df1.head()\n"
   ]
  },
  {
   "cell_type": "code",
   "execution_count": 4,
   "id": "d8086612",
   "metadata": {},
   "outputs": [
    {
     "data": {
      "text/html": [
       "<div>\n",
       "<style scoped>\n",
       "    .dataframe tbody tr th:only-of-type {\n",
       "        vertical-align: middle;\n",
       "    }\n",
       "\n",
       "    .dataframe tbody tr th {\n",
       "        vertical-align: top;\n",
       "    }\n",
       "\n",
       "    .dataframe thead th {\n",
       "        text-align: right;\n",
       "    }\n",
       "</style>\n",
       "<table border=\"1\" class=\"dataframe\">\n",
       "  <thead>\n",
       "    <tr style=\"text-align: right;\">\n",
       "      <th></th>\n",
       "      <th>Customer_id</th>\n",
       "      <th>y</th>\n",
       "    </tr>\n",
       "  </thead>\n",
       "  <tbody>\n",
       "    <tr>\n",
       "      <th>0</th>\n",
       "      <td>1</td>\n",
       "      <td>no</td>\n",
       "    </tr>\n",
       "    <tr>\n",
       "      <th>1</th>\n",
       "      <td>2</td>\n",
       "      <td>no</td>\n",
       "    </tr>\n",
       "    <tr>\n",
       "      <th>2</th>\n",
       "      <td>3</td>\n",
       "      <td>no</td>\n",
       "    </tr>\n",
       "    <tr>\n",
       "      <th>3</th>\n",
       "      <td>4</td>\n",
       "      <td>no</td>\n",
       "    </tr>\n",
       "    <tr>\n",
       "      <th>4</th>\n",
       "      <td>5</td>\n",
       "      <td>no</td>\n",
       "    </tr>\n",
       "  </tbody>\n",
       "</table>\n",
       "</div>"
      ],
      "text/plain": [
       "   Customer_id   y\n",
       "0            1  no\n",
       "1            2  no\n",
       "2            3  no\n",
       "3            4  no\n",
       "4            5  no"
      ]
     },
     "execution_count": 4,
     "metadata": {},
     "output_type": "execute_result"
    }
   ],
   "source": [
    "df2 = pd.read_csv('Customer_Response_data_p1.csv')\n",
    "df2\n",
    "df2.head()"
   ]
  },
  {
   "cell_type": "markdown",
   "id": "bf38ee87",
   "metadata": {},
   "source": [
    "#### merging Customer_and_bank details_p1.csv and Customer_Response_data_p1.csv(tables)\n"
   ]
  },
  {
   "cell_type": "code",
   "execution_count": 5,
   "id": "c9ee69c9",
   "metadata": {},
   "outputs": [
    {
     "data": {
      "text/html": [
       "<div>\n",
       "<style scoped>\n",
       "    .dataframe tbody tr th:only-of-type {\n",
       "        vertical-align: middle;\n",
       "    }\n",
       "\n",
       "    .dataframe tbody tr th {\n",
       "        vertical-align: top;\n",
       "    }\n",
       "\n",
       "    .dataframe thead th {\n",
       "        text-align: right;\n",
       "    }\n",
       "</style>\n",
       "<table border=\"1\" class=\"dataframe\">\n",
       "  <thead>\n",
       "    <tr style=\"text-align: right;\">\n",
       "      <th></th>\n",
       "      <th>Customer_id</th>\n",
       "      <th>age</th>\n",
       "      <th>job</th>\n",
       "      <th>marital</th>\n",
       "      <th>education</th>\n",
       "      <th>default</th>\n",
       "      <th>housing</th>\n",
       "      <th>loan</th>\n",
       "      <th>Region_Code</th>\n",
       "      <th>State_Code</th>\n",
       "      <th>City_Code</th>\n",
       "      <th>y</th>\n",
       "    </tr>\n",
       "  </thead>\n",
       "  <tbody>\n",
       "    <tr>\n",
       "      <th>0</th>\n",
       "      <td>1</td>\n",
       "      <td>56</td>\n",
       "      <td>services</td>\n",
       "      <td>married</td>\n",
       "      <td>high.school</td>\n",
       "      <td>no</td>\n",
       "      <td>no</td>\n",
       "      <td>yes</td>\n",
       "      <td>3</td>\n",
       "      <td>S1</td>\n",
       "      <td>C1</td>\n",
       "      <td>no</td>\n",
       "    </tr>\n",
       "    <tr>\n",
       "      <th>1</th>\n",
       "      <td>2</td>\n",
       "      <td>45</td>\n",
       "      <td>services</td>\n",
       "      <td>married</td>\n",
       "      <td>basic.9y</td>\n",
       "      <td>unknown</td>\n",
       "      <td>no</td>\n",
       "      <td>no</td>\n",
       "      <td>3</td>\n",
       "      <td>S1</td>\n",
       "      <td>C1</td>\n",
       "      <td>no</td>\n",
       "    </tr>\n",
       "    <tr>\n",
       "      <th>2</th>\n",
       "      <td>3</td>\n",
       "      <td>59</td>\n",
       "      <td>admin.</td>\n",
       "      <td>married</td>\n",
       "      <td>professional.course</td>\n",
       "      <td>no</td>\n",
       "      <td>no</td>\n",
       "      <td>no</td>\n",
       "      <td>4</td>\n",
       "      <td>S2</td>\n",
       "      <td>C2</td>\n",
       "      <td>no</td>\n",
       "    </tr>\n",
       "    <tr>\n",
       "      <th>3</th>\n",
       "      <td>4</td>\n",
       "      <td>41</td>\n",
       "      <td>blue-collar</td>\n",
       "      <td>married</td>\n",
       "      <td>unknown</td>\n",
       "      <td>unknown</td>\n",
       "      <td>no</td>\n",
       "      <td>no</td>\n",
       "      <td>3</td>\n",
       "      <td>S3</td>\n",
       "      <td>C3</td>\n",
       "      <td>no</td>\n",
       "    </tr>\n",
       "    <tr>\n",
       "      <th>4</th>\n",
       "      <td>5</td>\n",
       "      <td>24</td>\n",
       "      <td>technician</td>\n",
       "      <td>single</td>\n",
       "      <td>professional.course</td>\n",
       "      <td>no</td>\n",
       "      <td>yes</td>\n",
       "      <td>no</td>\n",
       "      <td>3</td>\n",
       "      <td>S3</td>\n",
       "      <td>C3</td>\n",
       "      <td>no</td>\n",
       "    </tr>\n",
       "  </tbody>\n",
       "</table>\n",
       "</div>"
      ],
      "text/plain": [
       "   Customer_id  age          job  marital            education  default  \\\n",
       "0            1   56     services  married          high.school       no   \n",
       "1            2   45     services  married             basic.9y  unknown   \n",
       "2            3   59       admin.  married  professional.course       no   \n",
       "3            4   41  blue-collar  married              unknown  unknown   \n",
       "4            5   24   technician   single  professional.course       no   \n",
       "\n",
       "  housing loan Region_Code State_Code City_Code   y  \n",
       "0      no  yes           3         S1        C1  no  \n",
       "1      no   no           3         S1        C1  no  \n",
       "2      no   no           4         S2        C2  no  \n",
       "3      no   no           3         S3        C3  no  \n",
       "4     yes   no           3         S3        C3  no  "
      ]
     },
     "execution_count": 5,
     "metadata": {},
     "output_type": "execute_result"
    }
   ],
   "source": [
    "grouph=pd.merge(df1,df2,on='Customer_id',how='inner')\n",
    "grouph.head()"
   ]
  },
  {
   "cell_type": "markdown",
   "id": "d966d4b4",
   "metadata": {},
   "source": [
    "#### analysis on martial status based on responses"
   ]
  },
  {
   "cell_type": "code",
   "execution_count": 6,
   "id": "bbec29b6",
   "metadata": {},
   "outputs": [
    {
     "data": {
      "text/plain": [
       "marital   y  \n",
       "divorced  no      3699\n",
       "          yes      427\n",
       "married   no     20187\n",
       "          yes     2292\n",
       "single    no      8930\n",
       "          yes     1477\n",
       "unknown   no        60\n",
       "          yes       12\n",
       "Name: y, dtype: int64"
      ]
     },
     "execution_count": 6,
     "metadata": {},
     "output_type": "execute_result"
    }
   ],
   "source": [
    "grouph1=grouph.groupby('marital')['y'].value_counts()\n",
    "grouph1"
   ]
  },
  {
   "cell_type": "markdown",
   "id": "8f0f3754",
   "metadata": {},
   "source": [
    "#### analysis on loan based on responses"
   ]
  },
  {
   "cell_type": "code",
   "execution_count": 7,
   "id": "021391d7",
   "metadata": {},
   "outputs": [
    {
     "data": {
      "text/plain": [
       "loan     y  \n",
       "no       no     27062\n",
       "         yes     3499\n",
       "unknown  no       791\n",
       "         yes       91\n",
       "yes      no      5023\n",
       "         yes      618\n",
       "Name: y, dtype: int64"
      ]
     },
     "execution_count": 7,
     "metadata": {},
     "output_type": "execute_result"
    }
   ],
   "source": [
    "grouph2=grouph.groupby('loan')['y'].value_counts()\n",
    "grouph2"
   ]
  },
  {
   "cell_type": "markdown",
   "id": "60e26bed",
   "metadata": {},
   "source": [
    "#### analysis on education based on responses"
   ]
  },
  {
   "cell_type": "code",
   "execution_count": 8,
   "id": "2e262cd8",
   "metadata": {},
   "outputs": [
    {
     "data": {
      "text/plain": [
       "education            y  \n",
       "basic.4y             no     3374\n",
       "                     yes     391\n",
       "basic.6y             no     1903\n",
       "                     yes     171\n",
       "basic.9y             no     5001\n",
       "                     yes     420\n",
       "high.school          no     7597\n",
       "                     yes     945\n",
       "illiterate           no       14\n",
       "                     yes       2\n",
       "professional.course  no     4205\n",
       "                     yes     541\n",
       "university.degree    no     9464\n",
       "                     yes    1507\n",
       "unknown              no     1318\n",
       "                     yes     231\n",
       "Name: y, dtype: int64"
      ]
     },
     "execution_count": 8,
     "metadata": {},
     "output_type": "execute_result"
    }
   ],
   "source": [
    "grouph3=grouph.groupby('education')['y'].value_counts()\n",
    "grouph3"
   ]
  },
  {
   "cell_type": "markdown",
   "id": "90adb4c3",
   "metadata": {},
   "source": [
    "#### analysis on profession based on responses"
   ]
  },
  {
   "cell_type": "code",
   "execution_count": 9,
   "id": "c0295e27",
   "metadata": {},
   "outputs": [
    {
     "data": {
      "text/plain": [
       "job            y  \n",
       "admin.         no     8174\n",
       "               yes    1246\n",
       "blue-collar    no     7738\n",
       "               yes     576\n",
       "entrepreneur   no     1198\n",
       "               yes     111\n",
       "housemaid      no      853\n",
       "               yes      93\n",
       "management     no     2345\n",
       "               yes     292\n",
       "retired        no     1146\n",
       "               yes     395\n",
       "self-employed  no     1145\n",
       "               yes     131\n",
       "services       no     3249\n",
       "               yes     298\n",
       "student        no      527\n",
       "               yes     240\n",
       "technician     no     5439\n",
       "               yes     657\n",
       "unemployed     no      791\n",
       "               yes     134\n",
       "unknown        no      271\n",
       "               yes      35\n",
       "Name: y, dtype: int64"
      ]
     },
     "execution_count": 9,
     "metadata": {},
     "output_type": "execute_result"
    }
   ],
   "source": [
    "grouph4=grouph.groupby('job')['y'].value_counts()\n",
    "grouph4"
   ]
  },
  {
   "cell_type": "markdown",
   "id": "c05ead37",
   "metadata": {},
   "source": [
    "#### analysis on housing based on responses"
   ]
  },
  {
   "cell_type": "code",
   "execution_count": 10,
   "id": "bb126418",
   "metadata": {},
   "outputs": [
    {
     "data": {
      "text/plain": [
       "housing  y  \n",
       "no       no     14931\n",
       "         yes     1838\n",
       "unknown  no       791\n",
       "         yes       91\n",
       "yes      no     17154\n",
       "         yes     2279\n",
       "Name: y, dtype: int64"
      ]
     },
     "execution_count": 10,
     "metadata": {},
     "output_type": "execute_result"
    }
   ],
   "source": [
    "grouph5=grouph.groupby('housing')['y'].value_counts()\n",
    "grouph5"
   ]
  },
  {
   "cell_type": "markdown",
   "id": "5648f249",
   "metadata": {},
   "source": [
    "#### analysis on age based on responses"
   ]
  },
  {
   "cell_type": "code",
   "execution_count": 15,
   "id": "3a5cc3fb",
   "metadata": {},
   "outputs": [
    {
     "data": {
      "text/plain": [
       "age  y  \n",
       "17   no      3\n",
       "     yes     2\n",
       "18   no     15\n",
       "     yes     9\n",
       "19   no     21\n",
       "            ..\n",
       "92   yes     3\n",
       "     no      1\n",
       "94   no      1\n",
       "95   no      1\n",
       "98   yes     2\n",
       "Name: y, Length: 149, dtype: int64"
      ]
     },
     "execution_count": 15,
     "metadata": {},
     "output_type": "execute_result"
    }
   ],
   "source": [
    "grouph6=grouph.groupby('age')['y'].value_counts()\n",
    "grouph6"
   ]
  },
  {
   "cell_type": "markdown",
   "id": "c59027cd",
   "metadata": {},
   "source": [
    "#### merging Customer_and_bank details_p1.csv and Customer_Campaign_data_p1.csv(tables)"
   ]
  },
  {
   "cell_type": "code",
   "execution_count": 11,
   "id": "7f982f78",
   "metadata": {},
   "outputs": [
    {
     "data": {
      "text/html": [
       "<div>\n",
       "<style scoped>\n",
       "    .dataframe tbody tr th:only-of-type {\n",
       "        vertical-align: middle;\n",
       "    }\n",
       "\n",
       "    .dataframe tbody tr th {\n",
       "        vertical-align: top;\n",
       "    }\n",
       "\n",
       "    .dataframe thead th {\n",
       "        text-align: right;\n",
       "    }\n",
       "</style>\n",
       "<table border=\"1\" class=\"dataframe\">\n",
       "  <thead>\n",
       "    <tr style=\"text-align: right;\">\n",
       "      <th></th>\n",
       "      <th>Customer_id</th>\n",
       "      <th>contact</th>\n",
       "      <th>month</th>\n",
       "      <th>day_of_week</th>\n",
       "      <th>duration</th>\n",
       "      <th>campaign</th>\n",
       "      <th>pdays</th>\n",
       "      <th>previous</th>\n",
       "      <th>poutcome</th>\n",
       "      <th>age</th>\n",
       "      <th>job</th>\n",
       "      <th>marital</th>\n",
       "      <th>education</th>\n",
       "      <th>default</th>\n",
       "      <th>housing</th>\n",
       "      <th>loan</th>\n",
       "      <th>Region_Code</th>\n",
       "      <th>State_Code</th>\n",
       "      <th>City_Code</th>\n",
       "    </tr>\n",
       "  </thead>\n",
       "  <tbody>\n",
       "    <tr>\n",
       "      <th>0</th>\n",
       "      <td>1</td>\n",
       "      <td>telephone</td>\n",
       "      <td>may</td>\n",
       "      <td>mon</td>\n",
       "      <td>307</td>\n",
       "      <td>1</td>\n",
       "      <td>999</td>\n",
       "      <td>0</td>\n",
       "      <td>nonexistent</td>\n",
       "      <td>56</td>\n",
       "      <td>services</td>\n",
       "      <td>married</td>\n",
       "      <td>high.school</td>\n",
       "      <td>no</td>\n",
       "      <td>no</td>\n",
       "      <td>yes</td>\n",
       "      <td>3</td>\n",
       "      <td>S1</td>\n",
       "      <td>C1</td>\n",
       "    </tr>\n",
       "    <tr>\n",
       "      <th>1</th>\n",
       "      <td>2</td>\n",
       "      <td>telephone</td>\n",
       "      <td>may</td>\n",
       "      <td>mon</td>\n",
       "      <td>198</td>\n",
       "      <td>1</td>\n",
       "      <td>999</td>\n",
       "      <td>0</td>\n",
       "      <td>nonexistent</td>\n",
       "      <td>45</td>\n",
       "      <td>services</td>\n",
       "      <td>married</td>\n",
       "      <td>basic.9y</td>\n",
       "      <td>unknown</td>\n",
       "      <td>no</td>\n",
       "      <td>no</td>\n",
       "      <td>3</td>\n",
       "      <td>S1</td>\n",
       "      <td>C1</td>\n",
       "    </tr>\n",
       "    <tr>\n",
       "      <th>2</th>\n",
       "      <td>3</td>\n",
       "      <td>telephone</td>\n",
       "      <td>may</td>\n",
       "      <td>mon</td>\n",
       "      <td>139</td>\n",
       "      <td>1</td>\n",
       "      <td>999</td>\n",
       "      <td>0</td>\n",
       "      <td>nonexistent</td>\n",
       "      <td>59</td>\n",
       "      <td>admin.</td>\n",
       "      <td>married</td>\n",
       "      <td>professional.course</td>\n",
       "      <td>no</td>\n",
       "      <td>no</td>\n",
       "      <td>no</td>\n",
       "      <td>4</td>\n",
       "      <td>S2</td>\n",
       "      <td>C2</td>\n",
       "    </tr>\n",
       "    <tr>\n",
       "      <th>3</th>\n",
       "      <td>4</td>\n",
       "      <td>telephone</td>\n",
       "      <td>may</td>\n",
       "      <td>mon</td>\n",
       "      <td>217</td>\n",
       "      <td>1</td>\n",
       "      <td>999</td>\n",
       "      <td>0</td>\n",
       "      <td>nonexistent</td>\n",
       "      <td>41</td>\n",
       "      <td>blue-collar</td>\n",
       "      <td>married</td>\n",
       "      <td>unknown</td>\n",
       "      <td>unknown</td>\n",
       "      <td>no</td>\n",
       "      <td>no</td>\n",
       "      <td>3</td>\n",
       "      <td>S3</td>\n",
       "      <td>C3</td>\n",
       "    </tr>\n",
       "    <tr>\n",
       "      <th>4</th>\n",
       "      <td>5</td>\n",
       "      <td>telephone</td>\n",
       "      <td>may</td>\n",
       "      <td>mon</td>\n",
       "      <td>380</td>\n",
       "      <td>1</td>\n",
       "      <td>999</td>\n",
       "      <td>0</td>\n",
       "      <td>nonexistent</td>\n",
       "      <td>24</td>\n",
       "      <td>technician</td>\n",
       "      <td>single</td>\n",
       "      <td>professional.course</td>\n",
       "      <td>no</td>\n",
       "      <td>yes</td>\n",
       "      <td>no</td>\n",
       "      <td>3</td>\n",
       "      <td>S3</td>\n",
       "      <td>C3</td>\n",
       "    </tr>\n",
       "  </tbody>\n",
       "</table>\n",
       "</div>"
      ],
      "text/plain": [
       "   Customer_id    contact month day_of_week  duration  campaign  pdays  \\\n",
       "0            1  telephone   may         mon       307         1    999   \n",
       "1            2  telephone   may         mon       198         1    999   \n",
       "2            3  telephone   may         mon       139         1    999   \n",
       "3            4  telephone   may         mon       217         1    999   \n",
       "4            5  telephone   may         mon       380         1    999   \n",
       "\n",
       "   previous     poutcome  age          job  marital            education  \\\n",
       "0         0  nonexistent   56     services  married          high.school   \n",
       "1         0  nonexistent   45     services  married             basic.9y   \n",
       "2         0  nonexistent   59       admin.  married  professional.course   \n",
       "3         0  nonexistent   41  blue-collar  married              unknown   \n",
       "4         0  nonexistent   24   technician   single  professional.course   \n",
       "\n",
       "   default housing loan Region_Code State_Code City_Code  \n",
       "0       no      no  yes           3         S1        C1  \n",
       "1  unknown      no   no           3         S1        C1  \n",
       "2       no      no   no           4         S2        C2  \n",
       "3  unknown      no   no           3         S3        C3  \n",
       "4       no     yes   no           3         S3        C3  "
      ]
     },
     "execution_count": 11,
     "metadata": {},
     "output_type": "execute_result"
    }
   ],
   "source": [
    "group=pd.merge(df0,df1,on='Customer_id',how='inner')\n",
    "group\n",
    "group.head()"
   ]
  },
  {
   "cell_type": "markdown",
   "id": "e28ade57",
   "metadata": {},
   "source": [
    "#### analysis on martial status based on poutcome"
   ]
  },
  {
   "cell_type": "code",
   "execution_count": 25,
   "id": "bf2c924e",
   "metadata": {},
   "outputs": [
    {
     "data": {
      "text/plain": [
       "marital   poutcome   \n",
       "divorced  nonexistent     3562\n",
       "          failure          452\n",
       "          success          112\n",
       "married   nonexistent    19674\n",
       "          failure         2146\n",
       "          success          659\n",
       "single    nonexistent     8729\n",
       "          failure         1215\n",
       "          success          463\n",
       "unknown   nonexistent       58\n",
       "          failure            9\n",
       "          success            5\n",
       "Name: poutcome, dtype: int64"
      ]
     },
     "execution_count": 25,
     "metadata": {},
     "output_type": "execute_result"
    }
   ],
   "source": [
    "marital_success=group.groupby('marital')['poutcome'].value_counts()\n",
    "marital_success"
   ]
  },
  {
   "cell_type": "markdown",
   "id": "a889e308",
   "metadata": {},
   "source": [
    "\n",
    "#### calculating percentage on martial status analysis"
   ]
  },
  {
   "cell_type": "code",
   "execution_count": 44,
   "id": "8e279124",
   "metadata": {},
   "outputs": [
    {
     "name": "stdout",
     "output_type": "stream",
     "text": [
      "The percentage turnout of maritalstatus\n"
     ]
    }
   ],
   "source": [
    "print('The percentage turnout of maritalstatus')"
   ]
  },
  {
   "cell_type": "code",
   "execution_count": 45,
   "id": "f97439e8",
   "metadata": {},
   "outputs": [
    {
     "data": {
      "text/plain": [
       "married     60.616438\n",
       "single      28.063316\n",
       "divorced    11.126092\n",
       "unknown      0.194154\n",
       "Name: marital, dtype: float64"
      ]
     },
     "execution_count": 45,
     "metadata": {},
     "output_type": "execute_result"
    }
   ],
   "source": [
    "percent = group['marital'].value_counts()/len(group['marital'])*100\n",
    "percent\n"
   ]
  },
  {
   "cell_type": "markdown",
   "id": "28567a6a",
   "metadata": {},
   "source": [
    "#### analysis on existing loans based on poutcome"
   ]
  },
  {
   "cell_type": "code",
   "execution_count": 47,
   "id": "88a06ded",
   "metadata": {},
   "outputs": [
    {
     "data": {
      "text/plain": [
       "loan     poutcome   \n",
       "no       nonexistent    26389\n",
       "         failure         3141\n",
       "         success         1031\n",
       "unknown  nonexistent      756\n",
       "         failure          101\n",
       "         success           25\n",
       "yes      nonexistent     4878\n",
       "         failure          580\n",
       "         success          183\n",
       "Name: poutcome, dtype: int64"
      ]
     },
     "execution_count": 47,
     "metadata": {},
     "output_type": "execute_result"
    }
   ],
   "source": [
    "loan_success=group.groupby('loan')['poutcome'].value_counts()\n",
    "loan_success"
   ]
  },
  {
   "cell_type": "markdown",
   "id": "d35c82aa",
   "metadata": {},
   "source": [
    "#### calculating percentage on existing analysis"
   ]
  },
  {
   "cell_type": "code",
   "execution_count": 46,
   "id": "3249b1db",
   "metadata": {},
   "outputs": [
    {
     "name": "stdout",
     "output_type": "stream",
     "text": [
      "The percentage turnout of loan\n"
     ]
    }
   ],
   "source": [
    "print('The percentage turnout of loan')"
   ]
  },
  {
   "cell_type": "code",
   "execution_count": 42,
   "id": "689e6fcf",
   "metadata": {},
   "outputs": [
    {
     "data": {
      "text/plain": [
       "no         82.410204\n",
       "yes        15.211412\n",
       "unknown     2.378384\n",
       "Name: loan, dtype: float64"
      ]
     },
     "execution_count": 42,
     "metadata": {},
     "output_type": "execute_result"
    }
   ],
   "source": [
    "percent1 = group['loan'].value_counts()/len(group['loan'])*100\n",
    "percent1"
   ]
  },
  {
   "cell_type": "markdown",
   "id": "c77e4ddd",
   "metadata": {},
   "source": [
    "#### analysis on education based on poutcome"
   ]
  },
  {
   "cell_type": "code",
   "execution_count": 49,
   "id": "e62ad807",
   "metadata": {},
   "outputs": [
    {
     "data": {
      "text/plain": [
       "education            poutcome   \n",
       "basic.4y             nonexistent    3332\n",
       "                     failure         316\n",
       "                     success         117\n",
       "basic.6y             nonexistent    1838\n",
       "                     failure         200\n",
       "                     success          36\n",
       "basic.9y             nonexistent    4764\n",
       "                     failure         563\n",
       "                     success          94\n",
       "high.school          nonexistent    7278\n",
       "                     failure         996\n",
       "                     success         268\n",
       "illiterate           nonexistent      14\n",
       "                     failure           1\n",
       "                     success           1\n",
       "professional.course  nonexistent    4116\n",
       "                     failure         463\n",
       "                     success         167\n",
       "university.degree    nonexistent    9375\n",
       "                     failure        1118\n",
       "                     success         478\n",
       "unknown              nonexistent    1306\n",
       "                     failure         165\n",
       "                     success          78\n",
       "Name: poutcome, dtype: int64"
      ]
     },
     "execution_count": 49,
     "metadata": {},
     "output_type": "execute_result"
    }
   ],
   "source": [
    "education_success=group.groupby('education')['poutcome'].value_counts()\n",
    "education_success"
   ]
  },
  {
   "cell_type": "markdown",
   "id": "79727ed1",
   "metadata": {},
   "source": [
    "#### calculating percentage on education analysis"
   ]
  },
  {
   "cell_type": "code",
   "execution_count": 50,
   "id": "73b21813",
   "metadata": {},
   "outputs": [
    {
     "name": "stdout",
     "output_type": "stream",
     "text": [
      "The percentage turnout of education\n"
     ]
    }
   ],
   "source": [
    "print('The percentage turnout of education')"
   ]
  },
  {
   "cell_type": "code",
   "execution_count": 51,
   "id": "30fe47bb",
   "metadata": {},
   "outputs": [
    {
     "data": {
      "text/plain": [
       "university.degree      29.584187\n",
       "high.school            23.034193\n",
       "basic.9y               14.618164\n",
       "professional.course    12.797972\n",
       "basic.4y               10.152626\n",
       "basic.6y                5.592708\n",
       "unknown                 4.177004\n",
       "illiterate              0.043145\n",
       "Name: education, dtype: float64"
      ]
     },
     "execution_count": 51,
     "metadata": {},
     "output_type": "execute_result"
    }
   ],
   "source": [
    "percent2 = group['education'].value_counts()/len(group['education'])*100\n",
    "percent2"
   ]
  },
  {
   "cell_type": "markdown",
   "id": "47713863",
   "metadata": {},
   "source": [
    "#### analysis on profession based on poutcome"
   ]
  },
  {
   "cell_type": "code",
   "execution_count": 13,
   "id": "92df36c5",
   "metadata": {},
   "outputs": [
    {
     "data": {
      "text/plain": [
       "job            poutcome   \n",
       "admin.         nonexistent    8037\n",
       "               failure         987\n",
       "               success         396\n",
       "blue-collar    nonexistent    7412\n",
       "               failure         800\n",
       "               success         102\n",
       "entrepreneur   nonexistent    1147\n",
       "               failure         140\n",
       "               success          22\n",
       "housemaid      nonexistent     847\n",
       "               failure          64\n",
       "               success          35\n",
       "management     nonexistent    2257\n",
       "               failure         292\n",
       "               success          88\n",
       "retired        nonexistent    1195\n",
       "               failure         203\n",
       "               success         143\n",
       "self-employed  nonexistent    1119\n",
       "               failure         132\n",
       "               success          25\n",
       "services       nonexistent    3088\n",
       "               failure         397\n",
       "               success          62\n",
       "student        nonexistent     519\n",
       "               failure         138\n",
       "               success         110\n",
       "technician     nonexistent    5349\n",
       "               failure         567\n",
       "               success         180\n",
       "unemployed     nonexistent     783\n",
       "               failure          85\n",
       "               success          57\n",
       "unknown        nonexistent     270\n",
       "               success          19\n",
       "               failure          17\n",
       "Name: poutcome, dtype: int64"
      ]
     },
     "execution_count": 13,
     "metadata": {},
     "output_type": "execute_result"
    }
   ],
   "source": [
    "job_success=group.groupby('job')['poutcome'].value_counts()\n",
    "job_success"
   ]
  },
  {
   "cell_type": "markdown",
   "id": "0db77a3f",
   "metadata": {},
   "source": [
    "#### calculating percentage on profession analysis"
   ]
  },
  {
   "cell_type": "code",
   "execution_count": 14,
   "id": "751f1986",
   "metadata": {},
   "outputs": [
    {
     "data": {
      "text/plain": [
       "admin.           25.401791\n",
       "blue-collar      22.419372\n",
       "technician       16.438356\n",
       "services          9.564772\n",
       "management        7.110883\n",
       "retired           4.155431\n",
       "entrepreneur      3.529824\n",
       "self-employed     3.440837\n",
       "housemaid         2.550965\n",
       "unemployed        2.494337\n",
       "student           2.068277\n",
       "unknown           0.825154\n",
       "Name: job, dtype: float64"
      ]
     },
     "execution_count": 14,
     "metadata": {},
     "output_type": "execute_result"
    }
   ],
   "source": [
    "percent4= group['job'].value_counts()/len(group['job'])*100\n",
    "percent4"
   ]
  },
  {
   "cell_type": "markdown",
   "id": "6d674610",
   "metadata": {},
   "source": [
    "#### analysis on housing based on poutcome"
   ]
  },
  {
   "cell_type": "code",
   "execution_count": 53,
   "id": "3d31f44c",
   "metadata": {},
   "outputs": [
    {
     "data": {
      "text/plain": [
       "housing  poutcome   \n",
       "no       nonexistent    14662\n",
       "         failure         1594\n",
       "         success          513\n",
       "unknown  nonexistent      756\n",
       "         failure          101\n",
       "         success           25\n",
       "yes      nonexistent    16605\n",
       "         failure         2127\n",
       "         success          701\n",
       "Name: poutcome, dtype: int64"
      ]
     },
     "execution_count": 53,
     "metadata": {},
     "output_type": "execute_result"
    }
   ],
   "source": [
    "housing_success=group.groupby('housing')['poutcome'].value_counts()\n",
    "housing_success"
   ]
  },
  {
   "cell_type": "markdown",
   "id": "fd3924ea",
   "metadata": {},
   "source": [
    "#### calculating percentage on housing analysis"
   ]
  },
  {
   "cell_type": "code",
   "execution_count": 54,
   "id": "55b52517",
   "metadata": {},
   "outputs": [
    {
     "name": "stdout",
     "output_type": "stream",
     "text": [
      "The percentage turnout of housing\n"
     ]
    }
   ],
   "source": [
    "print('The percentage turnout of housing')"
   ]
  },
  {
   "cell_type": "code",
   "execution_count": 55,
   "id": "44e022d9",
   "metadata": {},
   "outputs": [
    {
     "data": {
      "text/plain": [
       "yes        52.402653\n",
       "no         45.218962\n",
       "unknown     2.378384\n",
       "Name: housing, dtype: float64"
      ]
     },
     "execution_count": 55,
     "metadata": {},
     "output_type": "execute_result"
    }
   ],
   "source": [
    "percent3 = group['housing'].value_counts()/len(group['housing'])*100\n",
    "percent3"
   ]
  },
  {
   "cell_type": "markdown",
   "id": "00863ad9",
   "metadata": {},
   "source": [
    "# 5.Socio-economical analysis of the customers"
   ]
  },
  {
   "cell_type": "code",
   "execution_count": 3,
   "id": "812ed1c2",
   "metadata": {},
   "outputs": [],
   "source": [
    "import pandas as pd\n",
    "import numpy as np\n",
    "from pandas import Series,DataFrame"
   ]
  },
  {
   "cell_type": "markdown",
   "id": "3a4985a1",
   "metadata": {},
   "source": [
    "### Reading the Dataset related to Socio-Economic details of the customers"
   ]
  },
  {
   "cell_type": "code",
   "execution_count": 4,
   "id": "061ff868",
   "metadata": {},
   "outputs": [],
   "source": [
    "SocioEconomicData=pd.read_csv('Customer_social_economic_data_p1.csv') "
   ]
  },
  {
   "cell_type": "markdown",
   "id": "28857ffe",
   "metadata": {},
   "source": [
    "#### Counting the number of employees with Negative and Positive variation rate"
   ]
  },
  {
   "cell_type": "code",
   "execution_count": 5,
   "id": "3ac31262",
   "metadata": {},
   "outputs": [],
   "source": [
    "Neg_Var_rate=SocioEconomicData[SocioEconomicData['emp.var.rate']<0].shape[0]\n",
    "Pos_var_rate=SocioEconomicData[SocioEconomicData['emp.var.rate']>0].shape[0]"
   ]
  },
  {
   "cell_type": "code",
   "execution_count": 18,
   "id": "d81373d9",
   "metadata": {},
   "outputs": [
    {
     "name": "stdout",
     "output_type": "stream",
     "text": [
      "Among the total of  37084  employees\n",
      "The number of employess with negative variation rate is 15486 which is 41.76 %\n",
      "The number of employees with positive variation rate is 21598  which is 58.24 %\n"
     ]
    }
   ],
   "source": [
    "print(\"Among the total of \",Neg_Var_rate+Pos_var_rate,' employees')\n",
    "print(f'The number of employess with negative variation rate is {Neg_Var_rate} which is {round(Neg_Var_rate*100/len(SocioEconomicData),2)} %\\nThe number of employees with positive variation rate is {Pos_var_rate}  which is {round(Pos_var_rate*100/len(SocioEconomicData),2)} %')\n"
   ]
  },
  {
   "cell_type": "code",
   "execution_count": 16,
   "id": "4f36faf1",
   "metadata": {},
   "outputs": [
    {
     "data": {
      "text/html": [
       "<div>\n",
       "<style scoped>\n",
       "    .dataframe tbody tr th:only-of-type {\n",
       "        vertical-align: middle;\n",
       "    }\n",
       "\n",
       "    .dataframe tbody tr th {\n",
       "        vertical-align: top;\n",
       "    }\n",
       "\n",
       "    .dataframe thead th {\n",
       "        text-align: right;\n",
       "    }\n",
       "</style>\n",
       "<table border=\"1\" class=\"dataframe\">\n",
       "  <thead>\n",
       "    <tr style=\"text-align: right;\">\n",
       "      <th></th>\n",
       "      <th>emp.var.rate</th>\n",
       "      <th>cons.price.idx</th>\n",
       "      <th>cons.conf.idx</th>\n",
       "      <th>euribor3m</th>\n",
       "      <th>nr.employed</th>\n",
       "    </tr>\n",
       "  </thead>\n",
       "  <tbody>\n",
       "    <tr>\n",
       "      <th>count</th>\n",
       "      <td>37084.0</td>\n",
       "      <td>37084.0</td>\n",
       "      <td>37084.0</td>\n",
       "      <td>37084.0</td>\n",
       "      <td>37084.0</td>\n",
       "    </tr>\n",
       "    <tr>\n",
       "      <th>mean</th>\n",
       "      <td>0.1</td>\n",
       "      <td>93.6</td>\n",
       "      <td>-40.5</td>\n",
       "      <td>3.6</td>\n",
       "      <td>5167.1</td>\n",
       "    </tr>\n",
       "    <tr>\n",
       "      <th>std</th>\n",
       "      <td>1.6</td>\n",
       "      <td>0.6</td>\n",
       "      <td>4.6</td>\n",
       "      <td>1.7</td>\n",
       "      <td>72.2</td>\n",
       "    </tr>\n",
       "    <tr>\n",
       "      <th>min</th>\n",
       "      <td>-3.4</td>\n",
       "      <td>92.2</td>\n",
       "      <td>-50.8</td>\n",
       "      <td>0.6</td>\n",
       "      <td>4963.6</td>\n",
       "    </tr>\n",
       "    <tr>\n",
       "      <th>25%</th>\n",
       "      <td>-1.8</td>\n",
       "      <td>93.1</td>\n",
       "      <td>-42.7</td>\n",
       "      <td>1.3</td>\n",
       "      <td>5099.1</td>\n",
       "    </tr>\n",
       "    <tr>\n",
       "      <th>50%</th>\n",
       "      <td>1.1</td>\n",
       "      <td>93.7</td>\n",
       "      <td>-41.8</td>\n",
       "      <td>4.9</td>\n",
       "      <td>5191.0</td>\n",
       "    </tr>\n",
       "    <tr>\n",
       "      <th>75%</th>\n",
       "      <td>1.4</td>\n",
       "      <td>94.0</td>\n",
       "      <td>-36.4</td>\n",
       "      <td>5.0</td>\n",
       "      <td>5228.1</td>\n",
       "    </tr>\n",
       "    <tr>\n",
       "      <th>max</th>\n",
       "      <td>1.4</td>\n",
       "      <td>94.8</td>\n",
       "      <td>-26.9</td>\n",
       "      <td>5.0</td>\n",
       "      <td>5228.1</td>\n",
       "    </tr>\n",
       "  </tbody>\n",
       "</table>\n",
       "</div>"
      ],
      "text/plain": [
       "       emp.var.rate  cons.price.idx  cons.conf.idx  euribor3m  nr.employed\n",
       "count       37084.0         37084.0        37084.0    37084.0      37084.0\n",
       "mean            0.1            93.6          -40.5        3.6       5167.1\n",
       "std             1.6             0.6            4.6        1.7         72.2\n",
       "min            -3.4            92.2          -50.8        0.6       4963.6\n",
       "25%            -1.8            93.1          -42.7        1.3       5099.1\n",
       "50%             1.1            93.7          -41.8        4.9       5191.0\n",
       "75%             1.4            94.0          -36.4        5.0       5228.1\n",
       "max             1.4            94.8          -26.9        5.0       5228.1"
      ]
     },
     "execution_count": 16,
     "metadata": {},
     "output_type": "execute_result"
    }
   ],
   "source": [
    "pd.options.display.float_format='{:.1f}'.format\n",
    "SocioEconomicData.describe()"
   ]
  },
  {
   "cell_type": "markdown",
   "id": "00153d08",
   "metadata": {},
   "source": [
    "#### The average consumer price index is 93.6 where the minimum is at 92.2 and maximum at 94.8\n",
    "#### The average consumer confidence index is -40.5 where the minimum is at -50.8 and maximum at -26.9\n",
    "#### The maximum interest for a customer is 5% and the minimum is 0.6%"
   ]
  },
  {
   "cell_type": "code",
   "execution_count": null,
   "id": "010a89c3",
   "metadata": {},
   "outputs": [],
   "source": []
  },
  {
   "cell_type": "markdown",
   "id": "d1a53f45",
   "metadata": {},
   "source": [
    "# 6.Demographic analysis of the marketing campaign using the master files."
   ]
  },
  {
   "cell_type": "markdown",
   "id": "eba475ae",
   "metadata": {},
   "source": [
    "###### Based on the region_names from the Region_code_master csv file:"
   ]
  },
  {
   "cell_type": "code",
   "execution_count": 89,
   "id": "27e51aa7",
   "metadata": {},
   "outputs": [
    {
     "data": {
      "text/plain": [
       "array(['South', 'West', 'Not_Specified', 'Central', 'East'], dtype=object)"
      ]
     },
     "execution_count": 89,
     "metadata": {},
     "output_type": "execute_result"
    }
   ],
   "source": [
    "bank['Region'].unique()"
   ]
  },
  {
   "cell_type": "markdown",
   "id": "baee224e",
   "metadata": {},
   "source": [
    "## What is the count of customers from each location(region):"
   ]
  },
  {
   "cell_type": "markdown",
   "id": "8226cd37",
   "metadata": {},
   "source": [
    "##### Central_region:"
   ]
  },
  {
   "cell_type": "code",
   "execution_count": 88,
   "id": "f9daf247",
   "metadata": {},
   "outputs": [
    {
     "data": {
      "text/plain": [
       "8590"
      ]
     },
     "execution_count": 88,
     "metadata": {},
     "output_type": "execute_result"
    }
   ],
   "source": [
    "Region_central = bank[bank['Region'] == 'Central']\n",
    "round(Region_central['Customer_id'].count(),2)"
   ]
  },
  {
   "cell_type": "markdown",
   "id": "21d3e0e3",
   "metadata": {},
   "source": [
    "##### South_region:"
   ]
  },
  {
   "cell_type": "code",
   "execution_count": 94,
   "id": "63ecd369",
   "metadata": {},
   "outputs": [
    {
     "data": {
      "text/plain": [
       "5992"
      ]
     },
     "execution_count": 94,
     "metadata": {},
     "output_type": "execute_result"
    }
   ],
   "source": [
    "Region_South = bank[bank['Region'] == 'South']\n",
    "round(Region_South['Customer_id'].count(),2)"
   ]
  },
  {
   "cell_type": "markdown",
   "id": "44919f5a",
   "metadata": {},
   "source": [
    "##### West_region:"
   ]
  },
  {
   "cell_type": "code",
   "execution_count": 95,
   "id": "9aae1c2f",
   "metadata": {},
   "outputs": [
    {
     "data": {
      "text/plain": [
       "11884"
      ]
     },
     "execution_count": 95,
     "metadata": {},
     "output_type": "execute_result"
    }
   ],
   "source": [
    "Region_west = bank[bank['Region'] == 'West']\n",
    "round(Region_west['Customer_id'].count(),2)"
   ]
  },
  {
   "cell_type": "markdown",
   "id": "7a5904e2",
   "metadata": {},
   "source": [
    "##### North_region:"
   ]
  },
  {
   "cell_type": "code",
   "execution_count": 90,
   "id": "bbaf8027",
   "metadata": {},
   "outputs": [
    {
     "data": {
      "text/plain": [
       "0"
      ]
     },
     "execution_count": 90,
     "metadata": {},
     "output_type": "execute_result"
    }
   ],
   "source": [
    "Region_north = bank[bank['Region'] == 'North']\n",
    "round(Region_north['Customer_id'].count(),2)"
   ]
  },
  {
   "cell_type": "markdown",
   "id": "aea52d50",
   "metadata": {},
   "source": [
    "Note: As you can see there are no customers from North Region. Thus, no need of analysis of this region."
   ]
  },
  {
   "cell_type": "markdown",
   "id": "8a4f44c1",
   "metadata": {},
   "source": [
    "##### East_region:"
   ]
  },
  {
   "cell_type": "code",
   "execution_count": 91,
   "id": "36fb09d8",
   "metadata": {},
   "outputs": [
    {
     "data": {
      "text/plain": [
       "10558"
      ]
     },
     "execution_count": 91,
     "metadata": {},
     "output_type": "execute_result"
    }
   ],
   "source": [
    "Region_east = bank[bank['Region'] == 'East']\n",
    "round(Region_east['Customer_id'].count(),2)"
   ]
  },
  {
   "cell_type": "markdown",
   "id": "f8e800d1",
   "metadata": {},
   "source": [
    "##### Not_Specified_region:"
   ]
  },
  {
   "cell_type": "code",
   "execution_count": 92,
   "id": "8cf76e54",
   "metadata": {},
   "outputs": [
    {
     "data": {
      "text/plain": [
       "60"
      ]
     },
     "execution_count": 92,
     "metadata": {},
     "output_type": "execute_result"
    }
   ],
   "source": [
    "Region_ns = bank[bank['Region'] == 'Not_Specified']\n",
    "round(Region_ns['Customer_id'].count(),2)"
   ]
  },
  {
   "cell_type": "markdown",
   "id": "f39aed2e",
   "metadata": {},
   "source": [
    "# What Is The Average Age in all the Regions:"
   ]
  },
  {
   "cell_type": "markdown",
   "id": "86ffa42a",
   "metadata": {},
   "source": [
    "#### Central_Region:"
   ]
  },
  {
   "cell_type": "code",
   "execution_count": 10,
   "id": "976d4ef2",
   "metadata": {},
   "outputs": [
    {
     "data": {
      "text/plain": [
       "40.14"
      ]
     },
     "execution_count": 10,
     "metadata": {},
     "output_type": "execute_result"
    }
   ],
   "source": [
    "Region_central = bank[bank['Region'] == 'Central']\n",
    "round(Region_central['age'].mean(),2)"
   ]
  },
  {
   "cell_type": "markdown",
   "id": "ccbf1dda",
   "metadata": {},
   "source": [
    "#### East_Region:"
   ]
  },
  {
   "cell_type": "code",
   "execution_count": 11,
   "id": "c8cb492c",
   "metadata": {},
   "outputs": [
    {
     "data": {
      "text/plain": [
       "40.03"
      ]
     },
     "execution_count": 11,
     "metadata": {},
     "output_type": "execute_result"
    }
   ],
   "source": [
    "Region_east = bank[bank['Region'] == 'East']\n",
    "round(Region_east['age'].mean(),2)"
   ]
  },
  {
   "cell_type": "markdown",
   "id": "5ddb8e45",
   "metadata": {},
   "source": [
    "#### Region not Specified:"
   ]
  },
  {
   "cell_type": "code",
   "execution_count": 12,
   "id": "0def9330",
   "metadata": {},
   "outputs": [
    {
     "data": {
      "text/plain": [
       "39.5"
      ]
     },
     "execution_count": 12,
     "metadata": {},
     "output_type": "execute_result"
    }
   ],
   "source": [
    "Region_Not_specified = bank[bank['Region'] == 'Not_Specified']\n",
    "Region_Not_specified['age'].mean()"
   ]
  },
  {
   "cell_type": "markdown",
   "id": "27ce4bfc",
   "metadata": {},
   "source": [
    "#### South_Region:"
   ]
  },
  {
   "cell_type": "code",
   "execution_count": 13,
   "id": "a5c5d1c2",
   "metadata": {},
   "outputs": [
    {
     "data": {
      "text/plain": [
       "40.08"
      ]
     },
     "execution_count": 13,
     "metadata": {},
     "output_type": "execute_result"
    }
   ],
   "source": [
    "Region_South = bank[bank['Region'] == 'South']\n",
    "round(Region_South['age'].mean(),2)"
   ]
  },
  {
   "cell_type": "markdown",
   "id": "c2691091",
   "metadata": {},
   "source": [
    "#### West_Region:"
   ]
  },
  {
   "cell_type": "code",
   "execution_count": 14,
   "id": "78ca73f5",
   "metadata": {},
   "outputs": [
    {
     "data": {
      "text/plain": [
       "39.97"
      ]
     },
     "execution_count": 14,
     "metadata": {},
     "output_type": "execute_result"
    }
   ],
   "source": [
    "Region_West = bank[bank['Region'] == 'West']\n",
    "round(Region_West['age'].mean(),2)"
   ]
  },
  {
   "cell_type": "markdown",
   "id": "69325566",
   "metadata": {},
   "source": [
    "# What Is The Percentage distribution Of education level In all the Regions?"
   ]
  },
  {
   "cell_type": "code",
   "execution_count": 15,
   "id": "83651aed",
   "metadata": {},
   "outputs": [
    {
     "name": "stdout",
     "output_type": "stream",
     "text": [
      "Percentage distribution of education level of people in Central Region:\n",
      "\n",
      "university.degree      30.128056\n",
      "high.school            22.619325\n",
      "basic.9y               14.388824\n",
      "professional.course    12.805588\n",
      "basic.4y               10.360885\n",
      "basic.6y                5.320140\n",
      "unknown                 4.318976\n",
      "illiterate              0.058207\n",
      "Name: education, dtype: float64\n"
     ]
    }
   ],
   "source": [
    "print(\"Percentage distribution of education level of people in Central Region:\\n\")\n",
    "print(bank[bank['Region']=='Central']['education'].value_counts()/len(bank[bank['Region']=='Central']['education'])*100)"
   ]
  },
  {
   "cell_type": "code",
   "execution_count": 16,
   "id": "4ebf1883",
   "metadata": {},
   "outputs": [
    {
     "name": "stdout",
     "output_type": "stream",
     "text": [
      "Percentage distribution of education level of people in West Region:\n",
      "\n",
      "university.degree      29.510266\n",
      "high.school            23.056210\n",
      "basic.9y               14.835072\n",
      "professional.course    12.722989\n",
      "basic.4y               10.114440\n",
      "basic.6y                5.503198\n",
      "unknown                 4.224167\n",
      "illiterate              0.033659\n",
      "Name: education, dtype: float64\n"
     ]
    }
   ],
   "source": [
    "print(\"Percentage distribution of education level of people in West Region:\\n\")\n",
    "print(bank[bank['Region']=='West']['education'].value_counts()/len(bank[bank['Region']=='West']['education'])*100)"
   ]
  },
  {
   "cell_type": "code",
   "execution_count": 37,
   "id": "1d3fdae5",
   "metadata": {},
   "outputs": [
    {
     "name": "stdout",
     "output_type": "stream",
     "text": [
      "Percentage distribution of education level of people in East Region:\n",
      "\n",
      "university.degree      29.143777\n",
      "high.school            23.167267\n",
      "basic.9y               14.728168\n",
      "professional.course    12.947528\n",
      "basic.4y                9.859822\n",
      "basic.6y                5.843910\n",
      "unknown                 4.262171\n",
      "illiterate              0.047357\n",
      "Name: education, dtype: float64\n"
     ]
    }
   ],
   "source": [
    "print(\"Percentage distribution of education level of people in East Region:\\n\")\n",
    "print(bank[bank['Region']=='East']['education'].value_counts()/len(bank[bank['Region']=='East']['education'])*100)"
   ]
  },
  {
   "cell_type": "code",
   "execution_count": 38,
   "id": "9f46abc5",
   "metadata": {},
   "outputs": [
    {
     "name": "stdout",
     "output_type": "stream",
     "text": [
      "Percentage distribution of education level of people in South Region:\n",
      "\n",
      "university.degree      29.672897\n",
      "high.school            23.431242\n",
      "basic.9y               14.352470\n",
      "professional.course    12.733645\n",
      "basic.4y               10.397196\n",
      "basic.6y                5.690921\n",
      "unknown                 3.688251\n",
      "illiterate              0.033378\n",
      "Name: education, dtype: float64\n"
     ]
    }
   ],
   "source": [
    "print(\"Percentage distribution of education level of people in South Region:\\n\")\n",
    "print(bank[bank['Region']=='South']['education'].value_counts()/len(bank[bank['Region']=='South']['education'])*100)"
   ]
  },
  {
   "cell_type": "code",
   "execution_count": 39,
   "id": "df0e1bbf",
   "metadata": {},
   "outputs": [
    {
     "name": "stdout",
     "output_type": "stream",
     "text": [
      "Percentage distribution of education level of people in Not_specified Region:\n",
      "\n",
      "university.degree      35.000000\n",
      "basic.4y               15.000000\n",
      "high.school            15.000000\n",
      "basic.9y               11.666667\n",
      "basic.6y                8.333333\n",
      "unknown                 8.333333\n",
      "professional.course     6.666667\n",
      "Name: education, dtype: float64\n"
     ]
    }
   ],
   "source": [
    "print(\"Percentage distribution of education level of people in Not_specified Region:\\n\")\n",
    "print(bank[bank['Region']=='Not_Specified']['education'].value_counts()/len(bank[bank['Region']=='Not_Specified']['education'])*100)"
   ]
  },
  {
   "cell_type": "markdown",
   "id": "3691cfa4",
   "metadata": {},
   "source": [
    "# What Is The Percentage distribution Of jobs In all the Regions?"
   ]
  },
  {
   "cell_type": "code",
   "execution_count": 65,
   "id": "7db5e0a9",
   "metadata": {},
   "outputs": [
    {
     "name": "stdout",
     "output_type": "stream",
     "text": [
      "Percentage distribution of jobs of people in Central Region:\n",
      "\n",
      "admin.           25.715949\n",
      "blue-collar      21.781141\n",
      "technician       16.903376\n",
      "services          9.045402\n",
      "management        7.427241\n",
      "retired           4.516880\n",
      "self-employed     3.410943\n",
      "entrepreneur      3.294529\n",
      "housemaid         2.828871\n",
      "unemployed        2.409779\n",
      "student           1.757858\n",
      "unknown           0.908033\n",
      "Name: job, dtype: float64\n"
     ]
    }
   ],
   "source": [
    "print(\"Percentage distribution of jobs of people in Central Region:\\n\")\n",
    "print(bank[bank['Region']=='Central']['job'].value_counts()/len(bank[bank['Region']=='Central']['job'])*100)"
   ]
  },
  {
   "cell_type": "code",
   "execution_count": 66,
   "id": "1401c865",
   "metadata": {},
   "outputs": [
    {
     "name": "stdout",
     "output_type": "stream",
     "text": [
      "Percentage distribution of jobs of people in West Region:\n",
      "\n",
      "admin.           25.412319\n",
      "blue-collar      22.214743\n",
      "technician       16.189835\n",
      "services          9.634803\n",
      "management        6.933692\n",
      "retired           4.081117\n",
      "entrepreneur      3.862336\n",
      "self-employed     3.500505\n",
      "housemaid         2.532817\n",
      "unemployed        2.457085\n",
      "student           2.381353\n",
      "unknown           0.799394\n",
      "Name: job, dtype: float64\n"
     ]
    }
   ],
   "source": [
    "print(\"Percentage distribution of jobs of people in West Region:\\n\")\n",
    "print(bank[bank['Region']=='West']['job'].value_counts()/len(bank[bank['Region']=='West']['job'])*100)"
   ]
  },
  {
   "cell_type": "code",
   "execution_count": 67,
   "id": "d6a86d6c",
   "metadata": {},
   "outputs": [
    {
     "name": "stdout",
     "output_type": "stream",
     "text": [
      "Percentage distribution of jobs of people in South Region:\n",
      "\n",
      "admin.           25.033378\n",
      "blue-collar      23.230975\n",
      "technician       15.987984\n",
      "services          9.963284\n",
      "management        6.859146\n",
      "retired           4.155541\n",
      "entrepreneur      3.421228\n",
      "self-employed     3.421228\n",
      "unemployed        2.503338\n",
      "housemaid         2.419893\n",
      "student           2.303071\n",
      "unknown           0.700935\n",
      "Name: job, dtype: float64\n"
     ]
    }
   ],
   "source": [
    "print(\"Percentage distribution of jobs of people in South Region:\\n\")\n",
    "print(bank[bank['Region']=='South']['job'].value_counts()/len(bank[bank['Region']=='South']['job'])*100)"
   ]
  },
  {
   "cell_type": "code",
   "execution_count": 68,
   "id": "b2f31766",
   "metadata": {},
   "outputs": [
    {
     "name": "stdout",
     "output_type": "stream",
     "text": [
      "Percentage distribution of jobs of people in Not_Specified Region:\n",
      "\n",
      "blue-collar      28.333333\n",
      "admin.           28.333333\n",
      "technician       15.000000\n",
      "services          8.333333\n",
      "housemaid         6.666667\n",
      "entrepreneur      3.333333\n",
      "self-employed     3.333333\n",
      "management        3.333333\n",
      "retired           3.333333\n",
      "Name: job, dtype: float64\n"
     ]
    }
   ],
   "source": [
    "print(\"Percentage distribution of jobs of people in Not_Specified Region:\\n\")\n",
    "print(bank[bank['Region']=='Not_Specified']['job'].value_counts()/len(bank[bank['Region']=='Not_Specified']['job'])*100)"
   ]
  },
  {
   "cell_type": "code",
   "execution_count": 69,
   "id": "85c0038f",
   "metadata": {},
   "outputs": [
    {
     "name": "stdout",
     "output_type": "stream",
     "text": [
      "Percentage distribution of jobs of people in East Region:\n",
      "\n",
      "admin.           25.326766\n",
      "blue-collar      22.674749\n",
      "technician       16.603523\n",
      "services          9.689335\n",
      "management        7.217276\n",
      "retired           3.949612\n",
      "entrepreneur      3.409737\n",
      "self-employed     3.409737\n",
      "unemployed        2.614131\n",
      "housemaid         2.396287\n",
      "student           1.846941\n",
      "unknown           0.861906\n",
      "Name: job, dtype: float64\n"
     ]
    }
   ],
   "source": [
    "print(\"Percentage distribution of jobs of people in East Region:\\n\")\n",
    "print(bank[bank['Region']=='East']['job'].value_counts()/len(bank[bank['Region']=='East']['job'])*100)"
   ]
  },
  {
   "cell_type": "markdown",
   "id": "58f2aa3b",
   "metadata": {},
   "source": [
    "# What Is The Percentage distribution Of ages In all the Regions?"
   ]
  },
  {
   "cell_type": "code",
   "execution_count": 106,
   "id": "61b2cecd",
   "metadata": {},
   "outputs": [
    {
     "name": "stdout",
     "output_type": "stream",
     "text": [
      "Percentage distribution of ages of people in Central Region:\n",
      "\n"
     ]
    },
    {
     "data": {
      "text/html": [
       "<div>\n",
       "<style scoped>\n",
       "    .dataframe tbody tr th:only-of-type {\n",
       "        vertical-align: middle;\n",
       "    }\n",
       "\n",
       "    .dataframe tbody tr th {\n",
       "        vertical-align: top;\n",
       "    }\n",
       "\n",
       "    .dataframe thead th {\n",
       "        text-align: right;\n",
       "    }\n",
       "</style>\n",
       "<table border=\"1\" class=\"dataframe\">\n",
       "  <thead>\n",
       "    <tr style=\"text-align: right;\">\n",
       "      <th></th>\n",
       "      <th>age</th>\n",
       "    </tr>\n",
       "  </thead>\n",
       "  <tbody>\n",
       "    <tr>\n",
       "      <th>31</th>\n",
       "      <td>4.959255</td>\n",
       "    </tr>\n",
       "    <tr>\n",
       "      <th>32</th>\n",
       "      <td>4.784633</td>\n",
       "    </tr>\n",
       "    <tr>\n",
       "      <th>35</th>\n",
       "      <td>4.412107</td>\n",
       "    </tr>\n",
       "    <tr>\n",
       "      <th>36</th>\n",
       "      <td>4.353900</td>\n",
       "    </tr>\n",
       "    <tr>\n",
       "      <th>34</th>\n",
       "      <td>4.225844</td>\n",
       "    </tr>\n",
       "    <tr>\n",
       "      <th>...</th>\n",
       "      <td>...</td>\n",
       "    </tr>\n",
       "    <tr>\n",
       "      <th>91</th>\n",
       "      <td>0.011641</td>\n",
       "    </tr>\n",
       "    <tr>\n",
       "      <th>94</th>\n",
       "      <td>0.011641</td>\n",
       "    </tr>\n",
       "    <tr>\n",
       "      <th>84</th>\n",
       "      <td>0.011641</td>\n",
       "    </tr>\n",
       "    <tr>\n",
       "      <th>89</th>\n",
       "      <td>0.011641</td>\n",
       "    </tr>\n",
       "    <tr>\n",
       "      <th>95</th>\n",
       "      <td>0.011641</td>\n",
       "    </tr>\n",
       "  </tbody>\n",
       "</table>\n",
       "<p>75 rows × 1 columns</p>\n",
       "</div>"
      ],
      "text/plain": [
       "         age\n",
       "31  4.959255\n",
       "32  4.784633\n",
       "35  4.412107\n",
       "36  4.353900\n",
       "34  4.225844\n",
       "..       ...\n",
       "91  0.011641\n",
       "94  0.011641\n",
       "84  0.011641\n",
       "89  0.011641\n",
       "95  0.011641\n",
       "\n",
       "[75 rows x 1 columns]"
      ]
     },
     "execution_count": 106,
     "metadata": {},
     "output_type": "execute_result"
    }
   ],
   "source": [
    "print(\"Percentage distribution of ages of people in Central Region:\\n\")\n",
    "df= pd.DataFrame(bank[bank['Region']=='Central']['age'].value_counts()/len(bank[bank['Region']=='Central']['age'])*100)\n",
    "df\n"
   ]
  },
  {
   "cell_type": "code",
   "execution_count": 91,
   "id": "f7998614",
   "metadata": {},
   "outputs": [
    {
     "name": "stdout",
     "output_type": "stream",
     "text": [
      "Percentage distribution of ages of people in West Region:\n",
      "\n",
      "36    4.720633\n",
      "33    4.661730\n",
      "31    4.510266\n",
      "32    4.434534\n",
      "30    4.358802\n",
      "        ...   \n",
      "84    0.016829\n",
      "92    0.008415\n",
      "98    0.008415\n",
      "17    0.008415\n",
      "91    0.008415\n",
      "Name: age, Length: 74, dtype: float64\n"
     ]
    }
   ],
   "source": [
    "print(\"Percentage distribution of ages of people in West Region:\\n\")\n",
    "print(bank[bank['Region']=='West']['age'].value_counts()/len(bank[bank['Region']=='West']['age'])*100)"
   ]
  },
  {
   "cell_type": "code",
   "execution_count": 92,
   "id": "0015f96a",
   "metadata": {},
   "outputs": [
    {
     "name": "stdout",
     "output_type": "stream",
     "text": [
      "Percentage distribution of ages of people in South Region:\n",
      "\n",
      "31    4.606142\n",
      "34    4.539386\n",
      "33    4.439252\n",
      "32    4.172230\n",
      "36    4.172230\n",
      "        ...   \n",
      "82    0.016689\n",
      "89    0.016689\n",
      "85    0.016689\n",
      "84    0.016689\n",
      "83    0.016689\n",
      "Name: age, Length: 72, dtype: float64\n"
     ]
    }
   ],
   "source": [
    "print(\"Percentage distribution of ages of people in South Region:\\n\")\n",
    "print(bank[bank['Region']=='South']['age'].value_counts()/len(bank[bank['Region']=='South']['age'])*100)"
   ]
  },
  {
   "cell_type": "code",
   "execution_count": 107,
   "id": "9c748e98",
   "metadata": {},
   "outputs": [
    {
     "name": "stdout",
     "output_type": "stream",
     "text": [
      "Percentage distribution of ages of people in Not_Specified Region:\n",
      "\n",
      "38    10.000000\n",
      "33     6.666667\n",
      "27     6.666667\n",
      "42     6.666667\n",
      "40     5.000000\n",
      "31     5.000000\n",
      "29     5.000000\n",
      "47     3.333333\n",
      "46     3.333333\n",
      "43     3.333333\n",
      "41     3.333333\n",
      "30     3.333333\n",
      "37     3.333333\n",
      "35     3.333333\n",
      "34     3.333333\n",
      "32     3.333333\n",
      "55     3.333333\n",
      "58     1.666667\n",
      "54     1.666667\n",
      "59     1.666667\n",
      "57     1.666667\n",
      "56     1.666667\n",
      "26     1.666667\n",
      "53     1.666667\n",
      "51     1.666667\n",
      "48     1.666667\n",
      "45     1.666667\n",
      "39     1.666667\n",
      "28     1.666667\n",
      "60     1.666667\n",
      "Name: age, dtype: float64\n"
     ]
    }
   ],
   "source": [
    "print(\"Percentage distribution of ages of people in Not_Specified Region:\\n\")\n",
    "print(bank[bank['Region']=='Not_Specified']['age'].value_counts()/len(bank[bank['Region']=='Not_Specified']['age'])*100)"
   ]
  },
  {
   "cell_type": "code",
   "execution_count": 108,
   "id": "4fa70537",
   "metadata": {},
   "outputs": [
    {
     "name": "stdout",
     "output_type": "stream",
     "text": [
      "Percentage distribution of ages of people in East Region:\n",
      "\n",
      "31    4.925175\n",
      "33    4.593673\n",
      "34    4.375829\n",
      "32    4.300057\n",
      "35    4.252699\n",
      "        ...   \n",
      "74    0.018943\n",
      "17    0.018943\n",
      "81    0.018943\n",
      "80    0.009471\n",
      "79    0.009471\n",
      "Name: age, Length: 72, dtype: float64\n"
     ]
    }
   ],
   "source": [
    "print(\"Percentage distribution of ages of people in East Region:\\n\")\n",
    "print(bank[bank['Region']=='East']['age'].value_counts()/len(bank[bank['Region']=='East']['age'])*100)"
   ]
  },
  {
   "cell_type": "markdown",
   "id": "a70b2d61",
   "metadata": {},
   "source": [
    "# What Is The Percentage distribution Of marital status In all the Regions?"
   ]
  },
  {
   "cell_type": "code",
   "execution_count": 136,
   "id": "cdb8deaa",
   "metadata": {},
   "outputs": [
    {
     "name": "stdout",
     "output_type": "stream",
     "text": [
      "Percentage distribution of marital status of people in Central Region:\n",
      "\n",
      "married     60.838184\n",
      "single      27.916182\n",
      "divorced    11.047730\n",
      "unknown      0.197905\n",
      "Name: marital, dtype: float64\n"
     ]
    }
   ],
   "source": [
    "print(\"Percentage distribution of marital status of people in Central Region:\\n\")\n",
    "print(bank[bank['Region']=='Central']['marital'].value_counts()/len(bank[bank['Region']=='Central']['marital'])*100)"
   ]
  },
  {
   "cell_type": "code",
   "execution_count": 137,
   "id": "77cd2c2f",
   "metadata": {
    "scrolled": true
   },
   "outputs": [
    {
     "name": "stdout",
     "output_type": "stream",
     "text": [
      "Percentage distribution of marital status of people in West Region:\n",
      "\n",
      "married     59.971390\n",
      "single      28.660384\n",
      "divorced    11.191518\n",
      "unknown      0.176708\n",
      "Name: marital, dtype: float64\n"
     ]
    }
   ],
   "source": [
    "print(\"Percentage distribution of marital status of people in West Region:\\n\")\n",
    "print(bank[bank['Region']=='West']['marital'].value_counts()/len(bank[bank['Region']=='West']['marital'])*100)"
   ]
  },
  {
   "cell_type": "code",
   "execution_count": 138,
   "id": "fc4b4501",
   "metadata": {},
   "outputs": [
    {
     "name": "stdout",
     "output_type": "stream",
     "text": [
      "Percentage distribution of marital status of people in East Region:\n",
      "\n",
      "married     60.996401\n",
      "single      27.675696\n",
      "divorced    11.110059\n",
      "unknown      0.217844\n",
      "Name: marital, dtype: float64\n"
     ]
    }
   ],
   "source": [
    "print(\"Percentage distribution of marital status of people in East Region:\\n\")\n",
    "print(bank[bank['Region']=='East']['marital'].value_counts()/len(bank[bank['Region']=='East']['marital'])*100)"
   ]
  },
  {
   "cell_type": "code",
   "execution_count": 139,
   "id": "9efb1c23",
   "metadata": {},
   "outputs": [
    {
     "name": "stdout",
     "output_type": "stream",
     "text": [
      "Percentage distribution of marital status of people in Not_Specidied Region:\n",
      "\n",
      "married     53.333333\n",
      "single      28.333333\n",
      "divorced    18.333333\n",
      "Name: marital, dtype: float64\n"
     ]
    }
   ],
   "source": [
    "print(\"Percentage distribution of marital status of people in Not_Specidied Region:\\n\")\n",
    "print(bank[bank['Region']=='Not_Specified']['marital'].value_counts()/len(bank[bank['Region']=='Not_Specified']['marital'])*100)"
   ]
  },
  {
   "cell_type": "code",
   "execution_count": 140,
   "id": "7749e338",
   "metadata": {},
   "outputs": [
    {
     "name": "stdout",
     "output_type": "stream",
     "text": [
      "Percentage distribution of marital status of people in South Region:\n",
      "\n",
      "married     60.981308\n",
      "single      27.770360\n",
      "divorced    11.064753\n",
      "unknown      0.183578\n",
      "Name: marital, dtype: float64\n"
     ]
    }
   ],
   "source": [
    "print(\"Percentage distribution of marital status of people in South Region:\\n\")\n",
    "print(bank[bank['Region']=='South']['marital'].value_counts()/len(bank[bank['Region']=='South']['marital'])*100)"
   ]
  }
 ],
 "metadata": {
  "kernelspec": {
   "display_name": "Python 3",
   "language": "python",
   "name": "python3"
  },
  "language_info": {
   "codemirror_mode": {
    "name": "ipython",
    "version": 3
   },
   "file_extension": ".py",
   "mimetype": "text/x-python",
   "name": "python",
   "nbconvert_exporter": "python",
   "pygments_lexer": "ipython3",
   "version": "3.8.8"
  }
 },
 "nbformat": 4,
 "nbformat_minor": 5
}
