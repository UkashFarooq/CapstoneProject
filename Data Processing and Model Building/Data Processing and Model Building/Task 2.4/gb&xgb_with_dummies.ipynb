{
 "cells": [
  {
   "cell_type": "code",
   "execution_count": 1,
   "id": "8bdb247c",
   "metadata": {},
   "outputs": [],
   "source": [
    "import os\n",
    "\n",
    "import pandas as pd\n",
    "import numpy as np\n",
    "import matplotlib.pyplot as plt\n",
    "%matplotlib inline\n",
    "import seaborn as sns\n",
    "import warnings\n",
    "warnings.filterwarnings('ignore')\n",
    "from matplotlib import style\n",
    "style.use(\"classic\")\n",
    "\n",
    "## Reading ,merging  and understanding the required dataset\n",
    "\n",
    "df1=pd.read_csv('Customer_and_bank details_p1.csv')\n",
    "df2=pd.read_csv('Customer_campaign_details_p1.csv')\n",
    "df3=pd.read_csv('Customer_Postal_Code_details.csv')\n",
    "df4=pd.read_csv('Customer_Response_data_p1.csv')\n",
    "df5=pd.read_csv('Customer_social_economic_data_p1.csv')\n",
    "region=pd.read_csv(\"Region_code_master.csv\")\n",
    "city=pd.read_csv(\"City_Master.csv\")\n",
    "state=pd.read_csv(\"State_Master.csv\")\n",
    "df3=df3.rename({'customer_id':'Customer_id'},axis='columns')\n",
    "df6=pd.merge(df1,df2, on='Customer_id', how='inner')\n",
    "df7=pd.merge(df4,df5, on='Customer_id', how='inner')\n",
    "df8=pd.merge(df6,df7, on='Customer_id', how='inner')\n",
    "df=pd.merge(df8,df3,on='Customer_id' ,how='inner')\n",
    "df=pd.merge(df,state,on='State_Code')\n",
    "df=pd.merge(df,city,on='City_Code')\n",
    "df=df.drop(['State_Code_y','Region_Code_y'],axis=1)\n",
    "df=df.rename({'Region_Code_x':'Region_Code','State_Code_x':'State_Code','y':'Response_Target'},axis=1)\n",
    "df1=pd.merge(state,region,on=\"Region_Code\")\n",
    "df=pd.merge(df,df1,on='State_Code')\n",
    "df=df.drop(['State_Name_y','Region_Code_y'],axis=1)\n",
    "df_data=df.drop(['Customer_id','Region_Code_x','State_Code','City_Code','Postal Code'],axis=1)\n",
    "df_data['Response_Target']=df_data['Response_Target'].map(lambda x:1 if x=='yes' else 0)\n",
    "\n"
   ]
  },
  {
   "cell_type": "code",
   "execution_count": 2,
   "id": "d3625f69",
   "metadata": {},
   "outputs": [],
   "source": [
    "def con(x):\n",
    "    if x==999:\n",
    "        return 'no'\n",
    "    else:\n",
    "        return 'yes'\n",
    "\n",
    "df_data['pdays']=df_data['pdays'].map(con)"
   ]
  },
  {
   "cell_type": "code",
   "execution_count": 3,
   "id": "e95fe164",
   "metadata": {},
   "outputs": [],
   "source": [
    "def get_duration(x):\n",
    "    if 0<x<200:\n",
    "        return 'LOW'\n",
    "    elif 200<=x<700:\n",
    "        return 'MEDIUM'\n",
    "    else:\n",
    "        return 'HIGH'\n",
    "df_data['duration']=df_data.duration.map(get_duration)"
   ]
  },
  {
   "cell_type": "code",
   "execution_count": 4,
   "id": "33821967",
   "metadata": {},
   "outputs": [],
   "source": [
    "age_median=df_data.age.median()\n",
    "campaign_median=df_data.campaign.median()\n",
    "\n",
    "df_data['age'].loc[(df_data['age']>df_data.age.quantile(0.99))]=age_median\n",
    "df_data['campaign'].loc[(df_data['campaign']>df_data.campaign.quantile(0.99))]=campaign_median"
   ]
  },
  {
   "cell_type": "code",
   "execution_count": 5,
   "id": "4fb77fe3",
   "metadata": {},
   "outputs": [
    {
     "data": {
      "text/html": [
       "<div>\n",
       "<style scoped>\n",
       "    .dataframe tbody tr th:only-of-type {\n",
       "        vertical-align: middle;\n",
       "    }\n",
       "\n",
       "    .dataframe tbody tr th {\n",
       "        vertical-align: top;\n",
       "    }\n",
       "\n",
       "    .dataframe thead th {\n",
       "        text-align: right;\n",
       "    }\n",
       "</style>\n",
       "<table border=\"1\" class=\"dataframe\">\n",
       "  <thead>\n",
       "    <tr style=\"text-align: right;\">\n",
       "      <th></th>\n",
       "      <th>age</th>\n",
       "      <th>job</th>\n",
       "      <th>marital</th>\n",
       "      <th>education</th>\n",
       "      <th>default</th>\n",
       "      <th>housing</th>\n",
       "      <th>loan</th>\n",
       "      <th>contact</th>\n",
       "      <th>month</th>\n",
       "      <th>day_of_week</th>\n",
       "      <th>...</th>\n",
       "      <th>poutcome</th>\n",
       "      <th>Response_Target</th>\n",
       "      <th>emp.var.rate</th>\n",
       "      <th>cons.price.idx</th>\n",
       "      <th>cons.conf.idx</th>\n",
       "      <th>euribor3m</th>\n",
       "      <th>nr.employed</th>\n",
       "      <th>State_Name_x</th>\n",
       "      <th>City_Name</th>\n",
       "      <th>Region_Name</th>\n",
       "    </tr>\n",
       "  </thead>\n",
       "  <tbody>\n",
       "    <tr>\n",
       "      <th>0</th>\n",
       "      <td>56</td>\n",
       "      <td>services</td>\n",
       "      <td>married</td>\n",
       "      <td>high.school</td>\n",
       "      <td>no</td>\n",
       "      <td>no</td>\n",
       "      <td>yes</td>\n",
       "      <td>telephone</td>\n",
       "      <td>may</td>\n",
       "      <td>mon</td>\n",
       "      <td>...</td>\n",
       "      <td>nonexistent</td>\n",
       "      <td>0</td>\n",
       "      <td>1.1</td>\n",
       "      <td>93.994</td>\n",
       "      <td>-36.4</td>\n",
       "      <td>4.857</td>\n",
       "      <td>5191.0</td>\n",
       "      <td>Kentucky</td>\n",
       "      <td>Henderson</td>\n",
       "      <td>South</td>\n",
       "    </tr>\n",
       "    <tr>\n",
       "      <th>1</th>\n",
       "      <td>45</td>\n",
       "      <td>services</td>\n",
       "      <td>married</td>\n",
       "      <td>basic.9y</td>\n",
       "      <td>unknown</td>\n",
       "      <td>no</td>\n",
       "      <td>no</td>\n",
       "      <td>telephone</td>\n",
       "      <td>may</td>\n",
       "      <td>mon</td>\n",
       "      <td>...</td>\n",
       "      <td>nonexistent</td>\n",
       "      <td>0</td>\n",
       "      <td>1.1</td>\n",
       "      <td>93.994</td>\n",
       "      <td>-36.4</td>\n",
       "      <td>4.857</td>\n",
       "      <td>5191.0</td>\n",
       "      <td>Kentucky</td>\n",
       "      <td>Henderson</td>\n",
       "      <td>South</td>\n",
       "    </tr>\n",
       "    <tr>\n",
       "      <th>2</th>\n",
       "      <td>32</td>\n",
       "      <td>admin.</td>\n",
       "      <td>single</td>\n",
       "      <td>university.degree</td>\n",
       "      <td>no</td>\n",
       "      <td>no</td>\n",
       "      <td>no</td>\n",
       "      <td>telephone</td>\n",
       "      <td>may</td>\n",
       "      <td>tue</td>\n",
       "      <td>...</td>\n",
       "      <td>nonexistent</td>\n",
       "      <td>0</td>\n",
       "      <td>1.1</td>\n",
       "      <td>93.994</td>\n",
       "      <td>-36.4</td>\n",
       "      <td>4.857</td>\n",
       "      <td>5191.0</td>\n",
       "      <td>Kentucky</td>\n",
       "      <td>Henderson</td>\n",
       "      <td>South</td>\n",
       "    </tr>\n",
       "    <tr>\n",
       "      <th>3</th>\n",
       "      <td>36</td>\n",
       "      <td>services</td>\n",
       "      <td>married</td>\n",
       "      <td>high.school</td>\n",
       "      <td>no</td>\n",
       "      <td>no</td>\n",
       "      <td>no</td>\n",
       "      <td>telephone</td>\n",
       "      <td>may</td>\n",
       "      <td>tue</td>\n",
       "      <td>...</td>\n",
       "      <td>nonexistent</td>\n",
       "      <td>0</td>\n",
       "      <td>1.1</td>\n",
       "      <td>93.994</td>\n",
       "      <td>-36.4</td>\n",
       "      <td>4.857</td>\n",
       "      <td>5191.0</td>\n",
       "      <td>Kentucky</td>\n",
       "      <td>Henderson</td>\n",
       "      <td>South</td>\n",
       "    </tr>\n",
       "    <tr>\n",
       "      <th>4</th>\n",
       "      <td>31</td>\n",
       "      <td>blue-collar</td>\n",
       "      <td>married</td>\n",
       "      <td>basic.9y</td>\n",
       "      <td>no</td>\n",
       "      <td>no</td>\n",
       "      <td>no</td>\n",
       "      <td>telephone</td>\n",
       "      <td>may</td>\n",
       "      <td>wed</td>\n",
       "      <td>...</td>\n",
       "      <td>nonexistent</td>\n",
       "      <td>0</td>\n",
       "      <td>1.1</td>\n",
       "      <td>93.994</td>\n",
       "      <td>-36.4</td>\n",
       "      <td>4.856</td>\n",
       "      <td>5191.0</td>\n",
       "      <td>Kentucky</td>\n",
       "      <td>Henderson</td>\n",
       "      <td>South</td>\n",
       "    </tr>\n",
       "    <tr>\n",
       "      <th>...</th>\n",
       "      <td>...</td>\n",
       "      <td>...</td>\n",
       "      <td>...</td>\n",
       "      <td>...</td>\n",
       "      <td>...</td>\n",
       "      <td>...</td>\n",
       "      <td>...</td>\n",
       "      <td>...</td>\n",
       "      <td>...</td>\n",
       "      <td>...</td>\n",
       "      <td>...</td>\n",
       "      <td>...</td>\n",
       "      <td>...</td>\n",
       "      <td>...</td>\n",
       "      <td>...</td>\n",
       "      <td>...</td>\n",
       "      <td>...</td>\n",
       "      <td>...</td>\n",
       "      <td>...</td>\n",
       "      <td>...</td>\n",
       "      <td>...</td>\n",
       "    </tr>\n",
       "    <tr>\n",
       "      <th>37079</th>\n",
       "      <td>37</td>\n",
       "      <td>housemaid</td>\n",
       "      <td>divorced</td>\n",
       "      <td>high.school</td>\n",
       "      <td>no</td>\n",
       "      <td>no</td>\n",
       "      <td>no</td>\n",
       "      <td>cellular</td>\n",
       "      <td>sep</td>\n",
       "      <td>wed</td>\n",
       "      <td>...</td>\n",
       "      <td>nonexistent</td>\n",
       "      <td>0</td>\n",
       "      <td>-3.4</td>\n",
       "      <td>92.379</td>\n",
       "      <td>-29.8</td>\n",
       "      <td>0.753</td>\n",
       "      <td>5017.5</td>\n",
       "      <td>North Dakota</td>\n",
       "      <td>Fargo</td>\n",
       "      <td>Central</td>\n",
       "    </tr>\n",
       "    <tr>\n",
       "      <th>37080</th>\n",
       "      <td>58</td>\n",
       "      <td>unknown</td>\n",
       "      <td>married</td>\n",
       "      <td>basic.4y</td>\n",
       "      <td>no</td>\n",
       "      <td>yes</td>\n",
       "      <td>no</td>\n",
       "      <td>telephone</td>\n",
       "      <td>may</td>\n",
       "      <td>wed</td>\n",
       "      <td>...</td>\n",
       "      <td>nonexistent</td>\n",
       "      <td>0</td>\n",
       "      <td>1.1</td>\n",
       "      <td>93.994</td>\n",
       "      <td>-36.4</td>\n",
       "      <td>4.857</td>\n",
       "      <td>5191.0</td>\n",
       "      <td>Wyoming</td>\n",
       "      <td>Cheyenne</td>\n",
       "      <td>West</td>\n",
       "    </tr>\n",
       "    <tr>\n",
       "      <th>37081</th>\n",
       "      <td>43</td>\n",
       "      <td>unemployed</td>\n",
       "      <td>divorced</td>\n",
       "      <td>basic.9y</td>\n",
       "      <td>no</td>\n",
       "      <td>no</td>\n",
       "      <td>no</td>\n",
       "      <td>cellular</td>\n",
       "      <td>jul</td>\n",
       "      <td>mon</td>\n",
       "      <td>...</td>\n",
       "      <td>nonexistent</td>\n",
       "      <td>0</td>\n",
       "      <td>1.4</td>\n",
       "      <td>93.918</td>\n",
       "      <td>-42.7</td>\n",
       "      <td>4.962</td>\n",
       "      <td>5228.1</td>\n",
       "      <td>Wyoming</td>\n",
       "      <td>Cheyenne</td>\n",
       "      <td>West</td>\n",
       "    </tr>\n",
       "    <tr>\n",
       "      <th>37082</th>\n",
       "      <td>37</td>\n",
       "      <td>admin.</td>\n",
       "      <td>single</td>\n",
       "      <td>high.school</td>\n",
       "      <td>no</td>\n",
       "      <td>no</td>\n",
       "      <td>no</td>\n",
       "      <td>cellular</td>\n",
       "      <td>apr</td>\n",
       "      <td>thu</td>\n",
       "      <td>...</td>\n",
       "      <td>failure</td>\n",
       "      <td>0</td>\n",
       "      <td>-1.8</td>\n",
       "      <td>93.075</td>\n",
       "      <td>-47.1</td>\n",
       "      <td>1.410</td>\n",
       "      <td>5099.1</td>\n",
       "      <td>Wyoming</td>\n",
       "      <td>Cheyenne</td>\n",
       "      <td>West</td>\n",
       "    </tr>\n",
       "    <tr>\n",
       "      <th>37083</th>\n",
       "      <td>47</td>\n",
       "      <td>admin.</td>\n",
       "      <td>divorced</td>\n",
       "      <td>high.school</td>\n",
       "      <td>no</td>\n",
       "      <td>yes</td>\n",
       "      <td>no</td>\n",
       "      <td>telephone</td>\n",
       "      <td>jun</td>\n",
       "      <td>mon</td>\n",
       "      <td>...</td>\n",
       "      <td>nonexistent</td>\n",
       "      <td>1</td>\n",
       "      <td>-1.7</td>\n",
       "      <td>94.055</td>\n",
       "      <td>-39.8</td>\n",
       "      <td>0.711</td>\n",
       "      <td>4991.6</td>\n",
       "      <td>Wyoming</td>\n",
       "      <td>Cheyenne</td>\n",
       "      <td>West</td>\n",
       "    </tr>\n",
       "  </tbody>\n",
       "</table>\n",
       "<p>37084 rows × 24 columns</p>\n",
       "</div>"
      ],
      "text/plain": [
       "       age          job   marital          education  default housing loan  \\\n",
       "0       56     services   married        high.school       no      no  yes   \n",
       "1       45     services   married           basic.9y  unknown      no   no   \n",
       "2       32       admin.    single  university.degree       no      no   no   \n",
       "3       36     services   married        high.school       no      no   no   \n",
       "4       31  blue-collar   married           basic.9y       no      no   no   \n",
       "...    ...          ...       ...                ...      ...     ...  ...   \n",
       "37079   37    housemaid  divorced        high.school       no      no   no   \n",
       "37080   58      unknown   married           basic.4y       no     yes   no   \n",
       "37081   43   unemployed  divorced           basic.9y       no      no   no   \n",
       "37082   37       admin.    single        high.school       no      no   no   \n",
       "37083   47       admin.  divorced        high.school       no     yes   no   \n",
       "\n",
       "         contact month day_of_week  ...     poutcome  Response_Target  \\\n",
       "0      telephone   may         mon  ...  nonexistent                0   \n",
       "1      telephone   may         mon  ...  nonexistent                0   \n",
       "2      telephone   may         tue  ...  nonexistent                0   \n",
       "3      telephone   may         tue  ...  nonexistent                0   \n",
       "4      telephone   may         wed  ...  nonexistent                0   \n",
       "...          ...   ...         ...  ...          ...              ...   \n",
       "37079   cellular   sep         wed  ...  nonexistent                0   \n",
       "37080  telephone   may         wed  ...  nonexistent                0   \n",
       "37081   cellular   jul         mon  ...  nonexistent                0   \n",
       "37082   cellular   apr         thu  ...      failure                0   \n",
       "37083  telephone   jun         mon  ...  nonexistent                1   \n",
       "\n",
       "      emp.var.rate  cons.price.idx cons.conf.idx  euribor3m  nr.employed  \\\n",
       "0              1.1          93.994         -36.4      4.857       5191.0   \n",
       "1              1.1          93.994         -36.4      4.857       5191.0   \n",
       "2              1.1          93.994         -36.4      4.857       5191.0   \n",
       "3              1.1          93.994         -36.4      4.857       5191.0   \n",
       "4              1.1          93.994         -36.4      4.856       5191.0   \n",
       "...            ...             ...           ...        ...          ...   \n",
       "37079         -3.4          92.379         -29.8      0.753       5017.5   \n",
       "37080          1.1          93.994         -36.4      4.857       5191.0   \n",
       "37081          1.4          93.918         -42.7      4.962       5228.1   \n",
       "37082         -1.8          93.075         -47.1      1.410       5099.1   \n",
       "37083         -1.7          94.055         -39.8      0.711       4991.6   \n",
       "\n",
       "       State_Name_x  City_Name  Region_Name  \n",
       "0          Kentucky  Henderson        South  \n",
       "1          Kentucky  Henderson        South  \n",
       "2          Kentucky  Henderson        South  \n",
       "3          Kentucky  Henderson        South  \n",
       "4          Kentucky  Henderson        South  \n",
       "...             ...        ...          ...  \n",
       "37079  North Dakota      Fargo      Central  \n",
       "37080       Wyoming   Cheyenne         West  \n",
       "37081       Wyoming   Cheyenne         West  \n",
       "37082       Wyoming   Cheyenne         West  \n",
       "37083       Wyoming   Cheyenne         West  \n",
       "\n",
       "[37084 rows x 24 columns]"
      ]
     },
     "execution_count": 5,
     "metadata": {},
     "output_type": "execute_result"
    }
   ],
   "source": [
    "df_data"
   ]
  },
  {
   "cell_type": "code",
   "execution_count": 6,
   "id": "1adfbdce",
   "metadata": {},
   "outputs": [],
   "source": [
    "df=df_data.copy()"
   ]
  },
  {
   "cell_type": "code",
   "execution_count": 7,
   "id": "7dd2ebfd",
   "metadata": {},
   "outputs": [
    {
     "data": {
      "text/plain": [
       "age                   0\n",
       "job                 306\n",
       "marital              72\n",
       "education          1549\n",
       "default            7700\n",
       "housing             882\n",
       "loan                882\n",
       "contact               0\n",
       "month                 0\n",
       "day_of_week           0\n",
       "duration              0\n",
       "campaign              0\n",
       "pdays                 0\n",
       "previous              0\n",
       "poutcome              0\n",
       "Response_Target       0\n",
       "emp.var.rate          0\n",
       "cons.price.idx        0\n",
       "cons.conf.idx         0\n",
       "euribor3m             0\n",
       "nr.employed           0\n",
       "State_Name_x          0\n",
       "City_Name             0\n",
       "Region_Name           0\n",
       "dtype: int64"
      ]
     },
     "execution_count": 7,
     "metadata": {},
     "output_type": "execute_result"
    }
   ],
   "source": [
    "df.replace('unknown',np.NaN,inplace=True)\n",
    "df.isnull().sum()"
   ]
  },
  {
   "cell_type": "code",
   "execution_count": 8,
   "id": "d4de38eb",
   "metadata": {},
   "outputs": [],
   "source": [
    "df['default']= df['default'].fillna('unknown')\n",
    "for col in df.columns:\n",
    "    df[col].fillna(df[col].mode()[0],inplace=True)"
   ]
  },
  {
   "cell_type": "code",
   "execution_count": 9,
   "id": "2f428039",
   "metadata": {},
   "outputs": [
    {
     "data": {
      "text/plain": [
       "age                0\n",
       "job                0\n",
       "marital            0\n",
       "education          0\n",
       "default            0\n",
       "housing            0\n",
       "loan               0\n",
       "contact            0\n",
       "month              0\n",
       "day_of_week        0\n",
       "duration           0\n",
       "campaign           0\n",
       "pdays              0\n",
       "previous           0\n",
       "poutcome           0\n",
       "Response_Target    0\n",
       "emp.var.rate       0\n",
       "cons.price.idx     0\n",
       "cons.conf.idx      0\n",
       "euribor3m          0\n",
       "nr.employed        0\n",
       "State_Name_x       0\n",
       "City_Name          0\n",
       "Region_Name        0\n",
       "dtype: int64"
      ]
     },
     "execution_count": 9,
     "metadata": {},
     "output_type": "execute_result"
    }
   ],
   "source": [
    "df.isnull().sum()"
   ]
  },
  {
   "cell_type": "code",
   "execution_count": 10,
   "id": "d1b13843",
   "metadata": {},
   "outputs": [
    {
     "data": {
      "text/plain": [
       "university.degree      12520\n",
       "middle.school          11260\n",
       "high.school             8542\n",
       "professional.course     4746\n",
       "illiterate                16\n",
       "Name: education, dtype: int64"
      ]
     },
     "execution_count": 10,
     "metadata": {},
     "output_type": "execute_result"
    }
   ],
   "source": [
    "\n",
    "lst=['basic.9y','basic.6y','basic.4y']\n",
    "for i in lst:\n",
    "    df.loc[df['education'] == i, 'education'] = \"middle.school\"\n",
    "\n",
    "df['education'].value_counts()"
   ]
  },
  {
   "cell_type": "code",
   "execution_count": 11,
   "id": "6f21723e",
   "metadata": {},
   "outputs": [],
   "source": [
    "\n",
    "month_dict={'may':5,'jul':7,'aug':8,'jun':6,'nov':11,'apr':4,'oct':10,'sep':9,'mar':3,'dec':12}\n",
    "df['month']= df['month'].map(month_dict) \n",
    "\n",
    "day_dict={'thu':5,'mon':2,'wed':4,'tue':3,'fri':6}\n",
    "df['day_of_week']= df['day_of_week'].map(day_dict)"
   ]
  },
  {
   "cell_type": "code",
   "execution_count": 12,
   "id": "01146bca",
   "metadata": {},
   "outputs": [],
   "source": [
    "dictionary={'yes':1,'no':0,'unknown':-1}\n",
    "df['housing']=df['housing'].map(dictionary)\n",
    "df['default']=df['default'].map(dictionary)\n",
    "df['loan']=df['loan'].map(dictionary)\n",
    "\n"
   ]
  },
  {
   "cell_type": "code",
   "execution_count": 13,
   "id": "2f67fbca",
   "metadata": {},
   "outputs": [],
   "source": [
    "df1=df.copy()\n"
   ]
  },
  {
   "cell_type": "code",
   "execution_count": 14,
   "id": "7f6e0d7f",
   "metadata": {},
   "outputs": [],
   "source": [
    "numerical=df1.select_dtypes(include='int64').columns\n",
    "flt=df1.select_dtypes(include='float64').columns.to_list()\n",
    "flt\n",
    "\n",
    "numerical=numerical.drop(['month','day_of_week','Response_Target']).to_list()\n",
    "\n",
    "numerical=np.concatenate([numerical,flt])\n",
    "\n",
    "for num in numerical:\n",
    "    df1[num]=(df1[num]-df1[num].mean())/df1[num].std()\n",
    "    "
   ]
  },
  {
   "cell_type": "code",
   "execution_count": 15,
   "id": "13ab1f93",
   "metadata": {},
   "outputs": [],
   "source": [
    "cat=df.select_dtypes(include=['object']).columns\n",
    "from sklearn.preprocessing import LabelEncoder\n",
    "le=LabelEncoder()\n",
    "for col in cat:\n",
    "    df[col]=le.fit_transform(df[col])\n"
   ]
  },
  {
   "cell_type": "code",
   "execution_count": 16,
   "id": "2cdee04e",
   "metadata": {},
   "outputs": [],
   "source": [
    "df1['month']=df1['month'].astype('object')\n",
    "df1['day_of_week']=df1['day_of_week'].astype('object')\n",
    "\n",
    "df2=df1.copy()\n",
    "\n",
    "cat=df1.select_dtypes(include='object').columns\n",
    "le=LabelEncoder()\n",
    "for cgt in cat:\n",
    "    df1[cgt]=le.fit_transform(df1[cgt])\n",
    "\n",
    "df1.drop('Response_Target',axis=1,inplace=True)"
   ]
  },
  {
   "cell_type": "code",
   "execution_count": 17,
   "id": "d65767bc",
   "metadata": {},
   "outputs": [],
   "source": [
    "df3=pd.get_dummies(df2.drop('City_Name',axis=1))\n",
    "df3.drop('Response_Target',axis=1,inplace=True)"
   ]
  },
  {
   "cell_type": "code",
   "execution_count": 18,
   "id": "49c6e3ca",
   "metadata": {},
   "outputs": [],
   "source": [
    "res=df.pop('Response_Target')"
   ]
  },
  {
   "cell_type": "code",
   "execution_count": 19,
   "id": "14ca54bb",
   "metadata": {},
   "outputs": [],
   "source": [
    "y=res"
   ]
  },
  {
   "cell_type": "code",
   "execution_count": 20,
   "id": "dd6c2804",
   "metadata": {},
   "outputs": [
    {
     "data": {
      "text/html": [
       "<div>\n",
       "<style scoped>\n",
       "    .dataframe tbody tr th:only-of-type {\n",
       "        vertical-align: middle;\n",
       "    }\n",
       "\n",
       "    .dataframe tbody tr th {\n",
       "        vertical-align: top;\n",
       "    }\n",
       "\n",
       "    .dataframe thead th {\n",
       "        text-align: right;\n",
       "    }\n",
       "</style>\n",
       "<table border=\"1\" class=\"dataframe\">\n",
       "  <thead>\n",
       "    <tr style=\"text-align: right;\">\n",
       "      <th></th>\n",
       "      <th>age</th>\n",
       "      <th>job</th>\n",
       "      <th>marital</th>\n",
       "      <th>education</th>\n",
       "      <th>default</th>\n",
       "      <th>housing</th>\n",
       "      <th>loan</th>\n",
       "      <th>contact</th>\n",
       "      <th>month</th>\n",
       "      <th>day_of_week</th>\n",
       "      <th>...</th>\n",
       "      <th>previous</th>\n",
       "      <th>poutcome</th>\n",
       "      <th>emp.var.rate</th>\n",
       "      <th>cons.price.idx</th>\n",
       "      <th>cons.conf.idx</th>\n",
       "      <th>euribor3m</th>\n",
       "      <th>nr.employed</th>\n",
       "      <th>State_Name_x</th>\n",
       "      <th>City_Name</th>\n",
       "      <th>Region_Name</th>\n",
       "    </tr>\n",
       "  </thead>\n",
       "  <tbody>\n",
       "    <tr>\n",
       "      <th>0</th>\n",
       "      <td>1.675998</td>\n",
       "      <td>0.947357</td>\n",
       "      <td>-0.281038</td>\n",
       "      <td>-1.549998</td>\n",
       "      <td>0.511654</td>\n",
       "      <td>-1.100664</td>\n",
       "      <td>2.360934</td>\n",
       "      <td>1.316968</td>\n",
       "      <td>-0.786267</td>\n",
       "      <td>-1.402824</td>\n",
       "      <td>...</td>\n",
       "      <td>-0.34899</td>\n",
       "      <td>0.191987</td>\n",
       "      <td>0.648404</td>\n",
       "      <td>0.722446</td>\n",
       "      <td>0.888187</td>\n",
       "      <td>0.712439</td>\n",
       "      <td>0.331618</td>\n",
       "      <td>-0.470397</td>\n",
       "      <td>-0.619294</td>\n",
       "      <td>0.367676</td>\n",
       "    </tr>\n",
       "    <tr>\n",
       "      <th>1</th>\n",
       "      <td>0.546807</td>\n",
       "      <td>0.947357</td>\n",
       "      <td>-0.281038</td>\n",
       "      <td>-0.226395</td>\n",
       "      <td>-1.953165</td>\n",
       "      <td>-1.100664</td>\n",
       "      <td>-0.423561</td>\n",
       "      <td>1.316968</td>\n",
       "      <td>-0.786267</td>\n",
       "      <td>-1.402824</td>\n",
       "      <td>...</td>\n",
       "      <td>-0.34899</td>\n",
       "      <td>0.191987</td>\n",
       "      <td>0.648404</td>\n",
       "      <td>0.722446</td>\n",
       "      <td>0.888187</td>\n",
       "      <td>0.712439</td>\n",
       "      <td>0.331618</td>\n",
       "      <td>-0.470397</td>\n",
       "      <td>-0.619294</td>\n",
       "      <td>0.367676</td>\n",
       "    </tr>\n",
       "    <tr>\n",
       "      <th>2</th>\n",
       "      <td>-0.787691</td>\n",
       "      <td>-1.022702</td>\n",
       "      <td>1.378254</td>\n",
       "      <td>1.097209</td>\n",
       "      <td>0.511654</td>\n",
       "      <td>-1.100664</td>\n",
       "      <td>-0.423561</td>\n",
       "      <td>1.316968</td>\n",
       "      <td>-0.786267</td>\n",
       "      <td>-0.694131</td>\n",
       "      <td>...</td>\n",
       "      <td>-0.34899</td>\n",
       "      <td>0.191987</td>\n",
       "      <td>0.648404</td>\n",
       "      <td>0.722446</td>\n",
       "      <td>0.888187</td>\n",
       "      <td>0.712439</td>\n",
       "      <td>0.331618</td>\n",
       "      <td>-0.470397</td>\n",
       "      <td>-0.619294</td>\n",
       "      <td>0.367676</td>\n",
       "    </tr>\n",
       "    <tr>\n",
       "      <th>3</th>\n",
       "      <td>-0.377076</td>\n",
       "      <td>0.947357</td>\n",
       "      <td>-0.281038</td>\n",
       "      <td>-1.549998</td>\n",
       "      <td>0.511654</td>\n",
       "      <td>-1.100664</td>\n",
       "      <td>-0.423561</td>\n",
       "      <td>1.316968</td>\n",
       "      <td>-0.786267</td>\n",
       "      <td>-0.694131</td>\n",
       "      <td>...</td>\n",
       "      <td>-0.34899</td>\n",
       "      <td>0.191987</td>\n",
       "      <td>0.648404</td>\n",
       "      <td>0.722446</td>\n",
       "      <td>0.888187</td>\n",
       "      <td>0.712439</td>\n",
       "      <td>0.331618</td>\n",
       "      <td>-0.470397</td>\n",
       "      <td>-0.619294</td>\n",
       "      <td>0.367676</td>\n",
       "    </tr>\n",
       "    <tr>\n",
       "      <th>4</th>\n",
       "      <td>-0.890344</td>\n",
       "      <td>-0.741265</td>\n",
       "      <td>-0.281038</td>\n",
       "      <td>-0.226395</td>\n",
       "      <td>0.511654</td>\n",
       "      <td>-1.100664</td>\n",
       "      <td>-0.423561</td>\n",
       "      <td>1.316968</td>\n",
       "      <td>-0.786267</td>\n",
       "      <td>0.014562</td>\n",
       "      <td>...</td>\n",
       "      <td>-0.34899</td>\n",
       "      <td>0.191987</td>\n",
       "      <td>0.648404</td>\n",
       "      <td>0.722446</td>\n",
       "      <td>0.888187</td>\n",
       "      <td>0.711862</td>\n",
       "      <td>0.331618</td>\n",
       "      <td>-0.470397</td>\n",
       "      <td>-0.619294</td>\n",
       "      <td>0.367676</td>\n",
       "    </tr>\n",
       "  </tbody>\n",
       "</table>\n",
       "<p>5 rows × 23 columns</p>\n",
       "</div>"
      ],
      "text/plain": [
       "        age       job   marital  education   default   housing      loan  \\\n",
       "0  1.675998  0.947357 -0.281038  -1.549998  0.511654 -1.100664  2.360934   \n",
       "1  0.546807  0.947357 -0.281038  -0.226395 -1.953165 -1.100664 -0.423561   \n",
       "2 -0.787691 -1.022702  1.378254   1.097209  0.511654 -1.100664 -0.423561   \n",
       "3 -0.377076  0.947357 -0.281038  -1.549998  0.511654 -1.100664 -0.423561   \n",
       "4 -0.890344 -0.741265 -0.281038  -0.226395  0.511654 -1.100664 -0.423561   \n",
       "\n",
       "    contact     month  day_of_week  ...  previous  poutcome  emp.var.rate  \\\n",
       "0  1.316968 -0.786267    -1.402824  ...  -0.34899  0.191987      0.648404   \n",
       "1  1.316968 -0.786267    -1.402824  ...  -0.34899  0.191987      0.648404   \n",
       "2  1.316968 -0.786267    -0.694131  ...  -0.34899  0.191987      0.648404   \n",
       "3  1.316968 -0.786267    -0.694131  ...  -0.34899  0.191987      0.648404   \n",
       "4  1.316968 -0.786267     0.014562  ...  -0.34899  0.191987      0.648404   \n",
       "\n",
       "   cons.price.idx  cons.conf.idx  euribor3m  nr.employed  State_Name_x  \\\n",
       "0        0.722446       0.888187   0.712439     0.331618     -0.470397   \n",
       "1        0.722446       0.888187   0.712439     0.331618     -0.470397   \n",
       "2        0.722446       0.888187   0.712439     0.331618     -0.470397   \n",
       "3        0.722446       0.888187   0.712439     0.331618     -0.470397   \n",
       "4        0.722446       0.888187   0.711862     0.331618     -0.470397   \n",
       "\n",
       "   City_Name  Region_Name  \n",
       "0  -0.619294     0.367676  \n",
       "1  -0.619294     0.367676  \n",
       "2  -0.619294     0.367676  \n",
       "3  -0.619294     0.367676  \n",
       "4  -0.619294     0.367676  \n",
       "\n",
       "[5 rows x 23 columns]"
      ]
     },
     "execution_count": 20,
     "metadata": {},
     "output_type": "execute_result"
    }
   ],
   "source": [
    "from sklearn.preprocessing import StandardScaler\n",
    "\n",
    "sc = StandardScaler().fit(df)\n",
    "Stand_df = sc.transform(df)\n",
    "df_Scaled = pd.DataFrame(Stand_df,columns=df.columns)\n",
    "df_Scaled.head()"
   ]
  },
  {
   "cell_type": "markdown",
   "id": "9875f83e",
   "metadata": {},
   "source": [
    "### df_Scaled  is all scaled data\n",
    "### df1 is numeric scaled data with labels\n",
    "### df3 is numeric scaled with dummies"
   ]
  },
  {
   "cell_type": "markdown",
   "id": "eda6dafb",
   "metadata": {},
   "source": [
    "y is the target"
   ]
  },
  {
   "cell_type": "code",
   "execution_count": 21,
   "id": "4a5a39f2",
   "metadata": {},
   "outputs": [
    {
     "data": {
      "text/html": [
       "<div>\n",
       "<style scoped>\n",
       "    .dataframe tbody tr th:only-of-type {\n",
       "        vertical-align: middle;\n",
       "    }\n",
       "\n",
       "    .dataframe tbody tr th {\n",
       "        vertical-align: top;\n",
       "    }\n",
       "\n",
       "    .dataframe thead th {\n",
       "        text-align: right;\n",
       "    }\n",
       "</style>\n",
       "<table border=\"1\" class=\"dataframe\">\n",
       "  <thead>\n",
       "    <tr style=\"text-align: right;\">\n",
       "      <th></th>\n",
       "      <th>age</th>\n",
       "      <th>default</th>\n",
       "      <th>housing</th>\n",
       "      <th>loan</th>\n",
       "      <th>campaign</th>\n",
       "      <th>previous</th>\n",
       "      <th>emp.var.rate</th>\n",
       "      <th>cons.price.idx</th>\n",
       "      <th>cons.conf.idx</th>\n",
       "      <th>euribor3m</th>\n",
       "      <th>...</th>\n",
       "      <th>State_Name_x_Vermont</th>\n",
       "      <th>State_Name_x_Virginia</th>\n",
       "      <th>State_Name_x_Washington</th>\n",
       "      <th>State_Name_x_West Virginia</th>\n",
       "      <th>State_Name_x_Wisconsin</th>\n",
       "      <th>State_Name_x_Wyoming</th>\n",
       "      <th>Region_Name_Central</th>\n",
       "      <th>Region_Name_East</th>\n",
       "      <th>Region_Name_South</th>\n",
       "      <th>Region_Name_West</th>\n",
       "    </tr>\n",
       "  </thead>\n",
       "  <tbody>\n",
       "    <tr>\n",
       "      <th>0</th>\n",
       "      <td>1.675975</td>\n",
       "      <td>0.511647</td>\n",
       "      <td>-1.100649</td>\n",
       "      <td>2.360903</td>\n",
       "      <td>-0.691147</td>\n",
       "      <td>-0.348986</td>\n",
       "      <td>0.648396</td>\n",
       "      <td>0.722436</td>\n",
       "      <td>0.888175</td>\n",
       "      <td>0.712429</td>\n",
       "      <td>...</td>\n",
       "      <td>0</td>\n",
       "      <td>0</td>\n",
       "      <td>0</td>\n",
       "      <td>0</td>\n",
       "      <td>0</td>\n",
       "      <td>0</td>\n",
       "      <td>0</td>\n",
       "      <td>0</td>\n",
       "      <td>1</td>\n",
       "      <td>0</td>\n",
       "    </tr>\n",
       "    <tr>\n",
       "      <th>1</th>\n",
       "      <td>0.546800</td>\n",
       "      <td>-1.953139</td>\n",
       "      <td>-1.100649</td>\n",
       "      <td>-0.423555</td>\n",
       "      <td>-0.691147</td>\n",
       "      <td>-0.348986</td>\n",
       "      <td>0.648396</td>\n",
       "      <td>0.722436</td>\n",
       "      <td>0.888175</td>\n",
       "      <td>0.712429</td>\n",
       "      <td>...</td>\n",
       "      <td>0</td>\n",
       "      <td>0</td>\n",
       "      <td>0</td>\n",
       "      <td>0</td>\n",
       "      <td>0</td>\n",
       "      <td>0</td>\n",
       "      <td>0</td>\n",
       "      <td>0</td>\n",
       "      <td>1</td>\n",
       "      <td>0</td>\n",
       "    </tr>\n",
       "    <tr>\n",
       "      <th>2</th>\n",
       "      <td>-0.787680</td>\n",
       "      <td>0.511647</td>\n",
       "      <td>-1.100649</td>\n",
       "      <td>-0.423555</td>\n",
       "      <td>-0.691147</td>\n",
       "      <td>-0.348986</td>\n",
       "      <td>0.648396</td>\n",
       "      <td>0.722436</td>\n",
       "      <td>0.888175</td>\n",
       "      <td>0.712429</td>\n",
       "      <td>...</td>\n",
       "      <td>0</td>\n",
       "      <td>0</td>\n",
       "      <td>0</td>\n",
       "      <td>0</td>\n",
       "      <td>0</td>\n",
       "      <td>0</td>\n",
       "      <td>0</td>\n",
       "      <td>0</td>\n",
       "      <td>1</td>\n",
       "      <td>0</td>\n",
       "    </tr>\n",
       "    <tr>\n",
       "      <th>3</th>\n",
       "      <td>-0.377071</td>\n",
       "      <td>0.511647</td>\n",
       "      <td>-1.100649</td>\n",
       "      <td>-0.423555</td>\n",
       "      <td>-0.691147</td>\n",
       "      <td>-0.348986</td>\n",
       "      <td>0.648396</td>\n",
       "      <td>0.722436</td>\n",
       "      <td>0.888175</td>\n",
       "      <td>0.712429</td>\n",
       "      <td>...</td>\n",
       "      <td>0</td>\n",
       "      <td>0</td>\n",
       "      <td>0</td>\n",
       "      <td>0</td>\n",
       "      <td>0</td>\n",
       "      <td>0</td>\n",
       "      <td>0</td>\n",
       "      <td>0</td>\n",
       "      <td>1</td>\n",
       "      <td>0</td>\n",
       "    </tr>\n",
       "    <tr>\n",
       "      <th>4</th>\n",
       "      <td>-0.890332</td>\n",
       "      <td>0.511647</td>\n",
       "      <td>-1.100649</td>\n",
       "      <td>-0.423555</td>\n",
       "      <td>-0.192460</td>\n",
       "      <td>-0.348986</td>\n",
       "      <td>0.648396</td>\n",
       "      <td>0.722436</td>\n",
       "      <td>0.888175</td>\n",
       "      <td>0.711852</td>\n",
       "      <td>...</td>\n",
       "      <td>0</td>\n",
       "      <td>0</td>\n",
       "      <td>0</td>\n",
       "      <td>0</td>\n",
       "      <td>0</td>\n",
       "      <td>0</td>\n",
       "      <td>0</td>\n",
       "      <td>0</td>\n",
       "      <td>1</td>\n",
       "      <td>0</td>\n",
       "    </tr>\n",
       "  </tbody>\n",
       "</table>\n",
       "<p>5 rows × 108 columns</p>\n",
       "</div>"
      ],
      "text/plain": [
       "        age   default   housing      loan  campaign  previous  emp.var.rate  \\\n",
       "0  1.675975  0.511647 -1.100649  2.360903 -0.691147 -0.348986      0.648396   \n",
       "1  0.546800 -1.953139 -1.100649 -0.423555 -0.691147 -0.348986      0.648396   \n",
       "2 -0.787680  0.511647 -1.100649 -0.423555 -0.691147 -0.348986      0.648396   \n",
       "3 -0.377071  0.511647 -1.100649 -0.423555 -0.691147 -0.348986      0.648396   \n",
       "4 -0.890332  0.511647 -1.100649 -0.423555 -0.192460 -0.348986      0.648396   \n",
       "\n",
       "   cons.price.idx  cons.conf.idx  euribor3m  ...  State_Name_x_Vermont  \\\n",
       "0        0.722436       0.888175   0.712429  ...                     0   \n",
       "1        0.722436       0.888175   0.712429  ...                     0   \n",
       "2        0.722436       0.888175   0.712429  ...                     0   \n",
       "3        0.722436       0.888175   0.712429  ...                     0   \n",
       "4        0.722436       0.888175   0.711852  ...                     0   \n",
       "\n",
       "   State_Name_x_Virginia  State_Name_x_Washington  State_Name_x_West Virginia  \\\n",
       "0                      0                        0                           0   \n",
       "1                      0                        0                           0   \n",
       "2                      0                        0                           0   \n",
       "3                      0                        0                           0   \n",
       "4                      0                        0                           0   \n",
       "\n",
       "   State_Name_x_Wisconsin  State_Name_x_Wyoming  Region_Name_Central  \\\n",
       "0                       0                     0                    0   \n",
       "1                       0                     0                    0   \n",
       "2                       0                     0                    0   \n",
       "3                       0                     0                    0   \n",
       "4                       0                     0                    0   \n",
       "\n",
       "   Region_Name_East  Region_Name_South  Region_Name_West  \n",
       "0                 0                  1                 0  \n",
       "1                 0                  1                 0  \n",
       "2                 0                  1                 0  \n",
       "3                 0                  1                 0  \n",
       "4                 0                  1                 0  \n",
       "\n",
       "[5 rows x 108 columns]"
      ]
     },
     "execution_count": 21,
     "metadata": {},
     "output_type": "execute_result"
    }
   ],
   "source": [
    "X=df3\n",
    "X.head()"
   ]
  },
  {
   "cell_type": "code",
   "execution_count": 22,
   "id": "bb0c49a6",
   "metadata": {},
   "outputs": [
    {
     "data": {
      "text/plain": [
       "0        0\n",
       "1        0\n",
       "2        0\n",
       "3        0\n",
       "4        0\n",
       "        ..\n",
       "37079    0\n",
       "37080    0\n",
       "37081    0\n",
       "37082    0\n",
       "37083    1\n",
       "Name: Response_Target, Length: 37084, dtype: int64"
      ]
     },
     "execution_count": 22,
     "metadata": {},
     "output_type": "execute_result"
    }
   ],
   "source": [
    "y"
   ]
  },
  {
   "cell_type": "code",
   "execution_count": 23,
   "id": "df044721",
   "metadata": {},
   "outputs": [],
   "source": [
    "from sklearn.model_selection import train_test_split\n",
    "X_train,X_test,y_train,y_test=train_test_split(X,y,test_size=0.20,random_state=345)"
   ]
  },
  {
   "cell_type": "code",
   "execution_count": 24,
   "id": "fa1865c0",
   "metadata": {},
   "outputs": [],
   "source": [
    "from sklearn.ensemble import GradientBoostingClassifier\n",
    "from xgboost import XGBClassifier\n",
    "from sklearn.model_selection import GridSearchCV\n",
    "import sklearn.metrics as metrics"
   ]
  },
  {
   "cell_type": "code",
   "execution_count": 25,
   "id": "11b6bb12",
   "metadata": {},
   "outputs": [],
   "source": [
    "def display_metrics(X_test,y_test,clf):\n",
    "    ypred=clf.predict(X_test)\n",
    "    print('Confusion matrix:\\n',metrics.confusion_matrix(y_test,ypred),'\\n')\n",
    "    print('Classification Report:\\n',metrics.classification_report(y_test,ypred))\n",
    "    print('Accuracy:',metrics.accuracy_score(y_test,ypred))"
   ]
  },
  {
   "cell_type": "code",
   "execution_count": 26,
   "id": "c1c2f37f",
   "metadata": {},
   "outputs": [],
   "source": [
    "def display_roc_auc(X_test,y_test,clf):\n",
    "    fpr,tpr,thresholds=metrics.roc_curve(y_test,clf.predict_proba(X_test)[:,1])\n",
    "    plt.plot(fpr,tpr,\"-\")\n",
    "    plt.xlabel('false positive rate')\n",
    "    plt.ylabel('true positive rate')\n",
    "    plt.title('roc-auc curve')\n",
    "    print('ROC-AUC Score:',metrics.roc_auc_score(y_test,clf.predict_proba(X_test)[:,1]))"
   ]
  },
  {
   "cell_type": "code",
   "execution_count": 44,
   "id": "48470164",
   "metadata": {},
   "outputs": [],
   "source": [
    "def display_feature_importances(clf):\n",
    "    print('Feature Importances:\\n',clf.feature_importances_)\n",
    "    imp_feat=pd.Series(clf.feature_importances_,index=X.columns.tolist())\n",
    "    imp_feat.sort_values(ascending=False).head(30).plot(kind='bar')\n",
    "    plt.title('Feature Importance plot for top 30 features')\n",
    "    plt.xlabel('Feature names')\n",
    "    plt.ylabel('Feature importances')"
   ]
  },
  {
   "cell_type": "markdown",
   "id": "f76f28fd",
   "metadata": {},
   "source": [
    "## Gradient Boosting"
   ]
  },
  {
   "cell_type": "code",
   "execution_count": 31,
   "id": "f770cd87",
   "metadata": {},
   "outputs": [
    {
     "data": {
      "text/plain": [
       "GradientBoostingClassifier(n_estimators=80, random_state=400)"
      ]
     },
     "execution_count": 31,
     "metadata": {},
     "output_type": "execute_result"
    }
   ],
   "source": [
    "gb1=GradientBoostingClassifier(n_estimators=80,random_state=400,learning_rate=0.1)\n",
    "gb1.fit(X_train,y_train)"
   ]
  },
  {
   "cell_type": "code",
   "execution_count": 32,
   "id": "f5a7f117",
   "metadata": {},
   "outputs": [
    {
     "data": {
      "text/plain": [
       "0.9165430767156533"
      ]
     },
     "execution_count": 32,
     "metadata": {},
     "output_type": "execute_result"
    }
   ],
   "source": [
    "gb1.score(X_test,y_test)"
   ]
  },
  {
   "cell_type": "code",
   "execution_count": 33,
   "id": "901c7755",
   "metadata": {},
   "outputs": [
    {
     "name": "stdout",
     "output_type": "stream",
     "text": [
      "Confusion matrix:\n",
      " [[6353  232]\n",
      " [ 387  445]] \n",
      "\n",
      "Classification Report:\n",
      "               precision    recall  f1-score   support\n",
      "\n",
      "           0       0.94      0.96      0.95      6585\n",
      "           1       0.66      0.53      0.59       832\n",
      "\n",
      "    accuracy                           0.92      7417\n",
      "   macro avg       0.80      0.75      0.77      7417\n",
      "weighted avg       0.91      0.92      0.91      7417\n",
      "\n",
      "Accuracy: 0.9165430767156533\n"
     ]
    }
   ],
   "source": [
    "display_metrics(X_test,y_test,gb1)"
   ]
  },
  {
   "cell_type": "code",
   "execution_count": 34,
   "id": "2f81e3ca",
   "metadata": {},
   "outputs": [
    {
     "name": "stdout",
     "output_type": "stream",
     "text": [
      "ROC-AUC Score: 0.9263051406167864\n"
     ]
    },
    {
     "data": {
      "image/png": "[encoded data removed]",
      "text/plain": [
       "<Figure size 640x480 with 1 Axes>"
      ]
     },
     "metadata": {},
     "output_type": "display_data"
    }
   ],
   "source": [
    "display_roc_auc(X_test,y_test,gb1)"
   ]
  },
  {
   "cell_type": "code",
   "execution_count": 43,
   "id": "d882bff9",
   "metadata": {},
   "outputs": [
    {
     "name": "stdout",
     "output_type": "stream",
     "text": [
      "Feature Importances:\n",
      " [8.16561069e-03 1.18018355e-03 4.45197233e-04 0.00000000e+00\n",
      " 2.12604007e-03 1.26412078e-03 9.95437654e-03 4.84265275e-03\n",
      " 3.28908067e-02 5.46548424e-02 3.49035626e-01 0.00000000e+00\n",
      " 7.15711075e-04 0.00000000e+00 1.00700529e-04 0.00000000e+00\n",
      " 6.28093920e-04 0.00000000e+00 0.00000000e+00 0.00000000e+00\n",
      " 0.00000000e+00 0.00000000e+00 0.00000000e+00 0.00000000e+00\n",
      " 0.00000000e+00 2.16760307e-04 0.00000000e+00 3.53786742e-04\n",
      " 1.83723701e-04 8.44238949e-05 8.02836792e-03 4.57716165e-03\n",
      " 6.07423157e-03 5.58758656e-03 1.74292119e-03 9.98467733e-05\n",
      " 0.00000000e+00 0.00000000e+00 0.00000000e+00 1.29899973e-02\n",
      " 0.00000000e+00 0.00000000e+00 1.95309964e-03 1.36136728e-03\n",
      " 0.00000000e+00 0.00000000e+00 8.88094601e-04 2.51177172e-01\n",
      " 1.56143605e-01 3.90061238e-03 9.28876849e-03 3.35926986e-02\n",
      " 6.50391299e-03 0.00000000e+00 2.12441828e-02 0.00000000e+00\n",
      " 0.00000000e+00 2.18928483e-04 0.00000000e+00 0.00000000e+00\n",
      " 0.00000000e+00 9.28247582e-04 0.00000000e+00 9.03085222e-04\n",
      " 0.00000000e+00 0.00000000e+00 0.00000000e+00 0.00000000e+00\n",
      " 0.00000000e+00 0.00000000e+00 0.00000000e+00 0.00000000e+00\n",
      " 4.94061137e-04 0.00000000e+00 8.06831125e-06 4.65297993e-04\n",
      " 3.64770703e-04 4.17618236e-04 0.00000000e+00 2.71482048e-04\n",
      " 0.00000000e+00 0.00000000e+00 0.00000000e+00 0.00000000e+00\n",
      " 0.00000000e+00 1.58541877e-04 0.00000000e+00 0.00000000e+00\n",
      " 9.49449021e-05 4.86874884e-04 5.54743449e-04 9.39974276e-04\n",
      " 0.00000000e+00 0.00000000e+00 0.00000000e+00 0.00000000e+00\n",
      " 7.19118533e-04 0.00000000e+00 0.00000000e+00 0.00000000e+00\n",
      " 0.00000000e+00 0.00000000e+00 1.84760131e-04 0.00000000e+00\n",
      " 0.00000000e+00 2.92078982e-04 0.00000000e+00 5.01118617e-04]\n"
     ]
    },
    {
     "data": {
      "image/png": "[encoded data removed]",
      "text/plain": [
       "<Figure size 640x480 with 1 Axes>"
      ]
     },
     "metadata": {},
     "output_type": "display_data"
    }
   ],
   "source": [
    "display_feature_importances(gb1)"
   ]
  },
  {
   "cell_type": "markdown",
   "id": "879dc096",
   "metadata": {},
   "source": [
    "### Gradient Boosting with sample weights\n",
    "#### Sample weights are added for the class imbalance problem"
   ]
  },
  {
   "cell_type": "code",
   "execution_count": 51,
   "id": "e7d5ef86",
   "metadata": {},
   "outputs": [
    {
     "data": {
      "text/plain": [
       "GradientBoostingClassifier(n_estimators=80, random_state=400)"
      ]
     },
     "execution_count": 51,
     "metadata": {},
     "output_type": "execute_result"
    }
   ],
   "source": [
    "from sklearn.utils.class_weight import compute_sample_weight\n",
    "\n",
    "gb1_sw=GradientBoostingClassifier(n_estimators=80,random_state=400)\n",
    "gb1_sw.fit(X_train,y_train,sample_weight=compute_sample_weight(class_weight='balanced', y=y_train))"
   ]
  },
  {
   "cell_type": "code",
   "execution_count": 53,
   "id": "cd059953",
   "metadata": {},
   "outputs": [
    {
     "data": {
      "text/plain": [
       "0.8527706619927194"
      ]
     },
     "execution_count": 53,
     "metadata": {},
     "output_type": "execute_result"
    }
   ],
   "source": [
    "gb1_sw.score(X_test,y_test)"
   ]
  },
  {
   "cell_type": "code",
   "execution_count": 54,
   "id": "9363e7e1",
   "metadata": {},
   "outputs": [
    {
     "name": "stdout",
     "output_type": "stream",
     "text": [
      "Confusion matrix:\n",
      " [[5610  975]\n",
      " [ 117  715]] \n",
      "\n",
      "Classification Report:\n",
      "               precision    recall  f1-score   support\n",
      "\n",
      "           0       0.98      0.85      0.91      6585\n",
      "           1       0.42      0.86      0.57       832\n",
      "\n",
      "    accuracy                           0.85      7417\n",
      "   macro avg       0.70      0.86      0.74      7417\n",
      "weighted avg       0.92      0.85      0.87      7417\n",
      "\n",
      "Accuracy: 0.8527706619927194\n"
     ]
    }
   ],
   "source": [
    "display_metrics(X_test,y_test,gb1_sw)"
   ]
  },
  {
   "cell_type": "markdown",
   "id": "6df726fd",
   "metadata": {},
   "source": [
    "#### The f1-score remains the same adding the sample weights"
   ]
  },
  {
   "cell_type": "code",
   "execution_count": 55,
   "id": "38b99954",
   "metadata": {},
   "outputs": [
    {
     "name": "stdout",
     "output_type": "stream",
     "text": [
      "ROC-AUC Score: 0.9266150670229543\n"
     ]
    },
    {
     "data": {
      "image/png": "[encoded data removed]",
      "text/plain": [
       "<Figure size 640x480 with 1 Axes>"
      ]
     },
     "metadata": {},
     "output_type": "display_data"
    }
   ],
   "source": [
    "display_roc_auc(X_test,y_test,gb_sw)"
   ]
  },
  {
   "cell_type": "markdown",
   "id": "3f64cf2c",
   "metadata": {},
   "source": [
    "### Oversampling"
   ]
  },
  {
   "cell_type": "code",
   "execution_count": 45,
   "id": "e5ec7b5e",
   "metadata": {},
   "outputs": [],
   "source": [
    "from collections import Counter\n",
    "from imblearn.over_sampling import SMOTE"
   ]
  },
  {
   "cell_type": "code",
   "execution_count": 46,
   "id": "28fb487e",
   "metadata": {},
   "outputs": [
    {
     "name": "stdout",
     "output_type": "stream",
     "text": [
      "Number of rows before oversampling:Counter({0: 26291, 1: 3376})\n",
      "Number of rows after oversampling: Counter({0: 26291, 1: 26291})\n"
     ]
    }
   ],
   "source": [
    "sm = SMOTE(random_state=2)\n",
    "xtrain_sm, ytrain_sm = sm.fit_resample(X_train, y_train.ravel())\n",
    "print('Number of rows before oversampling:{}'.format(Counter(y_train)))\n",
    "print('Number of rows after oversampling: {}'.format(Counter(ytrain_sm)))"
   ]
  },
  {
   "cell_type": "code",
   "execution_count": 47,
   "id": "914c81e9",
   "metadata": {},
   "outputs": [
    {
     "data": {
      "text/plain": [
       "GradientBoostingClassifier(max_depth=5, n_estimators=60, random_state=400)"
      ]
     },
     "execution_count": 47,
     "metadata": {},
     "output_type": "execute_result"
    }
   ],
   "source": [
    "gb1_os=GradientBoostingClassifier(n_estimators=60,learning_rate=0.1,max_depth=5,random_state=400)\n",
    "gb1_os.fit(xtrain_sm,ytrain_sm)"
   ]
  },
  {
   "cell_type": "code",
   "execution_count": 48,
   "id": "06930c00",
   "metadata": {},
   "outputs": [
    {
     "data": {
      "text/plain": [
       "0.9126331400835918"
      ]
     },
     "execution_count": 48,
     "metadata": {},
     "output_type": "execute_result"
    }
   ],
   "source": [
    "gb1_os.score(X_test,y_test)"
   ]
  },
  {
   "cell_type": "code",
   "execution_count": 49,
   "id": "40bab404",
   "metadata": {},
   "outputs": [
    {
     "name": "stdout",
     "output_type": "stream",
     "text": [
      "Confusion matrix:\n",
      " [[6189  396]\n",
      " [ 252  580]] \n",
      "\n",
      "Classification Report:\n",
      "               precision    recall  f1-score   support\n",
      "\n",
      "           0       0.96      0.94      0.95      6585\n",
      "           1       0.59      0.70      0.64       832\n",
      "\n",
      "    accuracy                           0.91      7417\n",
      "   macro avg       0.78      0.82      0.80      7417\n",
      "weighted avg       0.92      0.91      0.92      7417\n",
      "\n",
      "Accuracy: 0.9126331400835918\n"
     ]
    }
   ],
   "source": [
    "display_metrics(X_test,y_test,gb1_os)"
   ]
  },
  {
   "cell_type": "markdown",
   "id": "7e8801cc",
   "metadata": {},
   "source": [
    "#### The f1 score for class 1 increased from 59 to 64 with oversampling"
   ]
  },
  {
   "cell_type": "markdown",
   "id": "730742fa",
   "metadata": {},
   "source": [
    "### Undersampling"
   ]
  },
  {
   "cell_type": "code",
   "execution_count": 70,
   "id": "21dfdb93",
   "metadata": {},
   "outputs": [
    {
     "name": "stdout",
     "output_type": "stream",
     "text": [
      "The number of rows before undersampling Counter({0: 26291, 1: 3376})\n",
      "The number of rows after undersampling Counter({0: 3376, 1: 3376})\n"
     ]
    }
   ],
   "source": [
    "from collections import Counter\n",
    "from imblearn.under_sampling import NearMiss\n",
    "from imblearn.under_sampling import RandomUnderSampler\n",
    "\n",
    "under_sampler = RandomUnderSampler()\n",
    "ns=NearMiss(0.8)\n",
    "\n",
    "X_train_ns,y_train_ns=under_sampler.fit_resample(X_train,y_train)\n",
    "print(\"The number of rows before undersampling {}\".format(Counter(y_train)))\n",
    "print(\"The number of rows after undersampling {}\".format(Counter(y_train_ns)))"
   ]
  },
  {
   "cell_type": "code",
   "execution_count": 72,
   "id": "e7aa1200",
   "metadata": {},
   "outputs": [
    {
     "data": {
      "text/plain": [
       "GradientBoostingClassifier(n_estimators=80, random_state=400)"
      ]
     },
     "execution_count": 72,
     "metadata": {},
     "output_type": "execute_result"
    }
   ],
   "source": [
    "gb1_us=GradientBoostingClassifier(n_estimators=80,random_state=400)\n",
    "gb1_us.fit(X_train_ns,y_train_ns)"
   ]
  },
  {
   "cell_type": "code",
   "execution_count": 73,
   "id": "3bef5411",
   "metadata": {},
   "outputs": [
    {
     "data": {
      "text/plain": [
       "0.851961709586086"
      ]
     },
     "execution_count": 73,
     "metadata": {},
     "output_type": "execute_result"
    }
   ],
   "source": [
    "gb1_us.score(X_test,y_test)"
   ]
  },
  {
   "cell_type": "code",
   "execution_count": 74,
   "id": "853565e3",
   "metadata": {},
   "outputs": [
    {
     "name": "stdout",
     "output_type": "stream",
     "text": [
      "Confusion matrix:\n",
      " [[5609  976]\n",
      " [ 122  710]] \n",
      "\n",
      "Classification Report:\n",
      "               precision    recall  f1-score   support\n",
      "\n",
      "           0       0.98      0.85      0.91      6585\n",
      "           1       0.42      0.85      0.56       832\n",
      "\n",
      "    accuracy                           0.85      7417\n",
      "   macro avg       0.70      0.85      0.74      7417\n",
      "weighted avg       0.92      0.85      0.87      7417\n",
      "\n",
      "Accuracy: 0.851961709586086\n"
     ]
    }
   ],
   "source": [
    "display_metrics(X_test,y_test,gb1_us)"
   ]
  },
  {
   "cell_type": "markdown",
   "id": "c84a8b05",
   "metadata": {},
   "source": [
    "#### The f1 score for class 1 got reduced with oversampling"
   ]
  },
  {
   "cell_type": "markdown",
   "id": "781b2559",
   "metadata": {},
   "source": [
    "#### The highest f1 score of 63 for class 1 is got in oversampling with Gradient Boost"
   ]
  },
  {
   "cell_type": "markdown",
   "id": "fc0931fe",
   "metadata": {},
   "source": [
    "# XGBoost"
   ]
  },
  {
   "cell_type": "code",
   "execution_count": 56,
   "id": "1f907edb",
   "metadata": {},
   "outputs": [
    {
     "name": "stdout",
     "output_type": "stream",
     "text": [
      "[13:44:58] WARNING: C:/Users/Administrator/workspace/xgboost-win64_release_1.5.0/src/learner.cc:1115: Starting in XGBoost 1.3.0, the default evaluation metric used with the objective 'binary:logistic' was changed from 'error' to 'logloss'. Explicitly set eval_metric if you'd like to restore the old behavior.\n"
     ]
    },
    {
     "data": {
      "text/plain": [
       "XGBClassifier(base_score=0.5, booster='gbtree', colsample_bylevel=1,\n",
       "              colsample_bynode=1, colsample_bytree=1, enable_categorical=False,\n",
       "              gamma=0, gpu_id=-1, importance_type=None,\n",
       "              interaction_constraints='', learning_rate=0.300000012,\n",
       "              max_delta_step=0, max_depth=6, min_child_weight=1, missing=nan,\n",
       "              monotone_constraints='()', n_estimators=80, n_jobs=8,\n",
       "              num_parallel_tree=1, predictor='auto', random_state=400,\n",
       "              reg_alpha=0, reg_lambda=1, scale_pos_weight=1, subsample=1,\n",
       "              tree_method='exact', validate_parameters=1, verbosity=None)"
      ]
     },
     "execution_count": 56,
     "metadata": {},
     "output_type": "execute_result"
    }
   ],
   "source": [
    "xgb1=XGBClassifier(n_estimators=80,random_state=400)\n",
    "xgb1.fit(X_train,y_train)"
   ]
  },
  {
   "cell_type": "code",
   "execution_count": 58,
   "id": "0a096d75",
   "metadata": {},
   "outputs": [
    {
     "data": {
      "text/plain": [
       "0.914116219495753"
      ]
     },
     "execution_count": 58,
     "metadata": {},
     "output_type": "execute_result"
    }
   ],
   "source": [
    "xgb1.score(X_test,y_test)"
   ]
  },
  {
   "cell_type": "code",
   "execution_count": 59,
   "id": "a026213e",
   "metadata": {},
   "outputs": [
    {
     "name": "stdout",
     "output_type": "stream",
     "text": [
      "Confusion matrix:\n",
      " [[6375  210]\n",
      " [ 427  405]] \n",
      "\n",
      "Classification Report:\n",
      "               precision    recall  f1-score   support\n",
      "\n",
      "           0       0.94      0.97      0.95      6585\n",
      "           1       0.66      0.49      0.56       832\n",
      "\n",
      "    accuracy                           0.91      7417\n",
      "   macro avg       0.80      0.73      0.76      7417\n",
      "weighted avg       0.91      0.91      0.91      7417\n",
      "\n",
      "Accuracy: 0.914116219495753\n"
     ]
    }
   ],
   "source": [
    "display_metrics(X_test,y_test,xgb1)"
   ]
  },
  {
   "cell_type": "code",
   "execution_count": 60,
   "id": "ed3aa768",
   "metadata": {},
   "outputs": [
    {
     "name": "stdout",
     "output_type": "stream",
     "text": [
      "ROC-AUC Score: 0.9273259995035337\n"
     ]
    },
    {
     "data": {
      "image/png": "[encoded data removed]",
      "text/plain": [
       "<Figure size 640x480 with 1 Axes>"
      ]
     },
     "metadata": {},
     "output_type": "display_data"
    }
   ],
   "source": [
    "display_roc_auc(X_test,y_test,xgb1)"
   ]
  },
  {
   "cell_type": "code",
   "execution_count": 61,
   "id": "6bdd8ac0",
   "metadata": {},
   "outputs": [
    {
     "name": "stdout",
     "output_type": "stream",
     "text": [
      "Feature Importances:\n",
      " [0.00415943 0.00681846 0.00402888 0.0044828  0.00393597 0.00454208\n",
      " 0.0289373  0.00533917 0.01179643 0.00807294 0.2800353  0.0040037\n",
      " 0.00615326 0.00435602 0.00437287 0.00415973 0.00644269 0.00331084\n",
      " 0.00401253 0.00278474 0.00467392 0.00492314 0.00468239 0.00374202\n",
      " 0.00422931 0.00349467 0.         0.00426657 0.00462509 0.00499649\n",
      " 0.00954906 0.         0.00390852 0.00556548 0.01441484 0.00775677\n",
      " 0.00475911 0.00302779 0.00447553 0.01944275 0.00436184 0.00291962\n",
      " 0.0057306  0.00508166 0.00749075 0.003916   0.0057677  0.1310927\n",
      " 0.08832645 0.00350053 0.0250606  0.         0.00715708 0.\n",
      " 0.02227811 0.00270364 0.0041111  0.00441347 0.0039512  0.00528052\n",
      " 0.0037048  0.00330515 0.0013682  0.00440397 0.00469987 0.00141878\n",
      " 0.0033608  0.00316928 0.00463119 0.00244048 0.00470429 0.00303599\n",
      " 0.00113113 0.00272579 0.00230357 0.00731025 0.00344381 0.00268064\n",
      " 0.00349393 0.00192391 0.00269311 0.00164761 0.00145801 0.00517504\n",
      " 0.00450838 0.00411218 0.00490006 0.         0.00565618 0.00382683\n",
      " 0.00408524 0.00459606 0.00141958 0.00268018 0.         0.00458024\n",
      " 0.00464097 0.00151151 0.00103503 0.00545059 0.00448439 0.\n",
      " 0.002434   0.         0.00353806 0.00400876 0.0051253  0.00375469]\n"
     ]
    },
    {
     "data": {
      "image/png": "[encoded data removed]",
      "text/plain": [
       "<Figure size 640x480 with 1 Axes>"
      ]
     },
     "metadata": {},
     "output_type": "display_data"
    }
   ],
   "source": [
    "display_feature_importances(xgb1)"
   ]
  },
  {
   "cell_type": "markdown",
   "id": "7de585c8",
   "metadata": {},
   "source": [
    "### XGBoost with sample weights\n",
    "#### Sample weights are added for the class imbalance problem"
   ]
  },
  {
   "cell_type": "code",
   "execution_count": 63,
   "id": "d81e9afc",
   "metadata": {},
   "outputs": [
    {
     "name": "stdout",
     "output_type": "stream",
     "text": [
      "[13:48:11] WARNING: C:/Users/Administrator/workspace/xgboost-win64_release_1.5.0/src/learner.cc:1115: Starting in XGBoost 1.3.0, the default evaluation metric used with the objective 'binary:logistic' was changed from 'error' to 'logloss'. Explicitly set eval_metric if you'd like to restore the old behavior.\n"
     ]
    },
    {
     "data": {
      "text/plain": [
       "XGBClassifier(base_score=0.5, booster='gbtree', colsample_bylevel=1,\n",
       "              colsample_bynode=1, colsample_bytree=1, enable_categorical=False,\n",
       "              gamma=0, gpu_id=-1, importance_type=None,\n",
       "              interaction_constraints='', learning_rate=0.300000012,\n",
       "              max_delta_step=0, max_depth=6, min_child_weight=1, missing=nan,\n",
       "              monotone_constraints='()', n_estimators=80, n_jobs=8,\n",
       "              num_parallel_tree=1, predictor='auto', random_state=400,\n",
       "              reg_alpha=0, reg_lambda=1, scale_pos_weight=1, subsample=1,\n",
       "              tree_method='exact', validate_parameters=1, verbosity=None)"
      ]
     },
     "execution_count": 63,
     "metadata": {},
     "output_type": "execute_result"
    }
   ],
   "source": [
    "from sklearn.utils.class_weight import compute_sample_weight\n",
    "\n",
    "xgb1_sw=XGBClassifier(n_estimators=80,random_state=400)\n",
    "xgb1_sw.fit(X_train,y_train,sample_weight=compute_sample_weight(class_weight='balanced', y=y_train))"
   ]
  },
  {
   "cell_type": "code",
   "execution_count": 65,
   "id": "6c8851fa",
   "metadata": {},
   "outputs": [
    {
     "data": {
      "text/plain": [
       "0.8766347579884051"
      ]
     },
     "execution_count": 65,
     "metadata": {},
     "output_type": "execute_result"
    }
   ],
   "source": [
    "xgb1_sw.score(X_test,y_test)"
   ]
  },
  {
   "cell_type": "code",
   "execution_count": 66,
   "id": "e27f1f0c",
   "metadata": {},
   "outputs": [
    {
     "name": "stdout",
     "output_type": "stream",
     "text": [
      "Confusion matrix:\n",
      " [[5831  754]\n",
      " [ 161  671]] \n",
      "\n",
      "Classification Report:\n",
      "               precision    recall  f1-score   support\n",
      "\n",
      "           0       0.97      0.89      0.93      6585\n",
      "           1       0.47      0.81      0.59       832\n",
      "\n",
      "    accuracy                           0.88      7417\n",
      "   macro avg       0.72      0.85      0.76      7417\n",
      "weighted avg       0.92      0.88      0.89      7417\n",
      "\n",
      "Accuracy: 0.8766347579884051\n"
     ]
    }
   ],
   "source": [
    "display_metrics(X_test,y_test,xgb1_sw)"
   ]
  },
  {
   "cell_type": "markdown",
   "id": "37aa89e6",
   "metadata": {},
   "source": [
    "#### The f1 score increased from 56 to 59 with sample weights"
   ]
  },
  {
   "cell_type": "markdown",
   "id": "d3f5814c",
   "metadata": {},
   "source": [
    "### Oversampling"
   ]
  },
  {
   "cell_type": "code",
   "execution_count": 67,
   "id": "ba61aa36",
   "metadata": {},
   "outputs": [
    {
     "name": "stdout",
     "output_type": "stream",
     "text": [
      "[13:51:03] WARNING: C:/Users/Administrator/workspace/xgboost-win64_release_1.5.0/src/learner.cc:1115: Starting in XGBoost 1.3.0, the default evaluation metric used with the objective 'binary:logistic' was changed from 'error' to 'logloss'. Explicitly set eval_metric if you'd like to restore the old behavior.\n"
     ]
    },
    {
     "data": {
      "text/plain": [
       "XGBClassifier(base_score=0.5, booster='gbtree', colsample_bylevel=1,\n",
       "              colsample_bynode=1, colsample_bytree=1, enable_categorical=False,\n",
       "              gamma=0, gpu_id=-1, importance_type=None,\n",
       "              interaction_constraints='', learning_rate=0.1, max_delta_step=0,\n",
       "              max_depth=3, min_child_weight=5, missing=nan,\n",
       "              monotone_constraints='()', n_estimators=140, n_jobs=8,\n",
       "              num_parallel_tree=1, predictor='auto', random_state=400,\n",
       "              reg_alpha=0, reg_lambda=1, scale_pos_weight=1, subsample=1,\n",
       "              tree_method='exact', validate_parameters=1, verbosity=None)"
      ]
     },
     "execution_count": 67,
     "metadata": {},
     "output_type": "execute_result"
    }
   ],
   "source": [
    "xgb1_os=XGBClassifier(n_estimators=140,learning_rate=0.1,max_depth=3,min_child_weight=5,random_state=400)\n",
    "xgb1_os.fit(xtrain_sm,ytrain_sm,sample_weight=compute_sample_weight(class_weight='balanced', y=ytrain_sm))"
   ]
  },
  {
   "cell_type": "code",
   "execution_count": 68,
   "id": "6f37ff2c",
   "metadata": {},
   "outputs": [
    {
     "data": {
      "text/plain": [
       "0.9092625050559525"
      ]
     },
     "execution_count": 68,
     "metadata": {},
     "output_type": "execute_result"
    }
   ],
   "source": [
    "xgb1_os.score(X_test,y_test)"
   ]
  },
  {
   "cell_type": "code",
   "execution_count": 69,
   "id": "7aeef14e",
   "metadata": {},
   "outputs": [
    {
     "name": "stdout",
     "output_type": "stream",
     "text": [
      "Confusion matrix:\n",
      " [[6165  420]\n",
      " [ 253  579]] \n",
      "\n",
      "Classification Report:\n",
      "               precision    recall  f1-score   support\n",
      "\n",
      "           0       0.96      0.94      0.95      6585\n",
      "           1       0.58      0.70      0.63       832\n",
      "\n",
      "    accuracy                           0.91      7417\n",
      "   macro avg       0.77      0.82      0.79      7417\n",
      "weighted avg       0.92      0.91      0.91      7417\n",
      "\n",
      "Accuracy: 0.9092625050559525\n"
     ]
    }
   ],
   "source": [
    "display_metrics(X_test,y_test,xgb1_os)"
   ]
  },
  {
   "cell_type": "markdown",
   "id": "4e16d729",
   "metadata": {},
   "source": [
    "#### The f1 score for class 1 increased from 56 to 63 with oversampling"
   ]
  },
  {
   "cell_type": "markdown",
   "id": "e56d958b",
   "metadata": {},
   "source": [
    "### Undersampling"
   ]
  },
  {
   "cell_type": "code",
   "execution_count": 75,
   "id": "3626d9ea",
   "metadata": {},
   "outputs": [
    {
     "name": "stdout",
     "output_type": "stream",
     "text": [
      "[15:28:19] WARNING: C:/Users/Administrator/workspace/xgboost-win64_release_1.5.0/src/learner.cc:1115: Starting in XGBoost 1.3.0, the default evaluation metric used with the objective 'binary:logistic' was changed from 'error' to 'logloss'. Explicitly set eval_metric if you'd like to restore the old behavior.\n"
     ]
    },
    {
     "data": {
      "text/plain": [
       "XGBClassifier(base_score=0.5, booster='gbtree', colsample_bylevel=1,\n",
       "              colsample_bynode=1, colsample_bytree=1, enable_categorical=False,\n",
       "              gamma=0, gpu_id=-1, importance_type=None,\n",
       "              interaction_constraints='', learning_rate=0.300000012,\n",
       "              max_delta_step=0, max_depth=6, min_child_weight=1, missing=nan,\n",
       "              monotone_constraints='()', n_estimators=80, n_jobs=8,\n",
       "              num_parallel_tree=1, predictor='auto', random_state=400,\n",
       "              reg_alpha=0, reg_lambda=1, scale_pos_weight=1, subsample=1,\n",
       "              tree_method='exact', validate_parameters=1, verbosity=None)"
      ]
     },
     "execution_count": 75,
     "metadata": {},
     "output_type": "execute_result"
    }
   ],
   "source": [
    "xgb1_us=XGBClassifier(n_estimators=80,random_state=400)\n",
    "xgb1_us.fit(X_train_ns,y_train_ns)"
   ]
  },
  {
   "cell_type": "code",
   "execution_count": 76,
   "id": "e667c7ff",
   "metadata": {},
   "outputs": [
    {
     "data": {
      "text/plain": [
       "0.8483214237562356"
      ]
     },
     "execution_count": 76,
     "metadata": {},
     "output_type": "execute_result"
    }
   ],
   "source": [
    "xgb1_us.score(X_test,y_test)"
   ]
  },
  {
   "cell_type": "code",
   "execution_count": 77,
   "id": "d8711f1e",
   "metadata": {},
   "outputs": [
    {
     "name": "stdout",
     "output_type": "stream",
     "text": [
      "Confusion matrix:\n",
      " [[5585 1000]\n",
      " [ 125  707]] \n",
      "\n",
      "Classification Report:\n",
      "               precision    recall  f1-score   support\n",
      "\n",
      "           0       0.98      0.85      0.91      6585\n",
      "           1       0.41      0.85      0.56       832\n",
      "\n",
      "    accuracy                           0.85      7417\n",
      "   macro avg       0.70      0.85      0.73      7417\n",
      "weighted avg       0.91      0.85      0.87      7417\n",
      "\n",
      "Accuracy: 0.8483214237562356\n"
     ]
    }
   ],
   "source": [
    "display_metrics(X_test,y_test,xgb1_us)"
   ]
  },
  {
   "cell_type": "markdown",
   "id": "be3850e4",
   "metadata": {},
   "source": [
    "#### The f1 score for class 1 got reduced to 56 with oversampling"
   ]
  },
  {
   "cell_type": "markdown",
   "id": "137a493f",
   "metadata": {},
   "source": [
    "#### The highest f1 score of 63 for class 1  63 is got in oversampling in XGBoost"
   ]
  },
  {
   "cell_type": "code",
   "execution_count": null,
   "id": "52b707ba",
   "metadata": {},
   "outputs": [],
   "source": []
  }
 ],
 "metadata": {
  "kernelspec": {
   "display_name": "Python 3",
   "language": "python",
   "name": "python3"
  },
  "language_info": {
   "codemirror_mode": {
    "name": "ipython",
    "version": 3
   },
   "file_extension": ".py",
   "mimetype": "text/x-python",
   "name": "python",
   "nbconvert_exporter": "python",
   "pygments_lexer": "ipython3",
   "version": "3.8.8"
  }
 },
 "nbformat": 4,
 "nbformat_minor": 5
}
