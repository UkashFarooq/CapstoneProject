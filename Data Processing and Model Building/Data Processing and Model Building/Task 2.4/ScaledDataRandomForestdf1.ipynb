{
 "cells": [
  {
   "cell_type": "code",
   "execution_count": 1,
   "id": "8bdb247c",
   "metadata": {},
   "outputs": [],
   "source": [
    "\n",
    "\n",
    "import pandas as pd\n",
    "import numpy as np\n",
    "import matplotlib.pyplot as plt\n",
    "%matplotlib inline\n",
    "import seaborn as sns\n",
    "import warnings\n",
    "warnings.filterwarnings('ignore')\n",
    "from matplotlib import style\n",
    "style.use(\"classic\")\n",
    "\n",
    "## Reading ,merging  and understanding the required dataset\n",
    "\n",
    "df1=pd.read_csv('Customer_and_bank details_p1.csv')\n",
    "df2=pd.read_csv('Customer_campaign_details_p1.csv')\n",
    "df3=pd.read_csv('Customer_Postal_Code_details.csv')\n",
    "df4=pd.read_csv('Customer_Response_data_p1.csv')\n",
    "df5=pd.read_csv('Customer_social_economic_data_p1.csv')\n",
    "region=pd.read_csv(\"Region_code_master.csv\")\n",
    "city=pd.read_csv(\"City_Master.csv\")\n",
    "state=pd.read_csv(\"State_Master.csv\")\n",
    "df3=df3.rename({'customer_id':'Customer_id'},axis='columns')\n",
    "df6=pd.merge(df1,df2, on='Customer_id', how='inner')\n",
    "df7=pd.merge(df4,df5, on='Customer_id', how='inner')\n",
    "df8=pd.merge(df6,df7, on='Customer_id', how='inner')\n",
    "df=pd.merge(df8,df3,on='Customer_id' ,how='inner')\n",
    "df=pd.merge(df,state,on='State_Code')\n",
    "df=pd.merge(df,city,on='City_Code')\n",
    "df=df.drop(['State_Code_y','Region_Code_y'],axis=1)\n",
    "df=df.rename({'Region_Code_x':'Region_Code','State_Code_x':'State_Code','y':'Response_Target'},axis=1)\n",
    "df1=pd.merge(state,region,on=\"Region_Code\")\n",
    "df=pd.merge(df,df1,on='State_Code')\n",
    "df=df.drop(['State_Name_y','Region_Code_y'],axis=1)\n",
    "df_data=df.drop(['Customer_id','Region_Code_x','State_Code','City_Code','Postal Code'],axis=1)\n",
    "df_data['Response_Target']=df_data['Response_Target'].map(lambda x:1 if x=='yes' else 0)\n",
    "\n"
   ]
  },
  {
   "cell_type": "code",
   "execution_count": 2,
   "id": "d3625f69",
   "metadata": {},
   "outputs": [],
   "source": [
    "def con(x):\n",
    "    if x==999:\n",
    "        return 'no'\n",
    "    else:\n",
    "        return 'yes'\n",
    "\n",
    "df_data['pdays']=df_data['pdays'].map(con)"
   ]
  },
  {
   "cell_type": "code",
   "execution_count": 3,
   "id": "e95fe164",
   "metadata": {},
   "outputs": [],
   "source": [
    "def get_duration(x):\n",
    "    if 0<x<200:\n",
    "        return 'LOW'\n",
    "    elif 200<=x<700:\n",
    "        return 'MEDIUM'\n",
    "    else:\n",
    "        return 'HIGH'\n",
    "df_data['duration']=df_data.duration.map(get_duration)"
   ]
  },
  {
   "cell_type": "code",
   "execution_count": 4,
   "id": "33821967",
   "metadata": {},
   "outputs": [],
   "source": [
    "age_median=df_data.age.median()\n",
    "campaign_median=df_data.campaign.median()\n",
    "\n",
    "df_data['age'].loc[(df_data['age']>df_data.age.quantile(0.99))]=age_median\n",
    "df_data['campaign'].loc[(df_data['campaign']>df_data.campaign.quantile(0.99))]=campaign_median"
   ]
  },
  {
   "cell_type": "code",
   "execution_count": 5,
   "id": "4fb77fe3",
   "metadata": {},
   "outputs": [
    {
     "data": {
      "text/html": [
       "<div>\n",
       "<style scoped>\n",
       "    .dataframe tbody tr th:only-of-type {\n",
       "        vertical-align: middle;\n",
       "    }\n",
       "\n",
       "    .dataframe tbody tr th {\n",
       "        vertical-align: top;\n",
       "    }\n",
       "\n",
       "    .dataframe thead th {\n",
       "        text-align: right;\n",
       "    }\n",
       "</style>\n",
       "<table border=\"1\" class=\"dataframe\">\n",
       "  <thead>\n",
       "    <tr style=\"text-align: right;\">\n",
       "      <th></th>\n",
       "      <th>age</th>\n",
       "      <th>job</th>\n",
       "      <th>marital</th>\n",
       "      <th>education</th>\n",
       "      <th>default</th>\n",
       "      <th>housing</th>\n",
       "      <th>loan</th>\n",
       "      <th>contact</th>\n",
       "      <th>month</th>\n",
       "      <th>day_of_week</th>\n",
       "      <th>...</th>\n",
       "      <th>poutcome</th>\n",
       "      <th>Response_Target</th>\n",
       "      <th>emp.var.rate</th>\n",
       "      <th>cons.price.idx</th>\n",
       "      <th>cons.conf.idx</th>\n",
       "      <th>euribor3m</th>\n",
       "      <th>nr.employed</th>\n",
       "      <th>State_Name_x</th>\n",
       "      <th>City_Name</th>\n",
       "      <th>Region_Name</th>\n",
       "    </tr>\n",
       "  </thead>\n",
       "  <tbody>\n",
       "    <tr>\n",
       "      <th>0</th>\n",
       "      <td>56</td>\n",
       "      <td>services</td>\n",
       "      <td>married</td>\n",
       "      <td>high.school</td>\n",
       "      <td>no</td>\n",
       "      <td>no</td>\n",
       "      <td>yes</td>\n",
       "      <td>telephone</td>\n",
       "      <td>may</td>\n",
       "      <td>mon</td>\n",
       "      <td>...</td>\n",
       "      <td>nonexistent</td>\n",
       "      <td>0</td>\n",
       "      <td>1.1</td>\n",
       "      <td>93.994</td>\n",
       "      <td>-36.4</td>\n",
       "      <td>4.857</td>\n",
       "      <td>5191.0</td>\n",
       "      <td>Kentucky</td>\n",
       "      <td>Henderson</td>\n",
       "      <td>South</td>\n",
       "    </tr>\n",
       "    <tr>\n",
       "      <th>1</th>\n",
       "      <td>45</td>\n",
       "      <td>services</td>\n",
       "      <td>married</td>\n",
       "      <td>basic.9y</td>\n",
       "      <td>unknown</td>\n",
       "      <td>no</td>\n",
       "      <td>no</td>\n",
       "      <td>telephone</td>\n",
       "      <td>may</td>\n",
       "      <td>mon</td>\n",
       "      <td>...</td>\n",
       "      <td>nonexistent</td>\n",
       "      <td>0</td>\n",
       "      <td>1.1</td>\n",
       "      <td>93.994</td>\n",
       "      <td>-36.4</td>\n",
       "      <td>4.857</td>\n",
       "      <td>5191.0</td>\n",
       "      <td>Kentucky</td>\n",
       "      <td>Henderson</td>\n",
       "      <td>South</td>\n",
       "    </tr>\n",
       "    <tr>\n",
       "      <th>2</th>\n",
       "      <td>32</td>\n",
       "      <td>admin.</td>\n",
       "      <td>single</td>\n",
       "      <td>university.degree</td>\n",
       "      <td>no</td>\n",
       "      <td>no</td>\n",
       "      <td>no</td>\n",
       "      <td>telephone</td>\n",
       "      <td>may</td>\n",
       "      <td>tue</td>\n",
       "      <td>...</td>\n",
       "      <td>nonexistent</td>\n",
       "      <td>0</td>\n",
       "      <td>1.1</td>\n",
       "      <td>93.994</td>\n",
       "      <td>-36.4</td>\n",
       "      <td>4.857</td>\n",
       "      <td>5191.0</td>\n",
       "      <td>Kentucky</td>\n",
       "      <td>Henderson</td>\n",
       "      <td>South</td>\n",
       "    </tr>\n",
       "    <tr>\n",
       "      <th>3</th>\n",
       "      <td>36</td>\n",
       "      <td>services</td>\n",
       "      <td>married</td>\n",
       "      <td>high.school</td>\n",
       "      <td>no</td>\n",
       "      <td>no</td>\n",
       "      <td>no</td>\n",
       "      <td>telephone</td>\n",
       "      <td>may</td>\n",
       "      <td>tue</td>\n",
       "      <td>...</td>\n",
       "      <td>nonexistent</td>\n",
       "      <td>0</td>\n",
       "      <td>1.1</td>\n",
       "      <td>93.994</td>\n",
       "      <td>-36.4</td>\n",
       "      <td>4.857</td>\n",
       "      <td>5191.0</td>\n",
       "      <td>Kentucky</td>\n",
       "      <td>Henderson</td>\n",
       "      <td>South</td>\n",
       "    </tr>\n",
       "    <tr>\n",
       "      <th>4</th>\n",
       "      <td>31</td>\n",
       "      <td>blue-collar</td>\n",
       "      <td>married</td>\n",
       "      <td>basic.9y</td>\n",
       "      <td>no</td>\n",
       "      <td>no</td>\n",
       "      <td>no</td>\n",
       "      <td>telephone</td>\n",
       "      <td>may</td>\n",
       "      <td>wed</td>\n",
       "      <td>...</td>\n",
       "      <td>nonexistent</td>\n",
       "      <td>0</td>\n",
       "      <td>1.1</td>\n",
       "      <td>93.994</td>\n",
       "      <td>-36.4</td>\n",
       "      <td>4.856</td>\n",
       "      <td>5191.0</td>\n",
       "      <td>Kentucky</td>\n",
       "      <td>Henderson</td>\n",
       "      <td>South</td>\n",
       "    </tr>\n",
       "    <tr>\n",
       "      <th>...</th>\n",
       "      <td>...</td>\n",
       "      <td>...</td>\n",
       "      <td>...</td>\n",
       "      <td>...</td>\n",
       "      <td>...</td>\n",
       "      <td>...</td>\n",
       "      <td>...</td>\n",
       "      <td>...</td>\n",
       "      <td>...</td>\n",
       "      <td>...</td>\n",
       "      <td>...</td>\n",
       "      <td>...</td>\n",
       "      <td>...</td>\n",
       "      <td>...</td>\n",
       "      <td>...</td>\n",
       "      <td>...</td>\n",
       "      <td>...</td>\n",
       "      <td>...</td>\n",
       "      <td>...</td>\n",
       "      <td>...</td>\n",
       "      <td>...</td>\n",
       "    </tr>\n",
       "    <tr>\n",
       "      <th>37079</th>\n",
       "      <td>37</td>\n",
       "      <td>housemaid</td>\n",
       "      <td>divorced</td>\n",
       "      <td>high.school</td>\n",
       "      <td>no</td>\n",
       "      <td>no</td>\n",
       "      <td>no</td>\n",
       "      <td>cellular</td>\n",
       "      <td>sep</td>\n",
       "      <td>wed</td>\n",
       "      <td>...</td>\n",
       "      <td>nonexistent</td>\n",
       "      <td>0</td>\n",
       "      <td>-3.4</td>\n",
       "      <td>92.379</td>\n",
       "      <td>-29.8</td>\n",
       "      <td>0.753</td>\n",
       "      <td>5017.5</td>\n",
       "      <td>North Dakota</td>\n",
       "      <td>Fargo</td>\n",
       "      <td>Central</td>\n",
       "    </tr>\n",
       "    <tr>\n",
       "      <th>37080</th>\n",
       "      <td>58</td>\n",
       "      <td>unknown</td>\n",
       "      <td>married</td>\n",
       "      <td>basic.4y</td>\n",
       "      <td>no</td>\n",
       "      <td>yes</td>\n",
       "      <td>no</td>\n",
       "      <td>telephone</td>\n",
       "      <td>may</td>\n",
       "      <td>wed</td>\n",
       "      <td>...</td>\n",
       "      <td>nonexistent</td>\n",
       "      <td>0</td>\n",
       "      <td>1.1</td>\n",
       "      <td>93.994</td>\n",
       "      <td>-36.4</td>\n",
       "      <td>4.857</td>\n",
       "      <td>5191.0</td>\n",
       "      <td>Wyoming</td>\n",
       "      <td>Cheyenne</td>\n",
       "      <td>West</td>\n",
       "    </tr>\n",
       "    <tr>\n",
       "      <th>37081</th>\n",
       "      <td>43</td>\n",
       "      <td>unemployed</td>\n",
       "      <td>divorced</td>\n",
       "      <td>basic.9y</td>\n",
       "      <td>no</td>\n",
       "      <td>no</td>\n",
       "      <td>no</td>\n",
       "      <td>cellular</td>\n",
       "      <td>jul</td>\n",
       "      <td>mon</td>\n",
       "      <td>...</td>\n",
       "      <td>nonexistent</td>\n",
       "      <td>0</td>\n",
       "      <td>1.4</td>\n",
       "      <td>93.918</td>\n",
       "      <td>-42.7</td>\n",
       "      <td>4.962</td>\n",
       "      <td>5228.1</td>\n",
       "      <td>Wyoming</td>\n",
       "      <td>Cheyenne</td>\n",
       "      <td>West</td>\n",
       "    </tr>\n",
       "    <tr>\n",
       "      <th>37082</th>\n",
       "      <td>37</td>\n",
       "      <td>admin.</td>\n",
       "      <td>single</td>\n",
       "      <td>high.school</td>\n",
       "      <td>no</td>\n",
       "      <td>no</td>\n",
       "      <td>no</td>\n",
       "      <td>cellular</td>\n",
       "      <td>apr</td>\n",
       "      <td>thu</td>\n",
       "      <td>...</td>\n",
       "      <td>failure</td>\n",
       "      <td>0</td>\n",
       "      <td>-1.8</td>\n",
       "      <td>93.075</td>\n",
       "      <td>-47.1</td>\n",
       "      <td>1.410</td>\n",
       "      <td>5099.1</td>\n",
       "      <td>Wyoming</td>\n",
       "      <td>Cheyenne</td>\n",
       "      <td>West</td>\n",
       "    </tr>\n",
       "    <tr>\n",
       "      <th>37083</th>\n",
       "      <td>47</td>\n",
       "      <td>admin.</td>\n",
       "      <td>divorced</td>\n",
       "      <td>high.school</td>\n",
       "      <td>no</td>\n",
       "      <td>yes</td>\n",
       "      <td>no</td>\n",
       "      <td>telephone</td>\n",
       "      <td>jun</td>\n",
       "      <td>mon</td>\n",
       "      <td>...</td>\n",
       "      <td>nonexistent</td>\n",
       "      <td>1</td>\n",
       "      <td>-1.7</td>\n",
       "      <td>94.055</td>\n",
       "      <td>-39.8</td>\n",
       "      <td>0.711</td>\n",
       "      <td>4991.6</td>\n",
       "      <td>Wyoming</td>\n",
       "      <td>Cheyenne</td>\n",
       "      <td>West</td>\n",
       "    </tr>\n",
       "  </tbody>\n",
       "</table>\n",
       "<p>37084 rows × 24 columns</p>\n",
       "</div>"
      ],
      "text/plain": [
       "       age          job   marital          education  default housing loan  \\\n",
       "0       56     services   married        high.school       no      no  yes   \n",
       "1       45     services   married           basic.9y  unknown      no   no   \n",
       "2       32       admin.    single  university.degree       no      no   no   \n",
       "3       36     services   married        high.school       no      no   no   \n",
       "4       31  blue-collar   married           basic.9y       no      no   no   \n",
       "...    ...          ...       ...                ...      ...     ...  ...   \n",
       "37079   37    housemaid  divorced        high.school       no      no   no   \n",
       "37080   58      unknown   married           basic.4y       no     yes   no   \n",
       "37081   43   unemployed  divorced           basic.9y       no      no   no   \n",
       "37082   37       admin.    single        high.school       no      no   no   \n",
       "37083   47       admin.  divorced        high.school       no     yes   no   \n",
       "\n",
       "         contact month day_of_week  ...     poutcome  Response_Target  \\\n",
       "0      telephone   may         mon  ...  nonexistent                0   \n",
       "1      telephone   may         mon  ...  nonexistent                0   \n",
       "2      telephone   may         tue  ...  nonexistent                0   \n",
       "3      telephone   may         tue  ...  nonexistent                0   \n",
       "4      telephone   may         wed  ...  nonexistent                0   \n",
       "...          ...   ...         ...  ...          ...              ...   \n",
       "37079   cellular   sep         wed  ...  nonexistent                0   \n",
       "37080  telephone   may         wed  ...  nonexistent                0   \n",
       "37081   cellular   jul         mon  ...  nonexistent                0   \n",
       "37082   cellular   apr         thu  ...      failure                0   \n",
       "37083  telephone   jun         mon  ...  nonexistent                1   \n",
       "\n",
       "      emp.var.rate  cons.price.idx cons.conf.idx  euribor3m  nr.employed  \\\n",
       "0              1.1          93.994         -36.4      4.857       5191.0   \n",
       "1              1.1          93.994         -36.4      4.857       5191.0   \n",
       "2              1.1          93.994         -36.4      4.857       5191.0   \n",
       "3              1.1          93.994         -36.4      4.857       5191.0   \n",
       "4              1.1          93.994         -36.4      4.856       5191.0   \n",
       "...            ...             ...           ...        ...          ...   \n",
       "37079         -3.4          92.379         -29.8      0.753       5017.5   \n",
       "37080          1.1          93.994         -36.4      4.857       5191.0   \n",
       "37081          1.4          93.918         -42.7      4.962       5228.1   \n",
       "37082         -1.8          93.075         -47.1      1.410       5099.1   \n",
       "37083         -1.7          94.055         -39.8      0.711       4991.6   \n",
       "\n",
       "       State_Name_x  City_Name  Region_Name  \n",
       "0          Kentucky  Henderson        South  \n",
       "1          Kentucky  Henderson        South  \n",
       "2          Kentucky  Henderson        South  \n",
       "3          Kentucky  Henderson        South  \n",
       "4          Kentucky  Henderson        South  \n",
       "...             ...        ...          ...  \n",
       "37079  North Dakota      Fargo      Central  \n",
       "37080       Wyoming   Cheyenne         West  \n",
       "37081       Wyoming   Cheyenne         West  \n",
       "37082       Wyoming   Cheyenne         West  \n",
       "37083       Wyoming   Cheyenne         West  \n",
       "\n",
       "[37084 rows x 24 columns]"
      ]
     },
     "execution_count": 5,
     "metadata": {},
     "output_type": "execute_result"
    }
   ],
   "source": [
    "df_data"
   ]
  },
  {
   "cell_type": "code",
   "execution_count": 6,
   "id": "1adfbdce",
   "metadata": {},
   "outputs": [],
   "source": [
    "df=df_data.copy()"
   ]
  },
  {
   "cell_type": "code",
   "execution_count": 7,
   "id": "7dd2ebfd",
   "metadata": {},
   "outputs": [
    {
     "data": {
      "text/plain": [
       "age                   0\n",
       "job                 306\n",
       "marital              72\n",
       "education          1549\n",
       "default            7700\n",
       "housing             882\n",
       "loan                882\n",
       "contact               0\n",
       "month                 0\n",
       "day_of_week           0\n",
       "duration              0\n",
       "campaign              0\n",
       "pdays                 0\n",
       "previous              0\n",
       "poutcome              0\n",
       "Response_Target       0\n",
       "emp.var.rate          0\n",
       "cons.price.idx        0\n",
       "cons.conf.idx         0\n",
       "euribor3m             0\n",
       "nr.employed           0\n",
       "State_Name_x          0\n",
       "City_Name             0\n",
       "Region_Name           0\n",
       "dtype: int64"
      ]
     },
     "execution_count": 7,
     "metadata": {},
     "output_type": "execute_result"
    }
   ],
   "source": [
    "df.replace('unknown',np.NaN,inplace=True)\n",
    "df.isnull().sum()"
   ]
  },
  {
   "cell_type": "code",
   "execution_count": 8,
   "id": "d4de38eb",
   "metadata": {},
   "outputs": [],
   "source": [
    "df['default']= df['default'].fillna('unknown')\n",
    "for col in df.columns:\n",
    "    df[col].fillna(df[col].mode()[0],inplace=True)"
   ]
  },
  {
   "cell_type": "code",
   "execution_count": 9,
   "id": "2f428039",
   "metadata": {},
   "outputs": [
    {
     "data": {
      "text/plain": [
       "age                0\n",
       "job                0\n",
       "marital            0\n",
       "education          0\n",
       "default            0\n",
       "housing            0\n",
       "loan               0\n",
       "contact            0\n",
       "month              0\n",
       "day_of_week        0\n",
       "duration           0\n",
       "campaign           0\n",
       "pdays              0\n",
       "previous           0\n",
       "poutcome           0\n",
       "Response_Target    0\n",
       "emp.var.rate       0\n",
       "cons.price.idx     0\n",
       "cons.conf.idx      0\n",
       "euribor3m          0\n",
       "nr.employed        0\n",
       "State_Name_x       0\n",
       "City_Name          0\n",
       "Region_Name        0\n",
       "dtype: int64"
      ]
     },
     "execution_count": 9,
     "metadata": {},
     "output_type": "execute_result"
    }
   ],
   "source": [
    "df.isnull().sum()"
   ]
  },
  {
   "cell_type": "code",
   "execution_count": 10,
   "id": "d1b13843",
   "metadata": {},
   "outputs": [
    {
     "data": {
      "text/plain": [
       "university.degree      12520\n",
       "middle.school          11260\n",
       "high.school             8542\n",
       "professional.course     4746\n",
       "illiterate                16\n",
       "Name: education, dtype: int64"
      ]
     },
     "execution_count": 10,
     "metadata": {},
     "output_type": "execute_result"
    }
   ],
   "source": [
    "\n",
    "lst=['basic.9y','basic.6y','basic.4y']\n",
    "for i in lst:\n",
    "    df.loc[df['education'] == i, 'education'] = \"middle.school\"\n",
    "\n",
    "df['education'].value_counts()"
   ]
  },
  {
   "cell_type": "code",
   "execution_count": 11,
   "id": "6f21723e",
   "metadata": {},
   "outputs": [],
   "source": [
    "\n",
    "month_dict={'may':5,'jul':7,'aug':8,'jun':6,'nov':11,'apr':4,'oct':10,'sep':9,'mar':3,'dec':12}\n",
    "df['month']= df['month'].map(month_dict) \n",
    "\n",
    "day_dict={'thu':5,'mon':2,'wed':4,'tue':3,'fri':6}\n",
    "df['day_of_week']= df['day_of_week'].map(day_dict)"
   ]
  },
  {
   "cell_type": "code",
   "execution_count": 12,
   "id": "01146bca",
   "metadata": {},
   "outputs": [],
   "source": [
    "dictionary={'yes':1,'no':0,'unknown':-1}\n",
    "df['housing']=df['housing'].map(dictionary)\n",
    "df['default']=df['default'].map(dictionary)\n",
    "df['loan']=df['loan'].map(dictionary)\n",
    "\n"
   ]
  },
  {
   "cell_type": "code",
   "execution_count": 13,
   "id": "2f67fbca",
   "metadata": {},
   "outputs": [],
   "source": [
    "df1=df.copy()\n"
   ]
  },
  {
   "cell_type": "code",
   "execution_count": 14,
   "id": "7f6e0d7f",
   "metadata": {},
   "outputs": [],
   "source": [
    "numerical=df1.select_dtypes(include='int64').columns\n",
    "flt=df1.select_dtypes(include='float64').columns.to_list()\n",
    "flt\n",
    "\n",
    "numerical=numerical.drop(['month','day_of_week','Response_Target']).to_list()\n",
    "\n",
    "numerical=np.concatenate([numerical,flt])\n",
    "\n",
    "for num in numerical:\n",
    "    df1[num]=(df1[num]-df1[num].mean())/df1[num].std()\n",
    "    "
   ]
  },
  {
   "cell_type": "code",
   "execution_count": 15,
   "id": "13ab1f93",
   "metadata": {},
   "outputs": [],
   "source": [
    "cat=df.select_dtypes(include=['object']).columns\n",
    "from sklearn.preprocessing import LabelEncoder\n",
    "le=LabelEncoder()\n",
    "for col in cat:\n",
    "    df[col]=le.fit_transform(df[col])\n"
   ]
  },
  {
   "cell_type": "code",
   "execution_count": 16,
   "id": "2cdee04e",
   "metadata": {},
   "outputs": [],
   "source": [
    "df1['month']=df1['month'].astype('object')\n",
    "df1['day_of_week']=df1['day_of_week'].astype('object')\n",
    "\n",
    "df2=df1.copy()\n",
    "\n",
    "cat=df1.select_dtypes(include='object').columns\n",
    "le=LabelEncoder()\n",
    "for cgt in cat:\n",
    "    df1[cgt]=le.fit_transform(df1[cgt])\n",
    "\n",
    "df1.drop('Response_Target',axis=1,inplace=True)"
   ]
  },
  {
   "cell_type": "code",
   "execution_count": 17,
   "id": "d65767bc",
   "metadata": {},
   "outputs": [],
   "source": [
    "df3=pd.get_dummies(df2.drop('City_Name',axis=1))\n",
    "df3.drop('Response_Target',axis=1,inplace=True)"
   ]
  },
  {
   "cell_type": "code",
   "execution_count": 18,
   "id": "49c6e3ca",
   "metadata": {},
   "outputs": [],
   "source": [
    "res=df.pop('Response_Target')"
   ]
  },
  {
   "cell_type": "code",
   "execution_count": 19,
   "id": "14ca54bb",
   "metadata": {},
   "outputs": [],
   "source": [
    "y=res"
   ]
  },
  {
   "cell_type": "code",
   "execution_count": 20,
   "id": "dd6c2804",
   "metadata": {},
   "outputs": [
    {
     "data": {
      "text/html": [
       "<div>\n",
       "<style scoped>\n",
       "    .dataframe tbody tr th:only-of-type {\n",
       "        vertical-align: middle;\n",
       "    }\n",
       "\n",
       "    .dataframe tbody tr th {\n",
       "        vertical-align: top;\n",
       "    }\n",
       "\n",
       "    .dataframe thead th {\n",
       "        text-align: right;\n",
       "    }\n",
       "</style>\n",
       "<table border=\"1\" class=\"dataframe\">\n",
       "  <thead>\n",
       "    <tr style=\"text-align: right;\">\n",
       "      <th></th>\n",
       "      <th>age</th>\n",
       "      <th>job</th>\n",
       "      <th>marital</th>\n",
       "      <th>education</th>\n",
       "      <th>default</th>\n",
       "      <th>housing</th>\n",
       "      <th>loan</th>\n",
       "      <th>contact</th>\n",
       "      <th>month</th>\n",
       "      <th>day_of_week</th>\n",
       "      <th>...</th>\n",
       "      <th>previous</th>\n",
       "      <th>poutcome</th>\n",
       "      <th>emp.var.rate</th>\n",
       "      <th>cons.price.idx</th>\n",
       "      <th>cons.conf.idx</th>\n",
       "      <th>euribor3m</th>\n",
       "      <th>nr.employed</th>\n",
       "      <th>State_Name_x</th>\n",
       "      <th>City_Name</th>\n",
       "      <th>Region_Name</th>\n",
       "    </tr>\n",
       "  </thead>\n",
       "  <tbody>\n",
       "    <tr>\n",
       "      <th>0</th>\n",
       "      <td>1.675998</td>\n",
       "      <td>0.947357</td>\n",
       "      <td>-0.281038</td>\n",
       "      <td>-1.549998</td>\n",
       "      <td>0.511654</td>\n",
       "      <td>-1.100664</td>\n",
       "      <td>2.360934</td>\n",
       "      <td>1.316968</td>\n",
       "      <td>-0.786267</td>\n",
       "      <td>-1.402824</td>\n",
       "      <td>...</td>\n",
       "      <td>-0.34899</td>\n",
       "      <td>0.191987</td>\n",
       "      <td>0.648404</td>\n",
       "      <td>0.722446</td>\n",
       "      <td>0.888187</td>\n",
       "      <td>0.712439</td>\n",
       "      <td>0.331618</td>\n",
       "      <td>-0.470397</td>\n",
       "      <td>-0.619294</td>\n",
       "      <td>0.367676</td>\n",
       "    </tr>\n",
       "    <tr>\n",
       "      <th>1</th>\n",
       "      <td>0.546807</td>\n",
       "      <td>0.947357</td>\n",
       "      <td>-0.281038</td>\n",
       "      <td>-0.226395</td>\n",
       "      <td>-1.953165</td>\n",
       "      <td>-1.100664</td>\n",
       "      <td>-0.423561</td>\n",
       "      <td>1.316968</td>\n",
       "      <td>-0.786267</td>\n",
       "      <td>-1.402824</td>\n",
       "      <td>...</td>\n",
       "      <td>-0.34899</td>\n",
       "      <td>0.191987</td>\n",
       "      <td>0.648404</td>\n",
       "      <td>0.722446</td>\n",
       "      <td>0.888187</td>\n",
       "      <td>0.712439</td>\n",
       "      <td>0.331618</td>\n",
       "      <td>-0.470397</td>\n",
       "      <td>-0.619294</td>\n",
       "      <td>0.367676</td>\n",
       "    </tr>\n",
       "    <tr>\n",
       "      <th>2</th>\n",
       "      <td>-0.787691</td>\n",
       "      <td>-1.022702</td>\n",
       "      <td>1.378254</td>\n",
       "      <td>1.097209</td>\n",
       "      <td>0.511654</td>\n",
       "      <td>-1.100664</td>\n",
       "      <td>-0.423561</td>\n",
       "      <td>1.316968</td>\n",
       "      <td>-0.786267</td>\n",
       "      <td>-0.694131</td>\n",
       "      <td>...</td>\n",
       "      <td>-0.34899</td>\n",
       "      <td>0.191987</td>\n",
       "      <td>0.648404</td>\n",
       "      <td>0.722446</td>\n",
       "      <td>0.888187</td>\n",
       "      <td>0.712439</td>\n",
       "      <td>0.331618</td>\n",
       "      <td>-0.470397</td>\n",
       "      <td>-0.619294</td>\n",
       "      <td>0.367676</td>\n",
       "    </tr>\n",
       "    <tr>\n",
       "      <th>3</th>\n",
       "      <td>-0.377076</td>\n",
       "      <td>0.947357</td>\n",
       "      <td>-0.281038</td>\n",
       "      <td>-1.549998</td>\n",
       "      <td>0.511654</td>\n",
       "      <td>-1.100664</td>\n",
       "      <td>-0.423561</td>\n",
       "      <td>1.316968</td>\n",
       "      <td>-0.786267</td>\n",
       "      <td>-0.694131</td>\n",
       "      <td>...</td>\n",
       "      <td>-0.34899</td>\n",
       "      <td>0.191987</td>\n",
       "      <td>0.648404</td>\n",
       "      <td>0.722446</td>\n",
       "      <td>0.888187</td>\n",
       "      <td>0.712439</td>\n",
       "      <td>0.331618</td>\n",
       "      <td>-0.470397</td>\n",
       "      <td>-0.619294</td>\n",
       "      <td>0.367676</td>\n",
       "    </tr>\n",
       "    <tr>\n",
       "      <th>4</th>\n",
       "      <td>-0.890344</td>\n",
       "      <td>-0.741265</td>\n",
       "      <td>-0.281038</td>\n",
       "      <td>-0.226395</td>\n",
       "      <td>0.511654</td>\n",
       "      <td>-1.100664</td>\n",
       "      <td>-0.423561</td>\n",
       "      <td>1.316968</td>\n",
       "      <td>-0.786267</td>\n",
       "      <td>0.014562</td>\n",
       "      <td>...</td>\n",
       "      <td>-0.34899</td>\n",
       "      <td>0.191987</td>\n",
       "      <td>0.648404</td>\n",
       "      <td>0.722446</td>\n",
       "      <td>0.888187</td>\n",
       "      <td>0.711862</td>\n",
       "      <td>0.331618</td>\n",
       "      <td>-0.470397</td>\n",
       "      <td>-0.619294</td>\n",
       "      <td>0.367676</td>\n",
       "    </tr>\n",
       "  </tbody>\n",
       "</table>\n",
       "<p>5 rows × 23 columns</p>\n",
       "</div>"
      ],
      "text/plain": [
       "        age       job   marital  education   default   housing      loan  \\\n",
       "0  1.675998  0.947357 -0.281038  -1.549998  0.511654 -1.100664  2.360934   \n",
       "1  0.546807  0.947357 -0.281038  -0.226395 -1.953165 -1.100664 -0.423561   \n",
       "2 -0.787691 -1.022702  1.378254   1.097209  0.511654 -1.100664 -0.423561   \n",
       "3 -0.377076  0.947357 -0.281038  -1.549998  0.511654 -1.100664 -0.423561   \n",
       "4 -0.890344 -0.741265 -0.281038  -0.226395  0.511654 -1.100664 -0.423561   \n",
       "\n",
       "    contact     month  day_of_week  ...  previous  poutcome  emp.var.rate  \\\n",
       "0  1.316968 -0.786267    -1.402824  ...  -0.34899  0.191987      0.648404   \n",
       "1  1.316968 -0.786267    -1.402824  ...  -0.34899  0.191987      0.648404   \n",
       "2  1.316968 -0.786267    -0.694131  ...  -0.34899  0.191987      0.648404   \n",
       "3  1.316968 -0.786267    -0.694131  ...  -0.34899  0.191987      0.648404   \n",
       "4  1.316968 -0.786267     0.014562  ...  -0.34899  0.191987      0.648404   \n",
       "\n",
       "   cons.price.idx  cons.conf.idx  euribor3m  nr.employed  State_Name_x  \\\n",
       "0        0.722446       0.888187   0.712439     0.331618     -0.470397   \n",
       "1        0.722446       0.888187   0.712439     0.331618     -0.470397   \n",
       "2        0.722446       0.888187   0.712439     0.331618     -0.470397   \n",
       "3        0.722446       0.888187   0.712439     0.331618     -0.470397   \n",
       "4        0.722446       0.888187   0.711862     0.331618     -0.470397   \n",
       "\n",
       "   City_Name  Region_Name  \n",
       "0  -0.619294     0.367676  \n",
       "1  -0.619294     0.367676  \n",
       "2  -0.619294     0.367676  \n",
       "3  -0.619294     0.367676  \n",
       "4  -0.619294     0.367676  \n",
       "\n",
       "[5 rows x 23 columns]"
      ]
     },
     "execution_count": 20,
     "metadata": {},
     "output_type": "execute_result"
    }
   ],
   "source": [
    "from sklearn.preprocessing import StandardScaler\n",
    "\n",
    "sc = StandardScaler().fit(df)\n",
    "Stand_df = sc.transform(df)\n",
    "df_Scaled = pd.DataFrame(Stand_df,columns=df.columns)\n",
    "df_Scaled.head()"
   ]
  },
  {
   "cell_type": "markdown",
   "id": "9875f83e",
   "metadata": {},
   "source": [
    "### df_Scaled  is all scaled data\n",
    "### df1 is numeric scaled data with labels\n",
    "### df3 is numeric scaled with dummies"
   ]
  },
  {
   "cell_type": "markdown",
   "id": "eda6dafb",
   "metadata": {},
   "source": [
    "y is the target"
   ]
  },
  {
   "cell_type": "code",
   "execution_count": 21,
   "id": "4a5a39f2",
   "metadata": {},
   "outputs": [
    {
     "data": {
      "text/plain": [
       "(37084, 23)"
      ]
     },
     "execution_count": 21,
     "metadata": {},
     "output_type": "execute_result"
    }
   ],
   "source": [
    "X=df\n",
    "X.shape"
   ]
  },
  {
   "cell_type": "code",
   "execution_count": 22,
   "id": "bb0c49a6",
   "metadata": {},
   "outputs": [],
   "source": [
    "from sklearn.ensemble import RandomForestClassifier"
   ]
  },
  {
   "cell_type": "code",
   "execution_count": 55,
   "id": "3b91de8e",
   "metadata": {},
   "outputs": [],
   "source": [
    "Randomclf=RandomForestClassifier(n_estimators=80,oob_score=True,n_jobs=-1,random_state=400)"
   ]
  },
  {
   "cell_type": "code",
   "execution_count": 56,
   "id": "64ac69f1",
   "metadata": {},
   "outputs": [],
   "source": [
    "from sklearn.model_selection import train_test_split\n",
    "X_train,X_test,y_train,y_test=train_test_split(X,y,train_size=0.8)"
   ]
  },
  {
   "cell_type": "code",
   "execution_count": 58,
   "id": "4ca7a095",
   "metadata": {},
   "outputs": [
    {
     "data": {
      "text/plain": [
       "RandomForestClassifier(n_estimators=80, n_jobs=-1, oob_score=True,\n",
       "                       random_state=400)"
      ]
     },
     "execution_count": 58,
     "metadata": {},
     "output_type": "execute_result"
    }
   ],
   "source": [
    "Randomclf.fit(X_train,y_train)"
   ]
  },
  {
   "cell_type": "code",
   "execution_count": 60,
   "id": "7c336271",
   "metadata": {},
   "outputs": [
    {
     "data": {
      "text/plain": [
       "0.9076414871743014"
      ]
     },
     "execution_count": 60,
     "metadata": {},
     "output_type": "execute_result"
    }
   ],
   "source": [
    "Randomclf.oob_score_"
   ]
  },
  {
   "cell_type": "code",
   "execution_count": 126,
   "id": "73d67441",
   "metadata": {},
   "outputs": [
    {
     "name": "stdout",
     "output_type": "stream",
     "text": [
      "For n_estimators = 10\n",
      "OOB score is 0.9096302288738328\n",
      "************************\n",
      "For n_estimators = 30\n",
      "OOB score is 0.9096302288738328\n",
      "************************\n",
      "For n_estimators = 50\n",
      "OOB score is 0.9096302288738328\n",
      "************************\n",
      "For n_estimators = 70\n",
      "OOB score is 0.9096302288738328\n",
      "************************\n",
      "For n_estimators = 90\n",
      "OOB score is 0.9096302288738328\n",
      "************************\n",
      "For n_estimators = 110\n",
      "OOB score is 0.9096302288738328\n",
      "************************\n",
      "For n_estimators = 130\n",
      "OOB score is 0.9096302288738328\n",
      "************************\n",
      "For n_estimators = 150\n",
      "OOB score is 0.9096302288738328\n",
      "************************\n",
      "For n_estimators = 170\n",
      "OOB score is 0.9096302288738328\n",
      "************************\n",
      "For n_estimators = 190\n",
      "OOB score is 0.9096302288738328\n",
      "************************\n",
      "For n_estimators = 210\n",
      "OOB score is 0.9096302288738328\n",
      "************************\n",
      "For n_estimators = 230\n",
      "OOB score is 0.9096302288738328\n",
      "************************\n",
      "For n_estimators = 250\n",
      "OOB score is 0.9096302288738328\n",
      "************************\n",
      "For n_estimators = 270\n",
      "OOB score is 0.9096302288738328\n",
      "************************\n",
      "For n_estimators = 290\n",
      "OOB score is 0.9096302288738328\n",
      "************************\n"
     ]
    }
   ],
   "source": [
    "for w in range(10,300,20):\n",
    "    Randomclf=RandomForestClassifier(n_estimators=w,oob_score=True,n_jobs=-1,random_state=400)\n",
    "    Randomclf.fit(X_train,y_train)\n",
    "    oob=clf.oob_score_\n",
    "    print('For n_estimators = '+str(w))\n",
    "    print('OOB score is '+str(oob))\n",
    "    print('************************')"
   ]
  },
  {
   "cell_type": "code",
   "execution_count": null,
   "id": "d22e656a",
   "metadata": {},
   "outputs": [],
   "source": []
  },
  {
   "cell_type": "code",
   "execution_count": 127,
   "id": "03fe0f13",
   "metadata": {},
   "outputs": [
    {
     "name": "stdout",
     "output_type": "stream",
     "text": [
      "Confusion matrix:\n",
      " [[6339  221]\n",
      " [ 463  394]] \n",
      "\n",
      "Classification Report:\n",
      "               precision    recall  f1-score   support\n",
      "\n",
      "           0       0.93      0.97      0.95      6560\n",
      "           1       0.64      0.46      0.54       857\n",
      "\n",
      "    accuracy                           0.91      7417\n",
      "   macro avg       0.79      0.71      0.74      7417\n",
      "weighted avg       0.90      0.91      0.90      7417\n",
      "\n",
      "Accuracy: 0.9077794256437913\n"
     ]
    }
   ],
   "source": [
    "display_metrics(X_test,y_test,Randomclf)"
   ]
  },
  {
   "cell_type": "code",
   "execution_count": 128,
   "id": "0574d651",
   "metadata": {},
   "outputs": [],
   "source": [
    "#Finalize 190 trees\n",
    "Random=RandomForestClassifier(n_estimators=190,oob_score=True,n_jobs=-1,random_state=400)"
   ]
  },
  {
   "cell_type": "code",
   "execution_count": 129,
   "id": "64f82ea3",
   "metadata": {},
   "outputs": [
    {
     "data": {
      "text/plain": [
       "RandomForestClassifier(n_estimators=190, n_jobs=-1, oob_score=True,\n",
       "                       random_state=400)"
      ]
     },
     "execution_count": 129,
     "metadata": {},
     "output_type": "execute_result"
    }
   ],
   "source": [
    "Random.fit(X_train,y_train)"
   ]
  },
  {
   "cell_type": "code",
   "execution_count": 130,
   "id": "3bad1b8c",
   "metadata": {},
   "outputs": [
    {
     "data": {
      "text/plain": [
       "0.9096302288738328"
      ]
     },
     "execution_count": 130,
     "metadata": {},
     "output_type": "execute_result"
    }
   ],
   "source": [
    "Random.oob_score_"
   ]
  },
  {
   "cell_type": "code",
   "execution_count": 131,
   "id": "27c95354",
   "metadata": {},
   "outputs": [
    {
     "data": {
      "text/plain": [
       "0.9079142510448969"
      ]
     },
     "execution_count": 131,
     "metadata": {},
     "output_type": "execute_result"
    }
   ],
   "source": [
    "Random.score(X_test,y_test)"
   ]
  },
  {
   "cell_type": "code",
   "execution_count": 132,
   "id": "04717630",
   "metadata": {},
   "outputs": [
    {
     "data": {
      "text/plain": [
       "array([7.36211837e-02, 8.62056972e-03, 1.93893166e-02, 1.16645873e-02,\n",
       "       3.60670305e-02, 1.25937146e-02, 2.53724742e-02, 2.68858037e-02,\n",
       "       2.88715243e-02, 8.82806314e-02, 4.53887676e-02, 1.28086239e-02,\n",
       "       8.80387199e-03, 3.79618520e-03, 2.69982143e-03, 6.45613888e-03,\n",
       "       6.76835060e-03, 3.78086196e-03, 6.54679900e-03, 4.05620508e-03,\n",
       "       9.89682048e-03, 3.75076237e-03, 6.86369499e-03, 1.22333821e-02,\n",
       "       1.12634800e-02, 1.11112974e-02, 7.99583855e-05, 9.98500046e-03,\n",
       "       8.50412737e-03, 1.26780601e-02, 6.64979085e-03, 6.47123983e-03,\n",
       "       5.13443855e-03, 4.06776233e-03, 5.05435020e-03, 3.27786406e-03,\n",
       "       3.16398519e-03, 2.91267844e-03, 2.40114804e-03, 5.69290419e-03,\n",
       "       2.78310212e-03, 1.10963838e-03, 1.15492437e-02, 1.06754426e-02,\n",
       "       1.09948499e-02, 1.10118377e-02, 1.02404917e-02, 7.20561300e-02,\n",
       "       5.40696953e-02, 3.82975595e-02, 2.01328055e-02, 1.62891413e-02,\n",
       "       6.66606901e-03, 8.27337910e-03, 1.87471929e-02, 1.11736590e-03,\n",
       "       3.10556027e-03, 1.12784716e-03, 9.86757797e-03, 2.47227206e-03,\n",
       "       1.35146602e-03, 1.80823226e-03, 4.27581336e-04, 3.98350033e-03,\n",
       "       2.71729515e-03, 5.02663187e-04, 5.12906634e-03, 2.31667957e-03,\n",
       "       9.11384228e-04, 4.37559780e-04, 1.79346317e-03, 1.30534708e-03,\n",
       "       2.61977011e-04, 1.76479085e-03, 1.68304141e-03, 3.67848387e-03,\n",
       "       1.39080545e-03, 1.41930051e-03, 1.35711689e-03, 3.42252529e-04,\n",
       "       8.15081540e-04, 6.65950491e-04, 5.76063187e-04, 1.88321945e-03,\n",
       "       6.27963598e-04, 8.55074310e-03, 3.26961057e-03, 3.42385691e-04,\n",
       "       5.18851042e-03, 1.40003621e-03, 2.69017025e-03, 5.49540529e-03,\n",
       "       1.11497959e-03, 1.04357380e-03, 6.17269699e-05, 2.38029562e-03,\n",
       "       7.19177460e-03, 8.72368072e-04, 3.98089001e-04, 3.10567098e-03,\n",
       "       5.51363955e-03, 4.93227442e-05, 1.43208191e-03, 3.76198641e-08,\n",
       "       9.17051301e-03, 9.62554340e-03, 7.78232654e-03, 9.91850076e-03])"
      ]
     },
     "execution_count": 132,
     "metadata": {},
     "output_type": "execute_result"
    }
   ],
   "source": [
    "Random.feature_importances_"
   ]
  },
  {
   "cell_type": "code",
   "execution_count": 135,
   "id": "3eab8479",
   "metadata": {},
   "outputs": [],
   "source": [
    "imp_feat=pd.Series(Random.feature_importances_,index=X.columns.tolist())"
   ]
  },
  {
   "cell_type": "code",
   "execution_count": 136,
   "id": "1a5089a0",
   "metadata": {},
   "outputs": [
    {
     "data": {
      "text/plain": [
       "euribor3m                     8.909334e-02\n",
       "age                           7.343019e-02\n",
       "duration_HIGH                 7.287706e-02\n",
       "duration_LOW                  5.359862e-02\n",
       "nr.employed                   4.466867e-02\n",
       "                                  ...     \n",
       "State_Name_x_Maine            2.608761e-04\n",
       "education_illiterate          7.947477e-05\n",
       "State_Name_x_South Dakota     5.606265e-05\n",
       "State_Name_x_West Virginia    5.411256e-05\n",
       "State_Name_x_Wyoming          7.937004e-08\n",
       "Length: 108, dtype: float64"
      ]
     },
     "execution_count": 136,
     "metadata": {},
     "output_type": "execute_result"
    }
   ],
   "source": [
    "imp_feat.sort_values(ascending=False)"
   ]
  },
  {
   "cell_type": "code",
   "execution_count": 137,
   "id": "bcfd938f",
   "metadata": {},
   "outputs": [],
   "source": [
    "import sklearn.metrics as metrics"
   ]
  },
  {
   "cell_type": "code",
   "execution_count": 138,
   "id": "0d05436b",
   "metadata": {},
   "outputs": [],
   "source": [
    "\n",
    "def display_metrics(X_test,y_test,clf):\n",
    "    ypred=clf.predict(X_test)\n",
    "    print('Confusion matrix:\\n',metrics.confusion_matrix(y_test,ypred),'\\n')\n",
    "    print('Classification Report:\\n',metrics.classification_report(y_test,ypred))\n",
    "    print('Accuracy:',metrics.accuracy_score(y_test,ypred))"
   ]
  },
  {
   "cell_type": "code",
   "execution_count": 139,
   "id": "df2a6e67",
   "metadata": {},
   "outputs": [
    {
     "name": "stdout",
     "output_type": "stream",
     "text": [
      "Confusion matrix:\n",
      " [[6341  219]\n",
      " [ 464  393]] \n",
      "\n",
      "Classification Report:\n",
      "               precision    recall  f1-score   support\n",
      "\n",
      "           0       0.93      0.97      0.95      6560\n",
      "           1       0.64      0.46      0.54       857\n",
      "\n",
      "    accuracy                           0.91      7417\n",
      "   macro avg       0.79      0.71      0.74      7417\n",
      "weighted avg       0.90      0.91      0.90      7417\n",
      "\n",
      "Accuracy: 0.9079142510448969\n"
     ]
    }
   ],
   "source": [
    "display_metrics(X_test,y_test,Random)"
   ]
  },
  {
   "cell_type": "markdown",
   "id": "44a54c35",
   "metadata": {},
   "source": [
    "# roc_auc"
   ]
  },
  {
   "cell_type": "code",
   "execution_count": 91,
   "id": "1dec1a11",
   "metadata": {},
   "outputs": [],
   "source": [
    "def display_roc_auc(X_test,y_test,clf):\n",
    "    fpr,tpr,thresholds=metrics.roc_curve(y_test,clf.predict_proba(X_test)[:,1])\n",
    "    plt.plot(fpr,tpr,\"-\")\n",
    "    plt.xlabel('false positive rate')\n",
    "    plt.ylabel('true positive rate')\n",
    "    plt.title('roc-auc curve')\n",
    "    print('ROC-AUC Score:',metrics.roc_auc_score(y_test,clf.predict_proba(X_test)[:,1]))\n"
   ]
  },
  {
   "cell_type": "code",
   "execution_count": 140,
   "id": "120c17a8",
   "metadata": {},
   "outputs": [
    {
     "name": "stdout",
     "output_type": "stream",
     "text": [
      "ROC-AUC Score: 0.9172908899450721\n"
     ]
    },
    {
     "data": {
      "image/png": "[encoded data removed]",
      "text/plain": [
       "<Figure size 640x480 with 1 Axes>"
      ]
     },
     "metadata": {},
     "output_type": "display_data"
    }
   ],
   "source": [
    "display_roc_auc(X_test,y_test,Random)"
   ]
  },
  {
   "cell_type": "markdown",
   "id": "612bd341",
   "metadata": {},
   "source": [
    "# RandomizedSearchCV"
   ]
  },
  {
   "cell_type": "code",
   "execution_count": 147,
   "id": "ed6898ea",
   "metadata": {},
   "outputs": [],
   "source": [
    "from sklearn.model_selection import RandomizedSearchCV"
   ]
  },
  {
   "cell_type": "code",
   "execution_count": 148,
   "id": "40c93c60",
   "metadata": {},
   "outputs": [],
   "source": [
    "random_grid = {'bootstrap': [True, False],\n",
    "               'max_depth': [10, 20, 30, 40, 50, 60, 70, 80, 90, 100, 110, None],\n",
    "               'max_features': ['auto', 'sqrt'],\n",
    "               'min_samples_leaf': [1, 2, 4],\n",
    "               'min_samples_split': [2, 5, 10],\n",
    "               'n_estimators': [130, 180, 230]}"
   ]
  },
  {
   "cell_type": "code",
   "execution_count": 149,
   "id": "f952a785",
   "metadata": {},
   "outputs": [
    {
     "data": {
      "text/plain": [
       "RandomizedSearchCV(estimator=RandomForestClassifier(n_estimators=290, n_jobs=-1,\n",
       "                                                    oob_score=True,\n",
       "                                                    random_state=400),\n",
       "                   param_distributions={'bootstrap': [True, False],\n",
       "                                        'max_depth': [10, 20, 30, 40, 50, 60,\n",
       "                                                      70, 80, 90, 100, 110,\n",
       "                                                      None],\n",
       "                                        'max_features': ['auto', 'sqrt'],\n",
       "                                        'min_samples_leaf': [1, 2, 4],\n",
       "                                        'min_samples_split': [2, 5, 10],\n",
       "                                        'n_estimators': [130, 180, 230]})"
      ]
     },
     "execution_count": 149,
     "metadata": {},
     "output_type": "execute_result"
    }
   ],
   "source": [
    "from sklearn.ensemble import RandomForestRegressor\n",
    "Randomclf1 = RandomForestRegressor()\n",
    "# Random search of parameters, using 3 fold cross validation, \n",
    "# search across 100 different combinations, and use all available cores\n",
    "Randomclf1= RandomizedSearchCV(Randomclf,random_grid)\n",
    "# Fit the random search model\n",
    "Randomclf1.fit(X_train,y_train)"
   ]
  },
  {
   "cell_type": "code",
   "execution_count": 144,
   "id": "63467030",
   "metadata": {},
   "outputs": [],
   "source": [
    "#clf1random.best_params_\n",
    "#clf1random.best_score_\n",
    "#clf1random.best_estimator_"
   ]
  },
  {
   "cell_type": "code",
   "execution_count": 150,
   "id": "176e1bcc",
   "metadata": {},
   "outputs": [
    {
     "data": {
      "text/plain": [
       "{'n_estimators': 130,\n",
       " 'min_samples_split': 10,\n",
       " 'min_samples_leaf': 4,\n",
       " 'max_features': 'auto',\n",
       " 'max_depth': None,\n",
       " 'bootstrap': True}"
      ]
     },
     "execution_count": 150,
     "metadata": {},
     "output_type": "execute_result"
    }
   ],
   "source": [
    "Randomclf1.best_params_\n"
   ]
  },
  {
   "cell_type": "code",
   "execution_count": 151,
   "id": "c98f673a",
   "metadata": {},
   "outputs": [
    {
     "data": {
      "text/plain": [
       "0.9118886264557075"
      ]
     },
     "execution_count": 151,
     "metadata": {},
     "output_type": "execute_result"
    }
   ],
   "source": [
    "Randomclf1.best_score_"
   ]
  },
  {
   "cell_type": "code",
   "execution_count": 152,
   "id": "cbfe7546",
   "metadata": {},
   "outputs": [
    {
     "data": {
      "text/plain": [
       "RandomForestClassifier(min_samples_leaf=4, min_samples_split=10,\n",
       "                       n_estimators=130, n_jobs=-1, oob_score=True,\n",
       "                       random_state=400)"
      ]
     },
     "execution_count": 152,
     "metadata": {},
     "output_type": "execute_result"
    }
   ],
   "source": [
    "Randomclf1.best_estimator_"
   ]
  },
  {
   "cell_type": "code",
   "execution_count": 146,
   "id": "ac335de6",
   "metadata": {},
   "outputs": [
    {
     "name": "stdout",
     "output_type": "stream",
     "text": [
      "Confusion matrix:\n",
      " [[6366  194]\n",
      " [ 492  365]] \n",
      "\n",
      "Classification Report:\n",
      "               precision    recall  f1-score   support\n",
      "\n",
      "           0       0.93      0.97      0.95      6560\n",
      "           1       0.65      0.43      0.52       857\n",
      "\n",
      "    accuracy                           0.91      7417\n",
      "   macro avg       0.79      0.70      0.73      7417\n",
      "weighted avg       0.90      0.91      0.90      7417\n",
      "\n",
      "Accuracy: 0.9075097748415801\n"
     ]
    }
   ],
   "source": [
    "display_metrics(X_test,y_test,Randomclf1)"
   ]
  },
  {
   "cell_type": "markdown",
   "id": "14895950",
   "metadata": {},
   "source": [
    "# oversampling"
   ]
  },
  {
   "cell_type": "code",
   "execution_count": 118,
   "id": "bf5e6601",
   "metadata": {},
   "outputs": [],
   "source": [
    "from collections import Counter\n",
    "from imblearn.over_sampling import SMOTE"
   ]
  },
  {
   "cell_type": "code",
   "execution_count": 119,
   "id": "e660e836",
   "metadata": {},
   "outputs": [
    {
     "name": "stdout",
     "output_type": "stream",
     "text": [
      "Number of rows before oversampling:Counter({0: 26316, 1: 3351})\n",
      "Number of rows after oversampling: Counter({0: 26316, 1: 26316})\n"
     ]
    }
   ],
   "source": [
    "sm = SMOTE(random_state=2)\n",
    "xtrain_sm, ytrain_sm = sm.fit_resample(X_train, y_train.ravel())\n",
    "print('Number of rows before oversampling:{}'.format(Counter(y_train)))\n",
    "print('Number of rows after oversampling: {}'.format(Counter(ytrain_sm)))"
   ]
  },
  {
   "cell_type": "code",
   "execution_count": 120,
   "id": "df1108e1",
   "metadata": {},
   "outputs": [
    {
     "data": {
      "text/plain": [
       "RandomForestClassifier(n_estimators=80, n_jobs=-1, oob_score=True,\n",
       "                       random_state=400)"
      ]
     },
     "execution_count": 120,
     "metadata": {},
     "output_type": "execute_result"
    }
   ],
   "source": [
    "Randomclf_os=RandomForestClassifier(n_estimators=80,oob_score=True,n_jobs=-1,random_state=400)\n",
    "Randomclf_os.fit(xtrain_sm,ytrain_sm)"
   ]
  },
  {
   "cell_type": "code",
   "execution_count": 121,
   "id": "74df1a96",
   "metadata": {},
   "outputs": [
    {
     "data": {
      "text/plain": [
       "0.9037346636106243"
      ]
     },
     "execution_count": 121,
     "metadata": {},
     "output_type": "execute_result"
    }
   ],
   "source": [
    "Randomclf_os.score(X_test,y_test)"
   ]
  },
  {
   "cell_type": "code",
   "execution_count": 122,
   "id": "f7a86980",
   "metadata": {},
   "outputs": [
    {
     "name": "stdout",
     "output_type": "stream",
     "text": [
      "Confusion matrix:\n",
      " [[6204  356]\n",
      " [ 358  499]] \n",
      "\n",
      "Classification Report:\n",
      "               precision    recall  f1-score   support\n",
      "\n",
      "           0       0.95      0.95      0.95      6560\n",
      "           1       0.58      0.58      0.58       857\n",
      "\n",
      "    accuracy                           0.90      7417\n",
      "   macro avg       0.76      0.76      0.76      7417\n",
      "weighted avg       0.90      0.90      0.90      7417\n",
      "\n",
      "Accuracy: 0.9037346636106243\n"
     ]
    }
   ],
   "source": [
    "display_metrics(X_test,y_test,Randomclf_os)"
   ]
  },
  {
   "cell_type": "code",
   "execution_count": null,
   "id": "b6eb2953",
   "metadata": {},
   "outputs": [],
   "source": []
  },
  {
   "cell_type": "code",
   "execution_count": null,
   "id": "46eac322",
   "metadata": {},
   "outputs": [],
   "source": []
  },
  {
   "cell_type": "code",
   "execution_count": null,
   "id": "02f47ba4",
   "metadata": {},
   "outputs": [],
   "source": []
  },
  {
   "cell_type": "code",
   "execution_count": 157,
   "id": "06d4a5f1",
   "metadata": {},
   "outputs": [],
   "source": []
  },
  {
   "cell_type": "code",
   "execution_count": 158,
   "id": "050e7818",
   "metadata": {},
   "outputs": [],
   "source": []
  },
  {
   "cell_type": "code",
   "execution_count": 160,
   "id": "5dc882a2",
   "metadata": {},
   "outputs": [],
   "source": []
  },
  {
   "cell_type": "code",
   "execution_count": null,
   "id": "fbea0e90",
   "metadata": {},
   "outputs": [],
   "source": []
  },
  {
   "cell_type": "code",
   "execution_count": null,
   "id": "e76aa0e2",
   "metadata": {},
   "outputs": [],
   "source": []
  },
  {
   "cell_type": "code",
   "execution_count": null,
   "id": "4fab0ff9",
   "metadata": {},
   "outputs": [],
   "source": []
  },
  {
   "cell_type": "code",
   "execution_count": 166,
   "id": "4b095769",
   "metadata": {},
   "outputs": [],
   "source": []
  },
  {
   "cell_type": "code",
   "execution_count": null,
   "id": "6f4f142f",
   "metadata": {},
   "outputs": [],
   "source": []
  },
  {
   "cell_type": "code",
   "execution_count": null,
   "id": "37c71e72",
   "metadata": {},
   "outputs": [],
   "source": []
  },
  {
   "cell_type": "code",
   "execution_count": null,
   "id": "44df0e20",
   "metadata": {},
   "outputs": [],
   "source": []
  }
 ],
 "metadata": {
  "kernelspec": {
   "display_name": "Python 3",
   "language": "python",
   "name": "python3"
  },
  "language_info": {
   "codemirror_mode": {
    "name": "ipython",
    "version": 3
   },
   "file_extension": ".py",
   "mimetype": "text/x-python",
   "name": "python",
   "nbconvert_exporter": "python",
   "pygments_lexer": "ipython3",
   "version": "3.8.8"
  }
 },
 "nbformat": 4,
 "nbformat_minor": 5
}
