{
 "cells": [
  {
   "cell_type": "code",
   "execution_count": 1,
   "metadata": {},
   "outputs": [],
   "source": [
    "import numpy as np\n",
    "import matplotlib.pyplot as plt\n",
    "import seaborn as sns\n"
   ]
  },
  {
   "cell_type": "code",
   "execution_count": 2,
   "metadata": {},
   "outputs": [],
   "source": [
    "import findspark\n",
    "findspark.init(\"/usr/local/spark/\")\n",
    "import pyspark"
   ]
  },
  {
   "cell_type": "code",
   "execution_count": 3,
   "metadata": {},
   "outputs": [],
   "source": [
    "from pyspark.sql import *\n",
    "from pyspark.sql import functions as F\n",
    "from pyspark.sql.types import *\n",
    "from pyspark.ml.classification import GBTClassificationModel,GBTClassifier\n",
    "from pyspark.ml.feature import VectorAssembler\n",
    "from pyspark.ml.feature import StandardScaler,Normalizer\n",
    "from pyspark.ml import Pipeline\n",
    "from pyspark.sql.functions import *"
   ]
  },
  {
   "cell_type": "code",
   "execution_count": 4,
   "metadata": {},
   "outputs": [],
   "source": [
    "from pyspark.sql import SparkSession\n",
    "appName = \"PySpark Project1\"\n",
    "\n",
    "\n",
    "spark = SparkSession.builder.appName(appName).enableHiveSupport().getOrCreate()\n",
    "\n"
   ]
  },
  {
   "cell_type": "markdown",
   "metadata": {},
   "source": [
    "### Note:\n",
    "        Reading in the data."
   ]
  },
  {
   "cell_type": "code",
   "execution_count": 5,
   "metadata": {
    "scrolled": false
   },
   "outputs": [],
   "source": [
    "data=\"Customer_and_bank details_p1.csv\"\n",
    "data_campaign = \"Customer_campaign_details_p1.csv\"\n",
    "data_citymaster=\"City_Master.csv\"\n",
    "data_postalcode=\"Customer_Postal_Code_details.csv\"\n",
    "data_response=\"Customer_Response_data_p1.csv\"\n",
    "data_socioeco=\"Customer_social_economic_data_p1.csv\"\n",
    "data_regionmaster=\"Region_code_master.csv\"\n",
    "data_statemaster=\"State_Master.csv\"\n",
    "###-------- loading data into dataframes:\n",
    "df_main = spark.read.format('csv').option(\"header\",\"true\").option(\"inferSchema\",\"true\").option(\"delimiter\",\",\").load(data).cache()\n",
    "df_campaign = spark.read.format('csv').option(\"header\",\"true\").option(\"inferSchema\",\"true\").option(\"delimiter\",\",\").load(data_campaign).cache()\n",
    "df_citymaster = spark.read.format('csv').option(\"header\",\"true\").option(\"inferSchema\",\"true\").option(\"delimiter\",\",\").load(data_citymaster).cache()\n",
    "df_postalcode = spark.read.format('csv').option(\"header\",\"true\").option(\"inferSchema\",\"true\").option(\"delimiter\",\",\").load(data_postalcode).cache()\n",
    "df_response = spark.read.format('csv').option(\"header\",\"true\").option(\"inferSchema\",\"true\").option(\"delimiter\",\",\").load(data_response).cache()\n",
    "df_socioeco = spark.read.format('csv').option(\"header\",\"true\").option(\"inferSchema\",\"true\").option(\"delimiter\",\",\").load(data_socioeco).cache()\n",
    "df_regionmaster = spark.read.format('csv').option(\"header\",\"true\").option(\"inferSchema\",\"true\").option(\"delimiter\",\",\").load(data_regionmaster).cache()\n",
    "df_statemaster = spark.read.format('csv').option(\"header\",\"true\").option(\"inferSchema\",\"true\").option(\"delimiter\",\",\").load(data_statemaster).cache()\n",
    "\n"
   ]
  },
  {
   "cell_type": "markdown",
   "metadata": {},
   "source": [
    "### Note:\n",
    "    Let us view 5 rows from each dataframe."
   ]
  },
  {
   "cell_type": "code",
   "execution_count": 6,
   "metadata": {
    "scrolled": false
   },
   "outputs": [
    {
     "name": "stdout",
     "output_type": "stream",
     "text": [
      "+-----------+---+-----------+-------+-------------------+-------+-------+----+-----------+----------+---------+\n",
      "|Customer_id|age|        job|marital|          education|default|housing|loan|Region_Code|State_Code|City_Code|\n",
      "+-----------+---+-----------+-------+-------------------+-------+-------+----+-----------+----------+---------+\n",
      "|          1| 56|   services|married|        high.school|     no|     no| yes|          3|        S1|       C1|\n",
      "|          2| 45|   services|married|           basic.9y|unknown|     no|  no|          3|        S1|       C1|\n",
      "|          3| 59|     admin.|married|professional.course|     no|     no|  no|          4|        S2|       C2|\n",
      "|          4| 41|blue-collar|married|            unknown|unknown|     no|  no|          3|        S3|       C3|\n",
      "|          5| 24| technician| single|professional.course|     no|    yes|  no|          3|        S3|       C3|\n",
      "+-----------+---+-----------+-------+-------------------+-------+-------+----+-----------+----------+---------+\n",
      "only showing top 5 rows\n",
      "\n",
      "None\n",
      "+-----------+---------+-----+-----------+--------+--------+-----+--------+-----------+\n",
      "|Customer_id|  contact|month|day_of_week|duration|campaign|pdays|previous|   poutcome|\n",
      "+-----------+---------+-----+-----------+--------+--------+-----+--------+-----------+\n",
      "|          1|telephone|  may|        mon|     307|       1|  999|       0|nonexistent|\n",
      "|          2|telephone|  may|        mon|     198|       1|  999|       0|nonexistent|\n",
      "|          3|telephone|  may|        mon|     139|       1|  999|       0|nonexistent|\n",
      "|          4|telephone|  may|        mon|     217|       1|  999|       0|nonexistent|\n",
      "|          5|telephone|  may|        mon|     380|       1|  999|       0|nonexistent|\n",
      "+-----------+---------+-----+-----------+--------+--------+-----+--------+-----------+\n",
      "only showing top 5 rows\n",
      "\n",
      "None\n",
      "+---------+---------------+----------+\n",
      "|City_Code|      City_Name|State_Code|\n",
      "+---------+---------------+----------+\n",
      "|       C1|      Henderson|        S1|\n",
      "|       C2|    Los Angeles|        S2|\n",
      "|       C3|Fort Lauderdale|        S3|\n",
      "|       C4|        Concord|        S4|\n",
      "|       C5|        Seattle|        S5|\n",
      "+---------+---------------+----------+\n",
      "only showing top 5 rows\n",
      "\n",
      "None\n",
      "+-----------+-----------+\n",
      "|customer_id|Postal Code|\n",
      "+-----------+-----------+\n",
      "|          1|      42420|\n",
      "|          2|      42420|\n",
      "|          3|      90036|\n",
      "|          4|      33311|\n",
      "|          5|      33311|\n",
      "+-----------+-----------+\n",
      "only showing top 5 rows\n",
      "\n",
      "None\n",
      "+-----------+-----------+\n",
      "|Region_Name|Region_Code|\n",
      "+-----------+-----------+\n",
      "|    Central|          1|\n",
      "|       East|          2|\n",
      "|      South|          3|\n",
      "|       West|          4|\n",
      "|      North|          5|\n",
      "+-----------+-----------+\n",
      "\n",
      "None\n",
      "+-----------+---+\n",
      "|Customer_id|  y|\n",
      "+-----------+---+\n",
      "|          1| no|\n",
      "|          2| no|\n",
      "|          3| no|\n",
      "|          4| no|\n",
      "|          5| no|\n",
      "+-----------+---+\n",
      "only showing top 5 rows\n",
      "\n",
      "None\n",
      "+-----------+------------+--------------+-------------+---------+-----------+\n",
      "|Customer_id|emp.var.rate|cons.price.idx|cons.conf.idx|euribor3m|nr.employed|\n",
      "+-----------+------------+--------------+-------------+---------+-----------+\n",
      "|          1|         1.1|        93.994|        -36.4|    4.857|     5191.0|\n",
      "|          2|         1.1|        93.994|        -36.4|    4.857|     5191.0|\n",
      "|          3|         1.1|        93.994|        -36.4|    4.857|     5191.0|\n",
      "|          4|         1.1|        93.994|        -36.4|    4.857|     5191.0|\n",
      "|          5|         1.1|        93.994|        -36.4|    4.857|     5191.0|\n",
      "+-----------+------------+--------------+-------------+---------+-----------+\n",
      "only showing top 5 rows\n",
      "\n",
      "None\n",
      "+----------+--------------+-----------+\n",
      "|State_Code|    State_Name|Region_Code|\n",
      "+----------+--------------+-----------+\n",
      "|        S1|      Kentucky|          3|\n",
      "|        S2|    California|          4|\n",
      "|        S3|       Florida|          3|\n",
      "|        S4|North Carolina|          3|\n",
      "|        S5|    Washington|          4|\n",
      "+----------+--------------+-----------+\n",
      "only showing top 5 rows\n",
      "\n",
      "None\n"
     ]
    }
   ],
   "source": [
    "print(df_main.show(5))\n",
    "print(df_campaign.show(5))\n",
    "print(df_citymaster.show(5))\n",
    "print(df_postalcode.show(5))\n",
    "print(df_regionmaster.show(5))\n",
    "print(df_response.show(5))\n",
    "print(df_socioeco.show(5))\n",
    "print(df_statemaster.show(5))"
   ]
  },
  {
   "cell_type": "code",
   "execution_count": 7,
   "metadata": {
    "scrolled": true
   },
   "outputs": [
    {
     "name": "stdout",
     "output_type": "stream",
     "text": [
      "root\n",
      " |-- customer_id: integer (nullable = true)\n",
      " |-- Postal Code: integer (nullable = true)\n",
      "\n"
     ]
    }
   ],
   "source": [
    "df_postalcode.printSchema()"
   ]
  },
  {
   "cell_type": "code",
   "execution_count": 8,
   "metadata": {},
   "outputs": [],
   "source": [
    "df_postalcode=df_postalcode.select(col('Postal Code').alias('Postal_Code'),col('customer_id').alias('customer_id'))"
   ]
  },
  {
   "cell_type": "markdown",
   "metadata": {},
   "source": [
    "### Note: \n",
    "Creating a new database for our project."
   ]
  },
  {
   "cell_type": "code",
   "execution_count": null,
   "metadata": {},
   "outputs": [],
   "source": [
    "spark.sql('create database capstone')"
   ]
  },
  {
   "cell_type": "code",
   "execution_count": 10,
   "metadata": {},
   "outputs": [
    {
     "name": "stdout",
     "output_type": "stream",
     "text": [
      "+------------+\n",
      "|databaseName|\n",
      "+------------+\n",
      "|    capstone|\n",
      "|     default|\n",
      "+------------+\n",
      "\n"
     ]
    }
   ],
   "source": [
    "spark.sql('show databases').show()\n"
   ]
  },
  {
   "cell_type": "code",
   "execution_count": 11,
   "metadata": {},
   "outputs": [
    {
     "name": "stdout",
     "output_type": "stream",
     "text": [
      "+--------+----------------+-----------+\n",
      "|database|       tableName|isTemporary|\n",
      "+--------+----------------+-----------+\n",
      "|capstone|       bankfinal|      false|\n",
      "|capstone| campaigndetails|      false|\n",
      "|capstone|        citycode|      false|\n",
      "|capstone| customerdetails|      false|\n",
      "|capstone|customerresponse|      false|\n",
      "|capstone|      postalcode|      false|\n",
      "|capstone|      regioncode|      false|\n",
      "|capstone|   socioeconomic|      false|\n",
      "|capstone|       statecode|      false|\n",
      "+--------+----------------+-----------+\n",
      "\n"
     ]
    }
   ],
   "source": [
    "spark.sql('use capstone')\n",
    "spark.sql('show tables').show()"
   ]
  },
  {
   "cell_type": "markdown",
   "metadata": {},
   "source": [
    "### Note :\n",
    "We can see our database has been created and since we haven't stored our data yet it has no tables to display."
   ]
  },
  {
   "cell_type": "code",
   "execution_count": null,
   "metadata": {},
   "outputs": [],
   "source": [
    "df_response.write.mode(\"overwrite\").format(\"parquet\").saveAsTable('capstone.CustomerResponse')\n",
    "df_main.write.mode(\"overwrite\").format(\"parquet\").saveAsTable('capstone.CustomerDetails')\n",
    "df_postalcode.write.mode(\"overwrite\").format(\"parquet\").saveAsTable('capstone.PostalCode')\n",
    "df_regionmaster.write.mode(\"overwrite\").format(\"parquet\").saveAsTable('capstone.RegionCode')\n",
    "df_citymaster.write.mode(\"overwrite\").format(\"parquet\").saveAsTable('capstone.CityCode')\n",
    "df_socioeco.write.mode(\"overwrite\").format(\"parquet\").saveAsTable('capstone.SocioEconomic')\n",
    "df_campaign.write.mode(\"overwrite\").format(\"parquet\").saveAsTable('capstone.CampaignDetails')\n",
    "df_statemaster.write.mode(\"overwrite\").format(\"parquet\").saveAsTable('capstone.StateCode')"
   ]
  },
  {
   "cell_type": "code",
   "execution_count": 14,
   "metadata": {},
   "outputs": [
    {
     "name": "stdout",
     "output_type": "stream",
     "text": [
      "+--------+----------------+-----------+\n",
      "|database|       tableName|isTemporary|\n",
      "+--------+----------------+-----------+\n",
      "|capstone|       bankfinal|      false|\n",
      "|capstone| campaigndetails|      false|\n",
      "|capstone|        citycode|      false|\n",
      "|capstone| customerdetails|      false|\n",
      "|capstone|customerresponse|      false|\n",
      "|capstone|      postalcode|      false|\n",
      "|capstone|      regioncode|      false|\n",
      "|capstone|   socioeconomic|      false|\n",
      "|capstone|       statecode|      false|\n",
      "+--------+----------------+-----------+\n",
      "\n"
     ]
    }
   ],
   "source": [
    "spark.sql('show tables').show()"
   ]
  },
  {
   "cell_type": "code",
   "execution_count": 15,
   "metadata": {},
   "outputs": [
    {
     "name": "stdout",
     "output_type": "stream",
     "text": [
      "+---------+---------------+----------+\n",
      "|City_Code|      City_Name|State_Code|\n",
      "+---------+---------------+----------+\n",
      "|       C1|      Henderson|        S1|\n",
      "|       C2|    Los Angeles|        S2|\n",
      "|       C3|Fort Lauderdale|        S3|\n",
      "|       C4|        Concord|        S4|\n",
      "|       C5|        Seattle|        S5|\n",
      "|       C6|     Fort Worth|        S6|\n",
      "|       C7|        Madison|        S7|\n",
      "|       C8|    West Jordan|        S8|\n",
      "|       C9|  San Francisco|        S2|\n",
      "|      C10|        Fremont|        S9|\n",
      "|      C11|   Philadelphia|       S10|\n",
      "|      C12|           Orem|        S8|\n",
      "|      C13|        Houston|        S6|\n",
      "|      C14|     Richardson|        S6|\n",
      "|      C15|     Naperville|       S11|\n",
      "|      C16|      Melbourne|        S3|\n",
      "|      C17|          Eagan|       S12|\n",
      "|      C18|       Westland|       S13|\n",
      "|      C19|          Dover|       S14|\n",
      "|      C20|     New Albany|       S15|\n",
      "+---------+---------------+----------+\n",
      "only showing top 20 rows\n",
      "\n"
     ]
    }
   ],
   "source": [
    "spark.sql('select * from citycode').show()"
   ]
  },
  {
   "cell_type": "markdown",
   "metadata": {},
   "source": [
    "### Note:\n",
    "    We have successfully stored all the data as tables in hive."
   ]
  },
  {
   "cell_type": "markdown",
   "metadata": {},
   "source": [
    "### Now:\n",
    "        We merge all the data into a single dataset."
   ]
  },
  {
   "cell_type": "code",
   "execution_count": 16,
   "metadata": {
    "scrolled": false
   },
   "outputs": [],
   "source": [
    "bank_final = df_main.join(df_campaign, df_main[\"Customer_id\"]==df_campaign[\"Customer_id\"]).drop(df_campaign.Customer_id) \\\n",
    "                .join(df_response,df_main[\"Customer_id\"]==df_response[\"Customer_id\"]).drop(df_response.Customer_id) \\\n",
    "                .join(df_socioeco, df_main[\"Customer_id\"]==df_socioeco[\"Customer_id\"]).drop(df_socioeco.Customer_id) \\\n",
    "                .join(df_citymaster, df_main[\"City_Code\"]==df_citymaster[\"City_Code\"]).drop(df_citymaster.City_Code).drop(df_citymaster.State_Code) \\\n",
    "                .join(df_regionmaster, df_main[\"Region_Code\"]==df_regionmaster[\"Region_Code\"]).drop(df_regionmaster.Region_Code) \\\n",
    "                .join(df_statemaster, df_main[\"State_Code\"]==df_statemaster[\"State_Code\"]).drop(df_statemaster.Region_Code).drop(df_statemaster.State_Code)\n"
   ]
  },
  {
   "cell_type": "code",
   "execution_count": 17,
   "metadata": {},
   "outputs": [
    {
     "name": "stdout",
     "output_type": "stream",
     "text": [
      "+-----------+---+--------+-------+-----------+-------+-------+----+-----------+----------+---------+---------+-----+-----------+--------+--------+-----+--------+-----------+---+------------+--------------+-------------+---------+-----------+---------+-----------+----------+\n",
      "|Customer_id|age|     job|marital|  education|default|housing|loan|Region_Code|State_Code|City_Code|  contact|month|day_of_week|duration|campaign|pdays|previous|   poutcome|  y|emp.var.rate|cons.price.idx|cons.conf.idx|euribor3m|nr.employed|City_Name|Region_Name|State_Name|\n",
      "+-----------+---+--------+-------+-----------+-------+-------+----+-----------+----------+---------+---------+-----+-----------+--------+--------+-----+--------+-----------+---+------------+--------------+-------------+---------+-----------+---------+-----------+----------+\n",
      "|          1| 56|services|married|high.school|     no|     no| yes|          3|        S1|       C1|telephone|  may|        mon|     307|       1|  999|       0|nonexistent| no|         1.1|        93.994|        -36.4|    4.857|     5191.0|Henderson|      South|  Kentucky|\n",
      "|          2| 45|services|married|   basic.9y|unknown|     no|  no|          3|        S1|       C1|telephone|  may|        mon|     198|       1|  999|       0|nonexistent| no|         1.1|        93.994|        -36.4|    4.857|     5191.0|Henderson|      South|  Kentucky|\n",
      "+-----------+---+--------+-------+-----------+-------+-------+----+-----------+----------+---------+---------+-----+-----------+--------+--------+-----+--------+-----------+---+------------+--------------+-------------+---------+-----------+---------+-----------+----------+\n",
      "only showing top 2 rows\n",
      "\n"
     ]
    }
   ],
   "source": [
    "bank_final.show(2)"
   ]
  },
  {
   "cell_type": "markdown",
   "metadata": {},
   "source": [
    "### Note:\n",
    "        Now we can print the schema for the final dataframe we got after merging."
   ]
  },
  {
   "cell_type": "code",
   "execution_count": 18,
   "metadata": {},
   "outputs": [
    {
     "name": "stdout",
     "output_type": "stream",
     "text": [
      "root\n",
      " |-- Customer_id: integer (nullable = true)\n",
      " |-- age: integer (nullable = true)\n",
      " |-- job: string (nullable = true)\n",
      " |-- marital: string (nullable = true)\n",
      " |-- education: string (nullable = true)\n",
      " |-- default: string (nullable = true)\n",
      " |-- housing: string (nullable = true)\n",
      " |-- loan: string (nullable = true)\n",
      " |-- Region_Code: string (nullable = true)\n",
      " |-- State_Code: string (nullable = true)\n",
      " |-- City_Code: string (nullable = true)\n",
      " |-- contact: string (nullable = true)\n",
      " |-- month: string (nullable = true)\n",
      " |-- day_of_week: string (nullable = true)\n",
      " |-- duration: integer (nullable = true)\n",
      " |-- campaign: integer (nullable = true)\n",
      " |-- pdays: integer (nullable = true)\n",
      " |-- previous: integer (nullable = true)\n",
      " |-- poutcome: string (nullable = true)\n",
      " |-- y: string (nullable = true)\n",
      " |-- emp.var.rate: double (nullable = true)\n",
      " |-- cons.price.idx: double (nullable = true)\n",
      " |-- cons.conf.idx: double (nullable = true)\n",
      " |-- euribor3m: double (nullable = true)\n",
      " |-- nr.employed: double (nullable = true)\n",
      " |-- City_Name: string (nullable = true)\n",
      " |-- Region_Name: string (nullable = true)\n",
      " |-- State_Name: string (nullable = true)\n",
      "\n"
     ]
    }
   ],
   "source": [
    "bank_final.printSchema()"
   ]
  },
  {
   "cell_type": "code",
   "execution_count": 19,
   "metadata": {},
   "outputs": [],
   "source": [
    "bank_final = bank_final.drop('Region_Code')\n",
    "bank_final = bank_final.drop('City_Code')\n",
    "bank_final = bank_final.drop('State_Code')\n"
   ]
  },
  {
   "cell_type": "markdown",
   "metadata": {},
   "source": [
    "### Note:\n",
    "    Here we have the final dataframe which is kind of denormalized as we don't need to use joins now for our data and also the column Postal Code, Region Code, State Code and City Code didn't help in our analysis so we removed that, as we now have the respective names of cities, regions and states."
   ]
  },
  {
   "cell_type": "code",
   "execution_count": null,
   "metadata": {},
   "outputs": [],
   "source": [
    "bank_final.write.mode(\"overwrite\").format(\"parquet\").saveAsTable('capstone.BankFinal')"
   ]
  },
  {
   "cell_type": "code",
   "execution_count": 20,
   "metadata": {},
   "outputs": [
    {
     "name": "stdout",
     "output_type": "stream",
     "text": [
      "+-----------+---+-----------+-------+-------------------+-------+-------+----+---------+-----+-----------+--------+--------+-----+--------+-----------+---+------------+--------------+-------------+---------+-----------+---------------+-----------+----------+\n",
      "|Customer_id|age|        job|marital|          education|default|housing|loan|  contact|month|day_of_week|duration|campaign|pdays|previous|   poutcome|  y|emp.var.rate|cons.price.idx|cons.conf.idx|euribor3m|nr.employed|      City_Name|Region_Name|State_Name|\n",
      "+-----------+---+-----------+-------+-------------------+-------+-------+----+---------+-----+-----------+--------+--------+-----+--------+-----------+---+------------+--------------+-------------+---------+-----------+---------------+-----------+----------+\n",
      "|          1| 56|   services|married|        high.school|     no|     no| yes|telephone|  may|        mon|     307|       1|  999|       0|nonexistent| no|         1.1|        93.994|        -36.4|    4.857|     5191.0|      Henderson|      South|  Kentucky|\n",
      "|          2| 45|   services|married|           basic.9y|unknown|     no|  no|telephone|  may|        mon|     198|       1|  999|       0|nonexistent| no|         1.1|        93.994|        -36.4|    4.857|     5191.0|      Henderson|      South|  Kentucky|\n",
      "|          3| 59|     admin.|married|professional.course|     no|     no|  no|telephone|  may|        mon|     139|       1|  999|       0|nonexistent| no|         1.1|        93.994|        -36.4|    4.857|     5191.0|    Los Angeles|       West|California|\n",
      "|          4| 41|blue-collar|married|            unknown|unknown|     no|  no|telephone|  may|        mon|     217|       1|  999|       0|nonexistent| no|         1.1|        93.994|        -36.4|    4.857|     5191.0|Fort Lauderdale|      South|   Florida|\n",
      "|          5| 24| technician| single|professional.course|     no|    yes|  no|telephone|  may|        mon|     380|       1|  999|       0|nonexistent| no|         1.1|        93.994|        -36.4|    4.857|     5191.0|Fort Lauderdale|      South|   Florida|\n",
      "+-----------+---+-----------+-------+-------------------+-------+-------+----+---------+-----+-----------+--------+--------+-----+--------+-----------+---+------------+--------------+-------------+---------+-----------+---------------+-----------+----------+\n",
      "only showing top 5 rows\n",
      "\n"
     ]
    }
   ],
   "source": [
    "spark.sql(\"select * from bankfinal \").show(5)"
   ]
  },
  {
   "cell_type": "markdown",
   "metadata": {},
   "source": [
    "### Note:\n",
    "    Here we can see that our bank_final has been stored as a table in hive."
   ]
  },
  {
   "cell_type": "markdown",
   "metadata": {},
   "source": [
    "## Data Profiling:\n",
    "    Summary and statistics of the data."
   ]
  },
  {
   "cell_type": "markdown",
   "metadata": {},
   "source": [
    "First we check the data types of the data:"
   ]
  },
  {
   "cell_type": "code",
   "execution_count": 21,
   "metadata": {},
   "outputs": [
    {
     "name": "stdout",
     "output_type": "stream",
     "text": [
      "root\n",
      " |-- Customer_id: integer (nullable = true)\n",
      " |-- age: integer (nullable = true)\n",
      " |-- job: string (nullable = true)\n",
      " |-- marital: string (nullable = true)\n",
      " |-- education: string (nullable = true)\n",
      " |-- default: string (nullable = true)\n",
      " |-- housing: string (nullable = true)\n",
      " |-- loan: string (nullable = true)\n",
      " |-- contact: string (nullable = true)\n",
      " |-- month: string (nullable = true)\n",
      " |-- day_of_week: string (nullable = true)\n",
      " |-- duration: integer (nullable = true)\n",
      " |-- campaign: integer (nullable = true)\n",
      " |-- pdays: integer (nullable = true)\n",
      " |-- previous: integer (nullable = true)\n",
      " |-- poutcome: string (nullable = true)\n",
      " |-- y: string (nullable = true)\n",
      " |-- emp.var.rate: double (nullable = true)\n",
      " |-- cons.price.idx: double (nullable = true)\n",
      " |-- cons.conf.idx: double (nullable = true)\n",
      " |-- euribor3m: double (nullable = true)\n",
      " |-- nr.employed: double (nullable = true)\n",
      " |-- City_Name: string (nullable = true)\n",
      " |-- Region_Name: string (nullable = true)\n",
      " |-- State_Name: string (nullable = true)\n",
      "\n"
     ]
    }
   ],
   "source": [
    "bank_final.printSchema()"
   ]
  },
  {
   "cell_type": "markdown",
   "metadata": {},
   "source": [
    "### Note:\n",
    "    We got the data types of all the columns which can be seen as above. But we need to change Column names and also some of the Data-types according to the data dictionary."
   ]
  },
  {
   "cell_type": "code",
   "execution_count": 22,
   "metadata": {},
   "outputs": [],
   "source": [
    "bank_final = (bank_final.withColumnRenamed(\"emp.var.rate\",\"emp_var_rate\")\n",
    "              .withColumnRenamed(\"cons.price.idx\", \"cons_price_idx\")\n",
    "              .withColumnRenamed(\"cons.conf.idx\", \"cons_conf_idx\")\n",
    "              .withColumnRenamed(\"nr.employed\", \"nr_employed\")\n",
    "               )\n"
   ]
  },
  {
   "cell_type": "code",
   "execution_count": 23,
   "metadata": {},
   "outputs": [],
   "source": [
    "bank_final=(bank_final\n",
    "           .withColumn(\"emp_var_rate\",bank_final['emp_var_rate'].cast(FloatType()))\n",
    "           .withColumn(\"cons_price_idx\",bank_final['cons_price_idx'].cast(FloatType()))\n",
    "           .withColumn(\"cons_conf_idx\",bank_final['cons_conf_idx'].cast(FloatType()))\n",
    "           .withColumn(\"euribor3m\",bank_final['euribor3m'].cast(FloatType()))\n",
    "           .withColumn(\"nr_employed\",bank_final['nr_employed'].cast(FloatType()))\n",
    "           \n",
    "           )"
   ]
  },
  {
   "cell_type": "markdown",
   "metadata": {},
   "source": [
    "### Data Profiling on Data:"
   ]
  },
  {
   "cell_type": "code",
   "execution_count": 24,
   "metadata": {
    "scrolled": true
   },
   "outputs": [
    {
     "name": "stdout",
     "output_type": "stream",
     "text": [
      "+-------+------------------+------------------+------------------+------------------+------------------+-------------------+------------------+------------------+-----------------+\n",
      "|summary|       Customer_id|               age|          duration|             pdays|          campaign|       emp_var_rate|    cons_price_idx|         euribor3m|      nr_employed|\n",
      "+-------+------------------+------------------+------------------+------------------+------------------+-------------------+------------------+------------------+-----------------+\n",
      "|  count|             37024|             37024|             37024|             37024|             37024|              37024|             37024|             37024|            37024|\n",
      "|   mean|  18546.4444954624| 40.04359334485739| 258.1571143042351| 962.4984064390666|2.5687932152117545|0.08201436717936555| 93.57590807730922|3.6211183345526483|5167.027569967812|\n",
      "| stddev|10704.860913757098|10.434720269030999|258.58365358916666|186.85338186416251|2.7698196348841804|  1.569195165907757|0.5784369849580069| 1.734112574177617|72.21766411308725|\n",
      "|    min|                 1|                17|                 0|                 0|                 1|               -3.4|            92.201|             0.634|           4963.6|\n",
      "|    max|             37084|                98|              4918|               999|                56|                1.4|            94.767|             5.045|           5228.1|\n",
      "+-------+------------------+------------------+------------------+------------------+------------------+-------------------+------------------+------------------+-----------------+\n",
      "\n"
     ]
    }
   ],
   "source": [
    "cols_desc = ['Customer_id', 'age','duration','pdays','campaign','emp_var_rate','cons_price_idx','euribor3m','nr_employed']\n",
    "bank_final.select(* [cols_desc]).describe().show()"
   ]
  },
  {
   "cell_type": "markdown",
   "metadata": {},
   "source": [
    "### Note:\n",
    "    We can see it is not looking neat and difficult to understand so we will convert to pandas df and then check:"
   ]
  },
  {
   "cell_type": "code",
   "execution_count": 25,
   "metadata": {},
   "outputs": [
    {
     "data": {
      "text/html": [
       "<div>\n",
       "<style scoped>\n",
       "    .dataframe tbody tr th:only-of-type {\n",
       "        vertical-align: middle;\n",
       "    }\n",
       "\n",
       "    .dataframe tbody tr th {\n",
       "        vertical-align: top;\n",
       "    }\n",
       "\n",
       "    .dataframe thead th {\n",
       "        text-align: right;\n",
       "    }\n",
       "</style>\n",
       "<table border=\"1\" class=\"dataframe\">\n",
       "  <thead>\n",
       "    <tr style=\"text-align: right;\">\n",
       "      <th></th>\n",
       "      <th>Customer_id</th>\n",
       "      <th>age</th>\n",
       "      <th>duration</th>\n",
       "      <th>campaign</th>\n",
       "      <th>pdays</th>\n",
       "      <th>previous</th>\n",
       "      <th>emp_var_rate</th>\n",
       "      <th>cons_price_idx</th>\n",
       "      <th>cons_conf_idx</th>\n",
       "      <th>euribor3m</th>\n",
       "      <th>nr_employed</th>\n",
       "    </tr>\n",
       "  </thead>\n",
       "  <tbody>\n",
       "    <tr>\n",
       "      <th>count</th>\n",
       "      <td>37024.000000</td>\n",
       "      <td>37024.000000</td>\n",
       "      <td>37024.000000</td>\n",
       "      <td>37024.000000</td>\n",
       "      <td>37024.000000</td>\n",
       "      <td>37024.000000</td>\n",
       "      <td>37024.000000</td>\n",
       "      <td>37024.000000</td>\n",
       "      <td>37024.000000</td>\n",
       "      <td>37024.000000</td>\n",
       "      <td>37024.000000</td>\n",
       "    </tr>\n",
       "    <tr>\n",
       "      <th>mean</th>\n",
       "      <td>18546.444495</td>\n",
       "      <td>40.043593</td>\n",
       "      <td>258.157114</td>\n",
       "      <td>2.568793</td>\n",
       "      <td>962.498406</td>\n",
       "      <td>0.173077</td>\n",
       "      <td>0.082014</td>\n",
       "      <td>93.575908</td>\n",
       "      <td>-40.505397</td>\n",
       "      <td>3.621118</td>\n",
       "      <td>5167.027570</td>\n",
       "    </tr>\n",
       "    <tr>\n",
       "      <th>std</th>\n",
       "      <td>10704.860914</td>\n",
       "      <td>10.434720</td>\n",
       "      <td>258.583654</td>\n",
       "      <td>2.769820</td>\n",
       "      <td>186.853382</td>\n",
       "      <td>0.495855</td>\n",
       "      <td>1.569195</td>\n",
       "      <td>0.578437</td>\n",
       "      <td>4.622698</td>\n",
       "      <td>1.734113</td>\n",
       "      <td>72.217664</td>\n",
       "    </tr>\n",
       "    <tr>\n",
       "      <th>min</th>\n",
       "      <td>1.000000</td>\n",
       "      <td>17.000000</td>\n",
       "      <td>0.000000</td>\n",
       "      <td>1.000000</td>\n",
       "      <td>0.000000</td>\n",
       "      <td>0.000000</td>\n",
       "      <td>-3.400000</td>\n",
       "      <td>92.200996</td>\n",
       "      <td>-50.799999</td>\n",
       "      <td>0.634000</td>\n",
       "      <td>4963.600098</td>\n",
       "    </tr>\n",
       "    <tr>\n",
       "      <th>25%</th>\n",
       "      <td>9271.750000</td>\n",
       "      <td>32.000000</td>\n",
       "      <td>102.000000</td>\n",
       "      <td>1.000000</td>\n",
       "      <td>999.000000</td>\n",
       "      <td>0.000000</td>\n",
       "      <td>-1.800000</td>\n",
       "      <td>93.074997</td>\n",
       "      <td>-42.700001</td>\n",
       "      <td>1.344000</td>\n",
       "      <td>5099.100098</td>\n",
       "    </tr>\n",
       "    <tr>\n",
       "      <th>50%</th>\n",
       "      <td>18541.500000</td>\n",
       "      <td>38.000000</td>\n",
       "      <td>180.000000</td>\n",
       "      <td>2.000000</td>\n",
       "      <td>999.000000</td>\n",
       "      <td>0.000000</td>\n",
       "      <td>1.100000</td>\n",
       "      <td>93.749001</td>\n",
       "      <td>-41.799999</td>\n",
       "      <td>4.857000</td>\n",
       "      <td>5191.000000</td>\n",
       "    </tr>\n",
       "    <tr>\n",
       "      <th>75%</th>\n",
       "      <td>27813.250000</td>\n",
       "      <td>47.000000</td>\n",
       "      <td>319.000000</td>\n",
       "      <td>3.000000</td>\n",
       "      <td>999.000000</td>\n",
       "      <td>0.000000</td>\n",
       "      <td>1.400000</td>\n",
       "      <td>93.994003</td>\n",
       "      <td>-36.400002</td>\n",
       "      <td>4.961000</td>\n",
       "      <td>5228.100098</td>\n",
       "    </tr>\n",
       "    <tr>\n",
       "      <th>max</th>\n",
       "      <td>37084.000000</td>\n",
       "      <td>98.000000</td>\n",
       "      <td>4918.000000</td>\n",
       "      <td>56.000000</td>\n",
       "      <td>999.000000</td>\n",
       "      <td>7.000000</td>\n",
       "      <td>1.400000</td>\n",
       "      <td>94.766998</td>\n",
       "      <td>-26.900000</td>\n",
       "      <td>5.045000</td>\n",
       "      <td>5228.100098</td>\n",
       "    </tr>\n",
       "  </tbody>\n",
       "</table>\n",
       "</div>"
      ],
      "text/plain": [
       "        Customer_id           age      duration      campaign         pdays  \\\n",
       "count  37024.000000  37024.000000  37024.000000  37024.000000  37024.000000   \n",
       "mean   18546.444495     40.043593    258.157114      2.568793    962.498406   \n",
       "std    10704.860914     10.434720    258.583654      2.769820    186.853382   \n",
       "min        1.000000     17.000000      0.000000      1.000000      0.000000   \n",
       "25%     9271.750000     32.000000    102.000000      1.000000    999.000000   \n",
       "50%    18541.500000     38.000000    180.000000      2.000000    999.000000   \n",
       "75%    27813.250000     47.000000    319.000000      3.000000    999.000000   \n",
       "max    37084.000000     98.000000   4918.000000     56.000000    999.000000   \n",
       "\n",
       "           previous  emp_var_rate  cons_price_idx  cons_conf_idx  \\\n",
       "count  37024.000000  37024.000000    37024.000000   37024.000000   \n",
       "mean       0.173077      0.082014       93.575908     -40.505397   \n",
       "std        0.495855      1.569195        0.578437       4.622698   \n",
       "min        0.000000     -3.400000       92.200996     -50.799999   \n",
       "25%        0.000000     -1.800000       93.074997     -42.700001   \n",
       "50%        0.000000      1.100000       93.749001     -41.799999   \n",
       "75%        0.000000      1.400000       93.994003     -36.400002   \n",
       "max        7.000000      1.400000       94.766998     -26.900000   \n",
       "\n",
       "          euribor3m   nr_employed  \n",
       "count  37024.000000  37024.000000  \n",
       "mean       3.621118   5167.027570  \n",
       "std        1.734113     72.217664  \n",
       "min        0.634000   4963.600098  \n",
       "25%        1.344000   5099.100098  \n",
       "50%        4.857000   5191.000000  \n",
       "75%        4.961000   5228.100098  \n",
       "max        5.045000   5228.100098  "
      ]
     },
     "execution_count": 25,
     "metadata": {},
     "output_type": "execute_result"
    }
   ],
   "source": [
    "bank = bank_final.toPandas()\n",
    "bank.describe()"
   ]
  },
  {
   "cell_type": "markdown",
   "metadata": {},
   "source": [
    "#### Note:\n",
    "    From here we can check the stats of the numerical columns.\n",
    "    We can see possiblity of presence of ouliers for age, campaign and duration."
   ]
  },
  {
   "cell_type": "code",
   "execution_count": 26,
   "metadata": {},
   "outputs": [
    {
     "name": "stdout",
     "output_type": "stream",
     "text": [
      "+-----------+---+---+-------+---------+-------+-------+----+-------+-----+-----------+--------+--------+-----+--------+--------+---+------------+--------------+-------------+---------+-----------+---------+-----------+----------+\n",
      "|Customer_id|age|job|marital|education|default|housing|loan|contact|month|day_of_week|duration|campaign|pdays|previous|poutcome|  y|emp_var_rate|cons_price_idx|cons_conf_idx|euribor3m|nr_employed|City_Name|Region_Name|State_Name|\n",
      "+-----------+---+---+-------+---------+-------+-------+----+-------+-----+-----------+--------+--------+-----+--------+--------+---+------------+--------------+-------------+---------+-----------+---------+-----------+----------+\n",
      "|          0|  0|  0|      0|        0|      0|      0|   0|      0|    0|          0|       0|       0|    0|       0|       0|  0|           0|             0|            0|        0|          0|        0|          0|         0|\n",
      "+-----------+---+---+-------+---------+-------+-------+----+-------+-----+-----------+--------+--------+-----+--------+--------+---+------------+--------------+-------------+---------+-----------+---------+-----------+----------+\n",
      "\n"
     ]
    }
   ],
   "source": [
    "from pyspark.sql.functions import isnan, when, count, col\n",
    "\n",
    "bank_final.select([count(when(isnan(c), c)).alias(c) for c in bank_final.columns]).show()\n"
   ]
  },
  {
   "cell_type": "markdown",
   "metadata": {},
   "source": [
    "### Note:\n",
    "    As we can see there are no missing values as such but there are some unknowns but we will look into that when we impute the missing values."
   ]
  },
  {
   "cell_type": "code",
   "execution_count": 27,
   "metadata": {},
   "outputs": [
    {
     "name": "stdout",
     "output_type": "stream",
     "text": [
      "<class 'pandas.core.frame.DataFrame'>\n",
      "RangeIndex: 37024 entries, 0 to 37023\n",
      "Data columns (total 25 columns):\n",
      "Customer_id       37024 non-null int64\n",
      "age               37024 non-null int64\n",
      "job               37024 non-null object\n",
      "marital           37024 non-null object\n",
      "education         37024 non-null object\n",
      "default           37024 non-null object\n",
      "housing           37024 non-null object\n",
      "loan              37024 non-null object\n",
      "contact           37024 non-null object\n",
      "month             37024 non-null object\n",
      "day_of_week       37024 non-null object\n",
      "duration          37024 non-null int64\n",
      "campaign          37024 non-null int64\n",
      "pdays             37024 non-null int64\n",
      "previous          37024 non-null int64\n",
      "poutcome          37024 non-null object\n",
      "y                 37024 non-null object\n",
      "emp_var_rate      37024 non-null float64\n",
      "cons_price_idx    37024 non-null float64\n",
      "cons_conf_idx     37024 non-null float64\n",
      "euribor3m         37024 non-null float64\n",
      "nr_employed       37024 non-null float64\n",
      "City_Name         37024 non-null object\n",
      "Region_Name       37024 non-null object\n",
      "State_Name        37024 non-null object\n",
      "dtypes: float64(5), int64(6), object(14)\n",
      "memory usage: 7.1+ MB\n"
     ]
    }
   ],
   "source": [
    "bank.info()"
   ]
  },
  {
   "cell_type": "markdown",
   "metadata": {},
   "source": [
    "### Note:\n",
    "    Above are the Data-types of the columns."
   ]
  },
  {
   "cell_type": "markdown",
   "metadata": {},
   "source": [
    "#### Visualize the distribution of Numeric Data:"
   ]
  },
  {
   "cell_type": "code",
   "execution_count": 28,
   "metadata": {},
   "outputs": [
    {
     "data": {
      "image/png": "[encoded data removed]",
      "text/plain": [
       "<Figure size 1440x1080 with 9 Axes>"
      ]
     },
     "metadata": {
      "needs_background": "light"
     },
     "output_type": "display_data"
    }
   ],
   "source": [
    "header = ['age','campaign','pdays','previous','emp_var_rate','cons_price_idx','cons_conf_idx','euribor3m','nr_employed']\n",
    "bank.hist(column=header,figsize=(20,15))\n",
    "plt.subplots_adjust(wspace = 0.5, hspace = 0.5)\n",
    "plt.show()"
   ]
  },
  {
   "cell_type": "markdown",
   "metadata": {},
   "source": [
    "#### Visualize the distribution of Categorical Data:"
   ]
  },
  {
   "cell_type": "code",
   "execution_count": 29,
   "metadata": {
    "scrolled": false
   },
   "outputs": [
    {
     "data": {
      "image/png": "[encoded data removed]",
      "text/plain": [
       "<Figure size 864x288 with 1 Axes>"
      ]
     },
     "metadata": {
      "needs_background": "light"
     },
     "output_type": "display_data"
    },
    {
     "data": {
      "image/png": "[encoded data removed]",
      "text/plain": [
       "<Figure size 864x288 with 1 Axes>"
      ]
     },
     "metadata": {
      "needs_background": "light"
     },
     "output_type": "display_data"
    },
    {
     "data": {
      "image/png": "[encoded data removed]",
      "text/plain": [
       "<Figure size 864x288 with 1 Axes>"
      ]
     },
     "metadata": {
      "needs_background": "light"
     },
     "output_type": "display_data"
    },
    {
     "data": {
      "image/png": "[encoded data removed]",
      "text/plain": [
       "<Figure size 864x288 with 1 Axes>"
      ]
     },
     "metadata": {
      "needs_background": "light"
     },
     "output_type": "display_data"
    },
    {
     "data": {
      "image/png": "[encoded data removed]",
      "text/plain": [
       "<Figure size 864x288 with 1 Axes>"
      ]
     },
     "metadata": {
      "needs_background": "light"
     },
     "output_type": "display_data"
    },
    {
     "data": {
      "image/png": "[encoded data removed]",
      "text/plain": [
       "<Figure size 864x288 with 1 Axes>"
      ]
     },
     "metadata": {
      "needs_background": "light"
     },
     "output_type": "display_data"
    },
    {
     "data": {
      "image/png": "[encoded data removed]",
      "text/plain": [
       "<Figure size 864x288 with 1 Axes>"
      ]
     },
     "metadata": {
      "needs_background": "light"
     },
     "output_type": "display_data"
    },
    {
     "data": {
      "image/png": "[encoded data removed]",
      "text/plain": [
       "<Figure size 864x288 with 1 Axes>"
      ]
     },
     "metadata": {
      "needs_background": "light"
     },
     "output_type": "display_data"
    },
    {
     "data": {
      "image/png": "[encoded data removed]",
      "text/plain": [
       "<Figure size 864x288 with 1 Axes>"
      ]
     },
     "metadata": {
      "needs_background": "light"
     },
     "output_type": "display_data"
    },
    {
     "data": {
      "image/png": "[encoded data removed]",
      "text/plain": [
       "<Figure size 864x288 with 1 Axes>"
      ]
     },
     "metadata": {
      "needs_background": "light"
     },
     "output_type": "display_data"
    }
   ],
   "source": [
    "header1 = ['marital','loan','housing','job','contact','month','day_of_week','poutcome','y','Region_Name']\n",
    "for i in range(0,10):\n",
    "    plt.figure(figsize = (12, 4))\n",
    "    ax = sns.countplot(bank[header1[i]])\n",
    "    plt.title(str(header1[i]).upper())\n",
    "    for p in ax.patches:\n",
    "        ax.annotate(format(p.get_height(), '.2f'), \n",
    "                   (p.get_x() + p.get_width() / 2., p.get_height()), \n",
    "                   ha = 'center', va = 'center', \n",
    "                   xytext = (0, 9), \n",
    "                   textcoords = 'offset points')\n",
    "    \n"
   ]
  },
  {
   "cell_type": "markdown",
   "metadata": {},
   "source": [
    "### Note:\n",
    "    From above plots we can see the distribution of the categorical values."
   ]
  },
  {
   "cell_type": "markdown",
   "metadata": {},
   "source": [
    "# Data Transformation:\n",
    "    Missing value treatment, outlier treatment, where ever necessary."
   ]
  },
  {
   "cell_type": "markdown",
   "metadata": {},
   "source": [
    "### Note:\n",
    "    Replacing unknown values as nan as we don't have missing values we will treat unknown values as missing values.  "
   ]
  },
  {
   "cell_type": "code",
   "execution_count": 30,
   "metadata": {
    "scrolled": false
   },
   "outputs": [],
   "source": [
    "import numpy as np\n",
    "for cols in bank_final.columns:\n",
    "    bank_final = bank_final.withColumn(cols, \\\n",
    "              when(bank_final[cols] == 'unknown', np.nan).otherwise(bank_final[cols]))"
   ]
  },
  {
   "cell_type": "code",
   "execution_count": 31,
   "metadata": {},
   "outputs": [
    {
     "name": "stdout",
     "output_type": "stream",
     "text": [
      "+-----------+---+---+-------+---------+-------+-------+----+-------+-----+-----------+--------+--------+-----+--------+--------+---+------------+--------------+-------------+---------+-----------+---------+-----------+----------+\n",
      "|Customer_id|age|job|marital|education|default|housing|loan|contact|month|day_of_week|duration|campaign|pdays|previous|poutcome|  y|emp_var_rate|cons_price_idx|cons_conf_idx|euribor3m|nr_employed|City_Name|Region_Name|State_Name|\n",
      "+-----------+---+---+-------+---------+-------+-------+----+-------+-----+-----------+--------+--------+-----+--------+--------+---+------------+--------------+-------------+---------+-----------+---------+-----------+----------+\n",
      "|          0|  0|306|     72|     1544|   7687|    881| 881|      0|    0|          0|       0|       0|    0|       0|       0|  0|           0|             0|            0|        0|          0|        0|          0|         0|\n",
      "+-----------+---+---+-------+---------+-------+-------+----+-------+-----+-----------+--------+--------+-----+--------+--------+---+------------+--------------+-------------+---------+-----------+---------+-----------+----------+\n",
      "\n"
     ]
    }
   ],
   "source": [
    "bank_final.select([count(when(isnan(c), c)).alias(c) for c in bank_final.columns]).show()\n"
   ]
  },
  {
   "cell_type": "markdown",
   "metadata": {},
   "source": [
    "### Note:\n",
    "    From here we can see the count of unknown values for their respective column."
   ]
  },
  {
   "cell_type": "markdown",
   "metadata": {},
   "source": [
    "### Note:\n",
    "     Creating function to calculate the mode of the column: \n",
    "     And we will replace with the most frequent value in the column for the missing values.\n",
    "     For the default calumn we will leave it as it is.(Keep the values as unknown)\n",
    "     "
   ]
  },
  {
   "cell_type": "code",
   "execution_count": 32,
   "metadata": {},
   "outputs": [],
   "source": [
    "def mode_col(column):\n",
    "    return bank_final.groupby(column).count().orderBy(\"count\", ascending=False).first()[0]"
   ]
  },
  {
   "cell_type": "code",
   "execution_count": 33,
   "metadata": {},
   "outputs": [
    {
     "data": {
      "text/plain": [
       "'admin.'"
      ]
     },
     "execution_count": 33,
     "metadata": {},
     "output_type": "execute_result"
    }
   ],
   "source": [
    "mode_col('job')"
   ]
  },
  {
   "cell_type": "code",
   "execution_count": 34,
   "metadata": {},
   "outputs": [],
   "source": [
    "header1 = ['job', 'marital','education','housing','loan']\n",
    "for cols in header1:\n",
    "    bank_final = bank_final.withColumn(cols, \\\n",
    "              when(bank_final[cols] == 'NaN', mode_col(cols)).otherwise(bank_final[cols]))\n",
    "    \n",
    "bank_final = bank_final.withColumn('default', \\\n",
    "              when(bank_final['default'] == 'NaN', 'unknown').otherwise(bank_final[cols]))"
   ]
  },
  {
   "cell_type": "code",
   "execution_count": 35,
   "metadata": {},
   "outputs": [
    {
     "name": "stdout",
     "output_type": "stream",
     "text": [
      "+-----------+---+---+-------+---------+-------+-------+----+-------+-----+-----------+--------+--------+-----+--------+--------+---+------------+--------------+-------------+---------+-----------+---------+-----------+----------+\n",
      "|Customer_id|age|job|marital|education|default|housing|loan|contact|month|day_of_week|duration|campaign|pdays|previous|poutcome|  y|emp_var_rate|cons_price_idx|cons_conf_idx|euribor3m|nr_employed|City_Name|Region_Name|State_Name|\n",
      "+-----------+---+---+-------+---------+-------+-------+----+-------+-----+-----------+--------+--------+-----+--------+--------+---+------------+--------------+-------------+---------+-----------+---------+-----------+----------+\n",
      "|          0|  0|  0|      0|        0|      0|      0|   0|      0|    0|          0|       0|       0|    0|       0|       0|  0|           0|             0|            0|        0|          0|        0|          0|         0|\n",
      "+-----------+---+---+-------+---------+-------+-------+----+-------+-----+-----------+--------+--------+-----+--------+--------+---+------------+--------------+-------------+---------+-----------+---------+-----------+----------+\n",
      "\n"
     ]
    }
   ],
   "source": [
    "bank_final.select([count(when(isnan(c), c)).alias(c) for c in bank_final.columns]).show()"
   ]
  },
  {
   "cell_type": "markdown",
   "metadata": {},
   "source": [
    "### Note:\n",
    "We can see the columns with lessser no of missing values are replaced by the most frequent value and for the default column we will keep it as unknown."
   ]
  },
  {
   "cell_type": "markdown",
   "metadata": {},
   "source": [
    "### Note:\n",
    "As you can see, all the missing values have been treated."
   ]
  },
  {
   "cell_type": "markdown",
   "metadata": {},
   "source": [
    "## Handling Outliers:"
   ]
  },
  {
   "cell_type": "code",
   "execution_count": 36,
   "metadata": {
    "scrolled": false
   },
   "outputs": [
    {
     "data": {
      "text/plain": [
       "Text(0.5, 1.0, 'No of employees')"
      ]
     },
     "execution_count": 36,
     "metadata": {},
     "output_type": "execute_result"
    },
    {
     "data": {
      "image/png": "[encoded data removed]",
      "text/plain": [
       "<Figure size 1080x1440 with 10 Axes>"
      ]
     },
     "metadata": {
      "needs_background": "light"
     },
     "output_type": "display_data"
    }
   ],
   "source": [
    "plt.figure(figsize = (15, 20))\n",
    "plt.style.use('seaborn-white')\n",
    "ax=plt.subplot(521)\n",
    "plt.boxplot(bank['age'])\n",
    "ax.set_title('age')\n",
    "ax=plt.subplot(522)\n",
    "plt.boxplot(bank['duration'])\n",
    "ax.set_title('duration')\n",
    "ax=plt.subplot(523)\n",
    "plt.boxplot(bank['campaign'])\n",
    "ax.set_title('campaign')\n",
    "ax=plt.subplot(524)\n",
    "plt.boxplot(bank['pdays'])\n",
    "ax.set_title('pdays')\n",
    "ax=plt.subplot(525)\n",
    "plt.boxplot(bank['previous'])\n",
    "ax.set_title('previous')\n",
    "ax=plt.subplot(526)\n",
    "plt.boxplot(bank['emp_var_rate'])\n",
    "ax.set_title('Employee variation rate')\n",
    "ax=plt.subplot(527)\n",
    "plt.boxplot(bank['cons_price_idx'])\n",
    "ax.set_title('Consumer price index')\n",
    "ax=plt.subplot(528)\n",
    "plt.boxplot(bank['cons_conf_idx'])\n",
    "ax.set_title('Consumer confidence index')\n",
    "ax=plt.subplot(529)\n",
    "plt.boxplot(bank['euribor3m'])\n",
    "ax.set_title('euribor3m')\n",
    "ax=plt.subplot(5,2,10)\n",
    "plt.boxplot(bank['nr_employed'])\n",
    "ax.set_title('No of employees')\n"
   ]
  },
  {
   "cell_type": "markdown",
   "metadata": {},
   "source": [
    "## Note:\n",
    "    From the above box-plots we can see that there may be presence of outliers in Age, Duration and Campaign column.\n",
    "    But we leave the campaign column as its data points can't be considered as outliers."
   ]
  },
  {
   "cell_type": "code",
   "execution_count": 37,
   "metadata": {},
   "outputs": [],
   "source": [
    "from pyspark.sql import functions as f\n",
    "\n",
    "\n",
    "class Outlier():\n",
    "\n",
    "    def __init__(self, df):\n",
    "        self.df = df\n",
    "        \n",
    "        \n",
    "    def dtypes(self):\n",
    "        showdf = self.df\n",
    "        print(self.df.dtypes)\n",
    "\n",
    "    def _calculate_bounds(self):\n",
    "        bounds = {\n",
    "            c: dict(\n",
    "                zip([\"q1\", \"q3\"], self.df.approxQuantile(c, [0.25, 0.80], 0))\n",
    "            )\n",
    "            for c, d in zip(self.df.columns, self.df.dtypes) if d[1] in [\"double\"]\n",
    "        }\n",
    "\n",
    "        for c in bounds:\n",
    "            iqr = bounds[c]['q3'] - bounds[c]['q1']\n",
    "            bounds[c]['min'] = bounds[c]['q1'] - (iqr * 1.5)\n",
    "            bounds[c]['max'] = bounds[c]['q3'] + (iqr * 1.5)\n",
    "\n",
    "        return bounds\n",
    "\n",
    "\n",
    "    def _flag_outliers_df(self):\n",
    "        bounds = self._calculate_bounds()\n",
    "\n",
    "        outliers_col = [\n",
    "            f.when(\n",
    "                ~f.col(c).between(bounds[c]['min'], bounds[c]['max']),\n",
    "                f.col(c)\n",
    "            ).alias(c + '_outlier')\n",
    "            for c in bounds]\n",
    "\n",
    "        return self.df.select(*outliers_col)\n",
    "\n",
    "\n",
    "    def show_outliers(self):\n",
    "\n",
    "        outlier_df = self._flag_outliers_df()\n",
    "\n",
    "        for outlier in outlier_df.columns:\n",
    "            outlier_df.select(outlier).filter(f.col(outlier).isNotNull()).show()\n",
    "            \n",
    "            \n",
    "    def treat_outliers(self,col1):\n",
    "        bounds = self._calculate_bounds()\n",
    "        treated_df = self.df.withColumn(\n",
    "                            col1, \n",
    "                            f.when((self.df[col1] >bounds[col1]['max']) | (self.df[col1] < bounds [col1]['min']),\n",
    "                                   f.round(f.lit(self.df.select(f.mean(F.col(col1)).alias('mean')).collect()[0]['mean'])).cast('int') ).otherwise(F.col(col1)))\n",
    "        return treated_df"
   ]
  },
  {
   "cell_type": "code",
   "execution_count": 38,
   "metadata": {},
   "outputs": [
    {
     "data": {
      "text/plain": [
       "{'Customer_id': {'max': 60262.0, 'min': -21322.0, 'q1': 9272.0, 'q3': 29668.0},\n",
       " 'age': {'max': 74.5, 'min': 6.5, 'q1': 32.0, 'q3': 49.0},\n",
       " 'campaign': {'max': 6.0, 'min': -2.0, 'q1': 1.0, 'q3': 3.0},\n",
       " 'cons_conf_idx': {'max': -26.950002670288086,\n",
       "  'min': -52.14999961853027,\n",
       "  'q1': -42.70000076293945,\n",
       "  'q3': -36.400001525878906},\n",
       " 'cons_price_idx': {'max': 95.37251281738281,\n",
       "  'min': 91.69648742675781,\n",
       "  'q1': 93.07499694824219,\n",
       "  'q3': 93.99400329589844},\n",
       " 'duration': {'max': 767.0, 'min': -297.0, 'q1': 102.0, 'q3': 368.0},\n",
       " 'emp_var_rate': {'max': 6.1999998688697815,\n",
       "  'min': -6.599999845027924,\n",
       "  'q1': -1.7999999523162842,\n",
       "  'q3': 1.399999976158142},\n",
       " 'euribor3m': {'max': 10.38899976015091,\n",
       "  'min': -4.082999885082245,\n",
       "  'q1': 1.343999981880188,\n",
       "  'q3': 4.961999893188477},\n",
       " 'nr_employed': {'max': 5421.60009765625,\n",
       "  'min': 4905.60009765625,\n",
       "  'q1': 5099.10009765625,\n",
       "  'q3': 5228.10009765625},\n",
       " 'pdays': {'max': 999.0, 'min': 999.0, 'q1': 999.0, 'q3': 999.0},\n",
       " 'previous': {'max': 0.0, 'min': 0.0, 'q1': 0.0, 'q3': 0.0}}"
      ]
     },
     "execution_count": 38,
     "metadata": {},
     "output_type": "execute_result"
    }
   ],
   "source": [
    "Outlier(bank_final)._calculate_bounds()"
   ]
  },
  {
   "cell_type": "code",
   "execution_count": 39,
   "metadata": {
    "scrolled": false
   },
   "outputs": [
    {
     "name": "stdout",
     "output_type": "stream",
     "text": [
      "+----------------+\n",
      "|duration_outlier|\n",
      "+----------------+\n",
      "|          1666.0|\n",
      "|           787.0|\n",
      "|           812.0|\n",
      "|          1575.0|\n",
      "|          1042.0|\n",
      "|          1467.0|\n",
      "|           849.0|\n",
      "|           843.0|\n",
      "|          1077.0|\n",
      "|           962.0|\n",
      "|           935.0|\n",
      "|          1201.0|\n",
      "|          1030.0|\n",
      "|           769.0|\n",
      "|          1623.0|\n",
      "|          1677.0|\n",
      "|           918.0|\n",
      "|           792.0|\n",
      "|          1297.0|\n",
      "|          1906.0|\n",
      "+----------------+\n",
      "only showing top 20 rows\n",
      "\n",
      "+-------------+\n",
      "|pdays_outlier|\n",
      "+-------------+\n",
      "|          6.0|\n",
      "|          4.0|\n",
      "|          4.0|\n",
      "|          3.0|\n",
      "|          4.0|\n",
      "|          5.0|\n",
      "|          5.0|\n",
      "|          1.0|\n",
      "|          6.0|\n",
      "|          4.0|\n",
      "|          4.0|\n",
      "|          4.0|\n",
      "|          6.0|\n",
      "|          0.0|\n",
      "|          3.0|\n",
      "|          5.0|\n",
      "|          5.0|\n",
      "|          6.0|\n",
      "|          4.0|\n",
      "|          0.0|\n",
      "+-------------+\n",
      "only showing top 20 rows\n",
      "\n",
      "+-----------+\n",
      "|age_outlier|\n",
      "+-----------+\n",
      "|       76.0|\n",
      "|       88.0|\n",
      "|       88.0|\n",
      "|       88.0|\n",
      "|       88.0|\n",
      "|       88.0|\n",
      "|       88.0|\n",
      "|       88.0|\n",
      "|       88.0|\n",
      "|       88.0|\n",
      "|       88.0|\n",
      "|       88.0|\n",
      "|       95.0|\n",
      "|       77.0|\n",
      "|       75.0|\n",
      "|       80.0|\n",
      "|       80.0|\n",
      "|       80.0|\n",
      "|       82.0|\n",
      "|       75.0|\n",
      "+-----------+\n",
      "only showing top 20 rows\n",
      "\n",
      "+----------------+\n",
      "|campaign_outlier|\n",
      "+----------------+\n",
      "|             7.0|\n",
      "|             8.0|\n",
      "|             8.0|\n",
      "|             7.0|\n",
      "|             7.0|\n",
      "|             7.0|\n",
      "|             9.0|\n",
      "|             9.0|\n",
      "|             7.0|\n",
      "|             7.0|\n",
      "|             7.0|\n",
      "|             7.0|\n",
      "|             7.0|\n",
      "|             7.0|\n",
      "|             9.0|\n",
      "|             7.0|\n",
      "|             7.0|\n",
      "|             7.0|\n",
      "|             8.0|\n",
      "|             8.0|\n",
      "+----------------+\n",
      "only showing top 20 rows\n",
      "\n",
      "+-------------------+\n",
      "|nr_employed_outlier|\n",
      "+-------------------+\n",
      "+-------------------+\n",
      "\n",
      "+----------------------+\n",
      "|cons_price_idx_outlier|\n",
      "+----------------------+\n",
      "+----------------------+\n",
      "\n",
      "+---------------------+\n",
      "|cons_conf_idx_outlier|\n",
      "+---------------------+\n",
      "|  -26.899999618530273|\n",
      "|  -26.899999618530273|\n",
      "|  -26.899999618530273|\n",
      "|  -26.899999618530273|\n",
      "|  -26.899999618530273|\n",
      "|  -26.899999618530273|\n",
      "|  -26.899999618530273|\n",
      "|  -26.899999618530273|\n",
      "|  -26.899999618530273|\n",
      "|  -26.899999618530273|\n",
      "|  -26.899999618530273|\n",
      "|  -26.899999618530273|\n",
      "|  -26.899999618530273|\n",
      "|  -26.899999618530273|\n",
      "|  -26.899999618530273|\n",
      "|  -26.899999618530273|\n",
      "|  -26.899999618530273|\n",
      "|  -26.899999618530273|\n",
      "|  -26.899999618530273|\n",
      "|  -26.899999618530273|\n",
      "+---------------------+\n",
      "only showing top 20 rows\n",
      "\n",
      "+-------------------+\n",
      "|Customer_id_outlier|\n",
      "+-------------------+\n",
      "+-------------------+\n",
      "\n",
      "+--------------------+\n",
      "|emp_var_rate_outlier|\n",
      "+--------------------+\n",
      "+--------------------+\n",
      "\n",
      "+----------------+\n",
      "|previous_outlier|\n",
      "+----------------+\n",
      "|             1.0|\n",
      "|             1.0|\n",
      "|             1.0|\n",
      "|             1.0|\n",
      "|             1.0|\n",
      "|             1.0|\n",
      "|             1.0|\n",
      "|             1.0|\n",
      "|             1.0|\n",
      "|             1.0|\n",
      "|             1.0|\n",
      "|             1.0|\n",
      "|             1.0|\n",
      "|             1.0|\n",
      "|             1.0|\n",
      "|             1.0|\n",
      "|             1.0|\n",
      "|             1.0|\n",
      "|             1.0|\n",
      "|             1.0|\n",
      "+----------------+\n",
      "only showing top 20 rows\n",
      "\n",
      "+-----------------+\n",
      "|euribor3m_outlier|\n",
      "+-----------------+\n",
      "+-----------------+\n",
      "\n"
     ]
    }
   ],
   "source": [
    "Outlier(bank_final).show_outliers()"
   ]
  },
  {
   "cell_type": "markdown",
   "metadata": {},
   "source": [
    "### Note: \n",
    "We have got the outliers for all the numeric columns but we need only treeat the age and duration outliers.\n",
    "We will leave the rest as it is."
   ]
  },
  {
   "cell_type": "markdown",
   "metadata": {},
   "source": [
    "### Note:\n",
    "    We will check the max age and duration values before treating them."
   ]
  },
  {
   "cell_type": "code",
   "execution_count": 40,
   "metadata": {},
   "outputs": [
    {
     "name": "stdout",
     "output_type": "stream",
     "text": [
      "+--------+\n",
      "|max(age)|\n",
      "+--------+\n",
      "|    98.0|\n",
      "+--------+\n",
      "\n"
     ]
    }
   ],
   "source": [
    "bank_final.select(f.max(f.col('age'))).show()"
   ]
  },
  {
   "cell_type": "code",
   "execution_count": 41,
   "metadata": {},
   "outputs": [
    {
     "name": "stdout",
     "output_type": "stream",
     "text": [
      "+-------------+\n",
      "|max(duration)|\n",
      "+-------------+\n",
      "|       4918.0|\n",
      "+-------------+\n",
      "\n"
     ]
    }
   ],
   "source": [
    "bank_final.select(f.max(f.col('duration'))).show()"
   ]
  },
  {
   "cell_type": "code",
   "execution_count": 42,
   "metadata": {},
   "outputs": [],
   "source": [
    "bank_final = Outlier(bank_final).treat_outliers('age')\n",
    "bank_final = Outlier(bank_final).treat_outliers('duration')"
   ]
  },
  {
   "cell_type": "code",
   "execution_count": 43,
   "metadata": {},
   "outputs": [
    {
     "name": "stdout",
     "output_type": "stream",
     "text": [
      "+--------+\n",
      "|max(age)|\n",
      "+--------+\n",
      "|    74.0|\n",
      "+--------+\n",
      "\n"
     ]
    }
   ],
   "source": [
    "bank_final.select(f.max(f.col('age'))).show()"
   ]
  },
  {
   "cell_type": "code",
   "execution_count": 44,
   "metadata": {},
   "outputs": [
    {
     "name": "stdout",
     "output_type": "stream",
     "text": [
      "+-------------+\n",
      "|max(duration)|\n",
      "+-------------+\n",
      "|        767.0|\n",
      "+-------------+\n",
      "\n"
     ]
    }
   ],
   "source": [
    "bank_final.select(f.max(f.col('duration'))).show()"
   ]
  },
  {
   "cell_type": "markdown",
   "metadata": {},
   "source": [
    "### Note:\n",
    "We can see that the max values have changed for the age and duration column.\n",
    "Thus, we have removed the outliers using IQR method. "
   ]
  },
  {
   "cell_type": "code",
   "execution_count": 45,
   "metadata": {},
   "outputs": [],
   "source": [
    "Y=bank_final.select(col('y'))"
   ]
  },
  {
   "cell_type": "code",
   "execution_count": 46,
   "metadata": {},
   "outputs": [],
   "source": [
    "for cols in Y.columns:\n",
    "    bank_final = bank_final.withColumn(cols, \\\n",
    "              when(bank_final[cols] == 'no',0).otherwise(1))"
   ]
  },
  {
   "cell_type": "code",
   "execution_count": 47,
   "metadata": {},
   "outputs": [],
   "source": [
    "bank_final=(bank_final.withColumnRenamed(\"y\",\"label\"))"
   ]
  },
  {
   "cell_type": "code",
   "execution_count": 48,
   "metadata": {},
   "outputs": [],
   "source": [
    "bank_final=bank_final.drop('Customer_id')"
   ]
  },
  {
   "cell_type": "code",
   "execution_count": 49,
   "metadata": {},
   "outputs": [
    {
     "data": {
      "text/plain": [
       "['age',\n",
       " 'job',\n",
       " 'marital',\n",
       " 'education',\n",
       " 'default',\n",
       " 'housing',\n",
       " 'loan',\n",
       " 'contact',\n",
       " 'month',\n",
       " 'day_of_week',\n",
       " 'duration',\n",
       " 'campaign',\n",
       " 'pdays',\n",
       " 'previous',\n",
       " 'poutcome',\n",
       " 'label',\n",
       " 'emp_var_rate',\n",
       " 'cons_price_idx',\n",
       " 'cons_conf_idx',\n",
       " 'euribor3m',\n",
       " 'nr_employed',\n",
       " 'City_Name',\n",
       " 'Region_Name',\n",
       " 'State_Name']"
      ]
     },
     "execution_count": 49,
     "metadata": {},
     "output_type": "execute_result"
    }
   ],
   "source": [
    "bank_final.columns"
   ]
  },
  {
   "cell_type": "code",
   "execution_count": 50,
   "metadata": {},
   "outputs": [],
   "source": [
    "cat=['job',\n",
    " 'marital',\n",
    " 'education',\n",
    " 'default',\n",
    " 'housing',\n",
    " 'loan',\n",
    " 'contact',\n",
    " 'month',\n",
    " 'day_of_week',\n",
    " 'poutcome',\n",
    " 'City_Name',\n",
    " 'Region_Name',\n",
    " 'State_Name']"
   ]
  },
  {
   "cell_type": "code",
   "execution_count": 51,
   "metadata": {},
   "outputs": [],
   "source": [
    "from pyspark.ml.feature import StringIndexer\n",
    "from pyspark.ml import Pipeline\n",
    "\n",
    "indexers = [StringIndexer(inputCol=cat, outputCol=cat+\"_labeled\").fit(bank_final) for cat in list(cat) ]\n",
    "\n",
    "\n",
    "pipeline = Pipeline(stages=indexers)\n",
    "df_r = pipeline.fit(bank_final).transform(bank_final)\n"
   ]
  },
  {
   "cell_type": "code",
   "execution_count": 52,
   "metadata": {},
   "outputs": [],
   "source": [
    "for col in cat:\n",
    "    df_r=df_r.drop(col)"
   ]
  },
  {
   "cell_type": "code",
   "execution_count": 53,
   "metadata": {},
   "outputs": [],
   "source": [
    "features=df_r.columns\n",
    "features.remove('label')"
   ]
  },
  {
   "cell_type": "code",
   "execution_count": 54,
   "metadata": {},
   "outputs": [
    {
     "data": {
      "text/plain": [
       "['age',\n",
       " 'duration',\n",
       " 'campaign',\n",
       " 'pdays',\n",
       " 'previous',\n",
       " 'emp_var_rate',\n",
       " 'cons_price_idx',\n",
       " 'cons_conf_idx',\n",
       " 'euribor3m',\n",
       " 'nr_employed',\n",
       " 'job_labeled',\n",
       " 'marital_labeled',\n",
       " 'education_labeled',\n",
       " 'default_labeled',\n",
       " 'housing_labeled',\n",
       " 'loan_labeled',\n",
       " 'contact_labeled',\n",
       " 'month_labeled',\n",
       " 'day_of_week_labeled',\n",
       " 'poutcome_labeled',\n",
       " 'City_Name_labeled',\n",
       " 'Region_Name_labeled',\n",
       " 'State_Name_labeled']"
      ]
     },
     "execution_count": 54,
     "metadata": {},
     "output_type": "execute_result"
    }
   ],
   "source": [
    "features"
   ]
  },
  {
   "cell_type": "code",
   "execution_count": 55,
   "metadata": {},
   "outputs": [
    {
     "name": "stdout",
     "output_type": "stream",
     "text": [
      "root\n",
      " |-- age: double (nullable = true)\n",
      " |-- duration: double (nullable = true)\n",
      " |-- campaign: double (nullable = true)\n",
      " |-- pdays: double (nullable = true)\n",
      " |-- previous: double (nullable = true)\n",
      " |-- label: integer (nullable = false)\n",
      " |-- emp_var_rate: double (nullable = true)\n",
      " |-- cons_price_idx: double (nullable = true)\n",
      " |-- cons_conf_idx: double (nullable = true)\n",
      " |-- euribor3m: double (nullable = true)\n",
      " |-- nr_employed: double (nullable = true)\n",
      " |-- job_labeled: double (nullable = true)\n",
      " |-- marital_labeled: double (nullable = true)\n",
      " |-- education_labeled: double (nullable = true)\n",
      " |-- default_labeled: double (nullable = true)\n",
      " |-- housing_labeled: double (nullable = true)\n",
      " |-- loan_labeled: double (nullable = true)\n",
      " |-- contact_labeled: double (nullable = true)\n",
      " |-- month_labeled: double (nullable = true)\n",
      " |-- day_of_week_labeled: double (nullable = true)\n",
      " |-- poutcome_labeled: double (nullable = true)\n",
      " |-- City_Name_labeled: double (nullable = true)\n",
      " |-- Region_Name_labeled: double (nullable = true)\n",
      " |-- State_Name_labeled: double (nullable = true)\n",
      "\n"
     ]
    }
   ],
   "source": [
    "\n",
    "df_r.printSchema()"
   ]
  },
  {
   "cell_type": "code",
   "execution_count": 56,
   "metadata": {},
   "outputs": [],
   "source": [
    "(training, test) = df_r.randomSplit([.8, .2])"
   ]
  },
  {
   "cell_type": "code",
   "execution_count": 57,
   "metadata": {},
   "outputs": [],
   "source": [
    "vectorAssembler = VectorAssembler(inputCols=features, outputCol=\"unscaled_features\")\n",
    "standardScaler = StandardScaler(inputCol=\"unscaled_features\", outputCol=\"features\")"
   ]
  },
  {
   "cell_type": "code",
   "execution_count": 58,
   "metadata": {},
   "outputs": [
    {
     "name": "stdout",
     "output_type": "stream",
     "text": [
      "All correct predictions count:  6709\n",
      "Total count:  7357\n",
      "Accuracy %:  91.19206198178605\n",
      "Recall %:  47.91929382093317\n",
      "Precision %:  61.78861788617886\n"
     ]
    }
   ],
   "source": [
    "normalizer = Normalizer(inputCol='features',outputCol='norm_scaled_features')\n",
    "\n",
    "# set a GBT model.\n",
    "gbt = GBTClassifier(labelCol='label', featuresCol=\"norm_scaled_features\" \\\n",
    "                    , maxIter=10 \\\n",
    "                    , maxDepth=7)\n",
    "\n",
    "# instantiate pipeline\n",
    "pipeline = Pipeline(stages=[vectorAssembler,standardScaler,normalizer, gbt])\n",
    "\n",
    "# run CV on train data\n",
    "pipe_gbt = pipeline.fit(training)\n",
    "\n",
    "# create prediction column on test dataframe\n",
    "results = pipe_gbt.transform(test)\n",
    "\n",
    "# evaluate results\n",
    "correct_count = results.filter(results.label == results.prediction).count()\n",
    "total_count = results.count()\n",
    "\n",
    "correct_1_count = results.filter((results.label == 1) & (results.prediction == 1)).count()\n",
    "total_1_test = results.filter((results.label == 1)).count()\n",
    "total_1_predict = results.filter((results.prediction == 1)).count()\n",
    "\n",
    "print(\"All correct predictions count: \",correct_count)\n",
    "print(\"Total count: \",total_count)\n",
    "print(\"Accuracy %: \",(correct_count / total_count)*100)\n",
    "print(\"Recall %: \",(correct_1_count / total_1_test)*100)\n",
    "print(\"Precision %: \",(correct_1_count / total_1_predict)*100)"
   ]
  }
 ],
 "metadata": {
  "kernelspec": {
   "display_name": "Python 3",
   "language": "python",
   "name": "python3"
  },
  "language_info": {
   "codemirror_mode": {
    "name": "ipython",
    "version": 3
   },
   "file_extension": ".py",
   "mimetype": "text/x-python",
   "name": "python",
   "nbconvert_exporter": "python",
   "pygments_lexer": "ipython3",
   "version": "3.5.2"
  }
 },
 "nbformat": 4,
 "nbformat_minor": 2
}
