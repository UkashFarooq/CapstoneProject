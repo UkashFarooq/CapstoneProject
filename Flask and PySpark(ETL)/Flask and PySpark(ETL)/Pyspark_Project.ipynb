{
 "cells": [
  {
   "cell_type": "code",
   "execution_count": 1,
   "metadata": {},
   "outputs": [],
   "source": [
    "\n",
    "import numpy as np\n",
    "import matplotlib.pyplot as plt\n",
    "import seaborn as sns\n"
   ]
  },
  {
   "cell_type": "code",
   "execution_count": 2,
   "metadata": {},
   "outputs": [],
   "source": [
    "import findspark\n",
    "findspark.init(\"/usr/local/spark/\")\n",
    "import pyspark"
   ]
  },
  {
   "cell_type": "code",
   "execution_count": 3,
   "metadata": {},
   "outputs": [],
   "source": [
    "from pyspark.sql import *\n",
    "from pyspark.sql import functions as F\n",
    "from pyspark.sql.types import *"
   ]
  },
  {
   "cell_type": "code",
   "execution_count": 4,
   "metadata": {},
   "outputs": [],
   "source": [
    "from pyspark.sql import SparkSession\n",
    "appName = \"PySpark Project1\"\n",
    "\n",
    "\n",
    "spark = SparkSession.builder.appName(appName).getOrCreate()\n",
    "\n",
    "###.enableHiveSupport() add it later"
   ]
  },
  {
   "cell_type": "markdown",
   "metadata": {},
   "source": [
    "### Note:\n",
    "        Reading in the data."
   ]
  },
  {
   "cell_type": "code",
   "execution_count": 5,
   "metadata": {
    "scrolled": false
   },
   "outputs": [],
   "source": [
    "data=\"/home/hduser/Desktop/Pyspark Project/Customer_and_bank details_p1.csv\"\n",
    "data_campaign = \"/home/hduser/Desktop/Pyspark Project/Customer_campaign_details_p1.csv\"\n",
    "data_citymaster=\"/home/hduser/Desktop/Pyspark Project/City_Master.csv\"\n",
    "data_postalcode=\"/home/hduser/Desktop/Pyspark Project/Customer_Postal_Code_details.csv\"\n",
    "data_response=\"/home/hduser/Desktop/Pyspark Project/Customer_Response_data_p1.csv\"\n",
    "data_socioeco=\"/home/hduser/Desktop/Pyspark Project/Customer_social_economic_data_p1.csv\"\n",
    "data_regionmaster=\"/home/hduser/Desktop/Pyspark Project/Region_code_master.csv\"\n",
    "data_statemaster=\"/home/hduser/Desktop/Pyspark Project/State_Master.csv\"\n",
    "###-------- loading data into dataframes:\n",
    "df_main = spark.read.format('csv').option(\"header\",\"true\").option(\"inferSchema\",\"true\").option(\"delimiter\",\",\").load(data).cache()\n",
    "df_campaign = spark.read.format('csv').option(\"header\",\"true\").option(\"inferSchema\",\"true\").option(\"delimiter\",\",\").load(data_campaign).cache()\n",
    "df_citymaster = spark.read.format('csv').option(\"header\",\"true\").option(\"inferSchema\",\"true\").option(\"delimiter\",\",\").load(data_citymaster).cache()\n",
    "df_postalcode = spark.read.format('csv').option(\"header\",\"true\").option(\"inferSchema\",\"true\").option(\"delimiter\",\",\").load(data_postalcode).cache()\n",
    "df_response = spark.read.format('csv').option(\"header\",\"true\").option(\"inferSchema\",\"true\").option(\"delimiter\",\",\").load(data_response).cache()\n",
    "df_socioeco = spark.read.format('csv').option(\"header\",\"true\").option(\"inferSchema\",\"true\").option(\"delimiter\",\",\").load(data_socioeco).cache()\n",
    "df_regionmaster = spark.read.format('csv').option(\"header\",\"true\").option(\"inferSchema\",\"true\").option(\"delimiter\",\",\").load(data_regionmaster).cache()\n",
    "df_statemaster = spark.read.format('csv').option(\"header\",\"true\").option(\"inferSchema\",\"true\").option(\"delimiter\",\",\").load(data_statemaster).cache()\n",
    "\n"
   ]
  },
  {
   "cell_type": "markdown",
   "metadata": {},
   "source": [
    "### Note:\n",
    "    Let us view 5 rows from each dataframe."
   ]
  },
  {
   "cell_type": "code",
   "execution_count": 6,
   "metadata": {
    "scrolled": false
   },
   "outputs": [
    {
     "name": "stdout",
     "output_type": "stream",
     "text": [
      "+-----------+---+-----------+-------+-------------------+-------+-------+----+-----------+----------+---------+\n",
      "|Customer_id|age|        job|marital|          education|default|housing|loan|Region_Code|State_Code|City_Code|\n",
      "+-----------+---+-----------+-------+-------------------+-------+-------+----+-----------+----------+---------+\n",
      "|          1| 56|   services|married|        high.school|     no|     no| yes|          3|        S1|       C1|\n",
      "|          2| 45|   services|married|           basic.9y|unknown|     no|  no|          3|        S1|       C1|\n",
      "|          3| 59|     admin.|married|professional.course|     no|     no|  no|          4|        S2|       C2|\n",
      "|          4| 41|blue-collar|married|            unknown|unknown|     no|  no|          3|        S3|       C3|\n",
      "|          5| 24| technician| single|professional.course|     no|    yes|  no|          3|        S3|       C3|\n",
      "+-----------+---+-----------+-------+-------------------+-------+-------+----+-----------+----------+---------+\n",
      "only showing top 5 rows\n",
      "\n",
      "None\n",
      "+-----------+---------+-----+-----------+--------+--------+-----+--------+-----------+\n",
      "|Customer_id|  contact|month|day_of_week|duration|campaign|pdays|previous|   poutcome|\n",
      "+-----------+---------+-----+-----------+--------+--------+-----+--------+-----------+\n",
      "|          1|telephone|  may|        mon|     307|       1|  999|       0|nonexistent|\n",
      "|          2|telephone|  may|        mon|     198|       1|  999|       0|nonexistent|\n",
      "|          3|telephone|  may|        mon|     139|       1|  999|       0|nonexistent|\n",
      "|          4|telephone|  may|        mon|     217|       1|  999|       0|nonexistent|\n",
      "|          5|telephone|  may|        mon|     380|       1|  999|       0|nonexistent|\n",
      "+-----------+---------+-----+-----------+--------+--------+-----+--------+-----------+\n",
      "only showing top 5 rows\n",
      "\n",
      "None\n",
      "+---------+---------------+----------+\n",
      "|City_Code|      City_Name|State_Code|\n",
      "+---------+---------------+----------+\n",
      "|       C1|      Henderson|        S1|\n",
      "|       C2|    Los Angeles|        S2|\n",
      "|       C3|Fort Lauderdale|        S3|\n",
      "|       C4|        Concord|        S4|\n",
      "|       C5|        Seattle|        S5|\n",
      "+---------+---------------+----------+\n",
      "only showing top 5 rows\n",
      "\n",
      "None\n",
      "+-----------+-----------+\n",
      "|customer_id|Postal Code|\n",
      "+-----------+-----------+\n",
      "|          1|      42420|\n",
      "|          2|      42420|\n",
      "|          3|      90036|\n",
      "|          4|      33311|\n",
      "|          5|      33311|\n",
      "+-----------+-----------+\n",
      "only showing top 5 rows\n",
      "\n",
      "None\n",
      "+-----------+-----------+\n",
      "|Region_Name|Region_Code|\n",
      "+-----------+-----------+\n",
      "|    Central|          1|\n",
      "|       East|          2|\n",
      "|      South|          3|\n",
      "|       West|          4|\n",
      "|      North|          5|\n",
      "+-----------+-----------+\n",
      "\n",
      "None\n",
      "+-----------+---+\n",
      "|Customer_id|  y|\n",
      "+-----------+---+\n",
      "|          1| no|\n",
      "|          2| no|\n",
      "|          3| no|\n",
      "|          4| no|\n",
      "|          5| no|\n",
      "+-----------+---+\n",
      "only showing top 5 rows\n",
      "\n",
      "None\n",
      "+-----------+------------+--------------+-------------+---------+-----------+\n",
      "|Customer_id|emp.var.rate|cons.price.idx|cons.conf.idx|euribor3m|nr.employed|\n",
      "+-----------+------------+--------------+-------------+---------+-----------+\n",
      "|          1|         1.1|        93.994|        -36.4|    4.857|     5191.0|\n",
      "|          2|         1.1|        93.994|        -36.4|    4.857|     5191.0|\n",
      "|          3|         1.1|        93.994|        -36.4|    4.857|     5191.0|\n",
      "|          4|         1.1|        93.994|        -36.4|    4.857|     5191.0|\n",
      "|          5|         1.1|        93.994|        -36.4|    4.857|     5191.0|\n",
      "+-----------+------------+--------------+-------------+---------+-----------+\n",
      "only showing top 5 rows\n",
      "\n",
      "None\n",
      "+----------+--------------+-----------+\n",
      "|State_Code|    State_Name|Region_Code|\n",
      "+----------+--------------+-----------+\n",
      "|        S1|      Kentucky|          3|\n",
      "|        S2|    California|          4|\n",
      "|        S3|       Florida|          3|\n",
      "|        S4|North Carolina|          3|\n",
      "|        S5|    Washington|          4|\n",
      "+----------+--------------+-----------+\n",
      "only showing top 5 rows\n",
      "\n",
      "None\n"
     ]
    }
   ],
   "source": [
    "print(df_main.show(5))\n",
    "print(df_campaign.show(5))\n",
    "print(df_citymaster.show(5))\n",
    "print(df_postalcode.show(5))\n",
    "print(df_regionmaster.show(5))\n",
    "print(df_response.show(5))\n",
    "print(df_socioeco.show(5))\n",
    "print(df_statemaster.show(5))"
   ]
  },
  {
   "cell_type": "code",
   "execution_count": 7,
   "metadata": {
    "scrolled": true
   },
   "outputs": [
    {
     "name": "stdout",
     "output_type": "stream",
     "text": [
      "root\n",
      " |-- customer_id: integer (nullable = true)\n",
      " |-- Postal Code: integer (nullable = true)\n",
      "\n"
     ]
    }
   ],
   "source": [
    "df_postalcode.printSchema()"
   ]
  },
  {
   "cell_type": "markdown",
   "metadata": {},
   "source": [
    "###### df_main.write.format(\"parquet\").saveAsTable(\"Project.Customer_and_Bank_Details\")\n",
    "df_campaign.write.format(\"parquet\").saveAsTable(\"Project.Customer_Campaign_Details\")\n",
    "df_citymaster.write.format(\"parquet\").saveAsTable(\"Project.City_master\")\n"
   ]
  },
  {
   "cell_type": "markdown",
   "metadata": {},
   "source": [
    "\n",
    "df_regionmaster.write.format(\"parquet\").saveAsTable(\"Project.Region_Master\")\n",
    "df_response.write.format(\"parquet\").saveAsTable(\"Project.Customer_ResponseData\")\n",
    "df_socioeco.write.format(\"parquet\").saveAsTable(\"Project.Customer_SocioEco_Data\")\n",
    "df_statemaster.write.format(\"parquet\").saveAsTable(\"Project.State_Master\")\n"
   ]
  },
  {
   "cell_type": "markdown",
   "metadata": {
    "scrolled": true
   },
   "source": [
    "spark.sql(\"show tables\").show()"
   ]
  },
  {
   "cell_type": "markdown",
   "metadata": {},
   "source": [
    "### Note:\n",
    "    We have successfully stored all the data as tables in hive."
   ]
  },
  {
   "cell_type": "markdown",
   "metadata": {},
   "source": [
    "### Now:\n",
    "        We merge all the data into a single dataset."
   ]
  },
  {
   "cell_type": "code",
   "execution_count": 71,
   "metadata": {
    "scrolled": false
   },
   "outputs": [],
   "source": [
    "bank_final = df_main.join(df_campaign, df_main[\"Customer_id\"]==df_campaign[\"Customer_id\"]).drop(df_campaign.Customer_id) \\\n",
    "                .join(df_response,df_main[\"Customer_id\"]==df_response[\"Customer_id\"]).drop(df_response.Customer_id) \\\n",
    "                .join(df_socioeco, df_main[\"Customer_id\"]==df_socioeco[\"Customer_id\"]).drop(df_socioeco.Customer_id) \\\n",
    "                .join(df_citymaster, df_main[\"City_Code\"]==df_citymaster[\"City_Code\"]).drop(df_citymaster.City_Code).drop(df_citymaster.State_Code) \\\n",
    "                .join(df_regionmaster, df_main[\"Region_Code\"]==df_regionmaster[\"Region_Code\"]).drop(df_regionmaster.Region_Code) \\\n",
    "                .join(df_statemaster, df_main[\"State_Code\"]==df_statemaster[\"State_Code\"]).drop(df_statemaster.Region_Code).drop(df_statemaster.State_Code)\n"
   ]
  },
  {
   "cell_type": "code",
   "execution_count": 72,
   "metadata": {},
   "outputs": [
    {
     "name": "stdout",
     "output_type": "stream",
     "text": [
      "+-----------+---+--------+-------+-----------+-------+-------+----+-----------+----------+---------+---------+-----+-----------+--------+--------+-----+--------+-----------+---+------------+--------------+-------------+---------+-----------+---------+-----------+----------+\n",
      "|Customer_id|age|     job|marital|  education|default|housing|loan|Region_Code|State_Code|City_Code|  contact|month|day_of_week|duration|campaign|pdays|previous|   poutcome|  y|emp.var.rate|cons.price.idx|cons.conf.idx|euribor3m|nr.employed|City_Name|Region_Name|State_Name|\n",
      "+-----------+---+--------+-------+-----------+-------+-------+----+-----------+----------+---------+---------+-----+-----------+--------+--------+-----+--------+-----------+---+------------+--------------+-------------+---------+-----------+---------+-----------+----------+\n",
      "|          1| 56|services|married|high.school|     no|     no| yes|          3|        S1|       C1|telephone|  may|        mon|     307|       1|  999|       0|nonexistent| no|         1.1|        93.994|        -36.4|    4.857|     5191.0|Henderson|      South|  Kentucky|\n",
      "|          2| 45|services|married|   basic.9y|unknown|     no|  no|          3|        S1|       C1|telephone|  may|        mon|     198|       1|  999|       0|nonexistent| no|         1.1|        93.994|        -36.4|    4.857|     5191.0|Henderson|      South|  Kentucky|\n",
      "+-----------+---+--------+-------+-----------+-------+-------+----+-----------+----------+---------+---------+-----+-----------+--------+--------+-----+--------+-----------+---+------------+--------------+-------------+---------+-----------+---------+-----------+----------+\n",
      "only showing top 2 rows\n",
      "\n"
     ]
    }
   ],
   "source": [
    "bank_final.show(2)"
   ]
  },
  {
   "cell_type": "markdown",
   "metadata": {},
   "source": [
    "### Note:\n",
    "        Now we can print the schema for the final dataframe we got after merging."
   ]
  },
  {
   "cell_type": "code",
   "execution_count": 73,
   "metadata": {},
   "outputs": [
    {
     "name": "stdout",
     "output_type": "stream",
     "text": [
      "root\n",
      " |-- Customer_id: integer (nullable = true)\n",
      " |-- age: integer (nullable = true)\n",
      " |-- job: string (nullable = true)\n",
      " |-- marital: string (nullable = true)\n",
      " |-- education: string (nullable = true)\n",
      " |-- default: string (nullable = true)\n",
      " |-- housing: string (nullable = true)\n",
      " |-- loan: string (nullable = true)\n",
      " |-- Region_Code: string (nullable = true)\n",
      " |-- State_Code: string (nullable = true)\n",
      " |-- City_Code: string (nullable = true)\n",
      " |-- contact: string (nullable = true)\n",
      " |-- month: string (nullable = true)\n",
      " |-- day_of_week: string (nullable = true)\n",
      " |-- duration: integer (nullable = true)\n",
      " |-- campaign: integer (nullable = true)\n",
      " |-- pdays: integer (nullable = true)\n",
      " |-- previous: integer (nullable = true)\n",
      " |-- poutcome: string (nullable = true)\n",
      " |-- y: string (nullable = true)\n",
      " |-- emp.var.rate: double (nullable = true)\n",
      " |-- cons.price.idx: double (nullable = true)\n",
      " |-- cons.conf.idx: double (nullable = true)\n",
      " |-- euribor3m: double (nullable = true)\n",
      " |-- nr.employed: double (nullable = true)\n",
      " |-- City_Name: string (nullable = true)\n",
      " |-- Region_Name: string (nullable = true)\n",
      " |-- State_Name: string (nullable = true)\n",
      "\n"
     ]
    }
   ],
   "source": [
    "bank_final.printSchema()"
   ]
  },
  {
   "cell_type": "code",
   "execution_count": 11,
   "metadata": {},
   "outputs": [],
   "source": [
    "bank_final = bank_final.drop('Region_Code')\n",
    "bank_final = bank_final.drop('City_Code')\n",
    "bank_final = bank_final.drop('State_Code')\n"
   ]
  },
  {
   "cell_type": "markdown",
   "metadata": {},
   "source": [
    "### Note:\n",
    "    Here we have the final dataframe which is kind of denormalized as we don't need to use joins now for our data and also the column Postal Code, Region Code, State Code and City Code didn't help in our analysis so we removed that, as we now have the respective names of cities, regions and states."
   ]
  },
  {
   "cell_type": "markdown",
   "metadata": {},
   "source": [
    "bank_final.write.mode(\"overwrite\").format(\"hive\").saveAsTable(\"project.bank_final\")"
   ]
  },
  {
   "cell_type": "markdown",
   "metadata": {},
   "source": [
    "spark.sql(\"use project(select * from bank_final) \").show()"
   ]
  },
  {
   "cell_type": "markdown",
   "metadata": {},
   "source": [
    "### Note:\n",
    "    Here we can see that our bank_final has been stored as a table in hive."
   ]
  },
  {
   "cell_type": "markdown",
   "metadata": {},
   "source": [
    "spark.sql(\"create table Bank_Denormalized  AS ( select customer_and_bank_details.*,customer_campaign_details.* from customer_and_bank_details , customer_campaign_details  Where customer_and_bank_details.Customer_id = customer_campaign_details.Customer_id); \")\n",
    "          \n",
    "    \n",
    "    \n"
   ]
  },
  {
   "cell_type": "markdown",
   "metadata": {},
   "source": [
    "## Data Profiling:\n",
    "    Summary and statistics of the data."
   ]
  },
  {
   "cell_type": "markdown",
   "metadata": {},
   "source": [
    "First we check the data types of the data:"
   ]
  },
  {
   "cell_type": "code",
   "execution_count": 12,
   "metadata": {},
   "outputs": [
    {
     "name": "stdout",
     "output_type": "stream",
     "text": [
      "root\n",
      " |-- Customer_id: integer (nullable = true)\n",
      " |-- age: integer (nullable = true)\n",
      " |-- job: string (nullable = true)\n",
      " |-- marital: string (nullable = true)\n",
      " |-- education: string (nullable = true)\n",
      " |-- default: string (nullable = true)\n",
      " |-- housing: string (nullable = true)\n",
      " |-- loan: string (nullable = true)\n",
      " |-- contact: string (nullable = true)\n",
      " |-- month: string (nullable = true)\n",
      " |-- day_of_week: string (nullable = true)\n",
      " |-- duration: integer (nullable = true)\n",
      " |-- campaign: integer (nullable = true)\n",
      " |-- pdays: integer (nullable = true)\n",
      " |-- previous: integer (nullable = true)\n",
      " |-- poutcome: string (nullable = true)\n",
      " |-- y: string (nullable = true)\n",
      " |-- emp.var.rate: double (nullable = true)\n",
      " |-- cons.price.idx: double (nullable = true)\n",
      " |-- cons.conf.idx: double (nullable = true)\n",
      " |-- euribor3m: double (nullable = true)\n",
      " |-- nr.employed: double (nullable = true)\n",
      " |-- City_Name: string (nullable = true)\n",
      " |-- Region_Name: string (nullable = true)\n",
      " |-- State_Name: string (nullable = true)\n",
      "\n"
     ]
    }
   ],
   "source": [
    "bank_final.printSchema()"
   ]
  },
  {
   "cell_type": "markdown",
   "metadata": {},
   "source": [
    "### Note:\n",
    "    We got the data types of all the columns which can be seen as above. But we need to change Column names and also some of the Data-types according to the data dictionary."
   ]
  },
  {
   "cell_type": "code",
   "execution_count": 78,
   "metadata": {},
   "outputs": [],
   "source": [
    "bank_final = (bank_final.withColumnRenamed(\"emp.var.rate\",\"emp_var_rate\")\n",
    "              .withColumnRenamed(\"cons.price.idx\", \"cons_price_idx\")\n",
    "              .withColumnRenamed(\"cons.conf.idx\", \"cons_conf_idx\")\n",
    "              .withColumnRenamed(\"nr.employed\", \"nr_employed\")\n",
    "               )\n"
   ]
  },
  {
   "cell_type": "code",
   "execution_count": 79,
   "metadata": {},
   "outputs": [],
   "source": [
    "bank_final=(bank_final\n",
    "           .withColumn(\"emp_var_rate\",bank_final['emp_var_rate'].cast(FloatType()))\n",
    "           .withColumn(\"cons_price_idx\",bank_final['cons_price_idx'].cast(FloatType()))\n",
    "           .withColumn(\"cons_conf_idx\",bank_final['cons_conf_idx'].cast(FloatType()))\n",
    "           .withColumn(\"euribor3m\",bank_final['euribor3m'].cast(FloatType()))\n",
    "           .withColumn(\"nr_employed\",bank_final['nr_employed'].cast(FloatType()))\n",
    "           \n",
    "           )"
   ]
  },
  {
   "cell_type": "markdown",
   "metadata": {},
   "source": [
    "### Note:\n",
    "    Creating functions to help in repetitive tasks for visualization and profiling:"
   ]
  },
  {
   "cell_type": "code",
   "execution_count": 15,
   "metadata": {},
   "outputs": [],
   "source": [
    "def create_int_count(cols):\n",
    "    bank = bank_final.toPandas()\n",
    "    plt.figure(figsize=(10,6))\n",
    "    bank[cols].hist(label=cols)\n",
    "    plt.legend()\n",
    "    plt.xlabel(cols.upper())\n",
    "    plt.ylabel('Count')\n",
    "    plt.show()\n",
    "    \n",
    "def create_cat_count(cols):\n",
    "    bank = bank_final.toPandas()\n",
    "    plt.figure(figsize=(8,6))\n",
    "    sns.countplot(bank[cols])\n",
    "    \n",
    "def int_desc(col):\n",
    "    \n",
    "    return [print('Description of' +' ' + str(col) + ' is:') ,print(bank_final.groupBy(col).count().show(10),bank_final.describe([col]).show(10)),print('\\tData-type of' + ' ' + str(col) + ' is: Numeric' ),print('\\n')]\n",
    "    \n",
    "def cat_desc(col):\n",
    "    return [print('Description of' +' ' + str(col) + ' is:'),print(bank_final.groupBy(col).count().show(10)),print('Data-type of' + ' ' + str(col) + ' is: string.' ),print('\\n')]"
   ]
  },
  {
   "cell_type": "markdown",
   "metadata": {},
   "source": [
    "### Data Profiling on Data:"
   ]
  },
  {
   "cell_type": "code",
   "execution_count": 16,
   "metadata": {
    "scrolled": true
   },
   "outputs": [
    {
     "name": "stdout",
     "output_type": "stream",
     "text": [
      "+-------+------------------+------------------+------------------+------------------+------------------+-------------------+------------------+------------------+-----------------+\n",
      "|summary|       Customer_id|               age|          duration|             pdays|          campaign|       emp_var_rate|    cons_price_idx|         euribor3m|      nr_employed|\n",
      "+-------+------------------+------------------+------------------+------------------+------------------+-------------------+------------------+------------------+-----------------+\n",
      "|  count|             37024|             37024|             37024|             37024|             37024|              37024|             37024|             37024|            37024|\n",
      "|   mean|  18546.4444954624| 40.04359334485739| 258.1571143042351| 962.4984064390666|2.5687932152117545|0.08201436717936555| 93.57590807730922|3.6211183345526483|5167.027569967812|\n",
      "| stddev|10704.860913757098|10.434720269030999|258.58365358916666|186.85338186416251|2.7698196348841804|  1.569195165907757|0.5784369849580069| 1.734112574177617|72.21766411308725|\n",
      "|    min|                 1|                17|                 0|                 0|                 1|               -3.4|            92.201|             0.634|           4963.6|\n",
      "|    max|             37084|                98|              4918|               999|                56|                1.4|            94.767|             5.045|           5228.1|\n",
      "+-------+------------------+------------------+------------------+------------------+------------------+-------------------+------------------+------------------+-----------------+\n",
      "\n"
     ]
    }
   ],
   "source": [
    "cols_desc = ['Customer_id', 'age','duration','pdays','campaign','emp_var_rate','cons_price_idx','euribor3m','nr_employed']\n",
    "bank_final.select(* [cols_desc]).describe().show()"
   ]
  },
  {
   "cell_type": "markdown",
   "metadata": {},
   "source": [
    "### Note:\n",
    "    We can see it is not looking neat and difficult to understand so we will convert to pandas df and then check:"
   ]
  },
  {
   "cell_type": "code",
   "execution_count": 17,
   "metadata": {},
   "outputs": [
    {
     "data": {
      "text/html": [
       "<div>\n",
       "<style scoped>\n",
       "    .dataframe tbody tr th:only-of-type {\n",
       "        vertical-align: middle;\n",
       "    }\n",
       "\n",
       "    .dataframe tbody tr th {\n",
       "        vertical-align: top;\n",
       "    }\n",
       "\n",
       "    .dataframe thead th {\n",
       "        text-align: right;\n",
       "    }\n",
       "</style>\n",
       "<table border=\"1\" class=\"dataframe\">\n",
       "  <thead>\n",
       "    <tr style=\"text-align: right;\">\n",
       "      <th></th>\n",
       "      <th>Customer_id</th>\n",
       "      <th>age</th>\n",
       "      <th>duration</th>\n",
       "      <th>campaign</th>\n",
       "      <th>pdays</th>\n",
       "      <th>previous</th>\n",
       "      <th>emp_var_rate</th>\n",
       "      <th>cons_price_idx</th>\n",
       "      <th>cons_conf_idx</th>\n",
       "      <th>euribor3m</th>\n",
       "      <th>nr_employed</th>\n",
       "    </tr>\n",
       "  </thead>\n",
       "  <tbody>\n",
       "    <tr>\n",
       "      <th>count</th>\n",
       "      <td>37024.000000</td>\n",
       "      <td>37024.000000</td>\n",
       "      <td>37024.000000</td>\n",
       "      <td>37024.000000</td>\n",
       "      <td>37024.000000</td>\n",
       "      <td>37024.000000</td>\n",
       "      <td>37024.000000</td>\n",
       "      <td>37024.000000</td>\n",
       "      <td>37024.000000</td>\n",
       "      <td>37024.000000</td>\n",
       "      <td>37024.000000</td>\n",
       "    </tr>\n",
       "    <tr>\n",
       "      <th>mean</th>\n",
       "      <td>18546.444495</td>\n",
       "      <td>40.043593</td>\n",
       "      <td>258.157114</td>\n",
       "      <td>2.568793</td>\n",
       "      <td>962.498406</td>\n",
       "      <td>0.173077</td>\n",
       "      <td>0.082014</td>\n",
       "      <td>93.575908</td>\n",
       "      <td>-40.505397</td>\n",
       "      <td>3.621118</td>\n",
       "      <td>5167.027570</td>\n",
       "    </tr>\n",
       "    <tr>\n",
       "      <th>std</th>\n",
       "      <td>10704.860914</td>\n",
       "      <td>10.434720</td>\n",
       "      <td>258.583654</td>\n",
       "      <td>2.769820</td>\n",
       "      <td>186.853382</td>\n",
       "      <td>0.495855</td>\n",
       "      <td>1.569195</td>\n",
       "      <td>0.578437</td>\n",
       "      <td>4.622698</td>\n",
       "      <td>1.734113</td>\n",
       "      <td>72.217664</td>\n",
       "    </tr>\n",
       "    <tr>\n",
       "      <th>min</th>\n",
       "      <td>1.000000</td>\n",
       "      <td>17.000000</td>\n",
       "      <td>0.000000</td>\n",
       "      <td>1.000000</td>\n",
       "      <td>0.000000</td>\n",
       "      <td>0.000000</td>\n",
       "      <td>-3.400000</td>\n",
       "      <td>92.200996</td>\n",
       "      <td>-50.799999</td>\n",
       "      <td>0.634000</td>\n",
       "      <td>4963.600098</td>\n",
       "    </tr>\n",
       "    <tr>\n",
       "      <th>25%</th>\n",
       "      <td>9271.750000</td>\n",
       "      <td>32.000000</td>\n",
       "      <td>102.000000</td>\n",
       "      <td>1.000000</td>\n",
       "      <td>999.000000</td>\n",
       "      <td>0.000000</td>\n",
       "      <td>-1.800000</td>\n",
       "      <td>93.074997</td>\n",
       "      <td>-42.700001</td>\n",
       "      <td>1.344000</td>\n",
       "      <td>5099.100098</td>\n",
       "    </tr>\n",
       "    <tr>\n",
       "      <th>50%</th>\n",
       "      <td>18541.500000</td>\n",
       "      <td>38.000000</td>\n",
       "      <td>180.000000</td>\n",
       "      <td>2.000000</td>\n",
       "      <td>999.000000</td>\n",
       "      <td>0.000000</td>\n",
       "      <td>1.100000</td>\n",
       "      <td>93.749001</td>\n",
       "      <td>-41.799999</td>\n",
       "      <td>4.857000</td>\n",
       "      <td>5191.000000</td>\n",
       "    </tr>\n",
       "    <tr>\n",
       "      <th>75%</th>\n",
       "      <td>27813.250000</td>\n",
       "      <td>47.000000</td>\n",
       "      <td>319.000000</td>\n",
       "      <td>3.000000</td>\n",
       "      <td>999.000000</td>\n",
       "      <td>0.000000</td>\n",
       "      <td>1.400000</td>\n",
       "      <td>93.994003</td>\n",
       "      <td>-36.400002</td>\n",
       "      <td>4.961000</td>\n",
       "      <td>5228.100098</td>\n",
       "    </tr>\n",
       "    <tr>\n",
       "      <th>max</th>\n",
       "      <td>37084.000000</td>\n",
       "      <td>98.000000</td>\n",
       "      <td>4918.000000</td>\n",
       "      <td>56.000000</td>\n",
       "      <td>999.000000</td>\n",
       "      <td>7.000000</td>\n",
       "      <td>1.400000</td>\n",
       "      <td>94.766998</td>\n",
       "      <td>-26.900000</td>\n",
       "      <td>5.045000</td>\n",
       "      <td>5228.100098</td>\n",
       "    </tr>\n",
       "  </tbody>\n",
       "</table>\n",
       "</div>"
      ],
      "text/plain": [
       "        Customer_id           age      duration      campaign         pdays  \\\n",
       "count  37024.000000  37024.000000  37024.000000  37024.000000  37024.000000   \n",
       "mean   18546.444495     40.043593    258.157114      2.568793    962.498406   \n",
       "std    10704.860914     10.434720    258.583654      2.769820    186.853382   \n",
       "min        1.000000     17.000000      0.000000      1.000000      0.000000   \n",
       "25%     9271.750000     32.000000    102.000000      1.000000    999.000000   \n",
       "50%    18541.500000     38.000000    180.000000      2.000000    999.000000   \n",
       "75%    27813.250000     47.000000    319.000000      3.000000    999.000000   \n",
       "max    37084.000000     98.000000   4918.000000     56.000000    999.000000   \n",
       "\n",
       "           previous  emp_var_rate  cons_price_idx  cons_conf_idx  \\\n",
       "count  37024.000000  37024.000000    37024.000000   37024.000000   \n",
       "mean       0.173077      0.082014       93.575908     -40.505397   \n",
       "std        0.495855      1.569195        0.578437       4.622698   \n",
       "min        0.000000     -3.400000       92.200996     -50.799999   \n",
       "25%        0.000000     -1.800000       93.074997     -42.700001   \n",
       "50%        0.000000      1.100000       93.749001     -41.799999   \n",
       "75%        0.000000      1.400000       93.994003     -36.400002   \n",
       "max        7.000000      1.400000       94.766998     -26.900000   \n",
       "\n",
       "          euribor3m   nr_employed  \n",
       "count  37024.000000  37024.000000  \n",
       "mean       3.621118   5167.027570  \n",
       "std        1.734113     72.217664  \n",
       "min        0.634000   4963.600098  \n",
       "25%        1.344000   5099.100098  \n",
       "50%        4.857000   5191.000000  \n",
       "75%        4.961000   5228.100098  \n",
       "max        5.045000   5228.100098  "
      ]
     },
     "execution_count": 17,
     "metadata": {},
     "output_type": "execute_result"
    }
   ],
   "source": [
    "bank = bank_final.toPandas()\n",
    "bank.describe()"
   ]
  },
  {
   "cell_type": "markdown",
   "metadata": {},
   "source": [
    "#### Note:\n",
    "    From here we can check the stats of the numerical columns.\n",
    "    We can see possiblity of presence of ouliers for age, campaign and duration."
   ]
  },
  {
   "cell_type": "code",
   "execution_count": 20,
   "metadata": {},
   "outputs": [
    {
     "name": "stdout",
     "output_type": "stream",
     "text": [
      "+-----------+---+---+-------+---------+-------+-------+----+-------+-----+-----------+--------+--------+-----+--------+--------+---+------------+--------------+-------------+---------+-----------+---------+-----------+----------+\n",
      "|Customer_id|age|job|marital|education|default|housing|loan|contact|month|day_of_week|duration|campaign|pdays|previous|poutcome|  y|emp_var_rate|cons_price_idx|cons_conf_idx|euribor3m|nr_employed|City_Name|Region_Name|State_Name|\n",
      "+-----------+---+---+-------+---------+-------+-------+----+-------+-----+-----------+--------+--------+-----+--------+--------+---+------------+--------------+-------------+---------+-----------+---------+-----------+----------+\n",
      "|          0|  0|  0|      0|        0|      0|      0|   0|      0|    0|          0|       0|       0|    0|       0|       0|  0|           0|             0|            0|        0|          0|        0|          0|         0|\n",
      "+-----------+---+---+-------+---------+-------+-------+----+-------+-----+-----------+--------+--------+-----+--------+--------+---+------------+--------------+-------------+---------+-----------+---------+-----------+----------+\n",
      "\n"
     ]
    }
   ],
   "source": [
    "from pyspark.sql.functions import isnan, when, count, col\n",
    "\n",
    "bank_final.select([count(when(isnan(c), c)).alias(c) for c in bank_final.columns]).show()\n"
   ]
  },
  {
   "cell_type": "markdown",
   "metadata": {},
   "source": [
    "### Note:\n",
    "    As we can see there are no missing values rn as such but there are some unknowns but we will look into that when we impute the missing values."
   ]
  },
  {
   "cell_type": "code",
   "execution_count": 19,
   "metadata": {},
   "outputs": [
    {
     "name": "stdout",
     "output_type": "stream",
     "text": [
      "<class 'pandas.core.frame.DataFrame'>\n",
      "RangeIndex: 37024 entries, 0 to 37023\n",
      "Data columns (total 25 columns):\n",
      "Customer_id       37024 non-null int64\n",
      "age               37024 non-null int64\n",
      "job               37024 non-null object\n",
      "marital           37024 non-null object\n",
      "education         37024 non-null object\n",
      "default           37024 non-null object\n",
      "housing           37024 non-null object\n",
      "loan              37024 non-null object\n",
      "contact           37024 non-null object\n",
      "month             37024 non-null object\n",
      "day_of_week       37024 non-null object\n",
      "duration          37024 non-null int64\n",
      "campaign          37024 non-null int64\n",
      "pdays             37024 non-null int64\n",
      "previous          37024 non-null int64\n",
      "poutcome          37024 non-null object\n",
      "y                 37024 non-null object\n",
      "emp_var_rate      37024 non-null float64\n",
      "cons_price_idx    37024 non-null float64\n",
      "cons_conf_idx     37024 non-null float64\n",
      "euribor3m         37024 non-null float64\n",
      "nr_employed       37024 non-null float64\n",
      "City_Name         37024 non-null object\n",
      "Region_Name       37024 non-null object\n",
      "State_Name        37024 non-null object\n",
      "dtypes: float64(5), int64(6), object(14)\n",
      "memory usage: 7.1+ MB\n"
     ]
    }
   ],
   "source": [
    "bank.info()"
   ]
  },
  {
   "cell_type": "markdown",
   "metadata": {},
   "source": [
    "### Note:\n",
    "    Above are the Data-types of the columns."
   ]
  },
  {
   "cell_type": "markdown",
   "metadata": {},
   "source": [
    "#### Visualize the distribution of Numeric Data:"
   ]
  },
  {
   "cell_type": "code",
   "execution_count": null,
   "metadata": {},
   "outputs": [],
   "source": [
    "header = ['age','campaign','pdays','previous','emp_var_rate','cons_price_idx','cons_conf_idx','euribor3m','nr_employed']\n",
    "bank.hist(column=header,figsize=(20,15))\n",
    "plt.subplots_adjust(wspace = 0.5, hspace = 0.5)\n",
    "plt.show()"
   ]
  },
  {
   "cell_type": "markdown",
   "metadata": {},
   "source": [
    "#### Visualize the distribution of Categorical Data:"
   ]
  },
  {
   "cell_type": "code",
   "execution_count": null,
   "metadata": {
    "scrolled": false
   },
   "outputs": [],
   "source": [
    "header1 = ['marital','loan','housing','job','contact','month','day_of_week','poutcome','y','Region_Name']\n",
    "for i in range(0,10):\n",
    "    plt.figure(figsize = (12, 4))\n",
    "    ax = sns.countplot(bank[header1[i]])\n",
    "    plt.title(str(header1[i]).upper())\n",
    "    for p in ax.patches:\n",
    "        ax.annotate(format(p.get_height(), '.2f'), \n",
    "                   (p.get_x() + p.get_width() / 2., p.get_height()), \n",
    "                   ha = 'center', va = 'center', \n",
    "                   xytext = (0, 9), \n",
    "                   textcoords = 'offset points')\n",
    "    \n"
   ]
  },
  {
   "cell_type": "markdown",
   "metadata": {},
   "source": [
    "### Note:\n",
    "    From above plots we can see the distribution of the categorical values."
   ]
  },
  {
   "cell_type": "markdown",
   "metadata": {},
   "source": [
    "# Data Transformation:\n",
    "    Missing value treatment, outlier treatment, where ever necessary."
   ]
  },
  {
   "cell_type": "markdown",
   "metadata": {},
   "source": [
    "### Note:\n",
    "    Replacing unknown values as nan as we don't have missing values we will treat unknown values as missing values.  "
   ]
  },
  {
   "cell_type": "code",
   "execution_count": 21,
   "metadata": {
    "scrolled": false
   },
   "outputs": [],
   "source": [
    "for cols in bank_final.columns:\n",
    "    bank_final = bank_final.withColumn(cols, \\\n",
    "              when(bank_final[cols] == 'unknown', np.nan).otherwise(bank_final[cols]))"
   ]
  },
  {
   "cell_type": "code",
   "execution_count": 24,
   "metadata": {},
   "outputs": [
    {
     "name": "stdout",
     "output_type": "stream",
     "text": [
      "+-----------+---+---+-------+---------+-------+-------+----+-------+-----+-----------+--------+--------+-----+--------+--------+---+------------+--------------+-------------+---------+-----------+---------+-----------+----------+\n",
      "|Customer_id|age|job|marital|education|default|housing|loan|contact|month|day_of_week|duration|campaign|pdays|previous|poutcome|  y|emp_var_rate|cons_price_idx|cons_conf_idx|euribor3m|nr_employed|City_Name|Region_Name|State_Name|\n",
      "+-----------+---+---+-------+---------+-------+-------+----+-------+-----+-----------+--------+--------+-----+--------+--------+---+------------+--------------+-------------+---------+-----------+---------+-----------+----------+\n",
      "|          0|  0|306|     72|     1544|   7687|    881| 881|      0|    0|          0|       0|       0|    0|       0|       0|  0|           0|             0|            0|        0|          0|        0|          0|         0|\n",
      "+-----------+---+---+-------+---------+-------+-------+----+-------+-----+-----------+--------+--------+-----+--------+--------+---+------------+--------------+-------------+---------+-----------+---------+-----------+----------+\n",
      "\n"
     ]
    }
   ],
   "source": [
    "bank_final.select([count(when(isnan(c), c)).alias(c) for c in bank_final.columns]).show()\n"
   ]
  },
  {
   "cell_type": "markdown",
   "metadata": {},
   "source": [
    "### Note:\n",
    "    From here we can see the count of unknown values for their respective column."
   ]
  },
  {
   "cell_type": "markdown",
   "metadata": {},
   "source": [
    "### Note:\n",
    "     Creating function to calculate the mode of the column: \n",
    "     And we will replace with the most frequent value in the column for the missing values.\n",
    "     For the default calumn we will leave it as it is.(Keep the values as unknown)\n",
    "     "
   ]
  },
  {
   "cell_type": "code",
   "execution_count": 88,
   "metadata": {},
   "outputs": [],
   "source": [
    "def mode_col(column):\n",
    "    return bank_final.groupby(column).count().orderBy(\"count\", ascending=False).first()[0]"
   ]
  },
  {
   "cell_type": "code",
   "execution_count": 89,
   "metadata": {},
   "outputs": [
    {
     "data": {
      "text/plain": [
       "'admin.'"
      ]
     },
     "execution_count": 89,
     "metadata": {},
     "output_type": "execute_result"
    }
   ],
   "source": [
    "mode_col('job')"
   ]
  },
  {
   "cell_type": "code",
   "execution_count": 90,
   "metadata": {},
   "outputs": [],
   "source": [
    "header1 = ['job', 'marital','education','housing','loan']\n",
    "for cols in header1:\n",
    "    bank_final = bank_final.withColumn(cols, \\\n",
    "              when(bank_final[cols] == 'NaN', mode_col(cols)).otherwise(bank_final[cols]))\n",
    "    \n",
    "bank_final = bank_final.withColumn('default', \\\n",
    "              when(bank_final['default'] == 'NaN', 'unknown').otherwise(bank_final[cols]))"
   ]
  },
  {
   "cell_type": "code",
   "execution_count": 91,
   "metadata": {},
   "outputs": [
    {
     "name": "stdout",
     "output_type": "stream",
     "text": [
      "+-----------+---+---+-------+---------+-------+-------+----+-----------+----------+---------+-------+-----+-----------+--------+--------+-----+--------+--------+---+------------+--------------+-------------+---------+-----------+---------+-----------+----------+\n",
      "|Customer_id|age|job|marital|education|default|housing|loan|Region_Code|State_Code|City_Code|contact|month|day_of_week|duration|campaign|pdays|previous|poutcome|  y|emp_var_rate|cons_price_idx|cons_conf_idx|euribor3m|nr_employed|City_Name|Region_Name|State_Name|\n",
      "+-----------+---+---+-------+---------+-------+-------+----+-----------+----------+---------+-------+-----+-----------+--------+--------+-----+--------+--------+---+------------+--------------+-------------+---------+-----------+---------+-----------+----------+\n",
      "|          0|  0|  0|      0|        0|      0|      0|   0|          0|         0|        0|      0|    0|          0|       0|       0|    0|       0|       0|  0|           0|             0|            0|        0|          0|        0|          0|         0|\n",
      "+-----------+---+---+-------+---------+-------+-------+----+-----------+----------+---------+-------+-----+-----------+--------+--------+-----+--------+--------+---+------------+--------------+-------------+---------+-----------+---------+-----------+----------+\n",
      "\n"
     ]
    }
   ],
   "source": [
    "bank_final.select([count(when(isnan(c), c)).alias(c) for c in bank_final.columns]).show()"
   ]
  },
  {
   "cell_type": "markdown",
   "metadata": {},
   "source": [
    "### Note:\n",
    "We can see the columns with less than 20% off mssing values are replaced by the most frequent value and for the default column we will keep it as unknown."
   ]
  },
  {
   "cell_type": "markdown",
   "metadata": {},
   "source": [
    "### Note:\n",
    "As you can see, all the missing values have been treated."
   ]
  },
  {
   "cell_type": "markdown",
   "metadata": {},
   "source": [
    "## Handling Outliers:"
   ]
  },
  {
   "cell_type": "code",
   "execution_count": 92,
   "metadata": {
    "scrolled": false
   },
   "outputs": [
    {
     "data": {
      "text/plain": [
       "Text(0.5, 1.0, 'No of employees')"
      ]
     },
     "execution_count": 92,
     "metadata": {},
     "output_type": "execute_result"
    },
    {
     "data": {
      "image/png": "[encoded data removed]",
      "text/plain": [
       "<Figure size 1080x1440 with 10 Axes>"
      ]
     },
     "metadata": {},
     "output_type": "display_data"
    }
   ],
   "source": [
    "plt.figure(figsize = (15, 20))\n",
    "plt.style.use('seaborn-white')\n",
    "ax=plt.subplot(521)\n",
    "plt.boxplot(bank['age'])\n",
    "ax.set_title('age')\n",
    "ax=plt.subplot(522)\n",
    "plt.boxplot(bank['duration'])\n",
    "ax.set_title('duration')\n",
    "ax=plt.subplot(523)\n",
    "plt.boxplot(bank['campaign'])\n",
    "ax.set_title('campaign')\n",
    "ax=plt.subplot(524)\n",
    "plt.boxplot(bank['pdays'])\n",
    "ax.set_title('pdays')\n",
    "ax=plt.subplot(525)\n",
    "plt.boxplot(bank['previous'])\n",
    "ax.set_title('previous')\n",
    "ax=plt.subplot(526)\n",
    "plt.boxplot(bank['emp_var_rate'])\n",
    "ax.set_title('Employee variation rate')\n",
    "ax=plt.subplot(527)\n",
    "plt.boxplot(bank['cons_price_idx'])\n",
    "ax.set_title('Consumer price index')\n",
    "ax=plt.subplot(528)\n",
    "plt.boxplot(bank['cons_conf_idx'])\n",
    "ax.set_title('Consumer confidence index')\n",
    "ax=plt.subplot(529)\n",
    "plt.boxplot(bank['euribor3m'])\n",
    "ax.set_title('euribor3m')\n",
    "ax=plt.subplot(5,2,10)\n",
    "plt.boxplot(bank['nr_employed'])\n",
    "ax.set_title('No of employees')\n"
   ]
  },
  {
   "cell_type": "markdown",
   "metadata": {},
   "source": [
    "## Note:\n",
    "    From the above box-plots we can see that there may be presence of outliers in Age, Duration and Campaign column.\n",
    "    But we leave the campaign column as its data points can't be considered as outliers."
   ]
  },
  {
   "cell_type": "code",
   "execution_count": 93,
   "metadata": {},
   "outputs": [],
   "source": [
    "from pyspark.sql import functions as f\n",
    "\n",
    "\n",
    "class Outlier():\n",
    "\n",
    "    def __init__(self, df):\n",
    "        self.df = df\n",
    "        \n",
    "        \n",
    "    def dtypes(self):\n",
    "        showdf = self.df\n",
    "        print(self.df.dtypes)\n",
    "\n",
    "    def _calculate_bounds(self):\n",
    "        bounds = {\n",
    "            c: dict(\n",
    "                zip([\"q1\", \"q3\"], self.df.approxQuantile(c, [0.25, 0.80], 0))\n",
    "            )\n",
    "            for c, d in zip(self.df.columns, self.df.dtypes) if d[1] in [\"int\", \"float\"]\n",
    "        }\n",
    "\n",
    "        for c in bounds:\n",
    "            iqr = bounds[c]['q3'] - bounds[c]['q1']\n",
    "            bounds[c]['min'] = bounds[c]['q1'] - (iqr * 1.5)\n",
    "            bounds[c]['max'] = bounds[c]['q3'] + (iqr * 1.5)\n",
    "\n",
    "        return bounds\n",
    "\n",
    "\n",
    "    def _flag_outliers_df(self):\n",
    "        bounds = self._calculate_bounds()\n",
    "\n",
    "        outliers_col = [\n",
    "            f.when(\n",
    "                ~f.col(c).between(bounds[c]['min'], bounds[c]['max']),\n",
    "                f.col(c)\n",
    "            ).alias(c + '_outlier')\n",
    "            for c in bounds]\n",
    "\n",
    "        return self.df.select(*outliers_col)\n",
    "\n",
    "\n",
    "    def show_outliers(self):\n",
    "\n",
    "        outlier_df = self._flag_outliers_df()\n",
    "\n",
    "        for outlier in outlier_df.columns:\n",
    "            outlier_df.select(outlier).filter(f.col(outlier).isNotNull()).show()\n",
    "            \n",
    "            \n",
    "    def treat_outliers(self,col1):\n",
    "        bounds = self._calculate_bounds()\n",
    "        treated_df = self.df.withColumn(\n",
    "                            col1, \n",
    "                            f.when((self.df[col1] >bounds[col1]['max']) | (self.df[col1] < bounds [col1]['min']),\n",
    "                                   f.round(f.lit(self.df.select(f.mean(F.col(col1)).alias('mean')).collect()[0]['mean'])).cast('int') ).otherwise(F.col(col1)))\n",
    "        return treated_df"
   ]
  },
  {
   "cell_type": "code",
   "execution_count": 94,
   "metadata": {},
   "outputs": [],
   "source": [
    "bank_final = Outlier(bank_final).treat_outliers('age')\n",
    "bank_final = Outlier(bank_final).treat_outliers('duration')"
   ]
  },
  {
   "cell_type": "code",
   "execution_count": 98,
   "metadata": {},
   "outputs": [
    {
     "name": "stdout",
     "output_type": "stream",
     "text": [
      "+--------+\n",
      "|max(age)|\n",
      "+--------+\n",
      "|      74|\n",
      "+--------+\n",
      "\n"
     ]
    }
   ],
   "source": [
    "bank_final.select(f.max(f.col('age'))).show()"
   ]
  },
  {
   "cell_type": "code",
   "execution_count": 99,
   "metadata": {},
   "outputs": [
    {
     "name": "stdout",
     "output_type": "stream",
     "text": [
      "+-------------+\n",
      "|max(duration)|\n",
      "+-------------+\n",
      "|          652|\n",
      "+-------------+\n",
      "\n"
     ]
    }
   ],
   "source": [
    "bank_final.select(f.max(f.col('duration'))).show()"
   ]
  },
  {
   "cell_type": "markdown",
   "metadata": {},
   "source": [
    "### Note:\n",
    "We have removed the outliers using IQR method. "
   ]
  },
  {
   "cell_type": "code",
   "execution_count": null,
   "metadata": {},
   "outputs": [],
   "source": []
  },
  {
   "cell_type": "code",
   "execution_count": null,
   "metadata": {},
   "outputs": [],
   "source": []
  },
  {
   "cell_type": "code",
   "execution_count": null,
   "metadata": {},
   "outputs": [],
   "source": []
  },
  {
   "cell_type": "code",
   "execution_count": null,
   "metadata": {},
   "outputs": [],
   "source": []
  },
  {
   "cell_type": "code",
   "execution_count": null,
   "metadata": {},
   "outputs": [],
   "source": []
  },
  {
   "cell_type": "code",
   "execution_count": null,
   "metadata": {},
   "outputs": [],
   "source": []
  },
  {
   "cell_type": "code",
   "execution_count": null,
   "metadata": {},
   "outputs": [],
   "source": []
  },
  {
   "cell_type": "code",
   "execution_count": null,
   "metadata": {},
   "outputs": [],
   "source": []
  },
  {
   "cell_type": "code",
   "execution_count": null,
   "metadata": {},
   "outputs": [],
   "source": []
  }
 ],
 "metadata": {
  "kernelspec": {
   "display_name": "Python 3",
   "language": "python",
   "name": "python3"
  },
  "language_info": {
   "codemirror_mode": {
    "name": "ipython",
    "version": 3
   },
   "file_extension": ".py",
   "mimetype": "text/x-python",
   "name": "python",
   "nbconvert_exporter": "python",
   "pygments_lexer": "ipython3",
   "version": "3.8.8"
  }
 },
 "nbformat": 4,
 "nbformat_minor": 2
}
