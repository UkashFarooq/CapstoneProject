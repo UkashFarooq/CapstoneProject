{
 "cells": [
  {
   "cell_type": "code",
   "execution_count": 1,
   "metadata": {},
   "outputs": [],
   "source": [
    "import findspark\n",
    "findspark.init('/usr/local/spark')\n"
   ]
  },
  {
   "cell_type": "code",
   "execution_count": 21,
   "metadata": {},
   "outputs": [],
   "source": [
    "from pyspark.sql import *\n",
    "import pyspark\n",
    "from pyspark.sql.functions import *"
   ]
  },
  {
   "cell_type": "code",
   "execution_count": 3,
   "metadata": {},
   "outputs": [],
   "source": [
    "spark = SparkSession.builder.appName(\"Capstone_Project\").enableHiveSupport().getOrCreate()"
   ]
  },
  {
   "cell_type": "code",
   "execution_count": 5,
   "metadata": {},
   "outputs": [],
   "source": [
    "sc=spark.sparkContext"
   ]
  },
  {
   "cell_type": "code",
   "execution_count": 4,
   "metadata": {},
   "outputs": [],
   "source": [
    "CustomerResponse = spark.read.option(\"header\", \"true\").csv(\"Customer_Response_data_p1.csv\")\n",
    "CustomerDetails=spark.read.option(\"header\",\"true\").csv(\"Customer_and_bank details_p1.csv\")\n",
    "PostalCode=spark.read.option(\"header\",\"true\").csv(\"Customer_Postal_Code_details.csv\")\n",
    "RegionCode=spark.read.option(\"header\",\"true\").csv(\"Region_code_master.csv\")\n",
    "StateCode=spark.read.option(\"header\",\"true\").csv(\"State_Master.csv\")\n",
    "CampaignDetails=spark.read.option(\"header\",\"true\").csv(\"Customer_campaign_details_p1.csv\")\n",
    "SocioEconomic=spark.read.option(\"header\",\"true\").csv(\"Customer_social_economic_data_p1.csv\")\n",
    "CityCode=spark.read.option(\"header\",\"true\").csv(\"City_Master.csv\")"
   ]
  },
  {
   "cell_type": "code",
   "execution_count": 34,
   "metadata": {},
   "outputs": [],
   "source": [
    "PostalCode=PostalCode.select(col('Postal Code').alias('Postal_Code'),col('customer_id').alias('customer_id'))"
   ]
  },
  {
   "cell_type": "code",
   "execution_count": 38,
   "metadata": {},
   "outputs": [
    {
     "data": {
      "text/plain": [
       "DataFrame[]"
      ]
     },
     "execution_count": 38,
     "metadata": {},
     "output_type": "execute_result"
    }
   ],
   "source": [
    "spark.sql('create database capstone')"
   ]
  },
  {
   "cell_type": "code",
   "execution_count": 5,
   "metadata": {},
   "outputs": [
    {
     "name": "stdout",
     "output_type": "stream",
     "text": [
      "+------------+\n",
      "|databaseName|\n",
      "+------------+\n",
      "|    capstone|\n",
      "|     default|\n",
      "+------------+\n",
      "\n"
     ]
    }
   ],
   "source": [
    "spark.sql('show databases').show()\n"
   ]
  },
  {
   "cell_type": "code",
   "execution_count": 15,
   "metadata": {},
   "outputs": [
    {
     "name": "stdout",
     "output_type": "stream",
     "text": [
      "+--------+---------+-----------+\n",
      "|database|tableName|isTemporary|\n",
      "+--------+---------+-----------+\n",
      "+--------+---------+-----------+\n",
      "\n"
     ]
    }
   ],
   "source": [
    "spark.sql('use capstone')\n",
    "spark.sql('show tables').show()"
   ]
  },
  {
   "cell_type": "code",
   "execution_count": 17,
   "metadata": {},
   "outputs": [],
   "source": [
    "CustomerResponse.write.mode(\"overwrite\").format(\"parquet\").saveAsTable('capstone.CustomerResponse')\n",
    "CustomerDetails.write.mode(\"overwrite\").format(\"parquet\").saveAsTable('capstone.CustomerDetails')\n",
    "PostalCode.write.mode(\"overwrite\").format(\"parquet\").saveAsTable('capstone.PostalCode')\n",
    "RegionCode.write.mode(\"overwrite\").format(\"parquet\").saveAsTable('capstone.RegionCode')\n",
    "CityCode.write.mode(\"overwrite\").format(\"parquet\").saveAsTable('capstone.CityCode')\n",
    "SocioEconomic.write.mode(\"overwrite\").format(\"parquet\").saveAsTable('capstone.SocioEconomic')\n",
    "CampaignDetails.write.mode(\"overwrite\").format(\"parquet\").saveAsTable('capstone.CampaignDetails')\n",
    "StateCode.write.mode(\"overwrite\").format(\"parquet\").saveAsTable('capstone.StateCode')"
   ]
  },
  {
   "cell_type": "code",
   "execution_count": 37,
   "metadata": {},
   "outputs": [
    {
     "name": "stdout",
     "output_type": "stream",
     "text": [
      "+--------+----------------+-----------+\n",
      "|database|       tableName|isTemporary|\n",
      "+--------+----------------+-----------+\n",
      "|capstone| campaigndetails|      false|\n",
      "|capstone|        citycode|      false|\n",
      "|capstone| customerdetails|      false|\n",
      "|capstone|customerresponse|      false|\n",
      "|capstone|      postalcode|      false|\n",
      "|capstone|      regioncode|      false|\n",
      "|capstone|   socioeconomic|      false|\n",
      "|capstone|       statecode|      false|\n",
      "+--------+----------------+-----------+\n",
      "\n"
     ]
    }
   ],
   "source": [
    "\n",
    "spark.sql('show tables').show()"
   ]
  },
  {
   "cell_type": "code",
   "execution_count": 13,
   "metadata": {},
   "outputs": [
    {
     "name": "stdout",
     "output_type": "stream",
     "text": [
      "+---------+---------------+----------+\n",
      "|City_Code|      City_Name|State_Code|\n",
      "+---------+---------------+----------+\n",
      "|       C1|      Henderson|        S1|\n",
      "|       C2|    Los Angeles|        S2|\n",
      "|       C3|Fort Lauderdale|        S3|\n",
      "|       C4|        Concord|        S4|\n",
      "|       C5|        Seattle|        S5|\n",
      "|       C6|     Fort Worth|        S6|\n",
      "|       C7|        Madison|        S7|\n",
      "|       C8|    West Jordan|        S8|\n",
      "|       C9|  San Francisco|        S2|\n",
      "|      C10|        Fremont|        S9|\n",
      "|      C11|   Philadelphia|       S10|\n",
      "|      C12|           Orem|        S8|\n",
      "|      C13|        Houston|        S6|\n",
      "|      C14|     Richardson|        S6|\n",
      "|      C15|     Naperville|       S11|\n",
      "|      C16|      Melbourne|        S3|\n",
      "|      C17|          Eagan|       S12|\n",
      "|      C18|       Westland|       S13|\n",
      "|      C19|          Dover|       S14|\n",
      "|      C20|     New Albany|       S15|\n",
      "+---------+---------------+----------+\n",
      "only showing top 20 rows\n",
      "\n"
     ]
    }
   ],
   "source": [
    "spark.sql('select * from citycode').show()"
   ]
  },
  {
   "cell_type": "code",
   "execution_count": 39,
   "metadata": {},
   "outputs": [],
   "source": [
    "from pyspark.ml.feature import StringIndexer"
   ]
  },
  {
   "cell_type": "code",
   "execution_count": 41,
   "metadata": {},
   "outputs": [
    {
     "name": "stdout",
     "output_type": "stream",
     "text": [
      "+---------+---------------+----------+----------+\n",
      "|City_Code|      City_Name|State_Code|City_Names|\n",
      "+---------+---------------+----------+----------+\n",
      "|       C1|      Henderson|        S1|     344.0|\n",
      "|       C2|    Los Angeles|        S2|     272.0|\n",
      "|       C3|Fort Lauderdale|        S3|     354.0|\n",
      "|       C4|        Concord|        S4|      17.0|\n",
      "|       C5|        Seattle|        S5|     414.0|\n",
      "|       C6|     Fort Worth|        S6|     132.0|\n",
      "|       C7|        Madison|        S7|     231.0|\n",
      "|       C8|    West Jordan|        S8|     233.0|\n",
      "|       C9|  San Francisco|        S2|      10.0|\n",
      "|      C10|        Fremont|        S9|     362.0|\n",
      "|      C11|   Philadelphia|       S10|     332.0|\n",
      "|      C12|           Orem|        S8|     458.0|\n",
      "|      C13|        Houston|        S6|     174.0|\n",
      "|      C14|     Richardson|        S6|     183.0|\n",
      "|      C15|     Naperville|       S11|     439.0|\n",
      "|      C16|      Melbourne|        S3|     423.0|\n",
      "|      C17|          Eagan|       S12|      49.0|\n",
      "|      C18|       Westland|       S13|     209.0|\n",
      "|      C19|          Dover|       S14|     169.0|\n",
      "|      C20|     New Albany|       S15|     420.0|\n",
      "+---------+---------------+----------+----------+\n",
      "only showing top 20 rows\n",
      "\n"
     ]
    }
   ],
   "source": [
    "indexer = StringIndexer(inputCol=\"City_Name\", outputCol=\"City_Names\") \n",
    "indexed = indexer.fit(CityCode).transform(CityCode) \n",
    "indexed.show()"
   ]
  },
  {
   "cell_type": "code",
   "execution_count": 42,
   "metadata": {},
   "outputs": [],
   "source": [
    "spark.stop()"
   ]
  },
  {
   "cell_type": "code",
   "execution_count": null,
   "metadata": {},
   "outputs": [],
   "source": []
  }
 ],
 "metadata": {
  "kernelspec": {
   "display_name": "Python 3",
   "language": "python",
   "name": "python3"
  },
  "language_info": {
   "codemirror_mode": {
    "name": "ipython",
    "version": 3
   },
   "file_extension": ".py",
   "mimetype": "text/x-python",
   "name": "python",
   "nbconvert_exporter": "python",
   "pygments_lexer": "ipython3",
   "version": "3.5.2"
  }
 },
 "nbformat": 4,
 "nbformat_minor": 2
}
