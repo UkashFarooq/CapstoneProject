{
 "cells": [
  {
   "cell_type": "code",
   "execution_count": 1,
   "metadata": {},
   "outputs": [],
   "source": [
    "import findspark\n",
    "findspark.init('/usr/local/spark')\n"
   ]
  },
  {
   "cell_type": "code",
   "execution_count": 2,
   "metadata": {},
   "outputs": [],
   "source": [
    "from pyspark.sql import *\n",
    "import pyspark"
   ]
  },
  {
   "cell_type": "code",
   "execution_count": 4,
   "metadata": {},
   "outputs": [],
   "source": [
    "spark = SparkSession.builder.appName(\"Capstone_Project\").enableHiveSupport().getOrCreate()"
   ]
  },
  {
   "cell_type": "code",
   "execution_count": 5,
   "metadata": {},
   "outputs": [],
   "source": [
    "sc=spark.sparkContext"
   ]
  },
  {
   "cell_type": "code",
   "execution_count": 6,
   "metadata": {},
   "outputs": [],
   "source": [
    "CustomerResponse = spark.read.option(\"header\", \"true\").csv(\"Customer_Response_data_p1.csv\")\n",
    "CustomerDetails=spark.read.option(\"header\",\"true\").csv(\"Customer_and_bank details_p1.csv\")\n",
    "PostalCode=spark.read.option(\"header\",\"true\").csv(\"Customer_Postal_Code_details.csv\")\n",
    "RegionCode=spark.read.option(\"header\",\"true\").csv(\"Region_code_master.csv\")\n",
    "StateCode=spark.read.option(\"header\",\"true\").csv(\"State_Master.csv\")\n",
    "CampaignDetails=spark.read.option(\"header\",\"true\").csv(\"Customer_campaign_details_p1.csv\")\n",
    "SocioEconomic=spark.read.option(\"header\",\"true\").csv(\"Customer_social_economic_data_p1.csv\")\n",
    "CityCode=spark.read.option(\"header\",\"true\").csv(\"City_Master.csv\")"
   ]
  },
  {
   "cell_type": "code",
   "execution_count": null,
   "metadata": {},
   "outputs": [],
   "source": [
    "spark.sql('create database capstone')"
   ]
  },
  {
   "cell_type": "code",
   "execution_count": 7,
   "metadata": {},
   "outputs": [
    {
     "name": "stdout",
     "output_type": "stream",
     "text": [
      "+------------+\n",
      "|databaseName|\n",
      "+------------+\n",
      "|    capstone|\n",
      "|     default|\n",
      "+------------+\n",
      "\n"
     ]
    }
   ],
   "source": [
    "spark.sql('show databases').show()\n"
   ]
  },
  {
   "cell_type": "code",
   "execution_count": null,
   "metadata": {},
   "outputs": [],
   "source": []
  },
  {
   "cell_type": "code",
   "execution_count": 8,
   "metadata": {},
   "outputs": [],
   "source": [
    "CustomerResponse.write.mode(\"overwrite\").format(\"hive\").saveAsTable('capstone.CustomerResponse')"
   ]
  },
  {
   "cell_type": "code",
   "execution_count": 9,
   "metadata": {},
   "outputs": [],
   "source": [
    "CustomerDetails.write.mode(\"overwrite\").format(\"hive\").saveAsTable('capstone.CustomerDetails')\n",
    "PostalCode.write.mode(\"overwrite\").format(\"hive\").saveAsTable('capstone.PostalCode')\n",
    "RegionCode.write.mode(\"overwrite\").format(\"hive\").saveAsTable('capstone.RegionCode')\n",
    "CityCode.write.mode(\"overwrite\").format(\"hive\").saveAsTable('capstone.CityCode')\n",
    "SocioEconomic.write.mode(\"overwrite\").format(\"hive\").saveAsTable('capstone.SocioEconomic')\n",
    "CampaignDetails.write.mode(\"overwrite\").format(\"hive\").saveAsTable('capstone.CampaignDetails')\n",
    "StateCode.write.mode(\"overwrite\").format(\"hive\").saveAsTable('capstone.StateCode')"
   ]
  },
  {
   "cell_type": "code",
   "execution_count": 11,
   "metadata": {},
   "outputs": [
    {
     "name": "stdout",
     "output_type": "stream",
     "text": [
      "+--------+----------------+-----------+\n",
      "|database|       tableName|isTemporary|\n",
      "+--------+----------------+-----------+\n",
      "|capstone| campaigndetails|      false|\n",
      "|capstone|        citycode|      false|\n",
      "|capstone| customerdetails|      false|\n",
      "|capstone|customerresponse|      false|\n",
      "|capstone|      postalcode|      false|\n",
      "|capstone|      regioncode|      false|\n",
      "|capstone|   socioeconomic|      false|\n",
      "|capstone|       statecode|      false|\n",
      "+--------+----------------+-----------+\n",
      "\n"
     ]
    }
   ],
   "source": [
    "spark.sql('use capstone')\n",
    "spark.sql('show tables').show()"
   ]
  },
  {
   "cell_type": "code",
   "execution_count": null,
   "metadata": {},
   "outputs": [],
   "source": []
  }
 ],
 "metadata": {
  "kernelspec": {
   "display_name": "Python 3",
   "language": "python",
   "name": "python3"
  },
  "language_info": {
   "codemirror_mode": {
    "name": "ipython",
    "version": 3
   },
   "file_extension": ".py",
   "mimetype": "text/x-python",
   "name": "python",
   "nbconvert_exporter": "python",
   "pygments_lexer": "ipython3",
   "version": "3.5.2"
  }
 },
 "nbformat": 4,
 "nbformat_minor": 2
}
