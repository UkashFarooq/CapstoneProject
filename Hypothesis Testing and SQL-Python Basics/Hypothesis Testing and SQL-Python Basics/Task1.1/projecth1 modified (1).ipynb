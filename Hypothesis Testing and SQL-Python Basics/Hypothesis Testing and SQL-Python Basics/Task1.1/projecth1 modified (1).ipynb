{
 "cells": [
  {
   "cell_type": "markdown",
   "id": "d58fd3f4",
   "metadata": {},
   "source": [
    "# Personal data analysis on marital status, existing loans, education, profession etc. and its impact on the campaign’s success."
   ]
  },
  {
   "cell_type": "code",
   "execution_count": 1,
   "id": "f4b74cbe",
   "metadata": {},
   "outputs": [],
   "source": [
    "import numpy as np\n",
    "import pandas as pd\n",
    "from pandas import DataFrame"
   ]
  },
  {
   "cell_type": "markdown",
   "id": "df89a94c",
   "metadata": {},
   "source": [
    "#Displaying the Tables"
   ]
  },
  {
   "cell_type": "code",
   "execution_count": 2,
   "id": "0fc44c98",
   "metadata": {},
   "outputs": [
    {
     "data": {
      "text/html": [
       "<div>\n",
       "<style scoped>\n",
       "    .dataframe tbody tr th:only-of-type {\n",
       "        vertical-align: middle;\n",
       "    }\n",
       "\n",
       "    .dataframe tbody tr th {\n",
       "        vertical-align: top;\n",
       "    }\n",
       "\n",
       "    .dataframe thead th {\n",
       "        text-align: right;\n",
       "    }\n",
       "</style>\n",
       "<table border=\"1\" class=\"dataframe\">\n",
       "  <thead>\n",
       "    <tr style=\"text-align: right;\">\n",
       "      <th></th>\n",
       "      <th>Customer_id</th>\n",
       "      <th>contact</th>\n",
       "      <th>month</th>\n",
       "      <th>day_of_week</th>\n",
       "      <th>duration</th>\n",
       "      <th>campaign</th>\n",
       "      <th>pdays</th>\n",
       "      <th>previous</th>\n",
       "      <th>poutcome</th>\n",
       "    </tr>\n",
       "  </thead>\n",
       "  <tbody>\n",
       "    <tr>\n",
       "      <th>0</th>\n",
       "      <td>1</td>\n",
       "      <td>telephone</td>\n",
       "      <td>may</td>\n",
       "      <td>mon</td>\n",
       "      <td>307</td>\n",
       "      <td>1</td>\n",
       "      <td>999</td>\n",
       "      <td>0</td>\n",
       "      <td>nonexistent</td>\n",
       "    </tr>\n",
       "    <tr>\n",
       "      <th>1</th>\n",
       "      <td>2</td>\n",
       "      <td>telephone</td>\n",
       "      <td>may</td>\n",
       "      <td>mon</td>\n",
       "      <td>198</td>\n",
       "      <td>1</td>\n",
       "      <td>999</td>\n",
       "      <td>0</td>\n",
       "      <td>nonexistent</td>\n",
       "    </tr>\n",
       "    <tr>\n",
       "      <th>2</th>\n",
       "      <td>3</td>\n",
       "      <td>telephone</td>\n",
       "      <td>may</td>\n",
       "      <td>mon</td>\n",
       "      <td>139</td>\n",
       "      <td>1</td>\n",
       "      <td>999</td>\n",
       "      <td>0</td>\n",
       "      <td>nonexistent</td>\n",
       "    </tr>\n",
       "    <tr>\n",
       "      <th>3</th>\n",
       "      <td>4</td>\n",
       "      <td>telephone</td>\n",
       "      <td>may</td>\n",
       "      <td>mon</td>\n",
       "      <td>217</td>\n",
       "      <td>1</td>\n",
       "      <td>999</td>\n",
       "      <td>0</td>\n",
       "      <td>nonexistent</td>\n",
       "    </tr>\n",
       "    <tr>\n",
       "      <th>4</th>\n",
       "      <td>5</td>\n",
       "      <td>telephone</td>\n",
       "      <td>may</td>\n",
       "      <td>mon</td>\n",
       "      <td>380</td>\n",
       "      <td>1</td>\n",
       "      <td>999</td>\n",
       "      <td>0</td>\n",
       "      <td>nonexistent</td>\n",
       "    </tr>\n",
       "  </tbody>\n",
       "</table>\n",
       "</div>"
      ],
      "text/plain": [
       "   Customer_id    contact month day_of_week  duration  campaign  pdays  \\\n",
       "0            1  telephone   may         mon       307         1    999   \n",
       "1            2  telephone   may         mon       198         1    999   \n",
       "2            3  telephone   may         mon       139         1    999   \n",
       "3            4  telephone   may         mon       217         1    999   \n",
       "4            5  telephone   may         mon       380         1    999   \n",
       "\n",
       "   previous     poutcome  \n",
       "0         0  nonexistent  \n",
       "1         0  nonexistent  \n",
       "2         0  nonexistent  \n",
       "3         0  nonexistent  \n",
       "4         0  nonexistent  "
      ]
     },
     "execution_count": 2,
     "metadata": {},
     "output_type": "execute_result"
    }
   ],
   "source": [
    "df0=pd.read_csv('Customer_campaign_details_p1.csv')\n",
    "df0\n",
    "df0.head()"
   ]
  },
  {
   "cell_type": "code",
   "execution_count": 3,
   "id": "10136af9",
   "metadata": {},
   "outputs": [
    {
     "data": {
      "text/html": [
       "<div>\n",
       "<style scoped>\n",
       "    .dataframe tbody tr th:only-of-type {\n",
       "        vertical-align: middle;\n",
       "    }\n",
       "\n",
       "    .dataframe tbody tr th {\n",
       "        vertical-align: top;\n",
       "    }\n",
       "\n",
       "    .dataframe thead th {\n",
       "        text-align: right;\n",
       "    }\n",
       "</style>\n",
       "<table border=\"1\" class=\"dataframe\">\n",
       "  <thead>\n",
       "    <tr style=\"text-align: right;\">\n",
       "      <th></th>\n",
       "      <th>Customer_id</th>\n",
       "      <th>age</th>\n",
       "      <th>job</th>\n",
       "      <th>marital</th>\n",
       "      <th>education</th>\n",
       "      <th>default</th>\n",
       "      <th>housing</th>\n",
       "      <th>loan</th>\n",
       "      <th>Region_Code</th>\n",
       "      <th>State_Code</th>\n",
       "      <th>City_Code</th>\n",
       "    </tr>\n",
       "  </thead>\n",
       "  <tbody>\n",
       "    <tr>\n",
       "      <th>0</th>\n",
       "      <td>1</td>\n",
       "      <td>56</td>\n",
       "      <td>services</td>\n",
       "      <td>married</td>\n",
       "      <td>high.school</td>\n",
       "      <td>no</td>\n",
       "      <td>no</td>\n",
       "      <td>yes</td>\n",
       "      <td>3</td>\n",
       "      <td>S1</td>\n",
       "      <td>C1</td>\n",
       "    </tr>\n",
       "    <tr>\n",
       "      <th>1</th>\n",
       "      <td>2</td>\n",
       "      <td>45</td>\n",
       "      <td>services</td>\n",
       "      <td>married</td>\n",
       "      <td>basic.9y</td>\n",
       "      <td>unknown</td>\n",
       "      <td>no</td>\n",
       "      <td>no</td>\n",
       "      <td>3</td>\n",
       "      <td>S1</td>\n",
       "      <td>C1</td>\n",
       "    </tr>\n",
       "    <tr>\n",
       "      <th>2</th>\n",
       "      <td>3</td>\n",
       "      <td>59</td>\n",
       "      <td>admin.</td>\n",
       "      <td>married</td>\n",
       "      <td>professional.course</td>\n",
       "      <td>no</td>\n",
       "      <td>no</td>\n",
       "      <td>no</td>\n",
       "      <td>4</td>\n",
       "      <td>S2</td>\n",
       "      <td>C2</td>\n",
       "    </tr>\n",
       "    <tr>\n",
       "      <th>3</th>\n",
       "      <td>4</td>\n",
       "      <td>41</td>\n",
       "      <td>blue-collar</td>\n",
       "      <td>married</td>\n",
       "      <td>unknown</td>\n",
       "      <td>unknown</td>\n",
       "      <td>no</td>\n",
       "      <td>no</td>\n",
       "      <td>3</td>\n",
       "      <td>S3</td>\n",
       "      <td>C3</td>\n",
       "    </tr>\n",
       "    <tr>\n",
       "      <th>4</th>\n",
       "      <td>5</td>\n",
       "      <td>24</td>\n",
       "      <td>technician</td>\n",
       "      <td>single</td>\n",
       "      <td>professional.course</td>\n",
       "      <td>no</td>\n",
       "      <td>yes</td>\n",
       "      <td>no</td>\n",
       "      <td>3</td>\n",
       "      <td>S3</td>\n",
       "      <td>C3</td>\n",
       "    </tr>\n",
       "  </tbody>\n",
       "</table>\n",
       "</div>"
      ],
      "text/plain": [
       "   Customer_id  age          job  marital            education  default  \\\n",
       "0            1   56     services  married          high.school       no   \n",
       "1            2   45     services  married             basic.9y  unknown   \n",
       "2            3   59       admin.  married  professional.course       no   \n",
       "3            4   41  blue-collar  married              unknown  unknown   \n",
       "4            5   24   technician   single  professional.course       no   \n",
       "\n",
       "  housing loan Region_Code State_Code City_Code  \n",
       "0      no  yes           3         S1        C1  \n",
       "1      no   no           3         S1        C1  \n",
       "2      no   no           4         S2        C2  \n",
       "3      no   no           3         S3        C3  \n",
       "4     yes   no           3         S3        C3  "
      ]
     },
     "execution_count": 3,
     "metadata": {},
     "output_type": "execute_result"
    }
   ],
   "source": [
    "df1 = pd.read_csv('Customer_and_bank details_p1.csv')\n",
    "df1\n",
    "df1.head()\n"
   ]
  },
  {
   "cell_type": "code",
   "execution_count": 4,
   "id": "d8086612",
   "metadata": {},
   "outputs": [
    {
     "data": {
      "text/html": [
       "<div>\n",
       "<style scoped>\n",
       "    .dataframe tbody tr th:only-of-type {\n",
       "        vertical-align: middle;\n",
       "    }\n",
       "\n",
       "    .dataframe tbody tr th {\n",
       "        vertical-align: top;\n",
       "    }\n",
       "\n",
       "    .dataframe thead th {\n",
       "        text-align: right;\n",
       "    }\n",
       "</style>\n",
       "<table border=\"1\" class=\"dataframe\">\n",
       "  <thead>\n",
       "    <tr style=\"text-align: right;\">\n",
       "      <th></th>\n",
       "      <th>Customer_id</th>\n",
       "      <th>y</th>\n",
       "    </tr>\n",
       "  </thead>\n",
       "  <tbody>\n",
       "    <tr>\n",
       "      <th>0</th>\n",
       "      <td>1</td>\n",
       "      <td>no</td>\n",
       "    </tr>\n",
       "    <tr>\n",
       "      <th>1</th>\n",
       "      <td>2</td>\n",
       "      <td>no</td>\n",
       "    </tr>\n",
       "    <tr>\n",
       "      <th>2</th>\n",
       "      <td>3</td>\n",
       "      <td>no</td>\n",
       "    </tr>\n",
       "    <tr>\n",
       "      <th>3</th>\n",
       "      <td>4</td>\n",
       "      <td>no</td>\n",
       "    </tr>\n",
       "    <tr>\n",
       "      <th>4</th>\n",
       "      <td>5</td>\n",
       "      <td>no</td>\n",
       "    </tr>\n",
       "  </tbody>\n",
       "</table>\n",
       "</div>"
      ],
      "text/plain": [
       "   Customer_id   y\n",
       "0            1  no\n",
       "1            2  no\n",
       "2            3  no\n",
       "3            4  no\n",
       "4            5  no"
      ]
     },
     "execution_count": 4,
     "metadata": {},
     "output_type": "execute_result"
    }
   ],
   "source": [
    "df2 = pd.read_csv('Customer_Response_data_p1.csv')\n",
    "df2\n",
    "df2.head()"
   ]
  },
  {
   "cell_type": "markdown",
   "id": "bf38ee87",
   "metadata": {},
   "source": [
    "###merging Customer_and_bank details_p1.csv and Customer_Response_data_p1.csv(tables)\n"
   ]
  },
  {
   "cell_type": "code",
   "execution_count": 5,
   "id": "c9ee69c9",
   "metadata": {},
   "outputs": [
    {
     "data": {
      "text/html": [
       "<div>\n",
       "<style scoped>\n",
       "    .dataframe tbody tr th:only-of-type {\n",
       "        vertical-align: middle;\n",
       "    }\n",
       "\n",
       "    .dataframe tbody tr th {\n",
       "        vertical-align: top;\n",
       "    }\n",
       "\n",
       "    .dataframe thead th {\n",
       "        text-align: right;\n",
       "    }\n",
       "</style>\n",
       "<table border=\"1\" class=\"dataframe\">\n",
       "  <thead>\n",
       "    <tr style=\"text-align: right;\">\n",
       "      <th></th>\n",
       "      <th>Customer_id</th>\n",
       "      <th>age</th>\n",
       "      <th>job</th>\n",
       "      <th>marital</th>\n",
       "      <th>education</th>\n",
       "      <th>default</th>\n",
       "      <th>housing</th>\n",
       "      <th>loan</th>\n",
       "      <th>Region_Code</th>\n",
       "      <th>State_Code</th>\n",
       "      <th>City_Code</th>\n",
       "      <th>y</th>\n",
       "    </tr>\n",
       "  </thead>\n",
       "  <tbody>\n",
       "    <tr>\n",
       "      <th>0</th>\n",
       "      <td>1</td>\n",
       "      <td>56</td>\n",
       "      <td>services</td>\n",
       "      <td>married</td>\n",
       "      <td>high.school</td>\n",
       "      <td>no</td>\n",
       "      <td>no</td>\n",
       "      <td>yes</td>\n",
       "      <td>3</td>\n",
       "      <td>S1</td>\n",
       "      <td>C1</td>\n",
       "      <td>no</td>\n",
       "    </tr>\n",
       "    <tr>\n",
       "      <th>1</th>\n",
       "      <td>2</td>\n",
       "      <td>45</td>\n",
       "      <td>services</td>\n",
       "      <td>married</td>\n",
       "      <td>basic.9y</td>\n",
       "      <td>unknown</td>\n",
       "      <td>no</td>\n",
       "      <td>no</td>\n",
       "      <td>3</td>\n",
       "      <td>S1</td>\n",
       "      <td>C1</td>\n",
       "      <td>no</td>\n",
       "    </tr>\n",
       "    <tr>\n",
       "      <th>2</th>\n",
       "      <td>3</td>\n",
       "      <td>59</td>\n",
       "      <td>admin.</td>\n",
       "      <td>married</td>\n",
       "      <td>professional.course</td>\n",
       "      <td>no</td>\n",
       "      <td>no</td>\n",
       "      <td>no</td>\n",
       "      <td>4</td>\n",
       "      <td>S2</td>\n",
       "      <td>C2</td>\n",
       "      <td>no</td>\n",
       "    </tr>\n",
       "    <tr>\n",
       "      <th>3</th>\n",
       "      <td>4</td>\n",
       "      <td>41</td>\n",
       "      <td>blue-collar</td>\n",
       "      <td>married</td>\n",
       "      <td>unknown</td>\n",
       "      <td>unknown</td>\n",
       "      <td>no</td>\n",
       "      <td>no</td>\n",
       "      <td>3</td>\n",
       "      <td>S3</td>\n",
       "      <td>C3</td>\n",
       "      <td>no</td>\n",
       "    </tr>\n",
       "    <tr>\n",
       "      <th>4</th>\n",
       "      <td>5</td>\n",
       "      <td>24</td>\n",
       "      <td>technician</td>\n",
       "      <td>single</td>\n",
       "      <td>professional.course</td>\n",
       "      <td>no</td>\n",
       "      <td>yes</td>\n",
       "      <td>no</td>\n",
       "      <td>3</td>\n",
       "      <td>S3</td>\n",
       "      <td>C3</td>\n",
       "      <td>no</td>\n",
       "    </tr>\n",
       "  </tbody>\n",
       "</table>\n",
       "</div>"
      ],
      "text/plain": [
       "   Customer_id  age          job  marital            education  default  \\\n",
       "0            1   56     services  married          high.school       no   \n",
       "1            2   45     services  married             basic.9y  unknown   \n",
       "2            3   59       admin.  married  professional.course       no   \n",
       "3            4   41  blue-collar  married              unknown  unknown   \n",
       "4            5   24   technician   single  professional.course       no   \n",
       "\n",
       "  housing loan Region_Code State_Code City_Code   y  \n",
       "0      no  yes           3         S1        C1  no  \n",
       "1      no   no           3         S1        C1  no  \n",
       "2      no   no           4         S2        C2  no  \n",
       "3      no   no           3         S3        C3  no  \n",
       "4     yes   no           3         S3        C3  no  "
      ]
     },
     "execution_count": 5,
     "metadata": {},
     "output_type": "execute_result"
    }
   ],
   "source": [
    "grouph=pd.merge(df1,df2,on='Customer_id',how='inner')\n",
    "grouph.head()"
   ]
  },
  {
   "cell_type": "markdown",
   "id": "d966d4b4",
   "metadata": {},
   "source": [
    "##analysis on martial status based on responses"
   ]
  },
  {
   "cell_type": "code",
   "execution_count": 6,
   "id": "bbec29b6",
   "metadata": {},
   "outputs": [
    {
     "data": {
      "text/plain": [
       "marital   y  \n",
       "divorced  no      3699\n",
       "          yes      427\n",
       "married   no     20187\n",
       "          yes     2292\n",
       "single    no      8930\n",
       "          yes     1477\n",
       "unknown   no        60\n",
       "          yes       12\n",
       "Name: y, dtype: int64"
      ]
     },
     "execution_count": 6,
     "metadata": {},
     "output_type": "execute_result"
    }
   ],
   "source": [
    "grouph1=grouph.groupby('marital')['y'].value_counts()\n",
    "grouph1"
   ]
  },
  {
   "cell_type": "markdown",
   "id": "8f0f3754",
   "metadata": {},
   "source": [
    "#analysis on loan based on responses"
   ]
  },
  {
   "cell_type": "code",
   "execution_count": 7,
   "id": "021391d7",
   "metadata": {},
   "outputs": [
    {
     "data": {
      "text/plain": [
       "loan     y  \n",
       "no       no     27062\n",
       "         yes     3499\n",
       "unknown  no       791\n",
       "         yes       91\n",
       "yes      no      5023\n",
       "         yes      618\n",
       "Name: y, dtype: int64"
      ]
     },
     "execution_count": 7,
     "metadata": {},
     "output_type": "execute_result"
    }
   ],
   "source": [
    "grouph2=grouph.groupby('loan')['y'].value_counts()\n",
    "grouph2"
   ]
  },
  {
   "cell_type": "markdown",
   "id": "60e26bed",
   "metadata": {},
   "source": [
    "#analysis on education based on responses"
   ]
  },
  {
   "cell_type": "code",
   "execution_count": 8,
   "id": "2e262cd8",
   "metadata": {},
   "outputs": [
    {
     "data": {
      "text/plain": [
       "education            y  \n",
       "basic.4y             no     3374\n",
       "                     yes     391\n",
       "basic.6y             no     1903\n",
       "                     yes     171\n",
       "basic.9y             no     5001\n",
       "                     yes     420\n",
       "high.school          no     7597\n",
       "                     yes     945\n",
       "illiterate           no       14\n",
       "                     yes       2\n",
       "professional.course  no     4205\n",
       "                     yes     541\n",
       "university.degree    no     9464\n",
       "                     yes    1507\n",
       "unknown              no     1318\n",
       "                     yes     231\n",
       "Name: y, dtype: int64"
      ]
     },
     "execution_count": 8,
     "metadata": {},
     "output_type": "execute_result"
    }
   ],
   "source": [
    "grouph3=grouph.groupby('education')['y'].value_counts()\n",
    "grouph3"
   ]
  },
  {
   "cell_type": "markdown",
   "id": "90adb4c3",
   "metadata": {},
   "source": [
    "#analysis on profession based on responses"
   ]
  },
  {
   "cell_type": "code",
   "execution_count": 9,
   "id": "c0295e27",
   "metadata": {},
   "outputs": [
    {
     "data": {
      "text/plain": [
       "job            y  \n",
       "admin.         no     8174\n",
       "               yes    1246\n",
       "blue-collar    no     7738\n",
       "               yes     576\n",
       "entrepreneur   no     1198\n",
       "               yes     111\n",
       "housemaid      no      853\n",
       "               yes      93\n",
       "management     no     2345\n",
       "               yes     292\n",
       "retired        no     1146\n",
       "               yes     395\n",
       "self-employed  no     1145\n",
       "               yes     131\n",
       "services       no     3249\n",
       "               yes     298\n",
       "student        no      527\n",
       "               yes     240\n",
       "technician     no     5439\n",
       "               yes     657\n",
       "unemployed     no      791\n",
       "               yes     134\n",
       "unknown        no      271\n",
       "               yes      35\n",
       "Name: y, dtype: int64"
      ]
     },
     "execution_count": 9,
     "metadata": {},
     "output_type": "execute_result"
    }
   ],
   "source": [
    "grouph4=grouph.groupby('job')['y'].value_counts()\n",
    "grouph4"
   ]
  },
  {
   "cell_type": "markdown",
   "id": "c05ead37",
   "metadata": {},
   "source": [
    "#analysis on housing based on responses"
   ]
  },
  {
   "cell_type": "code",
   "execution_count": 10,
   "id": "bb126418",
   "metadata": {},
   "outputs": [
    {
     "data": {
      "text/plain": [
       "housing  y  \n",
       "no       no     14931\n",
       "         yes     1838\n",
       "unknown  no       791\n",
       "         yes       91\n",
       "yes      no     17154\n",
       "         yes     2279\n",
       "Name: y, dtype: int64"
      ]
     },
     "execution_count": 10,
     "metadata": {},
     "output_type": "execute_result"
    }
   ],
   "source": [
    "grouph5=grouph.groupby('housing')['y'].value_counts()\n",
    "grouph5"
   ]
  },
  {
   "cell_type": "markdown",
   "id": "5648f249",
   "metadata": {},
   "source": [
    "#analysis on age based on responses"
   ]
  },
  {
   "cell_type": "code",
   "execution_count": 15,
   "id": "3a5cc3fb",
   "metadata": {},
   "outputs": [
    {
     "data": {
      "text/plain": [
       "age  y  \n",
       "17   no      3\n",
       "     yes     2\n",
       "18   no     15\n",
       "     yes     9\n",
       "19   no     21\n",
       "            ..\n",
       "92   yes     3\n",
       "     no      1\n",
       "94   no      1\n",
       "95   no      1\n",
       "98   yes     2\n",
       "Name: y, Length: 149, dtype: int64"
      ]
     },
     "execution_count": 15,
     "metadata": {},
     "output_type": "execute_result"
    }
   ],
   "source": [
    "grouph6=grouph.groupby('age')['y'].value_counts()\n",
    "grouph6"
   ]
  },
  {
   "cell_type": "markdown",
   "id": "c59027cd",
   "metadata": {},
   "source": [
    " #merging Customer_and_bank details_p1.csv and Customer_Campaign_data_p1.csv(tables)"
   ]
  },
  {
   "cell_type": "code",
   "execution_count": 11,
   "id": "7f982f78",
   "metadata": {},
   "outputs": [
    {
     "data": {
      "text/html": [
       "<div>\n",
       "<style scoped>\n",
       "    .dataframe tbody tr th:only-of-type {\n",
       "        vertical-align: middle;\n",
       "    }\n",
       "\n",
       "    .dataframe tbody tr th {\n",
       "        vertical-align: top;\n",
       "    }\n",
       "\n",
       "    .dataframe thead th {\n",
       "        text-align: right;\n",
       "    }\n",
       "</style>\n",
       "<table border=\"1\" class=\"dataframe\">\n",
       "  <thead>\n",
       "    <tr style=\"text-align: right;\">\n",
       "      <th></th>\n",
       "      <th>Customer_id</th>\n",
       "      <th>contact</th>\n",
       "      <th>month</th>\n",
       "      <th>day_of_week</th>\n",
       "      <th>duration</th>\n",
       "      <th>campaign</th>\n",
       "      <th>pdays</th>\n",
       "      <th>previous</th>\n",
       "      <th>poutcome</th>\n",
       "      <th>age</th>\n",
       "      <th>job</th>\n",
       "      <th>marital</th>\n",
       "      <th>education</th>\n",
       "      <th>default</th>\n",
       "      <th>housing</th>\n",
       "      <th>loan</th>\n",
       "      <th>Region_Code</th>\n",
       "      <th>State_Code</th>\n",
       "      <th>City_Code</th>\n",
       "    </tr>\n",
       "  </thead>\n",
       "  <tbody>\n",
       "    <tr>\n",
       "      <th>0</th>\n",
       "      <td>1</td>\n",
       "      <td>telephone</td>\n",
       "      <td>may</td>\n",
       "      <td>mon</td>\n",
       "      <td>307</td>\n",
       "      <td>1</td>\n",
       "      <td>999</td>\n",
       "      <td>0</td>\n",
       "      <td>nonexistent</td>\n",
       "      <td>56</td>\n",
       "      <td>services</td>\n",
       "      <td>married</td>\n",
       "      <td>high.school</td>\n",
       "      <td>no</td>\n",
       "      <td>no</td>\n",
       "      <td>yes</td>\n",
       "      <td>3</td>\n",
       "      <td>S1</td>\n",
       "      <td>C1</td>\n",
       "    </tr>\n",
       "    <tr>\n",
       "      <th>1</th>\n",
       "      <td>2</td>\n",
       "      <td>telephone</td>\n",
       "      <td>may</td>\n",
       "      <td>mon</td>\n",
       "      <td>198</td>\n",
       "      <td>1</td>\n",
       "      <td>999</td>\n",
       "      <td>0</td>\n",
       "      <td>nonexistent</td>\n",
       "      <td>45</td>\n",
       "      <td>services</td>\n",
       "      <td>married</td>\n",
       "      <td>basic.9y</td>\n",
       "      <td>unknown</td>\n",
       "      <td>no</td>\n",
       "      <td>no</td>\n",
       "      <td>3</td>\n",
       "      <td>S1</td>\n",
       "      <td>C1</td>\n",
       "    </tr>\n",
       "    <tr>\n",
       "      <th>2</th>\n",
       "      <td>3</td>\n",
       "      <td>telephone</td>\n",
       "      <td>may</td>\n",
       "      <td>mon</td>\n",
       "      <td>139</td>\n",
       "      <td>1</td>\n",
       "      <td>999</td>\n",
       "      <td>0</td>\n",
       "      <td>nonexistent</td>\n",
       "      <td>59</td>\n",
       "      <td>admin.</td>\n",
       "      <td>married</td>\n",
       "      <td>professional.course</td>\n",
       "      <td>no</td>\n",
       "      <td>no</td>\n",
       "      <td>no</td>\n",
       "      <td>4</td>\n",
       "      <td>S2</td>\n",
       "      <td>C2</td>\n",
       "    </tr>\n",
       "    <tr>\n",
       "      <th>3</th>\n",
       "      <td>4</td>\n",
       "      <td>telephone</td>\n",
       "      <td>may</td>\n",
       "      <td>mon</td>\n",
       "      <td>217</td>\n",
       "      <td>1</td>\n",
       "      <td>999</td>\n",
       "      <td>0</td>\n",
       "      <td>nonexistent</td>\n",
       "      <td>41</td>\n",
       "      <td>blue-collar</td>\n",
       "      <td>married</td>\n",
       "      <td>unknown</td>\n",
       "      <td>unknown</td>\n",
       "      <td>no</td>\n",
       "      <td>no</td>\n",
       "      <td>3</td>\n",
       "      <td>S3</td>\n",
       "      <td>C3</td>\n",
       "    </tr>\n",
       "    <tr>\n",
       "      <th>4</th>\n",
       "      <td>5</td>\n",
       "      <td>telephone</td>\n",
       "      <td>may</td>\n",
       "      <td>mon</td>\n",
       "      <td>380</td>\n",
       "      <td>1</td>\n",
       "      <td>999</td>\n",
       "      <td>0</td>\n",
       "      <td>nonexistent</td>\n",
       "      <td>24</td>\n",
       "      <td>technician</td>\n",
       "      <td>single</td>\n",
       "      <td>professional.course</td>\n",
       "      <td>no</td>\n",
       "      <td>yes</td>\n",
       "      <td>no</td>\n",
       "      <td>3</td>\n",
       "      <td>S3</td>\n",
       "      <td>C3</td>\n",
       "    </tr>\n",
       "  </tbody>\n",
       "</table>\n",
       "</div>"
      ],
      "text/plain": [
       "   Customer_id    contact month day_of_week  duration  campaign  pdays  \\\n",
       "0            1  telephone   may         mon       307         1    999   \n",
       "1            2  telephone   may         mon       198         1    999   \n",
       "2            3  telephone   may         mon       139         1    999   \n",
       "3            4  telephone   may         mon       217         1    999   \n",
       "4            5  telephone   may         mon       380         1    999   \n",
       "\n",
       "   previous     poutcome  age          job  marital            education  \\\n",
       "0         0  nonexistent   56     services  married          high.school   \n",
       "1         0  nonexistent   45     services  married             basic.9y   \n",
       "2         0  nonexistent   59       admin.  married  professional.course   \n",
       "3         0  nonexistent   41  blue-collar  married              unknown   \n",
       "4         0  nonexistent   24   technician   single  professional.course   \n",
       "\n",
       "   default housing loan Region_Code State_Code City_Code  \n",
       "0       no      no  yes           3         S1        C1  \n",
       "1  unknown      no   no           3         S1        C1  \n",
       "2       no      no   no           4         S2        C2  \n",
       "3  unknown      no   no           3         S3        C3  \n",
       "4       no     yes   no           3         S3        C3  "
      ]
     },
     "execution_count": 11,
     "metadata": {},
     "output_type": "execute_result"
    }
   ],
   "source": [
    "group=pd.merge(df0,df1,on='Customer_id',how='inner')\n",
    "group\n",
    "group.head()"
   ]
  },
  {
   "cell_type": "markdown",
   "id": "e28ade57",
   "metadata": {},
   "source": [
    "#analysis on martial status based on poutcome"
   ]
  },
  {
   "cell_type": "code",
   "execution_count": 25,
   "id": "bf2c924e",
   "metadata": {},
   "outputs": [
    {
     "data": {
      "text/plain": [
       "marital   poutcome   \n",
       "divorced  nonexistent     3562\n",
       "          failure          452\n",
       "          success          112\n",
       "married   nonexistent    19674\n",
       "          failure         2146\n",
       "          success          659\n",
       "single    nonexistent     8729\n",
       "          failure         1215\n",
       "          success          463\n",
       "unknown   nonexistent       58\n",
       "          failure            9\n",
       "          success            5\n",
       "Name: poutcome, dtype: int64"
      ]
     },
     "execution_count": 25,
     "metadata": {},
     "output_type": "execute_result"
    }
   ],
   "source": [
    "marital_success=group.groupby('marital')['poutcome'].value_counts()\n",
    "marital_success"
   ]
  },
  {
   "cell_type": "markdown",
   "id": "a889e308",
   "metadata": {},
   "source": [
    "\n",
    "#calculating percentage on martial status analysis"
   ]
  },
  {
   "cell_type": "code",
   "execution_count": 44,
   "id": "8e279124",
   "metadata": {},
   "outputs": [
    {
     "name": "stdout",
     "output_type": "stream",
     "text": [
      "The percentage turnout of maritalstatus\n"
     ]
    }
   ],
   "source": [
    "print('The percentage turnout of maritalstatus')"
   ]
  },
  {
   "cell_type": "code",
   "execution_count": 45,
   "id": "f97439e8",
   "metadata": {},
   "outputs": [
    {
     "data": {
      "text/plain": [
       "married     60.616438\n",
       "single      28.063316\n",
       "divorced    11.126092\n",
       "unknown      0.194154\n",
       "Name: marital, dtype: float64"
      ]
     },
     "execution_count": 45,
     "metadata": {},
     "output_type": "execute_result"
    }
   ],
   "source": [
    "percent = group['marital'].value_counts()/len(group['marital'])*100\n",
    "percent\n"
   ]
  },
  {
   "cell_type": "markdown",
   "id": "28567a6a",
   "metadata": {},
   "source": [
    "#analysis on existing loans based on poutcome"
   ]
  },
  {
   "cell_type": "code",
   "execution_count": 47,
   "id": "88a06ded",
   "metadata": {},
   "outputs": [
    {
     "data": {
      "text/plain": [
       "loan     poutcome   \n",
       "no       nonexistent    26389\n",
       "         failure         3141\n",
       "         success         1031\n",
       "unknown  nonexistent      756\n",
       "         failure          101\n",
       "         success           25\n",
       "yes      nonexistent     4878\n",
       "         failure          580\n",
       "         success          183\n",
       "Name: poutcome, dtype: int64"
      ]
     },
     "execution_count": 47,
     "metadata": {},
     "output_type": "execute_result"
    }
   ],
   "source": [
    "loan_success=group.groupby('loan')['poutcome'].value_counts()\n",
    "loan_success"
   ]
  },
  {
   "cell_type": "markdown",
   "id": "d35c82aa",
   "metadata": {},
   "source": [
    "#calculating percentage on existing analysis"
   ]
  },
  {
   "cell_type": "code",
   "execution_count": 46,
   "id": "3249b1db",
   "metadata": {},
   "outputs": [
    {
     "name": "stdout",
     "output_type": "stream",
     "text": [
      "The percentage turnout of loan\n"
     ]
    }
   ],
   "source": [
    "print('The percentage turnout of loan')"
   ]
  },
  {
   "cell_type": "code",
   "execution_count": 42,
   "id": "689e6fcf",
   "metadata": {},
   "outputs": [
    {
     "data": {
      "text/plain": [
       "no         82.410204\n",
       "yes        15.211412\n",
       "unknown     2.378384\n",
       "Name: loan, dtype: float64"
      ]
     },
     "execution_count": 42,
     "metadata": {},
     "output_type": "execute_result"
    }
   ],
   "source": [
    "percent1 = group['loan'].value_counts()/len(group['loan'])*100\n",
    "percent1"
   ]
  },
  {
   "cell_type": "markdown",
   "id": "c77e4ddd",
   "metadata": {},
   "source": [
    "#analysis on education based on poutcome"
   ]
  },
  {
   "cell_type": "code",
   "execution_count": 49,
   "id": "e62ad807",
   "metadata": {},
   "outputs": [
    {
     "data": {
      "text/plain": [
       "education            poutcome   \n",
       "basic.4y             nonexistent    3332\n",
       "                     failure         316\n",
       "                     success         117\n",
       "basic.6y             nonexistent    1838\n",
       "                     failure         200\n",
       "                     success          36\n",
       "basic.9y             nonexistent    4764\n",
       "                     failure         563\n",
       "                     success          94\n",
       "high.school          nonexistent    7278\n",
       "                     failure         996\n",
       "                     success         268\n",
       "illiterate           nonexistent      14\n",
       "                     failure           1\n",
       "                     success           1\n",
       "professional.course  nonexistent    4116\n",
       "                     failure         463\n",
       "                     success         167\n",
       "university.degree    nonexistent    9375\n",
       "                     failure        1118\n",
       "                     success         478\n",
       "unknown              nonexistent    1306\n",
       "                     failure         165\n",
       "                     success          78\n",
       "Name: poutcome, dtype: int64"
      ]
     },
     "execution_count": 49,
     "metadata": {},
     "output_type": "execute_result"
    }
   ],
   "source": [
    "education_success=group.groupby('education')['poutcome'].value_counts()\n",
    "education_success"
   ]
  },
  {
   "cell_type": "markdown",
   "id": "79727ed1",
   "metadata": {},
   "source": [
    "#calculating percentage on education analysis"
   ]
  },
  {
   "cell_type": "code",
   "execution_count": 50,
   "id": "73b21813",
   "metadata": {},
   "outputs": [
    {
     "name": "stdout",
     "output_type": "stream",
     "text": [
      "The percentage turnout of education\n"
     ]
    }
   ],
   "source": [
    "print('The percentage turnout of education')"
   ]
  },
  {
   "cell_type": "code",
   "execution_count": 51,
   "id": "30fe47bb",
   "metadata": {},
   "outputs": [
    {
     "data": {
      "text/plain": [
       "university.degree      29.584187\n",
       "high.school            23.034193\n",
       "basic.9y               14.618164\n",
       "professional.course    12.797972\n",
       "basic.4y               10.152626\n",
       "basic.6y                5.592708\n",
       "unknown                 4.177004\n",
       "illiterate              0.043145\n",
       "Name: education, dtype: float64"
      ]
     },
     "execution_count": 51,
     "metadata": {},
     "output_type": "execute_result"
    }
   ],
   "source": [
    "percent2 = group['education'].value_counts()/len(group['education'])*100\n",
    "percent2"
   ]
  },
  {
   "cell_type": "markdown",
   "id": "47713863",
   "metadata": {},
   "source": [
    "#analysis on profession based on poutcome"
   ]
  },
  {
   "cell_type": "code",
   "execution_count": 13,
   "id": "92df36c5",
   "metadata": {},
   "outputs": [
    {
     "data": {
      "text/plain": [
       "job            poutcome   \n",
       "admin.         nonexistent    8037\n",
       "               failure         987\n",
       "               success         396\n",
       "blue-collar    nonexistent    7412\n",
       "               failure         800\n",
       "               success         102\n",
       "entrepreneur   nonexistent    1147\n",
       "               failure         140\n",
       "               success          22\n",
       "housemaid      nonexistent     847\n",
       "               failure          64\n",
       "               success          35\n",
       "management     nonexistent    2257\n",
       "               failure         292\n",
       "               success          88\n",
       "retired        nonexistent    1195\n",
       "               failure         203\n",
       "               success         143\n",
       "self-employed  nonexistent    1119\n",
       "               failure         132\n",
       "               success          25\n",
       "services       nonexistent    3088\n",
       "               failure         397\n",
       "               success          62\n",
       "student        nonexistent     519\n",
       "               failure         138\n",
       "               success         110\n",
       "technician     nonexistent    5349\n",
       "               failure         567\n",
       "               success         180\n",
       "unemployed     nonexistent     783\n",
       "               failure          85\n",
       "               success          57\n",
       "unknown        nonexistent     270\n",
       "               success          19\n",
       "               failure          17\n",
       "Name: poutcome, dtype: int64"
      ]
     },
     "execution_count": 13,
     "metadata": {},
     "output_type": "execute_result"
    }
   ],
   "source": [
    "job_success=group.groupby('job')['poutcome'].value_counts()\n",
    "job_success"
   ]
  },
  {
   "cell_type": "markdown",
   "id": "0db77a3f",
   "metadata": {},
   "source": [
    "#calculating percentage on profession analysis"
   ]
  },
  {
   "cell_type": "code",
   "execution_count": 14,
   "id": "751f1986",
   "metadata": {},
   "outputs": [
    {
     "data": {
      "text/plain": [
       "admin.           25.401791\n",
       "blue-collar      22.419372\n",
       "technician       16.438356\n",
       "services          9.564772\n",
       "management        7.110883\n",
       "retired           4.155431\n",
       "entrepreneur      3.529824\n",
       "self-employed     3.440837\n",
       "housemaid         2.550965\n",
       "unemployed        2.494337\n",
       "student           2.068277\n",
       "unknown           0.825154\n",
       "Name: job, dtype: float64"
      ]
     },
     "execution_count": 14,
     "metadata": {},
     "output_type": "execute_result"
    }
   ],
   "source": [
    "percent4= group['job'].value_counts()/len(group['job'])*100\n",
    "percent4"
   ]
  },
  {
   "cell_type": "markdown",
   "id": "6d674610",
   "metadata": {},
   "source": [
    "#analysis on housing based on poutcome"
   ]
  },
  {
   "cell_type": "code",
   "execution_count": 53,
   "id": "3d31f44c",
   "metadata": {},
   "outputs": [
    {
     "data": {
      "text/plain": [
       "housing  poutcome   \n",
       "no       nonexistent    14662\n",
       "         failure         1594\n",
       "         success          513\n",
       "unknown  nonexistent      756\n",
       "         failure          101\n",
       "         success           25\n",
       "yes      nonexistent    16605\n",
       "         failure         2127\n",
       "         success          701\n",
       "Name: poutcome, dtype: int64"
      ]
     },
     "execution_count": 53,
     "metadata": {},
     "output_type": "execute_result"
    }
   ],
   "source": [
    "housing_success=group.groupby('housing')['poutcome'].value_counts()\n",
    "housing_success"
   ]
  },
  {
   "cell_type": "markdown",
   "id": "fd3924ea",
   "metadata": {},
   "source": [
    "#calculating percentage on housing analysis"
   ]
  },
  {
   "cell_type": "code",
   "execution_count": 54,
   "id": "55b52517",
   "metadata": {},
   "outputs": [
    {
     "name": "stdout",
     "output_type": "stream",
     "text": [
      "The percentage turnout of housing\n"
     ]
    }
   ],
   "source": [
    "print('The percentage turnout of housing')"
   ]
  },
  {
   "cell_type": "code",
   "execution_count": 55,
   "id": "44e022d9",
   "metadata": {},
   "outputs": [
    {
     "data": {
      "text/plain": [
       "yes        52.402653\n",
       "no         45.218962\n",
       "unknown     2.378384\n",
       "Name: housing, dtype: float64"
      ]
     },
     "execution_count": 55,
     "metadata": {},
     "output_type": "execute_result"
    }
   ],
   "source": [
    "percent3 = group['housing'].value_counts()/len(group['housing'])*100\n",
    "percent3"
   ]
  }
 ],
 "metadata": {
  "kernelspec": {
   "display_name": "Python 3",
   "language": "python",
   "name": "python3"
  },
  "language_info": {
   "codemirror_mode": {
    "name": "ipython",
    "version": 3
   },
   "file_extension": ".py",
   "mimetype": "text/x-python",
   "name": "python",
   "nbconvert_exporter": "python",
   "pygments_lexer": "ipython3",
   "version": "3.8.8"
  }
 },
 "nbformat": 4,
 "nbformat_minor": 5
}
