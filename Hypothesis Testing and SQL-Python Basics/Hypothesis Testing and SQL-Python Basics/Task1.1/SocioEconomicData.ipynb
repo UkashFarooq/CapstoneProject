{
 "cells": [
  {
   "cell_type": "markdown",
   "id": "00863ad9",
   "metadata": {},
   "source": [
    "## Task 1.1 Checkpoint 1 \n",
    "### Socio-economical analysis of the customers."
   ]
  },
  {
   "cell_type": "code",
   "execution_count": 3,
   "id": "812ed1c2",
   "metadata": {},
   "outputs": [],
   "source": [
    "import pandas as pd\n",
    "import numpy as np\n",
    "from pandas import Series,DataFrame"
   ]
  },
  {
   "cell_type": "markdown",
   "id": "3a4985a1",
   "metadata": {},
   "source": [
    "### Reading the Dataset related to Socio-Economic details of the customers"
   ]
  },
  {
   "cell_type": "code",
   "execution_count": 4,
   "id": "061ff868",
   "metadata": {},
   "outputs": [],
   "source": [
    "SocioEconomicData=pd.read_csv('Customer_social_economic_data_p1.csv') "
   ]
  },
  {
   "cell_type": "markdown",
   "id": "28857ffe",
   "metadata": {},
   "source": [
    "#### Counting the number of employees with Negative and Positive variation rate"
   ]
  },
  {
   "cell_type": "code",
   "execution_count": 5,
   "id": "3ac31262",
   "metadata": {},
   "outputs": [],
   "source": [
    "Neg_Var_rate=SocioEconomicData[SocioEconomicData['emp.var.rate']<0].shape[0]\n",
    "Pos_var_rate=SocioEconomicData[SocioEconomicData['emp.var.rate']>0].shape[0]"
   ]
  },
  {
   "cell_type": "code",
   "execution_count": 18,
   "id": "d81373d9",
   "metadata": {},
   "outputs": [
    {
     "name": "stdout",
     "output_type": "stream",
     "text": [
      "Among the total of  37084  employees\n",
      "The number of employess with negative variation rate is 15486 which is 41.76 %\n",
      "The number of employees with positive variation rate is 21598  which is 58.24 %\n"
     ]
    }
   ],
   "source": [
    "print(\"Among the total of \",Neg_Var_rate+Pos_var_rate,' employees')\n",
    "print(f'The number of employess with negative variation rate is {Neg_Var_rate} which is {round(Neg_Var_rate*100/len(SocioEconomicData),2)} %\\nThe number of employees with positive variation rate is {Pos_var_rate}  which is {round(Pos_var_rate*100/len(SocioEconomicData),2)} %')\n"
   ]
  },
  {
   "cell_type": "code",
   "execution_count": 16,
   "id": "4f36faf1",
   "metadata": {},
   "outputs": [
    {
     "data": {
      "text/html": [
       "<div>\n",
       "<style scoped>\n",
       "    .dataframe tbody tr th:only-of-type {\n",
       "        vertical-align: middle;\n",
       "    }\n",
       "\n",
       "    .dataframe tbody tr th {\n",
       "        vertical-align: top;\n",
       "    }\n",
       "\n",
       "    .dataframe thead th {\n",
       "        text-align: right;\n",
       "    }\n",
       "</style>\n",
       "<table border=\"1\" class=\"dataframe\">\n",
       "  <thead>\n",
       "    <tr style=\"text-align: right;\">\n",
       "      <th></th>\n",
       "      <th>emp.var.rate</th>\n",
       "      <th>cons.price.idx</th>\n",
       "      <th>cons.conf.idx</th>\n",
       "      <th>euribor3m</th>\n",
       "      <th>nr.employed</th>\n",
       "    </tr>\n",
       "  </thead>\n",
       "  <tbody>\n",
       "    <tr>\n",
       "      <th>count</th>\n",
       "      <td>37084.0</td>\n",
       "      <td>37084.0</td>\n",
       "      <td>37084.0</td>\n",
       "      <td>37084.0</td>\n",
       "      <td>37084.0</td>\n",
       "    </tr>\n",
       "    <tr>\n",
       "      <th>mean</th>\n",
       "      <td>0.1</td>\n",
       "      <td>93.6</td>\n",
       "      <td>-40.5</td>\n",
       "      <td>3.6</td>\n",
       "      <td>5167.1</td>\n",
       "    </tr>\n",
       "    <tr>\n",
       "      <th>std</th>\n",
       "      <td>1.6</td>\n",
       "      <td>0.6</td>\n",
       "      <td>4.6</td>\n",
       "      <td>1.7</td>\n",
       "      <td>72.2</td>\n",
       "    </tr>\n",
       "    <tr>\n",
       "      <th>min</th>\n",
       "      <td>-3.4</td>\n",
       "      <td>92.2</td>\n",
       "      <td>-50.8</td>\n",
       "      <td>0.6</td>\n",
       "      <td>4963.6</td>\n",
       "    </tr>\n",
       "    <tr>\n",
       "      <th>25%</th>\n",
       "      <td>-1.8</td>\n",
       "      <td>93.1</td>\n",
       "      <td>-42.7</td>\n",
       "      <td>1.3</td>\n",
       "      <td>5099.1</td>\n",
       "    </tr>\n",
       "    <tr>\n",
       "      <th>50%</th>\n",
       "      <td>1.1</td>\n",
       "      <td>93.7</td>\n",
       "      <td>-41.8</td>\n",
       "      <td>4.9</td>\n",
       "      <td>5191.0</td>\n",
       "    </tr>\n",
       "    <tr>\n",
       "      <th>75%</th>\n",
       "      <td>1.4</td>\n",
       "      <td>94.0</td>\n",
       "      <td>-36.4</td>\n",
       "      <td>5.0</td>\n",
       "      <td>5228.1</td>\n",
       "    </tr>\n",
       "    <tr>\n",
       "      <th>max</th>\n",
       "      <td>1.4</td>\n",
       "      <td>94.8</td>\n",
       "      <td>-26.9</td>\n",
       "      <td>5.0</td>\n",
       "      <td>5228.1</td>\n",
       "    </tr>\n",
       "  </tbody>\n",
       "</table>\n",
       "</div>"
      ],
      "text/plain": [
       "       emp.var.rate  cons.price.idx  cons.conf.idx  euribor3m  nr.employed\n",
       "count       37084.0         37084.0        37084.0    37084.0      37084.0\n",
       "mean            0.1            93.6          -40.5        3.6       5167.1\n",
       "std             1.6             0.6            4.6        1.7         72.2\n",
       "min            -3.4            92.2          -50.8        0.6       4963.6\n",
       "25%            -1.8            93.1          -42.7        1.3       5099.1\n",
       "50%             1.1            93.7          -41.8        4.9       5191.0\n",
       "75%             1.4            94.0          -36.4        5.0       5228.1\n",
       "max             1.4            94.8          -26.9        5.0       5228.1"
      ]
     },
     "execution_count": 16,
     "metadata": {},
     "output_type": "execute_result"
    }
   ],
   "source": [
    "pd.options.display.float_format='{:.1f}'.format\n",
    "SocioEconomicData.describe()"
   ]
  },
  {
   "cell_type": "markdown",
   "id": "00153d08",
   "metadata": {},
   "source": [
    "#### The average consumer price index is 93.6 where the minimum is at 92.2 and maximum at 94.8\n",
    "#### The average consumer confidence index is -40.5 where the minimum is at -50.8 and maximum at -26.9\n",
    "#### The maximum interest for a customer is 5% and the minimum is 0.6%"
   ]
  },
  {
   "cell_type": "code",
   "execution_count": null,
   "id": "010a89c3",
   "metadata": {},
   "outputs": [],
   "source": []
  }
 ],
 "metadata": {
  "kernelspec": {
   "display_name": "Python 3",
   "language": "python",
   "name": "python3"
  },
  "language_info": {
   "codemirror_mode": {
    "name": "ipython",
    "version": 3
   },
   "file_extension": ".py",
   "mimetype": "text/x-python",
   "name": "python",
   "nbconvert_exporter": "python",
   "pygments_lexer": "ipython3",
   "version": "3.8.8"
  }
 },
 "nbformat": 4,
 "nbformat_minor": 5
}
