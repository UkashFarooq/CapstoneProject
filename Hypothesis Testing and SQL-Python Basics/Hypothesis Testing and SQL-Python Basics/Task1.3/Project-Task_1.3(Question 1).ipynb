{
 "cells": [
  {
   "cell_type": "markdown",
   "id": "aa40baa8",
   "metadata": {},
   "source": [
    "# Task 1.3------Question 1-----Descriptive Statistics"
   ]
  },
  {
   "cell_type": "markdown",
   "id": "2853a635",
   "metadata": {},
   "source": [
    "### Numerical Descriptive Statistics:"
   ]
  },
  {
   "cell_type": "code",
   "execution_count": 110,
   "id": "c0f6c946",
   "metadata": {},
   "outputs": [
    {
     "data": {
      "text/plain": [
       "count    37084.000000\n",
       "mean        40.042714\n",
       "std         10.432965\n",
       "min         17.000000\n",
       "25%         32.000000\n",
       "50%         38.000000\n",
       "75%         47.000000\n",
       "max         98.000000\n",
       "Name: age, dtype: float64"
      ]
     },
     "execution_count": 110,
     "metadata": {},
     "output_type": "execute_result"
    }
   ],
   "source": [
    "bank['age'].describe()\n"
   ]
  },
  {
   "cell_type": "code",
   "execution_count": 120,
   "id": "230ad320",
   "metadata": {},
   "outputs": [
    {
     "data": {
      "text/plain": [
       "count    37084.000000\n",
       "mean         0.082669\n",
       "std          1.568997\n",
       "min         -3.400000\n",
       "25%         -1.800000\n",
       "50%          1.100000\n",
       "75%          1.400000\n",
       "max          1.400000\n",
       "Name: emp.var.rate, dtype: float64"
      ]
     },
     "execution_count": 120,
     "metadata": {},
     "output_type": "execute_result"
    }
   ],
   "source": [
    "bank['emp.var.rate'].describe()"
   ]
  },
  {
   "cell_type": "code",
   "execution_count": 143,
   "id": "ef59cf5b",
   "metadata": {},
   "outputs": [
    {
     "data": {
      "text/plain": [
       "count    37084.000000\n",
       "mean        93.576076\n",
       "std          0.578493\n",
       "min         92.201000\n",
       "25%         93.075000\n",
       "50%         93.749000\n",
       "75%         93.994000\n",
       "max         94.767000\n",
       "Name: cons.price.idx, dtype: float64"
      ]
     },
     "execution_count": 143,
     "metadata": {},
     "output_type": "execute_result"
    }
   ],
   "source": [
    "bank['cons.price.idx'].describe()"
   ]
  },
  {
   "cell_type": "code",
   "execution_count": 144,
   "id": "327501c6",
   "metadata": {},
   "outputs": [
    {
     "data": {
      "text/plain": [
       "count    37084.000000\n",
       "mean       -40.505183\n",
       "std          4.622045\n",
       "min        -50.800000\n",
       "25%        -42.700000\n",
       "50%        -41.800000\n",
       "75%        -36.400000\n",
       "max        -26.900000\n",
       "Name: cons.conf.idx, dtype: float64"
      ]
     },
     "execution_count": 144,
     "metadata": {},
     "output_type": "execute_result"
    }
   ],
   "source": [
    "bank['cons.conf.idx'].describe()"
   ]
  },
  {
   "cell_type": "code",
   "execution_count": 145,
   "id": "a4e7eac2",
   "metadata": {},
   "outputs": [
    {
     "data": {
      "text/plain": [
       "count    37084.000000\n",
       "mean         3.621668\n",
       "std          1.733972\n",
       "min          0.634000\n",
       "25%          1.344000\n",
       "50%          4.857000\n",
       "75%          4.961000\n",
       "max          5.045000\n",
       "Name: euribor3m, dtype: float64"
      ]
     },
     "execution_count": 145,
     "metadata": {},
     "output_type": "execute_result"
    }
   ],
   "source": [
    "bank['euribor3m'].describe()"
   ]
  },
  {
   "cell_type": "code",
   "execution_count": 146,
   "id": "8842f1c7",
   "metadata": {},
   "outputs": [
    {
     "data": {
      "text/plain": [
       "count    37084.000000\n",
       "mean      5167.058664\n",
       "std         72.196605\n",
       "min       4963.600000\n",
       "25%       5099.100000\n",
       "50%       5191.000000\n",
       "75%       5228.100000\n",
       "max       5228.100000\n",
       "Name: nr.employed, dtype: float64"
      ]
     },
     "execution_count": 146,
     "metadata": {},
     "output_type": "execute_result"
    }
   ],
   "source": [
    "bank['nr.employed'].describe()"
   ]
  },
  {
   "cell_type": "code",
   "execution_count": null,
   "id": "14d84b32",
   "metadata": {},
   "outputs": [],
   "source": []
  },
  {
   "cell_type": "code",
   "execution_count": null,
   "id": "db588ffa",
   "metadata": {},
   "outputs": [],
   "source": []
  },
  {
   "cell_type": "code",
   "execution_count": null,
   "id": "f45c8e0a",
   "metadata": {},
   "outputs": [],
   "source": []
  },
  {
   "cell_type": "code",
   "execution_count": null,
   "id": "e4110205",
   "metadata": {},
   "outputs": [],
   "source": []
  },
  {
   "cell_type": "markdown",
   "id": "ef586013",
   "metadata": {},
   "source": [
    "## Age:"
   ]
  },
  {
   "cell_type": "code",
   "execution_count": 88,
   "id": "fe5d6f94",
   "metadata": {},
   "outputs": [
    {
     "name": "stdout",
     "output_type": "stream",
     "text": [
      "[56 45 59 41 24 25 29 57 35 54 46 50 39 55 37 49 34 52 58 32 38 44 42 40\n",
      " 60 53 47 51 48 33 31 43 36 28 30 27 22 26 23 20 21 61 19 18 70 66 76 67\n",
      " 73 88 95 77 68 75 80 62 63 65 72 82 64 71 69 78 85 79 83 81 74 17 91 86\n",
      " 98 94 84 92 89]\n",
      "31    1761\n",
      "33    1656\n",
      "32    1644\n",
      "36    1627\n",
      "35    1584\n",
      "      ... \n",
      "98       2\n",
      "89       2\n",
      "91       2\n",
      "94       1\n",
      "95       1\n",
      "Name: age, Length: 77, dtype: int64\n"
     ]
    }
   ],
   "source": [
    "print(bank['age'].unique())\n",
    "print(bank['age'].value_counts())"
   ]
  },
  {
   "cell_type": "code",
   "execution_count": 123,
   "id": "985cf0a9",
   "metadata": {},
   "outputs": [
    {
     "name": "stdout",
     "output_type": "stream",
     "text": [
      "mean age group of clients not subscribed 39.92493004015087\n",
      "mean age group of clients subscribed 40.96292775665399\n",
      "median age group of clients not subscribed 38.0\n",
      "median age group of clients subscribed 37.0\n",
      "range of  age: 17 to 98\n",
      "mode: 0    31\n",
      "dtype: int64\n"
     ]
    }
   ],
   "source": [
    "print('mean age group of clients not subscribed',bank[bank['y']=='no']['age'].mean())\n",
    "print('mean age group of clients subscribed',bank[bank['y']=='yes']['age'].mean())\n",
    "print('median age group of clients not subscribed',bank[bank['y']=='no']['age'].median())\n",
    "print('median age group of clients subscribed',bank[bank['y']=='yes']['age'].median())\n",
    "print('range of  age:',bank['age'].min(),\"to\",bank['age'].max())\n",
    "print(\"mode:\",bank[bank['y']=='yes']['age'].mode())\n"
   ]
  },
  {
   "cell_type": "code",
   "execution_count": 77,
   "id": "4c1ecdaa",
   "metadata": {},
   "outputs": [
    {
     "name": "stdout",
     "output_type": "stream",
     "text": [
      "y             total      yes %       no %\n",
      "Groups                                   \n",
      "25<Group<=45  24912  10.280186  89.719814\n",
      "45<Group<=65  10114  10.529958  89.470042\n",
      "Group<25       1492  21.045576  78.954424\n",
      "Group>65        566  47.349823  52.650177\n"
     ]
    }
   ],
   "source": [
    "age,k=bank[['age','y']].copy(deep=True),[]\n",
    "for i in bank['age']:   #dividing the age into groups\n",
    "    if i<26:\n",
    "        k.append('Group<25')\n",
    "    elif i>25 and i<=45:\n",
    "        k.append('25<Group<=45')\n",
    "    elif i>45 and i<=65:\n",
    "        k.append('45<Group<=65')\n",
    "    elif i>65:\n",
    "        k.append('Group>65')\n",
    "    else:\n",
    "        continue\n",
    "age['Groups']=k\n",
    "\n",
    "df=pd.crosstab(age['Groups'],age['y'])\n",
    "df['total']=df['no']+df['yes']\n",
    "df['no %']=df['no']/df['total']*100\n",
    "df['yes %']=df['yes']/df['total']*100\n",
    "print(df[['total','yes %','no %']])"
   ]
  },
  {
   "cell_type": "markdown",
   "id": "a57e15a6",
   "metadata": {},
   "source": [
    "# Job:"
   ]
  },
  {
   "cell_type": "code",
   "execution_count": 83,
   "id": "1424278d",
   "metadata": {},
   "outputs": [
    {
     "name": "stdout",
     "output_type": "stream",
     "text": [
      "['services' 'admin.' 'blue-collar' 'technician' 'housemaid' 'retired'\n",
      " 'management' 'unknown' 'entrepreneur' 'unemployed' 'student'\n",
      " 'self-employed']\n",
      "admin.           9420\n",
      "blue-collar      8314\n",
      "technician       6096\n",
      "services         3547\n",
      "management       2637\n",
      "retired          1541\n",
      "entrepreneur     1309\n",
      "self-employed    1276\n",
      "housemaid         946\n",
      "unemployed        925\n",
      "student           767\n",
      "unknown           306\n",
      "Name: job, dtype: int64\n"
     ]
    }
   ],
   "source": [
    "print(bank['job'].unique())\n",
    "print(bank['job'].value_counts())"
   ]
  },
  {
   "cell_type": "code",
   "execution_count": 131,
   "id": "e92703db",
   "metadata": {},
   "outputs": [
    {
     "name": "stdout",
     "output_type": "stream",
     "text": [
      "count of clients not subscribed:\n",
      " admin.           8174\n",
      "blue-collar      7738\n",
      "technician       5439\n",
      "services         3249\n",
      "management       2345\n",
      "entrepreneur     1198\n",
      "retired          1146\n",
      "self-employed    1145\n",
      "housemaid         853\n",
      "unemployed        791\n",
      "student           527\n",
      "unknown           271\n",
      "Name: job, dtype: int64\n",
      "count of clients  subscribed:\n",
      " admin.           1246\n",
      "technician        657\n",
      "blue-collar       576\n",
      "retired           395\n",
      "services          298\n",
      "management        292\n",
      "student           240\n",
      "unemployed        134\n",
      "self-employed     131\n",
      "entrepreneur      111\n",
      "housemaid          93\n",
      "unknown            35\n",
      "Name: job, dtype: int64\n"
     ]
    }
   ],
   "source": [
    "print('count of clients not subscribed:\\n',bank[bank['y']=='no']['job'].value_counts())\n",
    "print('count of clients  subscribed:\\n',bank[bank['y']=='yes']['job'].value_counts())"
   ]
  },
  {
   "cell_type": "code",
   "execution_count": 79,
   "id": "05ddf6e2",
   "metadata": {},
   "outputs": [
    {
     "name": "stdout",
     "output_type": "stream",
     "text": [
      "Percentage of distribution of the data\n",
      "\n",
      "admin.           25.40\n",
      "blue-collar      22.42\n",
      "technician       16.44\n",
      "services          9.56\n",
      "management        7.11\n",
      "retired           4.16\n",
      "entrepreneur      3.53\n",
      "self-employed     3.44\n",
      "housemaid         2.55\n",
      "unemployed        2.49\n",
      "student           2.07\n",
      "unknown           0.83\n",
      "Name: job, dtype: float64\n"
     ]
    }
   ],
   "source": [
    "print('Percentage of distribution of the data\\n')\n",
    "print(np.round(bank['job'].value_counts()/len(bank)*100,2))"
   ]
  },
  {
   "cell_type": "code",
   "execution_count": 80,
   "id": "0b01d29b",
   "metadata": {},
   "outputs": [
    {
     "name": "stdout",
     "output_type": "stream",
     "text": [
      "y              total      yes %       no %\n",
      "job                                       \n",
      "admin.          9420  13.227176  86.772824\n",
      "blue-collar     8314   6.928073  93.071927\n",
      "entrepreneur    1309   8.479756  91.520244\n",
      "housemaid        946   9.830867  90.169133\n",
      "management      2637  11.073189  88.926811\n",
      "retired         1541  25.632706  74.367294\n",
      "self-employed   1276  10.266458  89.733542\n",
      "services        3547   8.401466  91.598534\n",
      "student          767  31.290743  68.709257\n",
      "technician      6096  10.777559  89.222441\n",
      "unemployed       925  14.486486  85.513514\n",
      "unknown          306  11.437908  88.562092\n"
     ]
    }
   ],
   "source": [
    "df=pd.crosstab(bank['job'],bank['y'])\n",
    "df['total']=df['no']+df['yes']\n",
    "df['no %']=df['no']/df['total']*100\n",
    "df['yes %']=df['yes']/df['total']*100\n",
    "print(df[['total','yes %','no %']])"
   ]
  },
  {
   "cell_type": "code",
   "execution_count": 135,
   "id": "6f46894d",
   "metadata": {},
   "outputs": [
    {
     "name": "stdout",
     "output_type": "stream",
     "text": [
      "distribution of data \n",
      "             jobs  subscribed%  not subscribed%\n",
      "0          admin.         3.36            22.04\n",
      "1      technician         1.77            14.67\n",
      "2     blue-collar         1.55            20.87\n",
      "3         retired         1.07             3.09\n",
      "4        services         0.80             8.76\n",
      "5      management         0.79             6.32\n",
      "6         student         0.65             1.42\n",
      "7      unemployed         0.36             2.13\n",
      "8   self-employed         0.35             3.09\n",
      "9    entrepreneur         0.30             3.23\n",
      "10      housemaid         0.25             2.30\n",
      "11        unknown         0.09             0.73\n"
     ]
    }
   ],
   "source": [
    "yes=pd.DataFrame(\n",
    "    np.round(bank[bank['y']=='yes']['job'].value_counts()/len(bank['job'])*100,2)).reset_index()\n",
    "no=pd.DataFrame(\n",
    "    np.round(bank[bank['y']=='no']['job'].value_counts()/len(bank['job'])*100,2)).reset_index()\n",
    "distribution=pd.merge(yes,no,on='index').rename(columns={'index':'jobs',  'job_x':'subscribed%' , \n",
    "                                                         'job_y':'not subscribed%'})\n",
    "print('distribution of data ')\n",
    "print(distribution)"
   ]
  },
  {
   "cell_type": "markdown",
   "id": "0bbb6e7f",
   "metadata": {},
   "source": [
    "# Marital:"
   ]
  },
  {
   "cell_type": "code",
   "execution_count": 23,
   "id": "478a06ca",
   "metadata": {},
   "outputs": [
    {
     "name": "stdout",
     "output_type": "stream",
     "text": [
      "y            no   yes  total       no %      yes %\n",
      "marital                                           \n",
      "divorced   3699   427   4126  89.650994  10.349006\n",
      "married   20187  2292  22479  89.803817  10.196183\n",
      "single     8930  1477  10407  85.807629  14.192371\n",
      "unknown      60    12     72  83.333333  16.666667\n"
     ]
    }
   ],
   "source": [
    "df=pd.crosstab(bank['marital'],bank['y'])\n",
    "df['total']=df['no']+df['yes']\n",
    "df['no %']=df['no']/df['total']*100\n",
    "df['yes %']=df['yes']/df['total']*100\n",
    "print(df)"
   ]
  },
  {
   "cell_type": "code",
   "execution_count": 27,
   "id": "30ce4ad9",
   "metadata": {},
   "outputs": [
    {
     "name": "stdout",
     "output_type": "stream",
     "text": [
      "count of clients not subscribed:\n",
      " married     20187\n",
      "single       8930\n",
      "divorced     3699\n",
      "unknown        60\n",
      "Name: marital, dtype: int64\n",
      "count of clients  subscribed:\n",
      " married     2292\n",
      "single      1477\n",
      "divorced     427\n",
      "unknown       12\n",
      "Name: marital, dtype: int64\n"
     ]
    }
   ],
   "source": [
    "print('count of clients not subscribed:\\n',bank[bank['y']=='no']['marital'].value_counts())\n",
    "print('count of clients  subscribed:\\n',bank[bank['y']=='yes']['marital'].value_counts())"
   ]
  },
  {
   "cell_type": "code",
   "execution_count": 24,
   "id": "e782efd3",
   "metadata": {},
   "outputs": [
    {
     "name": "stdout",
     "output_type": "stream",
     "text": [
      "distribution of data \n",
      "    marital  subscribed%  not subscribed%\n",
      "0   married     6.180563        54.435875\n",
      "1    single     3.982850        24.080466\n",
      "2  divorced     1.151440         9.974652\n",
      "3   unknown     0.032359         0.161795\n"
     ]
    }
   ],
   "source": [
    "\n",
    "yes=pd.DataFrame(bank[bank['y']=='yes']['marital'].value_counts()/len(bank['marital'])*100).reset_index()\n",
    "no=pd.DataFrame(bank[bank['y']=='no']['marital'].value_counts()/len(bank['marital'])*100).reset_index()\n",
    "\n",
    "distribution=pd.merge(yes,no,on='index').rename(columns={'index':'marital','marital_x':'subscribed%' ,\n",
    "                                                         'marital_y':'not subscribed%'})\n",
    "print('distribution of data ')\n",
    "print(distribution)\n"
   ]
  },
  {
   "cell_type": "markdown",
   "id": "99a4f6a6",
   "metadata": {},
   "source": [
    "# Education:"
   ]
  },
  {
   "cell_type": "code",
   "execution_count": 25,
   "id": "bfe081b9",
   "metadata": {},
   "outputs": [
    {
     "name": "stdout",
     "output_type": "stream",
     "text": [
      "y                      no   yes  total       no %      yes %\n",
      "education                                                   \n",
      "basic.4y             3374   391   3765  89.614874  10.385126\n",
      "basic.6y             1903   171   2074  91.755063   8.244937\n",
      "basic.9y             5001   420   5421  92.252352   7.747648\n",
      "high.school          7597   945   8542  88.937017  11.062983\n",
      "illiterate             14     2     16  87.500000  12.500000\n",
      "professional.course  4205   541   4746  88.600927  11.399073\n",
      "university.degree    9464  1507  10971  86.263786  13.736214\n",
      "unknown              1318   231   1549  85.087153  14.912847\n"
     ]
    }
   ],
   "source": [
    "df=pd.crosstab(bank['education'],bank['y'])\n",
    "df['total']=df['no']+df['yes']\n",
    "df['no %']=df['no']/df['total']*100\n",
    "df['yes %']=df['yes']/df['total']*100\n",
    "print(df)"
   ]
  },
  {
   "cell_type": "code",
   "execution_count": 28,
   "id": "4ed5199b",
   "metadata": {},
   "outputs": [
    {
     "name": "stdout",
     "output_type": "stream",
     "text": [
      "count of clients not subscribed:\n",
      " university.degree      9464\n",
      "high.school            7597\n",
      "basic.9y               5001\n",
      "professional.course    4205\n",
      "basic.4y               3374\n",
      "basic.6y               1903\n",
      "unknown                1318\n",
      "illiterate               14\n",
      "Name: education, dtype: int64\n",
      "count of clients  subscribed:\n",
      " university.degree      1507\n",
      "high.school             945\n",
      "professional.course     541\n",
      "basic.9y                420\n",
      "basic.4y                391\n",
      "unknown                 231\n",
      "basic.6y                171\n",
      "illiterate                2\n",
      "Name: education, dtype: int64\n"
     ]
    }
   ],
   "source": [
    "print('count of clients not subscribed:\\n',bank[bank['y']=='no']['education'].value_counts())\n",
    "print('count of clients  subscribed:\\n',bank[bank['y']=='yes']['education'].value_counts())"
   ]
  },
  {
   "cell_type": "code",
   "execution_count": 26,
   "id": "3ead996d",
   "metadata": {},
   "outputs": [
    {
     "name": "stdout",
     "output_type": "stream",
     "text": [
      "Distribution of data: \n",
      "\n",
      "             education  subscribed%  not subscribed%\n",
      "0    university.degree     4.063747        25.520440\n",
      "1          high.school     2.548269        20.485924\n",
      "2  professional.course     1.458850        11.339122\n",
      "3             basic.9y     1.132564        13.485600\n",
      "4             basic.4y     1.054363         9.098263\n",
      "5              unknown     0.622910         3.554093\n",
      "6             basic.6y     0.461115         5.131593\n",
      "7           illiterate     0.005393         0.037752\n",
      "education proportions of the subscribers:\n",
      "\n",
      "university.degree      35.812738\n",
      "high.school            22.457224\n",
      "professional.course    12.856464\n",
      "basic.9y                9.980989\n",
      "basic.4y                9.291825\n",
      "unknown                 5.489544\n",
      "basic.6y                4.063688\n",
      "illiterate              0.047529\n",
      "Name: education, dtype: float64\n",
      "education proportions of the non-subscribers:\n",
      "\n",
      "university.degree      28.786957\n",
      "high.school            23.108042\n",
      "basic.9y               15.211705\n",
      "professional.course    12.790485\n",
      "basic.4y               10.262806\n",
      "basic.6y                5.788417\n",
      "unknown                 4.009004\n",
      "illiterate              0.042584\n",
      "Name: education, dtype: float64\n"
     ]
    }
   ],
   "source": [
    "yes=pd.DataFrame(bank[bank['y']=='yes']['education'].value_counts()/len(bank['education'])*100).reset_index()\n",
    "no=pd.DataFrame(bank[bank['y']=='no']['education'].value_counts()/len(bank['education'])*100).reset_index()\n",
    "\n",
    "distribution=pd.merge(yes,no,on='index').rename(columns={'index':'education','education_x':'subscribed%' ,\n",
    "                                                         'education_y':'not subscribed%'})\n",
    "print('Distribution of data: \\n')\n",
    "print(distribution)\n",
    "\n",
    "print('education proportions of the subscribers:\\n')\n",
    "print(bank[bank['y']=='yes']['education'].value_counts()/len(bank[bank['y']=='yes']['education'])*100)\n",
    "print('education proportions of the non-subscribers:\\n')\n",
    "print(bank[bank['y']=='no']['education'].value_counts()/len(bank[bank['y']=='no']['education'])*100)"
   ]
  },
  {
   "cell_type": "markdown",
   "id": "321a14ed",
   "metadata": {},
   "source": [
    "# Default: "
   ]
  },
  {
   "cell_type": "markdown",
   "id": "b44326a1",
   "metadata": {},
   "source": [
    "Have Credit in default? (Yes or No)"
   ]
  },
  {
   "cell_type": "code",
   "execution_count": 29,
   "id": "3654af5f",
   "metadata": {},
   "outputs": [
    {
     "name": "stdout",
     "output_type": "stream",
     "text": [
      "y           no   yes  total        no %      yes %\n",
      "default                                           \n",
      "no       25576  3806  29382   87.046491  12.953509\n",
      "unknown   7298   402   7700   94.779221   5.220779\n",
      "yes          2     0      2  100.000000   0.000000\n"
     ]
    }
   ],
   "source": [
    "df=pd.crosstab(bank['default'],bank['y'])\n",
    "df['total']=df['no']+df['yes']\n",
    "df['no %']=df['no']/df['total']*100\n",
    "df['yes %']=df['yes']/df['total']*100\n",
    "print(df)"
   ]
  },
  {
   "cell_type": "code",
   "execution_count": 39,
   "id": "e1f573c2",
   "metadata": {},
   "outputs": [
    {
     "name": "stdout",
     "output_type": "stream",
     "text": [
      "count of clients not subscribed:\n",
      " no         25576\n",
      "unknown     7298\n",
      "yes            2\n",
      "Name: default, dtype: int64\n",
      "count of clients  subscribed:\n",
      " no         3806\n",
      "unknown     402\n",
      "Name: default, dtype: int64\n"
     ]
    }
   ],
   "source": [
    "print('count of clients not subscribed:\\n',bank[bank['y']=='no']['default'].value_counts())\n",
    "print('count of clients  subscribed:\\n',bank[bank['y']=='yes']['default'].value_counts())"
   ]
  },
  {
   "cell_type": "code",
   "execution_count": 31,
   "id": "03169b75",
   "metadata": {},
   "outputs": [
    {
     "name": "stdout",
     "output_type": "stream",
     "text": [
      "percentage of subscriber has credit card  and doesnot has credit card\n",
      "no         90.446768\n",
      "unknown     9.553232\n",
      "Name: default, dtype: float64\n"
     ]
    }
   ],
   "source": [
    "print('percentage of subscriber has credit card  and doesnot has credit card')\n",
    "print(bank[bank['y']=='yes']['default'].value_counts()/len(bank[bank['y']=='yes']['default'])*100)\n"
   ]
  },
  {
   "cell_type": "markdown",
   "id": "177a32e6",
   "metadata": {},
   "source": [
    "99 % customer doesnot has credit card who has subscribed."
   ]
  },
  {
   "cell_type": "code",
   "execution_count": 32,
   "id": "d1e0f32b",
   "metadata": {},
   "outputs": [
    {
     "name": "stdout",
     "output_type": "stream",
     "text": [
      "percentage of non subscriber has credit card  and doesnot has credit card\n",
      "no         77.795352\n",
      "unknown    22.198564\n",
      "yes         0.006083\n",
      "Name: default, dtype: float64\n"
     ]
    }
   ],
   "source": [
    "print('percentage of non subscriber has credit card  and doesnot has credit card')\n",
    "\n",
    "print(bank[bank['y']=='no']['default'].value_counts()/len(bank[bank['y']=='no']['default'])*100)"
   ]
  },
  {
   "cell_type": "markdown",
   "id": "e0afdc95",
   "metadata": {},
   "source": [
    "# Housing:"
   ]
  },
  {
   "cell_type": "markdown",
   "id": "fbd48c16",
   "metadata": {},
   "source": [
    "has housing loan? (binary: \"yes\",\"no\")"
   ]
  },
  {
   "cell_type": "code",
   "execution_count": 33,
   "id": "1ae7a68b",
   "metadata": {},
   "outputs": [
    {
     "name": "stdout",
     "output_type": "stream",
     "text": [
      "y           no   yes  total       no %      yes %\n",
      "housing                                          \n",
      "no       14931  1838  16769  89.039299  10.960701\n",
      "unknown    791    91    882  89.682540  10.317460\n",
      "yes      17154  2279  19433  88.272526  11.727474\n"
     ]
    }
   ],
   "source": [
    "df=pd.crosstab(bank['housing'],bank['y'])\n",
    "df['total']=df['no']+df['yes']\n",
    "df['no %']=df['no']/df['total']*100\n",
    "df['yes %']=df['yes']/df['total']*100\n",
    "print(df)"
   ]
  },
  {
   "cell_type": "code",
   "execution_count": 41,
   "id": "b000a52d",
   "metadata": {},
   "outputs": [
    {
     "name": "stdout",
     "output_type": "stream",
     "text": [
      "count of clients not subscribed:\n",
      " yes        17154\n",
      "no         14931\n",
      "unknown      791\n",
      "Name: housing, dtype: int64\n",
      "count of clients  subscribed:\n",
      " yes        2279\n",
      "no         1838\n",
      "unknown      91\n",
      "Name: housing, dtype: int64\n"
     ]
    }
   ],
   "source": [
    "print('count of clients not subscribed:\\n',bank[bank['y']=='no']['housing'].value_counts())\n",
    "print('count of clients  subscribed:\\n',bank[bank['y']=='yes']['housing'].value_counts())"
   ]
  },
  {
   "cell_type": "code",
   "execution_count": 34,
   "id": "331731c3",
   "metadata": {},
   "outputs": [
    {
     "name": "stdout",
     "output_type": "stream",
     "text": [
      "percentage of non subscribers v/s have/dont have housing loan\n",
      "yes        52.177881\n",
      "no         45.416109\n",
      "unknown     2.406010\n",
      "Name: housing, dtype: float64\n",
      "percentage of  subscribers v/s have/dont have housing loan\n",
      "yes        54.158745\n",
      "no         43.678707\n",
      "unknown     2.162548\n",
      "Name: housing, dtype: float64\n"
     ]
    }
   ],
   "source": [
    "print('percentage of non subscribers v/s have/dont have housing loan')\n",
    "print(bank[bank['y']=='no']['housing'].value_counts()/len(bank[bank['y']=='no']['housing'])*100)\n",
    "print('percentage of  subscribers v/s have/dont have housing loan')\n",
    "print(bank[bank['y']=='yes']['housing'].value_counts()/len(bank[bank['y']=='yes']['housing'])*100)"
   ]
  },
  {
   "cell_type": "markdown",
   "id": "a149f098",
   "metadata": {},
   "source": [
    "#### conclusion:\n",
    "    58 % non subscribers has housing loan\n",
    "    63 % subscribers dont have housing loan"
   ]
  },
  {
   "cell_type": "code",
   "execution_count": 42,
   "id": "4adc2d0a",
   "metadata": {},
   "outputs": [
    {
     "name": "stdout",
     "output_type": "stream",
     "text": [
      "percentage of the client who have/donthave housing Loan\n",
      "  housingLoan  subscribed%  not subscribed%\n",
      "0         yes     6.145507        46.257146\n",
      "1          no     4.956315        40.262647\n",
      "2     unknown     0.245389         2.132995\n"
     ]
    }
   ],
   "source": [
    "yes=pd.DataFrame(bank[bank['y']=='yes']['housing'].value_counts()/len(bank['housing'])*100).reset_index()\n",
    "no=pd.DataFrame(bank[bank['y']=='no']['housing'].value_counts()/len(bank['housing'])*100).reset_index()\n",
    "\n",
    "distribution=pd.merge(yes,no,on='index').rename(columns={'index':'housingLoan','housing_x':'subscribed%' ,\n",
    "                                                         'housing_y':'not subscribed%'})\n",
    "print('percentage of the client who have/donthave housing Loan')\n",
    "print(distribution)"
   ]
  },
  {
   "cell_type": "markdown",
   "id": "15512ecb",
   "metadata": {},
   "source": [
    "# Loan:"
   ]
  },
  {
   "cell_type": "markdown",
   "id": "5222ded9",
   "metadata": {},
   "source": [
    "Loan: has personal loan? (binary: \"yes\",\"no\")\n",
    "\n",
    "\n",
    "   Note: 83 percent of the clients donot have personal loan"
   ]
  },
  {
   "cell_type": "code",
   "execution_count": 44,
   "id": "21ba900c",
   "metadata": {},
   "outputs": [
    {
     "name": "stdout",
     "output_type": "stream",
     "text": [
      "percentage of the client who has/hasnot Personal Loan\n",
      "  PersonalLoan  subscribed%  not subscribed%\n",
      "0           no     9.435336        72.974868\n",
      "1          yes     1.666487        13.544925\n",
      "2      unknown     0.245389         2.132995\n"
     ]
    }
   ],
   "source": [
    "yes=pd.DataFrame(bank[bank['y']=='yes']['loan'].value_counts()/len(bank['loan'])*100).reset_index()\n",
    "no=pd.DataFrame(bank[bank['y']=='no']['loan'].value_counts()/len(bank['loan'])*100).reset_index()\n",
    "\n",
    "distribution=pd.merge(yes,no,on='index').rename(columns={'index':'PersonalLoan','loan_x':'subscribed%' ,\n",
    "                                                         'loan_y':'not subscribed%'})\n",
    "print('percentage of the client who has/hasnot Personal Loan')\n",
    "print(distribution)"
   ]
  },
  {
   "cell_type": "code",
   "execution_count": 47,
   "id": "23de75d1",
   "metadata": {},
   "outputs": [
    {
     "name": "stdout",
     "output_type": "stream",
     "text": [
      "count of clients not subscribed:\n",
      " no         27062\n",
      "yes         5023\n",
      "unknown      791\n",
      "Name: loan, dtype: int64\n",
      "count of clients  subscribed:\n",
      " no         3499\n",
      "yes         618\n",
      "unknown      91\n",
      "Name: loan, dtype: int64\n"
     ]
    }
   ],
   "source": [
    "print('count of clients not subscribed:\\n',bank[bank['y']=='no']['loan'].value_counts())\n",
    "print('count of clients  subscribed:\\n',bank[bank['y']=='yes']['loan'].value_counts())"
   ]
  },
  {
   "cell_type": "code",
   "execution_count": 45,
   "id": "1d83c4da",
   "metadata": {},
   "outputs": [
    {
     "name": "stdout",
     "output_type": "stream",
     "text": [
      "y           no   yes  total       no %      yes %\n",
      "loan                                             \n",
      "no       27062  3499  30561  88.550767  11.449233\n",
      "unknown    791    91    882  89.682540  10.317460\n",
      "yes       5023   618   5641  89.044496  10.955504\n"
     ]
    }
   ],
   "source": [
    "df=pd.crosstab(bank['loan'],bank['y'])\n",
    "df['total']=df['no']+df['yes']\n",
    "df['no %']=df['no']/df['total']*100\n",
    "df['yes %']=df['yes']/df['total']*100\n",
    "print(df)"
   ]
  },
  {
   "cell_type": "code",
   "execution_count": 46,
   "id": "e5eda867",
   "metadata": {},
   "outputs": [
    {
     "name": "stdout",
     "output_type": "stream",
     "text": [
      "proportion of subscribers have personal loan\n",
      "no         83.151141\n",
      "yes        14.686312\n",
      "unknown     2.162548\n",
      "Name: loan, dtype: float64\n",
      "proportion of non subscribers have personal loan\n",
      "no         82.315367\n",
      "yes        15.278623\n",
      "unknown     2.406010\n",
      "Name: loan, dtype: float64\n"
     ]
    }
   ],
   "source": [
    "print('proportion of subscribers have personal loan')\n",
    "print(bank[bank['y']=='yes']['loan'].value_counts()/len(bank[bank['y']=='yes']['loan'])*100)\n",
    "print('proportion of non subscribers have personal loan')\n",
    "print(bank[bank['y']=='no']['loan'].value_counts()/len(bank[bank['y']=='no']['loan'])*100)"
   ]
  },
  {
   "cell_type": "markdown",
   "id": "5d4ffcf9",
   "metadata": {},
   "source": [
    "9 % of the clients who has subscribed has personal loan\n",
    "16.9 % of the clients who has not subscribed has personal loan"
   ]
  },
  {
   "cell_type": "markdown",
   "id": "82fd9549",
   "metadata": {},
   "source": [
    "# Last Campaign Data:"
   ]
  },
  {
   "cell_type": "code",
   "execution_count": 48,
   "id": "e29b1cb6",
   "metadata": {},
   "outputs": [
    {
     "data": {
      "text/plain": [
       "cellular     63.428972\n",
       "telephone    36.571028\n",
       "Name: contact, dtype: float64"
      ]
     },
     "execution_count": 48,
     "metadata": {},
     "output_type": "execute_result"
    }
   ],
   "source": [
    "bank['contact'].value_counts()/len(bank['contact'])*100"
   ]
  },
  {
   "cell_type": "markdown",
   "id": "f3c89063",
   "metadata": {},
   "source": [
    " Note: 63.4 % of the clients were approached through cellularcontact  and \n",
    " 36.5% of the clients were approached through telephonic communication"
   ]
  },
  {
   "cell_type": "code",
   "execution_count": 49,
   "id": "88a320f9",
   "metadata": {},
   "outputs": [
    {
     "name": "stdout",
     "output_type": "stream",
     "text": [
      "y             no   yes  total       no %      yes %\n",
      "contact                                            \n",
      "cellular   20030  3492  23522  85.154324  14.845676\n",
      "telephone  12846   716  13562  94.720543   5.279457\n"
     ]
    }
   ],
   "source": [
    "df=pd.crosstab(bank['contact'],bank['y'])\n",
    "df['total']=df['no']+df['yes']\n",
    "df['no %']=df['no']/df['total']*100\n",
    "df['yes %']=df['yes']/df['total']*100\n",
    "print(df)"
   ]
  },
  {
   "cell_type": "code",
   "execution_count": 50,
   "id": "1ccc839c",
   "metadata": {},
   "outputs": [
    {
     "name": "stdout",
     "output_type": "stream",
     "text": [
      "percentage of the client wrt Mode of Contact\n",
      "     contact  subscribed%  not subscribed%\n",
      "0   cellular     9.416460        54.012512\n",
      "1  telephone     1.930752        34.640276\n"
     ]
    }
   ],
   "source": [
    "yes=pd.DataFrame(bank[bank['y']=='yes']['contact'].value_counts()/len(bank['contact'])*100).reset_index()\n",
    "no=pd.DataFrame(bank[bank['y']=='no']['contact'].value_counts()/len(bank['contact'])*100).reset_index()\n",
    "distribution=pd.merge(yes,no,on='index').rename(columns={'index':'contact','contact_x':'subscribed%' ,\n",
    "                                                         'contact_y':'not subscribed%'})\n",
    "print('percentage of the client wrt Mode of Contact')\n",
    "print(distribution)"
   ]
  },
  {
   "cell_type": "code",
   "execution_count": 51,
   "id": "19441b73",
   "metadata": {},
   "outputs": [
    {
     "name": "stdout",
     "output_type": "stream",
     "text": [
      "cellular     60.925903\n",
      "telephone    39.074097\n",
      "Name: contact, dtype: float64\n"
     ]
    }
   ],
   "source": [
    "print(bank[bank['y']=='no']['contact'].value_counts()/len(bank[bank['y']=='no']['contact'])*100)"
   ]
  },
  {
   "cell_type": "code",
   "execution_count": 52,
   "id": "dd4e567a",
   "metadata": {},
   "outputs": [
    {
     "name": "stdout",
     "output_type": "stream",
     "text": [
      "cellular     82.984791\n",
      "telephone    17.015209\n",
      "Name: contact, dtype: float64\n"
     ]
    }
   ],
   "source": [
    "print(bank[bank['y']=='yes']['contact'].value_counts()/len(bank[bank['y']=='yes']['contact'])*100)"
   ]
  },
  {
   "cell_type": "markdown",
   "id": "7ccb0e44",
   "metadata": {},
   "source": [
    "of the people who had subscribed 82.9% clients were approached through cellular contact"
   ]
  },
  {
   "cell_type": "markdown",
   "id": "a7cb3ceb",
   "metadata": {},
   "source": [
    "# Month: \n",
    "#### Month: Last contact month:"
   ]
  },
  {
   "cell_type": "code",
   "execution_count": 58,
   "id": "e28432a2",
   "metadata": {},
   "outputs": [
    {
     "data": {
      "text/plain": [
       "thu    7778\n",
       "mon    7671\n",
       "wed    7341\n",
       "tue    7262\n",
       "fri    7032\n",
       "Name: day_of_week, dtype: int64"
      ]
     },
     "execution_count": 58,
     "metadata": {},
     "output_type": "execute_result"
    }
   ],
   "source": [
    "(bank['day_of_week'].value_counts())"
   ]
  },
  {
   "cell_type": "code",
   "execution_count": 59,
   "id": "3d895f34",
   "metadata": {},
   "outputs": [
    {
     "name": "stdout",
     "output_type": "stream",
     "text": [
      "y         no  yes  total       no %      yes %\n",
      "month                                         \n",
      "apr     1892  496   2388  79.229481  20.770519\n",
      "aug     4973  589   5562  89.410284  10.589716\n",
      "dec       84   82    166  50.602410  49.397590\n",
      "jul     5839  591   6430  90.808709   9.191291\n",
      "jun     4278  508   4786  89.385708  10.614292\n",
      "mar      241  246    487  49.486653  50.513347\n",
      "may    11607  813  12420  93.454106   6.545894\n",
      "nov     3328  377   3705  89.824561  10.175439\n",
      "oct      351  279    630  55.714286  44.285714\n",
      "sep      283  227    510  55.490196  44.509804\n"
     ]
    }
   ],
   "source": [
    "\n",
    "df=pd.crosstab(bank['month'],bank['y'])\n",
    "df['total']=df['no']+df['yes']\n",
    "df['no %']=df['no']/df['total']*100\n",
    "df['yes %']=df['yes']/df['total']*100\n",
    "print(df)"
   ]
  },
  {
   "cell_type": "code",
   "execution_count": 60,
   "id": "b0e21ca3",
   "metadata": {},
   "outputs": [
    {
     "name": "stdout",
     "output_type": "stream",
     "text": [
      "percentage of the client wrt Mode of Contact\n",
      "  month  subscribed%  not subscribed%\n",
      "0   may     2.192320        31.299213\n",
      "1   jul     1.593679        15.745335\n",
      "2   aug     1.588286        13.410096\n",
      "3   jun     1.369863        11.535972\n",
      "4   apr     1.337504         5.101931\n",
      "5   nov     1.016611         8.974221\n",
      "6   oct     0.752346         0.946500\n",
      "7   mar     0.663359         0.649876\n",
      "8   sep     0.612124         0.763132\n",
      "9   dec     0.221120         0.226513\n",
      "percentage of the subscribers wrt Mode of Contact\n",
      "  month  subscribed%  not subscribed%\n",
      "0   may    19.320342        35.305390\n",
      "1   jul    14.044677        17.760676\n",
      "2   aug    13.997148        15.126536\n",
      "3   jun    12.072243        13.012532\n",
      "4   apr    11.787072         5.754958\n",
      "5   nov     8.959125        10.122886\n",
      "6   oct     6.630228         1.067648\n",
      "7   mar     5.846008         0.733058\n",
      "8   sep     5.394487         0.860810\n",
      "9   dec     1.948669         0.255506\n"
     ]
    }
   ],
   "source": [
    "yes=pd.DataFrame(bank[bank['y']=='yes']['month'].value_counts()/len(bank['month'])*100).reset_index()\n",
    "no=pd.DataFrame(bank[bank['y']=='no']['month'].value_counts()/len(bank['month'])*100).reset_index()\n",
    "distribution=pd.merge(yes,no,on='index').rename(columns={'index':'month','month_x':'subscribed%' ,\n",
    "                                                         'month_y':'not subscribed%'})\n",
    "print('percentage of the client wrt Mode of Contact')\n",
    "print(distribution)\n",
    "yes=pd.DataFrame(bank[bank['y']=='yes']['month'].value_counts()/len(bank[bank['y']=='yes']['month'])*100).reset_index()\n",
    "no=pd.DataFrame(bank[bank['y']=='no']['month'].value_counts()/len(bank[bank['y']=='no']['month'])*100).reset_index()\n",
    "distribution=pd.merge(yes,no,on='index').rename(columns={'index':'month','month_x':'subscribed%' ,\n",
    "                                                         'month_y':'not subscribed%'})\n",
    "print('percentage of the subscribers wrt Mode of Contact')\n",
    "print(distribution)"
   ]
  },
  {
   "cell_type": "markdown",
   "id": "520d041c",
   "metadata": {},
   "source": [
    "# Duration:"
   ]
  },
  {
   "cell_type": "markdown",
   "id": "d0a324bc",
   "metadata": {},
   "source": [
    "duration: last contact duration, in seconds"
   ]
  },
  {
   "cell_type": "markdown",
   "id": "73fadcf8",
   "metadata": {},
   "source": [
    "#### Converting into minutes:"
   ]
  },
  {
   "cell_type": "code",
   "execution_count": 61,
   "id": "dd67a50f",
   "metadata": {},
   "outputs": [],
   "source": [
    "minutes=bank[['duration']]/60 "
   ]
  },
  {
   "cell_type": "code",
   "execution_count": 63,
   "id": "5c9030e3",
   "metadata": {},
   "outputs": [],
   "source": [
    "k=[]\n",
    "for i in minutes['duration']:\n",
    "    if i<=5:\n",
    "        k.append('<=5')\n",
    "    elif i>5 and i<=10:\n",
    "        k.append('>5&<=10')\n",
    "    elif i>10 and i<=15:\n",
    "        k.append('>10&<=15')\n",
    "    elif i>15 and i<=20:\n",
    "        k.append('>15&<=20')\n",
    "    else:\n",
    "        k.append('>20')\n",
    "minutes['time']=k"
   ]
  },
  {
   "cell_type": "code",
   "execution_count": 64,
   "id": "f169cc6e",
   "metadata": {},
   "outputs": [],
   "source": [
    "minutes['y']=bank['y']"
   ]
  },
  {
   "cell_type": "code",
   "execution_count": 65,
   "id": "e1ac69e6",
   "metadata": {},
   "outputs": [
    {
     "name": "stdout",
     "output_type": "stream",
     "text": [
      "y            no   yes  total       no %      yes %\n",
      "time                                              \n",
      "<=5       25627  1361  26988  94.957018   5.042982\n",
      ">10&<=15   1142   842   1984  57.560484  42.439516\n",
      ">15&<=20    294   400    694  42.363112  57.636888\n",
      ">20         171   289    460  37.173913  62.826087\n",
      ">5&<=10    5642  1316   6958  81.086519  18.913481\n"
     ]
    }
   ],
   "source": [
    "df=pd.crosstab(minutes['time'],minutes['y'])\n",
    "df['total']=df['no']+df['yes']\n",
    "df['no %']=df['no']/df['total']*100\n",
    "df['yes %']=df['yes']/df['total']*100\n",
    "print(df)"
   ]
  },
  {
   "cell_type": "code",
   "execution_count": 66,
   "id": "1f13f698",
   "metadata": {},
   "outputs": [
    {
     "name": "stdout",
     "output_type": "stream",
     "text": [
      "percentage of the client wrt Mode of Contact\n",
      "       time  subscribed%  not subscribed%\n",
      "0       <=5     3.670046        69.105275\n",
      "1   >5&<=10     3.548700        15.214109\n",
      "2  >10&<=15     2.270521         3.079495\n",
      "3  >15&<=20     1.078632         0.792795\n",
      "4       >20     0.779312         0.461115\n",
      "\n",
      "percentage of the client wrt Mode of Contact\n",
      "       time  subscribed%  not subscribed%\n",
      "0       <=5    32.343156        77.950481\n",
      "1   >5&<=10    31.273764        17.161455\n",
      "2  >10&<=15    20.009506         3.473659\n",
      "3  >15&<=20     9.505703         0.894269\n",
      "4       >20     6.867871         0.520136\n"
     ]
    }
   ],
   "source": [
    "yes=pd.DataFrame(minutes[minutes['y']=='yes']['time'].value_counts()/len(minutes['time'])*100).reset_index()\n",
    "no=pd.DataFrame(minutes[minutes['y']=='no']['time'].value_counts()/len(minutes['time'])*100).reset_index()\n",
    "distribution=pd.merge(yes,no,on='index').rename(columns={'index':'time','time_x':'subscribed%' ,\n",
    "                                                         'time_y':'not subscribed%'})\n",
    "print('percentage of the client wrt Mode of Contact')\n",
    "print(distribution)\n",
    "\n",
    "yes=pd.DataFrame(minutes[minutes['y']=='yes']['time'].value_counts()/len(minutes[minutes['y']=='yes'])*100).reset_index()\n",
    "no=pd.DataFrame(minutes[minutes['y']=='no']['time'].value_counts()/len(minutes[minutes['y']=='no'])*100).reset_index()\n",
    "distribution=pd.merge(yes,no,on='index').rename(columns={'index':'time','time_x':'subscribed%' ,\n",
    "                                                         'time_y':'not subscribed%'})\n",
    "print('\\npercentage of the client wrt Mode of Contact')\n",
    "print(distribution)"
   ]
  },
  {
   "cell_type": "markdown",
   "id": "ec07c962",
   "metadata": {},
   "source": [
    "# Campaign:"
   ]
  },
  {
   "cell_type": "markdown",
   "id": "54a629d4",
   "metadata": {},
   "source": [
    "campaign: number of contacts performed during this campaign and for this client (numeric, includes last contact)"
   ]
  },
  {
   "cell_type": "code",
   "execution_count": 69,
   "id": "af230fbe",
   "metadata": {},
   "outputs": [
    {
     "data": {
      "text/html": [
       "<div>\n",
       "<style scoped>\n",
       "    .dataframe tbody tr th:only-of-type {\n",
       "        vertical-align: middle;\n",
       "    }\n",
       "\n",
       "    .dataframe tbody tr th {\n",
       "        vertical-align: top;\n",
       "    }\n",
       "\n",
       "    .dataframe thead th {\n",
       "        text-align: right;\n",
       "    }\n",
       "</style>\n",
       "<table border=\"1\" class=\"dataframe\">\n",
       "  <thead>\n",
       "    <tr style=\"text-align: right;\">\n",
       "      <th></th>\n",
       "      <th>number_of_approaches</th>\n",
       "      <th>total</th>\n",
       "      <th>yes</th>\n",
       "      <th>no</th>\n",
       "      <th>successrate</th>\n",
       "    </tr>\n",
       "  </thead>\n",
       "  <tbody>\n",
       "    <tr>\n",
       "      <th>0</th>\n",
       "      <td>1</td>\n",
       "      <td>15883</td>\n",
       "      <td>2090.0</td>\n",
       "      <td>13793</td>\n",
       "      <td>13.158723</td>\n",
       "    </tr>\n",
       "    <tr>\n",
       "      <th>1</th>\n",
       "      <td>2</td>\n",
       "      <td>9532</td>\n",
       "      <td>1094.0</td>\n",
       "      <td>8438</td>\n",
       "      <td>11.477130</td>\n",
       "    </tr>\n",
       "    <tr>\n",
       "      <th>2</th>\n",
       "      <td>3</td>\n",
       "      <td>4777</td>\n",
       "      <td>515.0</td>\n",
       "      <td>4262</td>\n",
       "      <td>10.780825</td>\n",
       "    </tr>\n",
       "    <tr>\n",
       "      <th>3</th>\n",
       "      <td>4</td>\n",
       "      <td>2389</td>\n",
       "      <td>235.0</td>\n",
       "      <td>2154</td>\n",
       "      <td>9.836752</td>\n",
       "    </tr>\n",
       "    <tr>\n",
       "      <th>4</th>\n",
       "      <td>5</td>\n",
       "      <td>1441</td>\n",
       "      <td>110.0</td>\n",
       "      <td>1331</td>\n",
       "      <td>7.633588</td>\n",
       "    </tr>\n",
       "    <tr>\n",
       "      <th>5</th>\n",
       "      <td>6</td>\n",
       "      <td>873</td>\n",
       "      <td>69.0</td>\n",
       "      <td>804</td>\n",
       "      <td>7.903780</td>\n",
       "    </tr>\n",
       "    <tr>\n",
       "      <th>6</th>\n",
       "      <td>7</td>\n",
       "      <td>580</td>\n",
       "      <td>33.0</td>\n",
       "      <td>547</td>\n",
       "      <td>5.689655</td>\n",
       "    </tr>\n",
       "    <tr>\n",
       "      <th>7</th>\n",
       "      <td>8</td>\n",
       "      <td>360</td>\n",
       "      <td>14.0</td>\n",
       "      <td>346</td>\n",
       "      <td>3.888889</td>\n",
       "    </tr>\n",
       "    <tr>\n",
       "      <th>8</th>\n",
       "      <td>9</td>\n",
       "      <td>260</td>\n",
       "      <td>13.0</td>\n",
       "      <td>247</td>\n",
       "      <td>5.000000</td>\n",
       "    </tr>\n",
       "    <tr>\n",
       "      <th>9</th>\n",
       "      <td>10</td>\n",
       "      <td>196</td>\n",
       "      <td>10.0</td>\n",
       "      <td>186</td>\n",
       "      <td>5.102041</td>\n",
       "    </tr>\n",
       "    <tr>\n",
       "      <th>10</th>\n",
       "      <td>11</td>\n",
       "      <td>165</td>\n",
       "      <td>11.0</td>\n",
       "      <td>154</td>\n",
       "      <td>6.666667</td>\n",
       "    </tr>\n",
       "    <tr>\n",
       "      <th>11</th>\n",
       "      <td>12</td>\n",
       "      <td>118</td>\n",
       "      <td>3.0</td>\n",
       "      <td>115</td>\n",
       "      <td>2.542373</td>\n",
       "    </tr>\n",
       "    <tr>\n",
       "      <th>12</th>\n",
       "      <td>13</td>\n",
       "      <td>88</td>\n",
       "      <td>3.0</td>\n",
       "      <td>85</td>\n",
       "      <td>3.409091</td>\n",
       "    </tr>\n",
       "    <tr>\n",
       "      <th>13</th>\n",
       "      <td>14</td>\n",
       "      <td>62</td>\n",
       "      <td>1.0</td>\n",
       "      <td>61</td>\n",
       "      <td>1.612903</td>\n",
       "    </tr>\n",
       "    <tr>\n",
       "      <th>14</th>\n",
       "      <td>17</td>\n",
       "      <td>49</td>\n",
       "      <td>4.0</td>\n",
       "      <td>45</td>\n",
       "      <td>8.163265</td>\n",
       "    </tr>\n",
       "    <tr>\n",
       "      <th>15</th>\n",
       "      <td>16</td>\n",
       "      <td>45</td>\n",
       "      <td>NaN</td>\n",
       "      <td>45</td>\n",
       "      <td>NaN</td>\n",
       "    </tr>\n",
       "    <tr>\n",
       "      <th>16</th>\n",
       "      <td>15</td>\n",
       "      <td>41</td>\n",
       "      <td>2.0</td>\n",
       "      <td>39</td>\n",
       "      <td>4.878049</td>\n",
       "    </tr>\n",
       "    <tr>\n",
       "      <th>17</th>\n",
       "      <td>18</td>\n",
       "      <td>32</td>\n",
       "      <td>NaN</td>\n",
       "      <td>32</td>\n",
       "      <td>NaN</td>\n",
       "    </tr>\n",
       "    <tr>\n",
       "      <th>18</th>\n",
       "      <td>20</td>\n",
       "      <td>28</td>\n",
       "      <td>NaN</td>\n",
       "      <td>28</td>\n",
       "      <td>NaN</td>\n",
       "    </tr>\n",
       "    <tr>\n",
       "      <th>19</th>\n",
       "      <td>19</td>\n",
       "      <td>25</td>\n",
       "      <td>NaN</td>\n",
       "      <td>25</td>\n",
       "      <td>NaN</td>\n",
       "    </tr>\n",
       "    <tr>\n",
       "      <th>20</th>\n",
       "      <td>21</td>\n",
       "      <td>24</td>\n",
       "      <td>NaN</td>\n",
       "      <td>24</td>\n",
       "      <td>NaN</td>\n",
       "    </tr>\n",
       "    <tr>\n",
       "      <th>21</th>\n",
       "      <td>24</td>\n",
       "      <td>14</td>\n",
       "      <td>NaN</td>\n",
       "      <td>14</td>\n",
       "      <td>NaN</td>\n",
       "    </tr>\n",
       "    <tr>\n",
       "      <th>22</th>\n",
       "      <td>23</td>\n",
       "      <td>14</td>\n",
       "      <td>1.0</td>\n",
       "      <td>13</td>\n",
       "      <td>7.142857</td>\n",
       "    </tr>\n",
       "    <tr>\n",
       "      <th>23</th>\n",
       "      <td>22</td>\n",
       "      <td>14</td>\n",
       "      <td>NaN</td>\n",
       "      <td>14</td>\n",
       "      <td>NaN</td>\n",
       "    </tr>\n",
       "    <tr>\n",
       "      <th>24</th>\n",
       "      <td>27</td>\n",
       "      <td>9</td>\n",
       "      <td>NaN</td>\n",
       "      <td>9</td>\n",
       "      <td>NaN</td>\n",
       "    </tr>\n",
       "    <tr>\n",
       "      <th>25</th>\n",
       "      <td>28</td>\n",
       "      <td>8</td>\n",
       "      <td>NaN</td>\n",
       "      <td>8</td>\n",
       "      <td>NaN</td>\n",
       "    </tr>\n",
       "    <tr>\n",
       "      <th>26</th>\n",
       "      <td>29</td>\n",
       "      <td>8</td>\n",
       "      <td>NaN</td>\n",
       "      <td>8</td>\n",
       "      <td>NaN</td>\n",
       "    </tr>\n",
       "    <tr>\n",
       "      <th>27</th>\n",
       "      <td>26</td>\n",
       "      <td>7</td>\n",
       "      <td>NaN</td>\n",
       "      <td>7</td>\n",
       "      <td>NaN</td>\n",
       "    </tr>\n",
       "    <tr>\n",
       "      <th>28</th>\n",
       "      <td>25</td>\n",
       "      <td>6</td>\n",
       "      <td>NaN</td>\n",
       "      <td>6</td>\n",
       "      <td>NaN</td>\n",
       "    </tr>\n",
       "    <tr>\n",
       "      <th>29</th>\n",
       "      <td>30</td>\n",
       "      <td>6</td>\n",
       "      <td>NaN</td>\n",
       "      <td>6</td>\n",
       "      <td>NaN</td>\n",
       "    </tr>\n",
       "    <tr>\n",
       "      <th>30</th>\n",
       "      <td>31</td>\n",
       "      <td>6</td>\n",
       "      <td>NaN</td>\n",
       "      <td>6</td>\n",
       "      <td>NaN</td>\n",
       "    </tr>\n",
       "    <tr>\n",
       "      <th>31</th>\n",
       "      <td>35</td>\n",
       "      <td>4</td>\n",
       "      <td>NaN</td>\n",
       "      <td>4</td>\n",
       "      <td>NaN</td>\n",
       "    </tr>\n",
       "    <tr>\n",
       "      <th>32</th>\n",
       "      <td>33</td>\n",
       "      <td>4</td>\n",
       "      <td>NaN</td>\n",
       "      <td>4</td>\n",
       "      <td>NaN</td>\n",
       "    </tr>\n",
       "    <tr>\n",
       "      <th>33</th>\n",
       "      <td>32</td>\n",
       "      <td>4</td>\n",
       "      <td>NaN</td>\n",
       "      <td>4</td>\n",
       "      <td>NaN</td>\n",
       "    </tr>\n",
       "    <tr>\n",
       "      <th>34</th>\n",
       "      <td>34</td>\n",
       "      <td>3</td>\n",
       "      <td>NaN</td>\n",
       "      <td>3</td>\n",
       "      <td>NaN</td>\n",
       "    </tr>\n",
       "    <tr>\n",
       "      <th>35</th>\n",
       "      <td>43</td>\n",
       "      <td>2</td>\n",
       "      <td>NaN</td>\n",
       "      <td>2</td>\n",
       "      <td>NaN</td>\n",
       "    </tr>\n",
       "    <tr>\n",
       "      <th>36</th>\n",
       "      <td>40</td>\n",
       "      <td>2</td>\n",
       "      <td>NaN</td>\n",
       "      <td>2</td>\n",
       "      <td>NaN</td>\n",
       "    </tr>\n",
       "    <tr>\n",
       "      <th>37</th>\n",
       "      <td>42</td>\n",
       "      <td>1</td>\n",
       "      <td>NaN</td>\n",
       "      <td>1</td>\n",
       "      <td>NaN</td>\n",
       "    </tr>\n",
       "    <tr>\n",
       "      <th>38</th>\n",
       "      <td>41</td>\n",
       "      <td>1</td>\n",
       "      <td>NaN</td>\n",
       "      <td>1</td>\n",
       "      <td>NaN</td>\n",
       "    </tr>\n",
       "    <tr>\n",
       "      <th>39</th>\n",
       "      <td>56</td>\n",
       "      <td>1</td>\n",
       "      <td>NaN</td>\n",
       "      <td>1</td>\n",
       "      <td>NaN</td>\n",
       "    </tr>\n",
       "    <tr>\n",
       "      <th>40</th>\n",
       "      <td>39</td>\n",
       "      <td>1</td>\n",
       "      <td>NaN</td>\n",
       "      <td>1</td>\n",
       "      <td>NaN</td>\n",
       "    </tr>\n",
       "    <tr>\n",
       "      <th>41</th>\n",
       "      <td>37</td>\n",
       "      <td>1</td>\n",
       "      <td>NaN</td>\n",
       "      <td>1</td>\n",
       "      <td>NaN</td>\n",
       "    </tr>\n",
       "  </tbody>\n",
       "</table>\n",
       "</div>"
      ],
      "text/plain": [
       "    number_of_approaches  total     yes     no  successrate\n",
       "0                      1  15883  2090.0  13793    13.158723\n",
       "1                      2   9532  1094.0   8438    11.477130\n",
       "2                      3   4777   515.0   4262    10.780825\n",
       "3                      4   2389   235.0   2154     9.836752\n",
       "4                      5   1441   110.0   1331     7.633588\n",
       "5                      6    873    69.0    804     7.903780\n",
       "6                      7    580    33.0    547     5.689655\n",
       "7                      8    360    14.0    346     3.888889\n",
       "8                      9    260    13.0    247     5.000000\n",
       "9                     10    196    10.0    186     5.102041\n",
       "10                    11    165    11.0    154     6.666667\n",
       "11                    12    118     3.0    115     2.542373\n",
       "12                    13     88     3.0     85     3.409091\n",
       "13                    14     62     1.0     61     1.612903\n",
       "14                    17     49     4.0     45     8.163265\n",
       "15                    16     45     NaN     45          NaN\n",
       "16                    15     41     2.0     39     4.878049\n",
       "17                    18     32     NaN     32          NaN\n",
       "18                    20     28     NaN     28          NaN\n",
       "19                    19     25     NaN     25          NaN\n",
       "20                    21     24     NaN     24          NaN\n",
       "21                    24     14     NaN     14          NaN\n",
       "22                    23     14     1.0     13     7.142857\n",
       "23                    22     14     NaN     14          NaN\n",
       "24                    27      9     NaN      9          NaN\n",
       "25                    28      8     NaN      8          NaN\n",
       "26                    29      8     NaN      8          NaN\n",
       "27                    26      7     NaN      7          NaN\n",
       "28                    25      6     NaN      6          NaN\n",
       "29                    30      6     NaN      6          NaN\n",
       "30                    31      6     NaN      6          NaN\n",
       "31                    35      4     NaN      4          NaN\n",
       "32                    33      4     NaN      4          NaN\n",
       "33                    32      4     NaN      4          NaN\n",
       "34                    34      3     NaN      3          NaN\n",
       "35                    43      2     NaN      2          NaN\n",
       "36                    40      2     NaN      2          NaN\n",
       "37                    42      1     NaN      1          NaN\n",
       "38                    41      1     NaN      1          NaN\n",
       "39                    56      1     NaN      1          NaN\n",
       "40                    39      1     NaN      1          NaN\n",
       "41                    37      1     NaN      1          NaN"
      ]
     },
     "execution_count": 69,
     "metadata": {},
     "output_type": "execute_result"
    }
   ],
   "source": [
    "total=pd.DataFrame(bank['campaign'].value_counts()).reset_index().rename(\n",
    "    columns={'index':'number_of_approaches','campaign':'total'})\n",
    "\n",
    "yes=pd.DataFrame(bank[bank['y']=='yes']['campaign'].value_counts()).reset_index().rename(\n",
    "    columns={'index':'number_of_approaches','campaign':'yes'})\n",
    "\n",
    "no=pd.DataFrame(bank[bank['y']=='no']['campaign'].value_counts()).reset_index().rename(\n",
    "    columns={'index':'number_of_approaches','campaign':'no'})\n",
    "\n",
    "success=pd.merge(pd.merge(total,yes,on='number_of_approaches',how='outer'),no,on='number_of_approaches',how='outer')\n",
    "success['successrate']=success[success['number_of_approaches']<=32]['yes']/success['total']*100\n",
    "success"
   ]
  },
  {
   "cell_type": "markdown",
   "id": "7eeb68de",
   "metadata": {},
   "source": [
    "we see that 87% of subscribers comes from first 3 attemts only and the no of subscribers decreases from so on\n",
    "such that .55% of subscribers comes from more than 10 attempts \n",
    "if we look at the success rate it is more than 10% for first 10 attempts"
   ]
  },
  {
   "cell_type": "code",
   "execution_count": 70,
   "id": "ad50520d",
   "metadata": {},
   "outputs": [
    {
     "name": "stdout",
     "output_type": "stream",
     "text": [
      "percentage of subscribers in first 10 attepts\n",
      "0    49.667300\n",
      "1    25.998099\n",
      "2    12.238593\n",
      "3     5.584601\n",
      "4     2.614068\n",
      "5     1.639734\n",
      "6     0.784221\n",
      "7     0.332700\n",
      "8     0.308935\n",
      "9     0.237643\n",
      "Name: yes, dtype: float64\n"
     ]
    }
   ],
   "source": [
    "print('percentage of subscribers in first 10 attepts')\n",
    "print((success[success['number_of_approaches']<=32]['yes']/success['yes'].sum()*100)[0:10])\n"
   ]
  },
  {
   "cell_type": "code",
   "execution_count": 71,
   "id": "f66f5c71",
   "metadata": {},
   "outputs": [
    {
     "data": {
      "text/plain": [
       "0    41.954617\n",
       "1    25.666139\n",
       "2    12.963864\n",
       "3     6.551892\n",
       "4     4.048546\n",
       "5     2.445553\n",
       "6     1.663828\n",
       "7     1.052439\n",
       "8     0.751308\n",
       "9     0.565762\n",
       "Name: no, dtype: float64"
      ]
     },
     "execution_count": 71,
     "metadata": {},
     "output_type": "execute_result"
    }
   ],
   "source": [
    "(success[success['number_of_approaches']<=32]['no']/success['no'].sum()*100)[0:10]"
   ]
  },
  {
   "cell_type": "code",
   "execution_count": 72,
   "id": "6b7add4a",
   "metadata": {},
   "outputs": [
    {
     "data": {
      "text/plain": [
       "37084.0"
      ]
     },
     "execution_count": 72,
     "metadata": {},
     "output_type": "execute_result"
    }
   ],
   "source": [
    "success['no'].sum()+success['yes'].sum()"
   ]
  },
  {
   "cell_type": "markdown",
   "id": "93bd48ae",
   "metadata": {},
   "source": [
    "# Pdays:\n",
    "##### pdays:\n",
    "number of days that passed by after the client was last contacted from a previous campaign (numeric, -1 means client was not previously contacted)\n"
   ]
  },
  {
   "cell_type": "markdown",
   "id": "08c815bc",
   "metadata": {},
   "source": [
    "number of days that passed by after the client was last contacted from a previous campaign (numeric, 999 means client was not previously contacted)"
   ]
  },
  {
   "cell_type": "code",
   "execution_count": 74,
   "id": "cd8f78f5",
   "metadata": {},
   "outputs": [],
   "source": [
    "k=[]\n",
    "for i in bank['pdays']:\n",
    "    if i==999:\n",
    "        k.append('newClients')\n",
    "    else:\n",
    "        k.append('oldClients')\n",
    "df=bank[['y']].copy(deep=True)\n",
    "df['type']=k"
   ]
  },
  {
   "cell_type": "code",
   "execution_count": 75,
   "id": "04839b2f",
   "metadata": {},
   "outputs": [
    {
     "name": "stdout",
     "output_type": "stream",
     "text": [
      "y              no   yes  total       no %      yes %\n",
      "type                                                \n",
      "newClients  32391  3331  35722  90.675214   9.324786\n",
      "oldClients    485   877   1362  35.609398  64.390602\n"
     ]
    }
   ],
   "source": [
    "\n",
    "df=pd.crosstab(df['type'],df['y'])\n",
    "df['total']=df['no']+df['yes']\n",
    "df['no %']=df['no']/df['total']*100\n",
    "df['yes %']=df['yes']/df['total']*100\n",
    "print(df)"
   ]
  },
  {
   "cell_type": "markdown",
   "id": "6413896f",
   "metadata": {},
   "source": [
    "If the old client is too old >200 days then chances of non subscribing are more"
   ]
  },
  {
   "cell_type": "markdown",
   "id": "f1f29766",
   "metadata": {},
   "source": [
    "# Previous:\n",
    "##### previous:\n",
    "number of contacts performed before this campaign and for this client (numeric)"
   ]
  },
  {
   "cell_type": "code",
   "execution_count": 79,
   "id": "ff813d70",
   "metadata": {},
   "outputs": [
    {
     "name": "stdout",
     "output_type": "stream",
     "text": [
      "number of newly approached clients\n",
      "35722\n",
      "number of clients who were approached zero times before this\n",
      "32023\n",
      "number of old  clients\n",
      "1362\n",
      "number of clients who were approached zero times before this\n",
      "5061\n"
     ]
    }
   ],
   "source": [
    "print('number of newly approached clients')\n",
    "print(bank[bank['pdays']==999].shape[0])\n",
    "print('number of clients who were approached zero times before this')\n",
    "print(bank[bank['previous']==0].shape[0])\n",
    "print('number of old  clients')\n",
    "print(bank[bank['pdays']<999].shape[0])\n",
    "print('number of clients who were approached zero times before this')\n",
    "print(bank[bank['previous']>0].shape[0])"
   ]
  },
  {
   "cell_type": "code",
   "execution_count": 80,
   "id": "36c1fcd2",
   "metadata": {},
   "outputs": [
    {
     "name": "stdout",
     "output_type": "stream",
     "text": [
      "proportion of old clients new clients subscribed/not subscribed\n",
      "y              no   yes  total       no %      yes %\n",
      "type                                                \n",
      "newClients  32391  3331  35722  90.675214   9.324786\n",
      "oldClients    485   877   1362  35.609398  64.390602\n"
     ]
    }
   ],
   "source": [
    "k=[]\n",
    "for i in bank['pdays']:\n",
    "    if i==999:\n",
    "        k.append('newClients')\n",
    "    else:\n",
    "        k.append('oldClients')\n",
    "df=bank[['y']].copy(deep=True)\n",
    "df['type']=k\n",
    "\n",
    "print('proportion of old clients new clients subscribed/not subscribed')\n",
    "df=pd.crosstab(df['type'],minutes['y'])\n",
    "df['total']=df['no']+df['yes']\n",
    "df['no %']=df['no']/df['total']*100\n",
    "df['yes %']=df['yes']/df['total']*100\n",
    "print(df)"
   ]
  },
  {
   "cell_type": "markdown",
   "id": "fe89c862",
   "metadata": {},
   "source": [
    "we can say presence of high collinearity with pdays since 999 in  pday means new client which is 32391 ."
   ]
  },
  {
   "cell_type": "markdown",
   "id": "b9e9b3f6",
   "metadata": {},
   "source": [
    "# Poutcome:\n",
    "poutcome: outcome of the previous marketing campaign (categorical: \"unknown\",\"other\",\"failure\",\"success\")"
   ]
  },
  {
   "cell_type": "code",
   "execution_count": 81,
   "id": "12bd2468",
   "metadata": {},
   "outputs": [
    {
     "data": {
      "text/plain": [
       "nonexistent    32023\n",
       "failure         3822\n",
       "success         1239\n",
       "Name: poutcome, dtype: int64"
      ]
     },
     "execution_count": 81,
     "metadata": {},
     "output_type": "execute_result"
    }
   ],
   "source": [
    "bank['poutcome'].value_counts()"
   ]
  },
  {
   "cell_type": "code",
   "execution_count": 82,
   "id": "342aa26f",
   "metadata": {},
   "outputs": [
    {
     "name": "stdout",
     "output_type": "stream",
     "text": [
      "y               no   yes  total       no %      yes %\n",
      "poutcome                                             \n",
      "failure       3274   548   3822  85.661957  14.338043\n",
      "nonexistent  29178  2845  32023  91.115761   8.884239\n",
      "success        424   815   1239  34.221146  65.778854\n"
     ]
    }
   ],
   "source": [
    "df=pd.crosstab(bank['poutcome'],bank['y'])\n",
    "df['total']=df['no']+df['yes']\n",
    "df['no %']=df['no']/df['total']*100\n",
    "df['yes %']=df['yes']/df['total']*100\n",
    "print(df)"
   ]
  },
  {
   "cell_type": "code",
   "execution_count": null,
   "id": "c3ac9232",
   "metadata": {},
   "outputs": [],
   "source": [
    "\n"
   ]
  },
  {
   "cell_type": "code",
   "execution_count": null,
   "id": "8961d675",
   "metadata": {},
   "outputs": [],
   "source": []
  },
  {
   "cell_type": "code",
   "execution_count": null,
   "id": "b4a331b3",
   "metadata": {},
   "outputs": [],
   "source": []
  },
  {
   "cell_type": "code",
   "execution_count": null,
   "id": "36530bbb",
   "metadata": {},
   "outputs": [],
   "source": []
  },
  {
   "cell_type": "code",
   "execution_count": null,
   "id": "f8c544f2",
   "metadata": {},
   "outputs": [],
   "source": []
  },
  {
   "cell_type": "code",
   "execution_count": null,
   "id": "671be267",
   "metadata": {},
   "outputs": [],
   "source": []
  },
  {
   "cell_type": "markdown",
   "id": "e9f2ac1c",
   "metadata": {},
   "source": [
    "# Hypothesis Testing : Task 1.3-----Question 2:"
   ]
  },
  {
   "cell_type": "code",
   "execution_count": null,
   "id": "9508bcda",
   "metadata": {},
   "outputs": [],
   "source": []
  },
  {
   "cell_type": "code",
   "execution_count": null,
   "id": "dc13f0e7",
   "metadata": {},
   "outputs": [],
   "source": []
  },
  {
   "cell_type": "code",
   "execution_count": null,
   "id": "9dac9b6e",
   "metadata": {},
   "outputs": [],
   "source": []
  },
  {
   "cell_type": "code",
   "execution_count": null,
   "id": "07c0ebc1",
   "metadata": {},
   "outputs": [],
   "source": []
  },
  {
   "cell_type": "code",
   "execution_count": null,
   "id": "f93f1e0d",
   "metadata": {},
   "outputs": [],
   "source": []
  },
  {
   "cell_type": "code",
   "execution_count": null,
   "id": "0ca13f70",
   "metadata": {},
   "outputs": [],
   "source": []
  },
  {
   "cell_type": "code",
   "execution_count": null,
   "id": "90828c5f",
   "metadata": {},
   "outputs": [],
   "source": []
  },
  {
   "cell_type": "code",
   "execution_count": null,
   "id": "3c069559",
   "metadata": {},
   "outputs": [],
   "source": []
  },
  {
   "cell_type": "code",
   "execution_count": null,
   "id": "0b2e6048",
   "metadata": {},
   "outputs": [],
   "source": []
  },
  {
   "cell_type": "code",
   "execution_count": null,
   "id": "59cd7b79",
   "metadata": {},
   "outputs": [],
   "source": []
  },
  {
   "cell_type": "code",
   "execution_count": null,
   "id": "9d9dc890",
   "metadata": {},
   "outputs": [],
   "source": []
  },
  {
   "cell_type": "code",
   "execution_count": null,
   "id": "07335408",
   "metadata": {},
   "outputs": [],
   "source": []
  },
  {
   "cell_type": "code",
   "execution_count": null,
   "id": "e84f04a7",
   "metadata": {},
   "outputs": [],
   "source": []
  },
  {
   "cell_type": "code",
   "execution_count": null,
   "id": "eb9de8a8",
   "metadata": {},
   "outputs": [],
   "source": []
  },
  {
   "cell_type": "code",
   "execution_count": null,
   "id": "81a1aaa2",
   "metadata": {},
   "outputs": [],
   "source": []
  },
  {
   "cell_type": "code",
   "execution_count": null,
   "id": "14bc7690",
   "metadata": {},
   "outputs": [],
   "source": []
  }
 ],
 "metadata": {
  "kernelspec": {
   "display_name": "Python 3",
   "language": "python",
   "name": "python3"
  },
  "language_info": {
   "codemirror_mode": {
    "name": "ipython",
    "version": 3
   },
   "file_extension": ".py",
   "mimetype": "text/x-python",
   "name": "python",
   "nbconvert_exporter": "python",
   "pygments_lexer": "ipython3",
   "version": "3.8.8"
  }
 },
 "nbformat": 4,
 "nbformat_minor": 5
}
